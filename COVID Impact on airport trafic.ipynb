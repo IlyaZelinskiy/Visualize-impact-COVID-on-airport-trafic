{
 "cells": [
  {
   "cell_type": "markdown",
   "id": "3ab64810",
   "metadata": {},
   "source": [
    "# Влияние пандемии на трафик аэропортов"
   ]
  },
  {
   "cell_type": "markdown",
   "id": "86e9d106",
   "metadata": {},
   "source": [
    "Попробуем проанализировать, как изменился трафик в аэропортах из-за ковида и попробуем визуализировать данные  "
   ]
  },
  {
   "cell_type": "code",
   "execution_count": 65,
   "id": "8799d0ed",
   "metadata": {},
   "outputs": [
    {
     "data": {
      "text/html": [
       "        <script type=\"text/javascript\">\n",
       "        window.PlotlyConfig = {MathJaxConfig: 'local'};\n",
       "        if (window.MathJax) {MathJax.Hub.Config({SVG: {font: \"STIX-Web\"}});}\n",
       "        if (typeof require !== 'undefined') {\n",
       "        require.undef(\"plotly\");\n",
       "        requirejs.config({\n",
       "            paths: {\n",
       "                'plotly': ['https://cdn.plot.ly/plotly-2.2.0.min']\n",
       "            }\n",
       "        });\n",
       "        require(['plotly'], function(Plotly) {\n",
       "            window._Plotly = Plotly;\n",
       "        });\n",
       "        }\n",
       "        </script>\n",
       "        "
      ]
     },
     "metadata": {},
     "output_type": "display_data"
    }
   ],
   "source": [
    "import numpy as np \n",
    "import pandas as pd \n",
    "import plotly as py\n",
    "import plotly.express as px\n",
    "import plotly.graph_objs as go\n",
    "from plotly.subplots import make_subplots\n",
    "from plotly.offline import download_plotlyjs, init_notebook_mode, plot, iplot\n",
    "init_notebook_mode(connected=True)"
   ]
  },
  {
   "cell_type": "code",
   "execution_count": 69,
   "id": "37d6f7c2",
   "metadata": {},
   "outputs": [],
   "source": [
    "df = pd.read_csv(\"covid_impact_on_airport_traffic.csv\")"
   ]
  },
  {
   "cell_type": "code",
   "execution_count": 70,
   "id": "f6b84886",
   "metadata": {},
   "outputs": [
    {
     "data": {
      "text/html": [
       "<div>\n",
       "<style scoped>\n",
       "    .dataframe tbody tr th:only-of-type {\n",
       "        vertical-align: middle;\n",
       "    }\n",
       "\n",
       "    .dataframe tbody tr th {\n",
       "        vertical-align: top;\n",
       "    }\n",
       "\n",
       "    .dataframe thead th {\n",
       "        text-align: right;\n",
       "    }\n",
       "</style>\n",
       "<table border=\"1\" class=\"dataframe\">\n",
       "  <thead>\n",
       "    <tr style=\"text-align: right;\">\n",
       "      <th></th>\n",
       "      <th>AggregationMethod</th>\n",
       "      <th>Date</th>\n",
       "      <th>Version</th>\n",
       "      <th>AirportName</th>\n",
       "      <th>PercentOfBaseline</th>\n",
       "      <th>Centroid</th>\n",
       "      <th>City</th>\n",
       "      <th>State</th>\n",
       "      <th>ISO_3166_2</th>\n",
       "      <th>Country</th>\n",
       "      <th>Geography</th>\n",
       "    </tr>\n",
       "  </thead>\n",
       "  <tbody>\n",
       "    <tr>\n",
       "      <th>0</th>\n",
       "      <td>Daily</td>\n",
       "      <td>2020-04-03</td>\n",
       "      <td>1.0</td>\n",
       "      <td>Kingsford Smith</td>\n",
       "      <td>64</td>\n",
       "      <td>POINT(151.180087713813 -33.9459774986125)</td>\n",
       "      <td>Sydney</td>\n",
       "      <td>New South Wales</td>\n",
       "      <td>AU</td>\n",
       "      <td>Australia</td>\n",
       "      <td>POLYGON((151.164354085922 -33.9301772341877, 1...</td>\n",
       "    </tr>\n",
       "    <tr>\n",
       "      <th>1</th>\n",
       "      <td>Daily</td>\n",
       "      <td>2020-04-13</td>\n",
       "      <td>1.0</td>\n",
       "      <td>Kingsford Smith</td>\n",
       "      <td>29</td>\n",
       "      <td>POINT(151.180087713813 -33.9459774986125)</td>\n",
       "      <td>Sydney</td>\n",
       "      <td>New South Wales</td>\n",
       "      <td>AU</td>\n",
       "      <td>Australia</td>\n",
       "      <td>POLYGON((151.164354085922 -33.9301772341877, 1...</td>\n",
       "    </tr>\n",
       "    <tr>\n",
       "      <th>2</th>\n",
       "      <td>Daily</td>\n",
       "      <td>2020-07-10</td>\n",
       "      <td>1.0</td>\n",
       "      <td>Kingsford Smith</td>\n",
       "      <td>54</td>\n",
       "      <td>POINT(151.180087713813 -33.9459774986125)</td>\n",
       "      <td>Sydney</td>\n",
       "      <td>New South Wales</td>\n",
       "      <td>AU</td>\n",
       "      <td>Australia</td>\n",
       "      <td>POLYGON((151.164354085922 -33.9301772341877, 1...</td>\n",
       "    </tr>\n",
       "    <tr>\n",
       "      <th>3</th>\n",
       "      <td>Daily</td>\n",
       "      <td>2020-09-02</td>\n",
       "      <td>1.0</td>\n",
       "      <td>Kingsford Smith</td>\n",
       "      <td>18</td>\n",
       "      <td>POINT(151.180087713813 -33.9459774986125)</td>\n",
       "      <td>Sydney</td>\n",
       "      <td>New South Wales</td>\n",
       "      <td>AU</td>\n",
       "      <td>Australia</td>\n",
       "      <td>POLYGON((151.164354085922 -33.9301772341877, 1...</td>\n",
       "    </tr>\n",
       "  </tbody>\n",
       "</table>\n",
       "</div>"
      ],
      "text/plain": [
       "  AggregationMethod        Date  Version      AirportName  PercentOfBaseline  \\\n",
       "0             Daily  2020-04-03      1.0  Kingsford Smith                 64   \n",
       "1             Daily  2020-04-13      1.0  Kingsford Smith                 29   \n",
       "2             Daily  2020-07-10      1.0  Kingsford Smith                 54   \n",
       "3             Daily  2020-09-02      1.0  Kingsford Smith                 18   \n",
       "\n",
       "                                    Centroid    City            State  \\\n",
       "0  POINT(151.180087713813 -33.9459774986125)  Sydney  New South Wales   \n",
       "1  POINT(151.180087713813 -33.9459774986125)  Sydney  New South Wales   \n",
       "2  POINT(151.180087713813 -33.9459774986125)  Sydney  New South Wales   \n",
       "3  POINT(151.180087713813 -33.9459774986125)  Sydney  New South Wales   \n",
       "\n",
       "  ISO_3166_2    Country                                          Geography  \n",
       "0         AU  Australia  POLYGON((151.164354085922 -33.9301772341877, 1...  \n",
       "1         AU  Australia  POLYGON((151.164354085922 -33.9301772341877, 1...  \n",
       "2         AU  Australia  POLYGON((151.164354085922 -33.9301772341877, 1...  \n",
       "3         AU  Australia  POLYGON((151.164354085922 -33.9301772341877, 1...  "
      ]
     },
     "execution_count": 70,
     "metadata": {},
     "output_type": "execute_result"
    }
   ],
   "source": [
    "df.head(4)"
   ]
  },
  {
   "cell_type": "code",
   "execution_count": 78,
   "id": "9e20ccf4",
   "metadata": {},
   "outputs": [],
   "source": [
    "# Manipulate Dataframe\n",
    "df_countries = df.groupby(['Country', 'Date']).sum().reset_index().sort_values('Date', ascending=False)\n",
    "df_countries = df_countries.drop_duplicates(subset = ['Country'])\n",
    "df_countries = df_countries[df_countries['PercentOfBaseline']>0]"
   ]
  },
  {
   "cell_type": "code",
   "execution_count": 79,
   "id": "e6a621c8",
   "metadata": {},
   "outputs": [
    {
     "data": {
      "application/vnd.plotly.v1+json": {
       "config": {
        "plotlyServerURL": "https://plot.ly"
       },
       "data": [
        {
         "colorscale": [
          [
           0,
           "rgb(255,245,240)"
          ],
          [
           0.125,
           "rgb(254,224,210)"
          ],
          [
           0.25,
           "rgb(252,187,161)"
          ],
          [
           0.375,
           "rgb(252,146,114)"
          ],
          [
           0.5,
           "rgb(251,106,74)"
          ],
          [
           0.625,
           "rgb(239,59,44)"
          ],
          [
           0.75,
           "rgb(203,24,29)"
          ],
          [
           0.875,
           "rgb(165,15,21)"
          ],
          [
           1,
           "rgb(103,0,13)"
          ]
         ],
         "locationmode": "country names",
         "locations": [
          "United States of America (the)",
          "Chile",
          "Australia",
          "Canada"
         ],
         "marker": {
          "line": {
           "color": "black",
           "width": 0.5
          }
         },
         "type": "choropleth",
         "z": [
          1276,
          48,
          27,
          798
         ]
        }
       ],
       "layout": {
        "geo": {
         "projection": {
          "type": "equirectangular"
         },
         "showcoastlines": false,
         "showframe": false
        },
        "template": {
         "data": {
          "bar": [
           {
            "error_x": {
             "color": "#2a3f5f"
            },
            "error_y": {
             "color": "#2a3f5f"
            },
            "marker": {
             "line": {
              "color": "#E5ECF6",
              "width": 0.5
             },
             "pattern": {
              "fillmode": "overlay",
              "size": 10,
              "solidity": 0.2
             }
            },
            "type": "bar"
           }
          ],
          "barpolar": [
           {
            "marker": {
             "line": {
              "color": "#E5ECF6",
              "width": 0.5
             },
             "pattern": {
              "fillmode": "overlay",
              "size": 10,
              "solidity": 0.2
             }
            },
            "type": "barpolar"
           }
          ],
          "carpet": [
           {
            "aaxis": {
             "endlinecolor": "#2a3f5f",
             "gridcolor": "white",
             "linecolor": "white",
             "minorgridcolor": "white",
             "startlinecolor": "#2a3f5f"
            },
            "baxis": {
             "endlinecolor": "#2a3f5f",
             "gridcolor": "white",
             "linecolor": "white",
             "minorgridcolor": "white",
             "startlinecolor": "#2a3f5f"
            },
            "type": "carpet"
           }
          ],
          "choropleth": [
           {
            "colorbar": {
             "outlinewidth": 0,
             "ticks": ""
            },
            "type": "choropleth"
           }
          ],
          "contour": [
           {
            "colorbar": {
             "outlinewidth": 0,
             "ticks": ""
            },
            "colorscale": [
             [
              0,
              "#0d0887"
             ],
             [
              0.1111111111111111,
              "#46039f"
             ],
             [
              0.2222222222222222,
              "#7201a8"
             ],
             [
              0.3333333333333333,
              "#9c179e"
             ],
             [
              0.4444444444444444,
              "#bd3786"
             ],
             [
              0.5555555555555556,
              "#d8576b"
             ],
             [
              0.6666666666666666,
              "#ed7953"
             ],
             [
              0.7777777777777778,
              "#fb9f3a"
             ],
             [
              0.8888888888888888,
              "#fdca26"
             ],
             [
              1,
              "#f0f921"
             ]
            ],
            "type": "contour"
           }
          ],
          "contourcarpet": [
           {
            "colorbar": {
             "outlinewidth": 0,
             "ticks": ""
            },
            "type": "contourcarpet"
           }
          ],
          "heatmap": [
           {
            "colorbar": {
             "outlinewidth": 0,
             "ticks": ""
            },
            "colorscale": [
             [
              0,
              "#0d0887"
             ],
             [
              0.1111111111111111,
              "#46039f"
             ],
             [
              0.2222222222222222,
              "#7201a8"
             ],
             [
              0.3333333333333333,
              "#9c179e"
             ],
             [
              0.4444444444444444,
              "#bd3786"
             ],
             [
              0.5555555555555556,
              "#d8576b"
             ],
             [
              0.6666666666666666,
              "#ed7953"
             ],
             [
              0.7777777777777778,
              "#fb9f3a"
             ],
             [
              0.8888888888888888,
              "#fdca26"
             ],
             [
              1,
              "#f0f921"
             ]
            ],
            "type": "heatmap"
           }
          ],
          "heatmapgl": [
           {
            "colorbar": {
             "outlinewidth": 0,
             "ticks": ""
            },
            "colorscale": [
             [
              0,
              "#0d0887"
             ],
             [
              0.1111111111111111,
              "#46039f"
             ],
             [
              0.2222222222222222,
              "#7201a8"
             ],
             [
              0.3333333333333333,
              "#9c179e"
             ],
             [
              0.4444444444444444,
              "#bd3786"
             ],
             [
              0.5555555555555556,
              "#d8576b"
             ],
             [
              0.6666666666666666,
              "#ed7953"
             ],
             [
              0.7777777777777778,
              "#fb9f3a"
             ],
             [
              0.8888888888888888,
              "#fdca26"
             ],
             [
              1,
              "#f0f921"
             ]
            ],
            "type": "heatmapgl"
           }
          ],
          "histogram": [
           {
            "marker": {
             "pattern": {
              "fillmode": "overlay",
              "size": 10,
              "solidity": 0.2
             }
            },
            "type": "histogram"
           }
          ],
          "histogram2d": [
           {
            "colorbar": {
             "outlinewidth": 0,
             "ticks": ""
            },
            "colorscale": [
             [
              0,
              "#0d0887"
             ],
             [
              0.1111111111111111,
              "#46039f"
             ],
             [
              0.2222222222222222,
              "#7201a8"
             ],
             [
              0.3333333333333333,
              "#9c179e"
             ],
             [
              0.4444444444444444,
              "#bd3786"
             ],
             [
              0.5555555555555556,
              "#d8576b"
             ],
             [
              0.6666666666666666,
              "#ed7953"
             ],
             [
              0.7777777777777778,
              "#fb9f3a"
             ],
             [
              0.8888888888888888,
              "#fdca26"
             ],
             [
              1,
              "#f0f921"
             ]
            ],
            "type": "histogram2d"
           }
          ],
          "histogram2dcontour": [
           {
            "colorbar": {
             "outlinewidth": 0,
             "ticks": ""
            },
            "colorscale": [
             [
              0,
              "#0d0887"
             ],
             [
              0.1111111111111111,
              "#46039f"
             ],
             [
              0.2222222222222222,
              "#7201a8"
             ],
             [
              0.3333333333333333,
              "#9c179e"
             ],
             [
              0.4444444444444444,
              "#bd3786"
             ],
             [
              0.5555555555555556,
              "#d8576b"
             ],
             [
              0.6666666666666666,
              "#ed7953"
             ],
             [
              0.7777777777777778,
              "#fb9f3a"
             ],
             [
              0.8888888888888888,
              "#fdca26"
             ],
             [
              1,
              "#f0f921"
             ]
            ],
            "type": "histogram2dcontour"
           }
          ],
          "mesh3d": [
           {
            "colorbar": {
             "outlinewidth": 0,
             "ticks": ""
            },
            "type": "mesh3d"
           }
          ],
          "parcoords": [
           {
            "line": {
             "colorbar": {
              "outlinewidth": 0,
              "ticks": ""
             }
            },
            "type": "parcoords"
           }
          ],
          "pie": [
           {
            "automargin": true,
            "type": "pie"
           }
          ],
          "scatter": [
           {
            "marker": {
             "colorbar": {
              "outlinewidth": 0,
              "ticks": ""
             }
            },
            "type": "scatter"
           }
          ],
          "scatter3d": [
           {
            "line": {
             "colorbar": {
              "outlinewidth": 0,
              "ticks": ""
             }
            },
            "marker": {
             "colorbar": {
              "outlinewidth": 0,
              "ticks": ""
             }
            },
            "type": "scatter3d"
           }
          ],
          "scattercarpet": [
           {
            "marker": {
             "colorbar": {
              "outlinewidth": 0,
              "ticks": ""
             }
            },
            "type": "scattercarpet"
           }
          ],
          "scattergeo": [
           {
            "marker": {
             "colorbar": {
              "outlinewidth": 0,
              "ticks": ""
             }
            },
            "type": "scattergeo"
           }
          ],
          "scattergl": [
           {
            "marker": {
             "colorbar": {
              "outlinewidth": 0,
              "ticks": ""
             }
            },
            "type": "scattergl"
           }
          ],
          "scattermapbox": [
           {
            "marker": {
             "colorbar": {
              "outlinewidth": 0,
              "ticks": ""
             }
            },
            "type": "scattermapbox"
           }
          ],
          "scatterpolar": [
           {
            "marker": {
             "colorbar": {
              "outlinewidth": 0,
              "ticks": ""
             }
            },
            "type": "scatterpolar"
           }
          ],
          "scatterpolargl": [
           {
            "marker": {
             "colorbar": {
              "outlinewidth": 0,
              "ticks": ""
             }
            },
            "type": "scatterpolargl"
           }
          ],
          "scatterternary": [
           {
            "marker": {
             "colorbar": {
              "outlinewidth": 0,
              "ticks": ""
             }
            },
            "type": "scatterternary"
           }
          ],
          "surface": [
           {
            "colorbar": {
             "outlinewidth": 0,
             "ticks": ""
            },
            "colorscale": [
             [
              0,
              "#0d0887"
             ],
             [
              0.1111111111111111,
              "#46039f"
             ],
             [
              0.2222222222222222,
              "#7201a8"
             ],
             [
              0.3333333333333333,
              "#9c179e"
             ],
             [
              0.4444444444444444,
              "#bd3786"
             ],
             [
              0.5555555555555556,
              "#d8576b"
             ],
             [
              0.6666666666666666,
              "#ed7953"
             ],
             [
              0.7777777777777778,
              "#fb9f3a"
             ],
             [
              0.8888888888888888,
              "#fdca26"
             ],
             [
              1,
              "#f0f921"
             ]
            ],
            "type": "surface"
           }
          ],
          "table": [
           {
            "cells": {
             "fill": {
              "color": "#EBF0F8"
             },
             "line": {
              "color": "white"
             }
            },
            "header": {
             "fill": {
              "color": "#C8D4E3"
             },
             "line": {
              "color": "white"
             }
            },
            "type": "table"
           }
          ]
         },
         "layout": {
          "annotationdefaults": {
           "arrowcolor": "#2a3f5f",
           "arrowhead": 0,
           "arrowwidth": 1
          },
          "autotypenumbers": "strict",
          "coloraxis": {
           "colorbar": {
            "outlinewidth": 0,
            "ticks": ""
           }
          },
          "colorscale": {
           "diverging": [
            [
             0,
             "#8e0152"
            ],
            [
             0.1,
             "#c51b7d"
            ],
            [
             0.2,
             "#de77ae"
            ],
            [
             0.3,
             "#f1b6da"
            ],
            [
             0.4,
             "#fde0ef"
            ],
            [
             0.5,
             "#f7f7f7"
            ],
            [
             0.6,
             "#e6f5d0"
            ],
            [
             0.7,
             "#b8e186"
            ],
            [
             0.8,
             "#7fbc41"
            ],
            [
             0.9,
             "#4d9221"
            ],
            [
             1,
             "#276419"
            ]
           ],
           "sequential": [
            [
             0,
             "#0d0887"
            ],
            [
             0.1111111111111111,
             "#46039f"
            ],
            [
             0.2222222222222222,
             "#7201a8"
            ],
            [
             0.3333333333333333,
             "#9c179e"
            ],
            [
             0.4444444444444444,
             "#bd3786"
            ],
            [
             0.5555555555555556,
             "#d8576b"
            ],
            [
             0.6666666666666666,
             "#ed7953"
            ],
            [
             0.7777777777777778,
             "#fb9f3a"
            ],
            [
             0.8888888888888888,
             "#fdca26"
            ],
            [
             1,
             "#f0f921"
            ]
           ],
           "sequentialminus": [
            [
             0,
             "#0d0887"
            ],
            [
             0.1111111111111111,
             "#46039f"
            ],
            [
             0.2222222222222222,
             "#7201a8"
            ],
            [
             0.3333333333333333,
             "#9c179e"
            ],
            [
             0.4444444444444444,
             "#bd3786"
            ],
            [
             0.5555555555555556,
             "#d8576b"
            ],
            [
             0.6666666666666666,
             "#ed7953"
            ],
            [
             0.7777777777777778,
             "#fb9f3a"
            ],
            [
             0.8888888888888888,
             "#fdca26"
            ],
            [
             1,
             "#f0f921"
            ]
           ]
          },
          "colorway": [
           "#636efa",
           "#EF553B",
           "#00cc96",
           "#ab63fa",
           "#FFA15A",
           "#19d3f3",
           "#FF6692",
           "#B6E880",
           "#FF97FF",
           "#FECB52"
          ],
          "font": {
           "color": "#2a3f5f"
          },
          "geo": {
           "bgcolor": "white",
           "lakecolor": "white",
           "landcolor": "#E5ECF6",
           "showlakes": true,
           "showland": true,
           "subunitcolor": "white"
          },
          "hoverlabel": {
           "align": "left"
          },
          "hovermode": "closest",
          "mapbox": {
           "style": "light"
          },
          "paper_bgcolor": "white",
          "plot_bgcolor": "#E5ECF6",
          "polar": {
           "angularaxis": {
            "gridcolor": "white",
            "linecolor": "white",
            "ticks": ""
           },
           "bgcolor": "#E5ECF6",
           "radialaxis": {
            "gridcolor": "white",
            "linecolor": "white",
            "ticks": ""
           }
          },
          "scene": {
           "xaxis": {
            "backgroundcolor": "#E5ECF6",
            "gridcolor": "white",
            "gridwidth": 2,
            "linecolor": "white",
            "showbackground": true,
            "ticks": "",
            "zerolinecolor": "white"
           },
           "yaxis": {
            "backgroundcolor": "#E5ECF6",
            "gridcolor": "white",
            "gridwidth": 2,
            "linecolor": "white",
            "showbackground": true,
            "ticks": "",
            "zerolinecolor": "white"
           },
           "zaxis": {
            "backgroundcolor": "#E5ECF6",
            "gridcolor": "white",
            "gridwidth": 2,
            "linecolor": "white",
            "showbackground": true,
            "ticks": "",
            "zerolinecolor": "white"
           }
          },
          "shapedefaults": {
           "line": {
            "color": "#2a3f5f"
           }
          },
          "ternary": {
           "aaxis": {
            "gridcolor": "white",
            "linecolor": "white",
            "ticks": ""
           },
           "baxis": {
            "gridcolor": "white",
            "linecolor": "white",
            "ticks": ""
           },
           "bgcolor": "#E5ECF6",
           "caxis": {
            "gridcolor": "white",
            "linecolor": "white",
            "ticks": ""
           }
          },
          "title": {
           "x": 0.05
          },
          "xaxis": {
           "automargin": true,
           "gridcolor": "white",
           "linecolor": "white",
           "ticks": "",
           "title": {
            "standoff": 15
           },
           "zerolinecolor": "white",
           "zerolinewidth": 2
          },
          "yaxis": {
           "automargin": true,
           "gridcolor": "white",
           "linecolor": "white",
           "ticks": "",
           "title": {
            "standoff": 15
           },
           "zerolinecolor": "white",
           "zerolinewidth": 2
          }
         }
        },
        "title": {
         "text": "",
         "x": 0.5
        }
       }
      },
      "text/html": [
       "<div>                            <div id=\"df2756ae-4f8b-441d-ac6b-2181456da949\" class=\"plotly-graph-div\" style=\"height:525px; width:100%;\"></div>            <script type=\"text/javascript\">                require([\"plotly\"], function(Plotly) {                    window.PLOTLYENV=window.PLOTLYENV || {};                                    if (document.getElementById(\"df2756ae-4f8b-441d-ac6b-2181456da949\")) {                    Plotly.newPlot(                        \"df2756ae-4f8b-441d-ac6b-2181456da949\",                        [{\"colorscale\":[[0.0,\"rgb(255,245,240)\"],[0.125,\"rgb(254,224,210)\"],[0.25,\"rgb(252,187,161)\"],[0.375,\"rgb(252,146,114)\"],[0.5,\"rgb(251,106,74)\"],[0.625,\"rgb(239,59,44)\"],[0.75,\"rgb(203,24,29)\"],[0.875,\"rgb(165,15,21)\"],[1.0,\"rgb(103,0,13)\"]],\"locationmode\":\"country names\",\"locations\":[\"United States of America (the)\",\"Chile\",\"Australia\",\"Canada\"],\"marker\":{\"line\":{\"color\":\"black\",\"width\":0.5}},\"type\":\"choropleth\",\"z\":[1276,48,27,798]}],                        {\"geo\":{\"projection\":{\"type\":\"equirectangular\"},\"showcoastlines\":false,\"showframe\":false},\"template\":{\"data\":{\"bar\":[{\"error_x\":{\"color\":\"#2a3f5f\"},\"error_y\":{\"color\":\"#2a3f5f\"},\"marker\":{\"line\":{\"color\":\"#E5ECF6\",\"width\":0.5},\"pattern\":{\"fillmode\":\"overlay\",\"size\":10,\"solidity\":0.2}},\"type\":\"bar\"}],\"barpolar\":[{\"marker\":{\"line\":{\"color\":\"#E5ECF6\",\"width\":0.5},\"pattern\":{\"fillmode\":\"overlay\",\"size\":10,\"solidity\":0.2}},\"type\":\"barpolar\"}],\"carpet\":[{\"aaxis\":{\"endlinecolor\":\"#2a3f5f\",\"gridcolor\":\"white\",\"linecolor\":\"white\",\"minorgridcolor\":\"white\",\"startlinecolor\":\"#2a3f5f\"},\"baxis\":{\"endlinecolor\":\"#2a3f5f\",\"gridcolor\":\"white\",\"linecolor\":\"white\",\"minorgridcolor\":\"white\",\"startlinecolor\":\"#2a3f5f\"},\"type\":\"carpet\"}],\"choropleth\":[{\"colorbar\":{\"outlinewidth\":0,\"ticks\":\"\"},\"type\":\"choropleth\"}],\"contour\":[{\"colorbar\":{\"outlinewidth\":0,\"ticks\":\"\"},\"colorscale\":[[0.0,\"#0d0887\"],[0.1111111111111111,\"#46039f\"],[0.2222222222222222,\"#7201a8\"],[0.3333333333333333,\"#9c179e\"],[0.4444444444444444,\"#bd3786\"],[0.5555555555555556,\"#d8576b\"],[0.6666666666666666,\"#ed7953\"],[0.7777777777777778,\"#fb9f3a\"],[0.8888888888888888,\"#fdca26\"],[1.0,\"#f0f921\"]],\"type\":\"contour\"}],\"contourcarpet\":[{\"colorbar\":{\"outlinewidth\":0,\"ticks\":\"\"},\"type\":\"contourcarpet\"}],\"heatmap\":[{\"colorbar\":{\"outlinewidth\":0,\"ticks\":\"\"},\"colorscale\":[[0.0,\"#0d0887\"],[0.1111111111111111,\"#46039f\"],[0.2222222222222222,\"#7201a8\"],[0.3333333333333333,\"#9c179e\"],[0.4444444444444444,\"#bd3786\"],[0.5555555555555556,\"#d8576b\"],[0.6666666666666666,\"#ed7953\"],[0.7777777777777778,\"#fb9f3a\"],[0.8888888888888888,\"#fdca26\"],[1.0,\"#f0f921\"]],\"type\":\"heatmap\"}],\"heatmapgl\":[{\"colorbar\":{\"outlinewidth\":0,\"ticks\":\"\"},\"colorscale\":[[0.0,\"#0d0887\"],[0.1111111111111111,\"#46039f\"],[0.2222222222222222,\"#7201a8\"],[0.3333333333333333,\"#9c179e\"],[0.4444444444444444,\"#bd3786\"],[0.5555555555555556,\"#d8576b\"],[0.6666666666666666,\"#ed7953\"],[0.7777777777777778,\"#fb9f3a\"],[0.8888888888888888,\"#fdca26\"],[1.0,\"#f0f921\"]],\"type\":\"heatmapgl\"}],\"histogram\":[{\"marker\":{\"pattern\":{\"fillmode\":\"overlay\",\"size\":10,\"solidity\":0.2}},\"type\":\"histogram\"}],\"histogram2d\":[{\"colorbar\":{\"outlinewidth\":0,\"ticks\":\"\"},\"colorscale\":[[0.0,\"#0d0887\"],[0.1111111111111111,\"#46039f\"],[0.2222222222222222,\"#7201a8\"],[0.3333333333333333,\"#9c179e\"],[0.4444444444444444,\"#bd3786\"],[0.5555555555555556,\"#d8576b\"],[0.6666666666666666,\"#ed7953\"],[0.7777777777777778,\"#fb9f3a\"],[0.8888888888888888,\"#fdca26\"],[1.0,\"#f0f921\"]],\"type\":\"histogram2d\"}],\"histogram2dcontour\":[{\"colorbar\":{\"outlinewidth\":0,\"ticks\":\"\"},\"colorscale\":[[0.0,\"#0d0887\"],[0.1111111111111111,\"#46039f\"],[0.2222222222222222,\"#7201a8\"],[0.3333333333333333,\"#9c179e\"],[0.4444444444444444,\"#bd3786\"],[0.5555555555555556,\"#d8576b\"],[0.6666666666666666,\"#ed7953\"],[0.7777777777777778,\"#fb9f3a\"],[0.8888888888888888,\"#fdca26\"],[1.0,\"#f0f921\"]],\"type\":\"histogram2dcontour\"}],\"mesh3d\":[{\"colorbar\":{\"outlinewidth\":0,\"ticks\":\"\"},\"type\":\"mesh3d\"}],\"parcoords\":[{\"line\":{\"colorbar\":{\"outlinewidth\":0,\"ticks\":\"\"}},\"type\":\"parcoords\"}],\"pie\":[{\"automargin\":true,\"type\":\"pie\"}],\"scatter\":[{\"marker\":{\"colorbar\":{\"outlinewidth\":0,\"ticks\":\"\"}},\"type\":\"scatter\"}],\"scatter3d\":[{\"line\":{\"colorbar\":{\"outlinewidth\":0,\"ticks\":\"\"}},\"marker\":{\"colorbar\":{\"outlinewidth\":0,\"ticks\":\"\"}},\"type\":\"scatter3d\"}],\"scattercarpet\":[{\"marker\":{\"colorbar\":{\"outlinewidth\":0,\"ticks\":\"\"}},\"type\":\"scattercarpet\"}],\"scattergeo\":[{\"marker\":{\"colorbar\":{\"outlinewidth\":0,\"ticks\":\"\"}},\"type\":\"scattergeo\"}],\"scattergl\":[{\"marker\":{\"colorbar\":{\"outlinewidth\":0,\"ticks\":\"\"}},\"type\":\"scattergl\"}],\"scattermapbox\":[{\"marker\":{\"colorbar\":{\"outlinewidth\":0,\"ticks\":\"\"}},\"type\":\"scattermapbox\"}],\"scatterpolar\":[{\"marker\":{\"colorbar\":{\"outlinewidth\":0,\"ticks\":\"\"}},\"type\":\"scatterpolar\"}],\"scatterpolargl\":[{\"marker\":{\"colorbar\":{\"outlinewidth\":0,\"ticks\":\"\"}},\"type\":\"scatterpolargl\"}],\"scatterternary\":[{\"marker\":{\"colorbar\":{\"outlinewidth\":0,\"ticks\":\"\"}},\"type\":\"scatterternary\"}],\"surface\":[{\"colorbar\":{\"outlinewidth\":0,\"ticks\":\"\"},\"colorscale\":[[0.0,\"#0d0887\"],[0.1111111111111111,\"#46039f\"],[0.2222222222222222,\"#7201a8\"],[0.3333333333333333,\"#9c179e\"],[0.4444444444444444,\"#bd3786\"],[0.5555555555555556,\"#d8576b\"],[0.6666666666666666,\"#ed7953\"],[0.7777777777777778,\"#fb9f3a\"],[0.8888888888888888,\"#fdca26\"],[1.0,\"#f0f921\"]],\"type\":\"surface\"}],\"table\":[{\"cells\":{\"fill\":{\"color\":\"#EBF0F8\"},\"line\":{\"color\":\"white\"}},\"header\":{\"fill\":{\"color\":\"#C8D4E3\"},\"line\":{\"color\":\"white\"}},\"type\":\"table\"}]},\"layout\":{\"annotationdefaults\":{\"arrowcolor\":\"#2a3f5f\",\"arrowhead\":0,\"arrowwidth\":1},\"autotypenumbers\":\"strict\",\"coloraxis\":{\"colorbar\":{\"outlinewidth\":0,\"ticks\":\"\"}},\"colorscale\":{\"diverging\":[[0,\"#8e0152\"],[0.1,\"#c51b7d\"],[0.2,\"#de77ae\"],[0.3,\"#f1b6da\"],[0.4,\"#fde0ef\"],[0.5,\"#f7f7f7\"],[0.6,\"#e6f5d0\"],[0.7,\"#b8e186\"],[0.8,\"#7fbc41\"],[0.9,\"#4d9221\"],[1,\"#276419\"]],\"sequential\":[[0.0,\"#0d0887\"],[0.1111111111111111,\"#46039f\"],[0.2222222222222222,\"#7201a8\"],[0.3333333333333333,\"#9c179e\"],[0.4444444444444444,\"#bd3786\"],[0.5555555555555556,\"#d8576b\"],[0.6666666666666666,\"#ed7953\"],[0.7777777777777778,\"#fb9f3a\"],[0.8888888888888888,\"#fdca26\"],[1.0,\"#f0f921\"]],\"sequentialminus\":[[0.0,\"#0d0887\"],[0.1111111111111111,\"#46039f\"],[0.2222222222222222,\"#7201a8\"],[0.3333333333333333,\"#9c179e\"],[0.4444444444444444,\"#bd3786\"],[0.5555555555555556,\"#d8576b\"],[0.6666666666666666,\"#ed7953\"],[0.7777777777777778,\"#fb9f3a\"],[0.8888888888888888,\"#fdca26\"],[1.0,\"#f0f921\"]]},\"colorway\":[\"#636efa\",\"#EF553B\",\"#00cc96\",\"#ab63fa\",\"#FFA15A\",\"#19d3f3\",\"#FF6692\",\"#B6E880\",\"#FF97FF\",\"#FECB52\"],\"font\":{\"color\":\"#2a3f5f\"},\"geo\":{\"bgcolor\":\"white\",\"lakecolor\":\"white\",\"landcolor\":\"#E5ECF6\",\"showlakes\":true,\"showland\":true,\"subunitcolor\":\"white\"},\"hoverlabel\":{\"align\":\"left\"},\"hovermode\":\"closest\",\"mapbox\":{\"style\":\"light\"},\"paper_bgcolor\":\"white\",\"plot_bgcolor\":\"#E5ECF6\",\"polar\":{\"angularaxis\":{\"gridcolor\":\"white\",\"linecolor\":\"white\",\"ticks\":\"\"},\"bgcolor\":\"#E5ECF6\",\"radialaxis\":{\"gridcolor\":\"white\",\"linecolor\":\"white\",\"ticks\":\"\"}},\"scene\":{\"xaxis\":{\"backgroundcolor\":\"#E5ECF6\",\"gridcolor\":\"white\",\"gridwidth\":2,\"linecolor\":\"white\",\"showbackground\":true,\"ticks\":\"\",\"zerolinecolor\":\"white\"},\"yaxis\":{\"backgroundcolor\":\"#E5ECF6\",\"gridcolor\":\"white\",\"gridwidth\":2,\"linecolor\":\"white\",\"showbackground\":true,\"ticks\":\"\",\"zerolinecolor\":\"white\"},\"zaxis\":{\"backgroundcolor\":\"#E5ECF6\",\"gridcolor\":\"white\",\"gridwidth\":2,\"linecolor\":\"white\",\"showbackground\":true,\"ticks\":\"\",\"zerolinecolor\":\"white\"}},\"shapedefaults\":{\"line\":{\"color\":\"#2a3f5f\"}},\"ternary\":{\"aaxis\":{\"gridcolor\":\"white\",\"linecolor\":\"white\",\"ticks\":\"\"},\"baxis\":{\"gridcolor\":\"white\",\"linecolor\":\"white\",\"ticks\":\"\"},\"bgcolor\":\"#E5ECF6\",\"caxis\":{\"gridcolor\":\"white\",\"linecolor\":\"white\",\"ticks\":\"\"}},\"title\":{\"x\":0.05},\"xaxis\":{\"automargin\":true,\"gridcolor\":\"white\",\"linecolor\":\"white\",\"ticks\":\"\",\"title\":{\"standoff\":15},\"zerolinecolor\":\"white\",\"zerolinewidth\":2},\"yaxis\":{\"automargin\":true,\"gridcolor\":\"white\",\"linecolor\":\"white\",\"ticks\":\"\",\"title\":{\"standoff\":15},\"zerolinecolor\":\"white\",\"zerolinewidth\":2}}},\"title\":{\"text\":\"\",\"x\":0.5}},                        {\"responsive\": true}                    ).then(function(){\n",
       "                            \n",
       "var gd = document.getElementById('df2756ae-4f8b-441d-ac6b-2181456da949');\n",
       "var x = new MutationObserver(function (mutations, observer) {{\n",
       "        var display = window.getComputedStyle(gd).display;\n",
       "        if (!display || display === 'none') {{\n",
       "            console.log([gd, 'removed!']);\n",
       "            Plotly.purge(gd);\n",
       "            observer.disconnect();\n",
       "        }}\n",
       "}});\n",
       "\n",
       "// Listen for the removal of the full notebook cells\n",
       "var notebookContainer = gd.closest('#notebook-container');\n",
       "if (notebookContainer) {{\n",
       "    x.observe(notebookContainer, {childList: true});\n",
       "}}\n",
       "\n",
       "// Listen for the clearing of the current output cell\n",
       "var outputEl = gd.closest('.output');\n",
       "if (outputEl) {{\n",
       "    x.observe(outputEl, {childList: true});\n",
       "}}\n",
       "\n",
       "                        })                };                });            </script>        </div>"
      ]
     },
     "metadata": {},
     "output_type": "display_data"
    }
   ],
   "source": [
    "# Create the Choropleth\n",
    "fig = go.Figure(data=go.Choropleth(\n",
    "    locations = df_countries['Country'],\n",
    "    locationmode = 'country names',\n",
    "    z = df_countries['PercentOfBaseline'],\n",
    "    colorscale = 'Reds',\n",
    "    marker_line_color = 'black',\n",
    "    marker_line_width = 0.5,\n",
    "))\n",
    "fig.update_layout(\n",
    "    title_text = '',\n",
    "    title_x = 0.5,\n",
    "    geo=dict(\n",
    "        showframe = False,\n",
    "        showcoastlines = False,\n",
    "        projection_type = 'equirectangular'\n",
    "    )\n",
    ")"
   ]
  },
  {
   "cell_type": "code",
   "execution_count": 80,
   "id": "3a8dd710",
   "metadata": {},
   "outputs": [
    {
     "data": {
      "application/vnd.plotly.v1+json": {
       "config": {
        "plotlyServerURL": "https://plot.ly"
       },
       "data": [
        {
         "coloraxis": "coloraxis",
         "geo": "geo",
         "hovertemplate": "<b>%{hovertext}</b><br><br>Date=2020-03-16<br>Country=%{location}<br>PercentOfBaseline=%{z}<extra></extra>",
         "hovertext": [
          "Australia",
          "Canada",
          "Chile",
          "United States of America (the)"
         ],
         "locationmode": "country names",
         "locations": [
          "Australia",
          "Canada",
          "Chile",
          "United States of America (the)"
         ],
         "name": "",
         "type": "choropleth",
         "z": [
          92,
          831,
          96,
          1497
         ]
        }
       ],
       "frames": [
        {
         "data": [
          {
           "coloraxis": "coloraxis",
           "geo": "geo",
           "hovertemplate": "<b>%{hovertext}</b><br><br>Date=2020-03-16<br>Country=%{location}<br>PercentOfBaseline=%{z}<extra></extra>",
           "hovertext": [
            "Australia",
            "Canada",
            "Chile",
            "United States of America (the)"
           ],
           "locationmode": "country names",
           "locations": [
            "Australia",
            "Canada",
            "Chile",
            "United States of America (the)"
           ],
           "name": "",
           "type": "choropleth",
           "z": [
            92,
            831,
            96,
            1497
           ]
          }
         ],
         "name": "2020-03-16"
        },
        {
         "data": [
          {
           "coloraxis": "coloraxis",
           "geo": "geo",
           "hovertemplate": "<b>%{hovertext}</b><br><br>Date=2020-03-17<br>Country=%{location}<br>PercentOfBaseline=%{z}<extra></extra>",
           "hovertext": [
            "Australia",
            "Canada",
            "Chile",
            "United States of America (the)"
           ],
           "locationmode": "country names",
           "locations": [
            "Australia",
            "Canada",
            "Chile",
            "United States of America (the)"
           ],
           "name": "",
           "type": "choropleth",
           "z": [
            90,
            791,
            72,
            1493
           ]
          }
         ],
         "name": "2020-03-17"
        },
        {
         "data": [
          {
           "coloraxis": "coloraxis",
           "geo": "geo",
           "hovertemplate": "<b>%{hovertext}</b><br><br>Date=2020-03-18<br>Country=%{location}<br>PercentOfBaseline=%{z}<extra></extra>",
           "hovertext": [
            "Australia",
            "Canada",
            "Chile",
            "United States of America (the)"
           ],
           "locationmode": "country names",
           "locations": [
            "Australia",
            "Canada",
            "Chile",
            "United States of America (the)"
           ],
           "name": "",
           "type": "choropleth",
           "z": [
            97,
            792,
            56,
            1389
           ]
          }
         ],
         "name": "2020-03-18"
        },
        {
         "data": [
          {
           "coloraxis": "coloraxis",
           "geo": "geo",
           "hovertemplate": "<b>%{hovertext}</b><br><br>Date=2020-03-19<br>Country=%{location}<br>PercentOfBaseline=%{z}<extra></extra>",
           "hovertext": [
            "Australia",
            "Canada",
            "Chile",
            "United States of America (the)"
           ],
           "locationmode": "country names",
           "locations": [
            "Australia",
            "Canada",
            "Chile",
            "United States of America (the)"
           ],
           "name": "",
           "type": "choropleth",
           "z": [
            89,
            763,
            52,
            1254
           ]
          }
         ],
         "name": "2020-03-19"
        },
        {
         "data": [
          {
           "coloraxis": "coloraxis",
           "geo": "geo",
           "hovertemplate": "<b>%{hovertext}</b><br><br>Date=2020-03-20<br>Country=%{location}<br>PercentOfBaseline=%{z}<extra></extra>",
           "hovertext": [
            "Australia",
            "Canada",
            "Chile",
            "United States of America (the)"
           ],
           "locationmode": "country names",
           "locations": [
            "Australia",
            "Canada",
            "Chile",
            "United States of America (the)"
           ],
           "name": "",
           "type": "choropleth",
           "z": [
            85,
            780,
            53,
            1242
           ]
          }
         ],
         "name": "2020-03-20"
        },
        {
         "data": [
          {
           "coloraxis": "coloraxis",
           "geo": "geo",
           "hovertemplate": "<b>%{hovertext}</b><br><br>Date=2020-03-21<br>Country=%{location}<br>PercentOfBaseline=%{z}<extra></extra>",
           "hovertext": [
            "Australia",
            "Canada",
            "Chile",
            "United States of America (the)"
           ],
           "locationmode": "country names",
           "locations": [
            "Australia",
            "Canada",
            "Chile",
            "United States of America (the)"
           ],
           "name": "",
           "type": "choropleth",
           "z": [
            100,
            661,
            38,
            1227
           ]
          }
         ],
         "name": "2020-03-21"
        },
        {
         "data": [
          {
           "coloraxis": "coloraxis",
           "geo": "geo",
           "hovertemplate": "<b>%{hovertext}</b><br><br>Date=2020-03-22<br>Country=%{location}<br>PercentOfBaseline=%{z}<extra></extra>",
           "hovertext": [
            "Australia",
            "Canada",
            "Chile",
            "United States of America (the)"
           ],
           "locationmode": "country names",
           "locations": [
            "Australia",
            "Canada",
            "Chile",
            "United States of America (the)"
           ],
           "name": "",
           "type": "choropleth",
           "z": [
            89,
            599,
            13,
            1216
           ]
          }
         ],
         "name": "2020-03-22"
        },
        {
         "data": [
          {
           "coloraxis": "coloraxis",
           "geo": "geo",
           "hovertemplate": "<b>%{hovertext}</b><br><br>Date=2020-03-23<br>Country=%{location}<br>PercentOfBaseline=%{z}<extra></extra>",
           "hovertext": [
            "Australia",
            "Canada",
            "Chile",
            "United States of America (the)"
           ],
           "locationmode": "country names",
           "locations": [
            "Australia",
            "Canada",
            "Chile",
            "United States of America (the)"
           ],
           "name": "",
           "type": "choropleth",
           "z": [
            84,
            765,
            32,
            1180
           ]
          }
         ],
         "name": "2020-03-23"
        },
        {
         "data": [
          {
           "coloraxis": "coloraxis",
           "geo": "geo",
           "hovertemplate": "<b>%{hovertext}</b><br><br>Date=2020-03-24<br>Country=%{location}<br>PercentOfBaseline=%{z}<extra></extra>",
           "hovertext": [
            "Australia",
            "Canada",
            "Chile",
            "United States of America (the)"
           ],
           "locationmode": "country names",
           "locations": [
            "Australia",
            "Canada",
            "Chile",
            "United States of America (the)"
           ],
           "name": "",
           "type": "choropleth",
           "z": [
            89,
            735,
            29,
            1185
           ]
          }
         ],
         "name": "2020-03-24"
        },
        {
         "data": [
          {
           "coloraxis": "coloraxis",
           "geo": "geo",
           "hovertemplate": "<b>%{hovertext}</b><br><br>Date=2020-03-25<br>Country=%{location}<br>PercentOfBaseline=%{z}<extra></extra>",
           "hovertext": [
            "Australia",
            "Canada",
            "Chile",
            "United States of America (the)"
           ],
           "locationmode": "country names",
           "locations": [
            "Australia",
            "Canada",
            "Chile",
            "United States of America (the)"
           ],
           "name": "",
           "type": "choropleth",
           "z": [
            84,
            662,
            26,
            1167
           ]
          }
         ],
         "name": "2020-03-25"
        },
        {
         "data": [
          {
           "coloraxis": "coloraxis",
           "geo": "geo",
           "hovertemplate": "<b>%{hovertext}</b><br><br>Date=2020-03-26<br>Country=%{location}<br>PercentOfBaseline=%{z}<extra></extra>",
           "hovertext": [
            "Australia",
            "Canada",
            "Chile",
            "United States of America (the)"
           ],
           "locationmode": "country names",
           "locations": [
            "Australia",
            "Canada",
            "Chile",
            "United States of America (the)"
           ],
           "name": "",
           "type": "choropleth",
           "z": [
            76,
            640,
            24,
            1085
           ]
          }
         ],
         "name": "2020-03-26"
        },
        {
         "data": [
          {
           "coloraxis": "coloraxis",
           "geo": "geo",
           "hovertemplate": "<b>%{hovertext}</b><br><br>Date=2020-03-27<br>Country=%{location}<br>PercentOfBaseline=%{z}<extra></extra>",
           "hovertext": [
            "Australia",
            "Canada",
            "Chile",
            "United States of America (the)"
           ],
           "locationmode": "country names",
           "locations": [
            "Australia",
            "Canada",
            "Chile",
            "United States of America (the)"
           ],
           "name": "",
           "type": "choropleth",
           "z": [
            81,
            683,
            31,
            1095
           ]
          }
         ],
         "name": "2020-03-27"
        },
        {
         "data": [
          {
           "coloraxis": "coloraxis",
           "geo": "geo",
           "hovertemplate": "<b>%{hovertext}</b><br><br>Date=2020-03-28<br>Country=%{location}<br>PercentOfBaseline=%{z}<extra></extra>",
           "hovertext": [
            "Australia",
            "Canada",
            "United States of America (the)"
           ],
           "locationmode": "country names",
           "locations": [
            "Australia",
            "Canada",
            "United States of America (the)"
           ],
           "name": "",
           "type": "choropleth",
           "z": [
            62,
            544,
            1005
           ]
          }
         ],
         "name": "2020-03-28"
        },
        {
         "data": [
          {
           "coloraxis": "coloraxis",
           "geo": "geo",
           "hovertemplate": "<b>%{hovertext}</b><br><br>Date=2020-03-29<br>Country=%{location}<br>PercentOfBaseline=%{z}<extra></extra>",
           "hovertext": [
            "Australia",
            "Canada",
            "Chile",
            "United States of America (the)"
           ],
           "locationmode": "country names",
           "locations": [
            "Australia",
            "Canada",
            "Chile",
            "United States of America (the)"
           ],
           "name": "",
           "type": "choropleth",
           "z": [
            66,
            401,
            9,
            930
           ]
          }
         ],
         "name": "2020-03-29"
        },
        {
         "data": [
          {
           "coloraxis": "coloraxis",
           "geo": "geo",
           "hovertemplate": "<b>%{hovertext}</b><br><br>Date=2020-03-30<br>Country=%{location}<br>PercentOfBaseline=%{z}<extra></extra>",
           "hovertext": [
            "Australia",
            "Canada",
            "Chile",
            "United States of America (the)"
           ],
           "locationmode": "country names",
           "locations": [
            "Australia",
            "Canada",
            "Chile",
            "United States of America (the)"
           ],
           "name": "",
           "type": "choropleth",
           "z": [
            75,
            646,
            19,
            1040
           ]
          }
         ],
         "name": "2020-03-30"
        },
        {
         "data": [
          {
           "coloraxis": "coloraxis",
           "geo": "geo",
           "hovertemplate": "<b>%{hovertext}</b><br><br>Date=2020-03-31<br>Country=%{location}<br>PercentOfBaseline=%{z}<extra></extra>",
           "hovertext": [
            "Australia",
            "Canada",
            "Chile",
            "United States of America (the)"
           ],
           "locationmode": "country names",
           "locations": [
            "Australia",
            "Canada",
            "Chile",
            "United States of America (the)"
           ],
           "name": "",
           "type": "choropleth",
           "z": [
            71,
            651,
            26,
            1084
           ]
          }
         ],
         "name": "2020-03-31"
        },
        {
         "data": [
          {
           "coloraxis": "coloraxis",
           "geo": "geo",
           "hovertemplate": "<b>%{hovertext}</b><br><br>Date=2020-04-01<br>Country=%{location}<br>PercentOfBaseline=%{z}<extra></extra>",
           "hovertext": [
            "Australia",
            "Canada",
            "Chile",
            "United States of America (the)"
           ],
           "locationmode": "country names",
           "locations": [
            "Australia",
            "Canada",
            "Chile",
            "United States of America (the)"
           ],
           "name": "",
           "type": "choropleth",
           "z": [
            69,
            636,
            27,
            1064
           ]
          }
         ],
         "name": "2020-04-01"
        },
        {
         "data": [
          {
           "coloraxis": "coloraxis",
           "geo": "geo",
           "hovertemplate": "<b>%{hovertext}</b><br><br>Date=2020-04-02<br>Country=%{location}<br>PercentOfBaseline=%{z}<extra></extra>",
           "hovertext": [
            "Australia",
            "Canada",
            "Chile",
            "United States of America (the)"
           ],
           "locationmode": "country names",
           "locations": [
            "Australia",
            "Canada",
            "Chile",
            "United States of America (the)"
           ],
           "name": "",
           "type": "choropleth",
           "z": [
            77,
            653,
            21,
            998
           ]
          }
         ],
         "name": "2020-04-02"
        },
        {
         "data": [
          {
           "coloraxis": "coloraxis",
           "geo": "geo",
           "hovertemplate": "<b>%{hovertext}</b><br><br>Date=2020-04-03<br>Country=%{location}<br>PercentOfBaseline=%{z}<extra></extra>",
           "hovertext": [
            "Australia",
            "Canada",
            "Chile",
            "United States of America (the)"
           ],
           "locationmode": "country names",
           "locations": [
            "Australia",
            "Canada",
            "Chile",
            "United States of America (the)"
           ],
           "name": "",
           "type": "choropleth",
           "z": [
            64,
            603,
            31,
            968
           ]
          }
         ],
         "name": "2020-04-03"
        },
        {
         "data": [
          {
           "coloraxis": "coloraxis",
           "geo": "geo",
           "hovertemplate": "<b>%{hovertext}</b><br><br>Date=2020-04-04<br>Country=%{location}<br>PercentOfBaseline=%{z}<extra></extra>",
           "hovertext": [
            "Australia",
            "Canada",
            "Chile",
            "United States of America (the)"
           ],
           "locationmode": "country names",
           "locations": [
            "Australia",
            "Canada",
            "Chile",
            "United States of America (the)"
           ],
           "name": "",
           "type": "choropleth",
           "z": [
            27,
            411,
            19,
            868
           ]
          }
         ],
         "name": "2020-04-04"
        },
        {
         "data": [
          {
           "coloraxis": "coloraxis",
           "geo": "geo",
           "hovertemplate": "<b>%{hovertext}</b><br><br>Date=2020-04-05<br>Country=%{location}<br>PercentOfBaseline=%{z}<extra></extra>",
           "hovertext": [
            "Australia",
            "Canada",
            "Chile",
            "United States of America (the)"
           ],
           "locationmode": "country names",
           "locations": [
            "Australia",
            "Canada",
            "Chile",
            "United States of America (the)"
           ],
           "name": "",
           "type": "choropleth",
           "z": [
            57,
            256,
            11,
            812
           ]
          }
         ],
         "name": "2020-04-05"
        },
        {
         "data": [
          {
           "coloraxis": "coloraxis",
           "geo": "geo",
           "hovertemplate": "<b>%{hovertext}</b><br><br>Date=2020-04-06<br>Country=%{location}<br>PercentOfBaseline=%{z}<extra></extra>",
           "hovertext": [
            "Australia",
            "Canada",
            "Chile",
            "United States of America (the)"
           ],
           "locationmode": "country names",
           "locations": [
            "Australia",
            "Canada",
            "Chile",
            "United States of America (the)"
           ],
           "name": "",
           "type": "choropleth",
           "z": [
            59,
            674,
            27,
            1003
           ]
          }
         ],
         "name": "2020-04-06"
        },
        {
         "data": [
          {
           "coloraxis": "coloraxis",
           "geo": "geo",
           "hovertemplate": "<b>%{hovertext}</b><br><br>Date=2020-04-07<br>Country=%{location}<br>PercentOfBaseline=%{z}<extra></extra>",
           "hovertext": [
            "Australia",
            "Canada",
            "Chile",
            "United States of America (the)"
           ],
           "locationmode": "country names",
           "locations": [
            "Australia",
            "Canada",
            "Chile",
            "United States of America (the)"
           ],
           "name": "",
           "type": "choropleth",
           "z": [
            64,
            652,
            25,
            1008
           ]
          }
         ],
         "name": "2020-04-07"
        },
        {
         "data": [
          {
           "coloraxis": "coloraxis",
           "geo": "geo",
           "hovertemplate": "<b>%{hovertext}</b><br><br>Date=2020-04-08<br>Country=%{location}<br>PercentOfBaseline=%{z}<extra></extra>",
           "hovertext": [
            "Australia",
            "Canada",
            "Chile",
            "United States of America (the)"
           ],
           "locationmode": "country names",
           "locations": [
            "Australia",
            "Canada",
            "Chile",
            "United States of America (the)"
           ],
           "name": "",
           "type": "choropleth",
           "z": [
            69,
            593,
            21,
            1018
           ]
          }
         ],
         "name": "2020-04-08"
        },
        {
         "data": [
          {
           "coloraxis": "coloraxis",
           "geo": "geo",
           "hovertemplate": "<b>%{hovertext}</b><br><br>Date=2020-04-09<br>Country=%{location}<br>PercentOfBaseline=%{z}<extra></extra>",
           "hovertext": [
            "Australia",
            "Canada",
            "Chile",
            "United States of America (the)"
           ],
           "locationmode": "country names",
           "locations": [
            "Australia",
            "Canada",
            "Chile",
            "United States of America (the)"
           ],
           "name": "",
           "type": "choropleth",
           "z": [
            54,
            605,
            24,
            956
           ]
          }
         ],
         "name": "2020-04-09"
        },
        {
         "data": [
          {
           "coloraxis": "coloraxis",
           "geo": "geo",
           "hovertemplate": "<b>%{hovertext}</b><br><br>Date=2020-04-10<br>Country=%{location}<br>PercentOfBaseline=%{z}<extra></extra>",
           "hovertext": [
            "Australia",
            "Canada",
            "Chile",
            "United States of America (the)"
           ],
           "locationmode": "country names",
           "locations": [
            "Australia",
            "Canada",
            "Chile",
            "United States of America (the)"
           ],
           "name": "",
           "type": "choropleth",
           "z": [
            8,
            147,
            12,
            888
           ]
          }
         ],
         "name": "2020-04-10"
        },
        {
         "data": [
          {
           "coloraxis": "coloraxis",
           "geo": "geo",
           "hovertemplate": "<b>%{hovertext}</b><br><br>Date=2020-04-11<br>Country=%{location}<br>PercentOfBaseline=%{z}<extra></extra>",
           "hovertext": [
            "Australia",
            "Canada",
            "Chile",
            "United States of America (the)"
           ],
           "locationmode": "country names",
           "locations": [
            "Australia",
            "Canada",
            "Chile",
            "United States of America (the)"
           ],
           "name": "",
           "type": "choropleth",
           "z": [
            22,
            204,
            15,
            809
           ]
          }
         ],
         "name": "2020-04-11"
        },
        {
         "data": [
          {
           "coloraxis": "coloraxis",
           "geo": "geo",
           "hovertemplate": "<b>%{hovertext}</b><br><br>Date=2020-04-12<br>Country=%{location}<br>PercentOfBaseline=%{z}<extra></extra>",
           "hovertext": [
            "Australia",
            "Canada",
            "Chile",
            "United States of America (the)"
           ],
           "locationmode": "country names",
           "locations": [
            "Australia",
            "Canada",
            "Chile",
            "United States of America (the)"
           ],
           "name": "",
           "type": "choropleth",
           "z": [
            25,
            340,
            4,
            751
           ]
          }
         ],
         "name": "2020-04-12"
        },
        {
         "data": [
          {
           "coloraxis": "coloraxis",
           "geo": "geo",
           "hovertemplate": "<b>%{hovertext}</b><br><br>Date=2020-04-13<br>Country=%{location}<br>PercentOfBaseline=%{z}<extra></extra>",
           "hovertext": [
            "Australia",
            "Canada",
            "Chile",
            "United States of America (the)"
           ],
           "locationmode": "country names",
           "locations": [
            "Australia",
            "Canada",
            "Chile",
            "United States of America (the)"
           ],
           "name": "",
           "type": "choropleth",
           "z": [
            29,
            530,
            26,
            889
           ]
          }
         ],
         "name": "2020-04-13"
        },
        {
         "data": [
          {
           "coloraxis": "coloraxis",
           "geo": "geo",
           "hovertemplate": "<b>%{hovertext}</b><br><br>Date=2020-04-14<br>Country=%{location}<br>PercentOfBaseline=%{z}<extra></extra>",
           "hovertext": [
            "Australia",
            "Canada",
            "Chile",
            "United States of America (the)"
           ],
           "locationmode": "country names",
           "locations": [
            "Australia",
            "Canada",
            "Chile",
            "United States of America (the)"
           ],
           "name": "",
           "type": "choropleth",
           "z": [
            59,
            630,
            20,
            961
           ]
          }
         ],
         "name": "2020-04-14"
        },
        {
         "data": [
          {
           "coloraxis": "coloraxis",
           "geo": "geo",
           "hovertemplate": "<b>%{hovertext}</b><br><br>Date=2020-04-15<br>Country=%{location}<br>PercentOfBaseline=%{z}<extra></extra>",
           "hovertext": [
            "Australia",
            "Canada",
            "Chile",
            "United States of America (the)"
           ],
           "locationmode": "country names",
           "locations": [
            "Australia",
            "Canada",
            "Chile",
            "United States of America (the)"
           ],
           "name": "",
           "type": "choropleth",
           "z": [
            61,
            611,
            21,
            962
           ]
          }
         ],
         "name": "2020-04-15"
        },
        {
         "data": [
          {
           "coloraxis": "coloraxis",
           "geo": "geo",
           "hovertemplate": "<b>%{hovertext}</b><br><br>Date=2020-04-16<br>Country=%{location}<br>PercentOfBaseline=%{z}<extra></extra>",
           "hovertext": [
            "Australia",
            "Canada",
            "Chile",
            "United States of America (the)"
           ],
           "locationmode": "country names",
           "locations": [
            "Australia",
            "Canada",
            "Chile",
            "United States of America (the)"
           ],
           "name": "",
           "type": "choropleth",
           "z": [
            60,
            607,
            17,
            937
           ]
          }
         ],
         "name": "2020-04-16"
        },
        {
         "data": [
          {
           "coloraxis": "coloraxis",
           "geo": "geo",
           "hovertemplate": "<b>%{hovertext}</b><br><br>Date=2020-04-17<br>Country=%{location}<br>PercentOfBaseline=%{z}<extra></extra>",
           "hovertext": [
            "Australia",
            "Canada",
            "Chile",
            "United States of America (the)"
           ],
           "locationmode": "country names",
           "locations": [
            "Australia",
            "Canada",
            "Chile",
            "United States of America (the)"
           ],
           "name": "",
           "type": "choropleth",
           "z": [
            69,
            571,
            18,
            932
           ]
          }
         ],
         "name": "2020-04-17"
        },
        {
         "data": [
          {
           "coloraxis": "coloraxis",
           "geo": "geo",
           "hovertemplate": "<b>%{hovertext}</b><br><br>Date=2020-04-18<br>Country=%{location}<br>PercentOfBaseline=%{z}<extra></extra>",
           "hovertext": [
            "Australia",
            "Canada",
            "Chile",
            "United States of America (the)"
           ],
           "locationmode": "country names",
           "locations": [
            "Australia",
            "Canada",
            "Chile",
            "United States of America (the)"
           ],
           "name": "",
           "type": "choropleth",
           "z": [
            32,
            539,
            10,
            852
           ]
          }
         ],
         "name": "2020-04-18"
        },
        {
         "data": [
          {
           "coloraxis": "coloraxis",
           "geo": "geo",
           "hovertemplate": "<b>%{hovertext}</b><br><br>Date=2020-04-19<br>Country=%{location}<br>PercentOfBaseline=%{z}<extra></extra>",
           "hovertext": [
            "Australia",
            "Canada",
            "United States of America (the)"
           ],
           "locationmode": "country names",
           "locations": [
            "Australia",
            "Canada",
            "United States of America (the)"
           ],
           "name": "",
           "type": "choropleth",
           "z": [
            49,
            325,
            789
           ]
          }
         ],
         "name": "2020-04-19"
        },
        {
         "data": [
          {
           "coloraxis": "coloraxis",
           "geo": "geo",
           "hovertemplate": "<b>%{hovertext}</b><br><br>Date=2020-04-20<br>Country=%{location}<br>PercentOfBaseline=%{z}<extra></extra>",
           "hovertext": [
            "Australia",
            "Canada",
            "Chile",
            "United States of America (the)"
           ],
           "locationmode": "country names",
           "locations": [
            "Australia",
            "Canada",
            "Chile",
            "United States of America (the)"
           ],
           "name": "",
           "type": "choropleth",
           "z": [
            60,
            668,
            22,
            972
           ]
          }
         ],
         "name": "2020-04-20"
        },
        {
         "data": [
          {
           "coloraxis": "coloraxis",
           "geo": "geo",
           "hovertemplate": "<b>%{hovertext}</b><br><br>Date=2020-04-21<br>Country=%{location}<br>PercentOfBaseline=%{z}<extra></extra>",
           "hovertext": [
            "Australia",
            "Canada",
            "Chile",
            "United States of America (the)"
           ],
           "locationmode": "country names",
           "locations": [
            "Australia",
            "Canada",
            "Chile",
            "United States of America (the)"
           ],
           "name": "",
           "type": "choropleth",
           "z": [
            65,
            697,
            17,
            976
           ]
          }
         ],
         "name": "2020-04-21"
        },
        {
         "data": [
          {
           "coloraxis": "coloraxis",
           "geo": "geo",
           "hovertemplate": "<b>%{hovertext}</b><br><br>Date=2020-04-22<br>Country=%{location}<br>PercentOfBaseline=%{z}<extra></extra>",
           "hovertext": [
            "Australia",
            "Canada",
            "Chile",
            "United States of America (the)"
           ],
           "locationmode": "country names",
           "locations": [
            "Australia",
            "Canada",
            "Chile",
            "United States of America (the)"
           ],
           "name": "",
           "type": "choropleth",
           "z": [
            60,
            667,
            21,
            1015
           ]
          }
         ],
         "name": "2020-04-22"
        },
        {
         "data": [
          {
           "coloraxis": "coloraxis",
           "geo": "geo",
           "hovertemplate": "<b>%{hovertext}</b><br><br>Date=2020-04-23<br>Country=%{location}<br>PercentOfBaseline=%{z}<extra></extra>",
           "hovertext": [
            "Australia",
            "Canada",
            "Chile",
            "United States of America (the)"
           ],
           "locationmode": "country names",
           "locations": [
            "Australia",
            "Canada",
            "Chile",
            "United States of America (the)"
           ],
           "name": "",
           "type": "choropleth",
           "z": [
            61,
            586,
            20,
            935
           ]
          }
         ],
         "name": "2020-04-23"
        },
        {
         "data": [
          {
           "coloraxis": "coloraxis",
           "geo": "geo",
           "hovertemplate": "<b>%{hovertext}</b><br><br>Date=2020-04-24<br>Country=%{location}<br>PercentOfBaseline=%{z}<extra></extra>",
           "hovertext": [
            "Australia",
            "Canada",
            "Chile",
            "United States of America (the)"
           ],
           "locationmode": "country names",
           "locations": [
            "Australia",
            "Canada",
            "Chile",
            "United States of America (the)"
           ],
           "name": "",
           "type": "choropleth",
           "z": [
            62,
            623,
            16,
            932
           ]
          }
         ],
         "name": "2020-04-24"
        },
        {
         "data": [
          {
           "coloraxis": "coloraxis",
           "geo": "geo",
           "hovertemplate": "<b>%{hovertext}</b><br><br>Date=2020-04-25<br>Country=%{location}<br>PercentOfBaseline=%{z}<extra></extra>",
           "hovertext": [
            "Canada",
            "United States of America (the)"
           ],
           "locationmode": "country names",
           "locations": [
            "Canada",
            "United States of America (the)"
           ],
           "name": "",
           "type": "choropleth",
           "z": [
            490,
            833
           ]
          }
         ],
         "name": "2020-04-25"
        },
        {
         "data": [
          {
           "coloraxis": "coloraxis",
           "geo": "geo",
           "hovertemplate": "<b>%{hovertext}</b><br><br>Date=2020-04-26<br>Country=%{location}<br>PercentOfBaseline=%{z}<extra></extra>",
           "hovertext": [
            "Australia",
            "Canada",
            "Chile",
            "United States of America (the)"
           ],
           "locationmode": "country names",
           "locations": [
            "Australia",
            "Canada",
            "Chile",
            "United States of America (the)"
           ],
           "name": "",
           "type": "choropleth",
           "z": [
            48,
            361,
            7,
            806
           ]
          }
         ],
         "name": "2020-04-26"
        },
        {
         "data": [
          {
           "coloraxis": "coloraxis",
           "geo": "geo",
           "hovertemplate": "<b>%{hovertext}</b><br><br>Date=2020-04-27<br>Country=%{location}<br>PercentOfBaseline=%{z}<extra></extra>",
           "hovertext": [
            "Australia",
            "Canada",
            "Chile",
            "United States of America (the)"
           ],
           "locationmode": "country names",
           "locations": [
            "Australia",
            "Canada",
            "Chile",
            "United States of America (the)"
           ],
           "name": "",
           "type": "choropleth",
           "z": [
            53,
            679,
            22,
            977
           ]
          }
         ],
         "name": "2020-04-27"
        },
        {
         "data": [
          {
           "coloraxis": "coloraxis",
           "geo": "geo",
           "hovertemplate": "<b>%{hovertext}</b><br><br>Date=2020-04-28<br>Country=%{location}<br>PercentOfBaseline=%{z}<extra></extra>",
           "hovertext": [
            "Australia",
            "Canada",
            "Chile",
            "United States of America (the)"
           ],
           "locationmode": "country names",
           "locations": [
            "Australia",
            "Canada",
            "Chile",
            "United States of America (the)"
           ],
           "name": "",
           "type": "choropleth",
           "z": [
            57,
            701,
            21,
            1033
           ]
          }
         ],
         "name": "2020-04-28"
        },
        {
         "data": [
          {
           "coloraxis": "coloraxis",
           "geo": "geo",
           "hovertemplate": "<b>%{hovertext}</b><br><br>Date=2020-04-29<br>Country=%{location}<br>PercentOfBaseline=%{z}<extra></extra>",
           "hovertext": [
            "Australia",
            "Canada",
            "Chile",
            "United States of America (the)"
           ],
           "locationmode": "country names",
           "locations": [
            "Australia",
            "Canada",
            "Chile",
            "United States of America (the)"
           ],
           "name": "",
           "type": "choropleth",
           "z": [
            59,
            649,
            22,
            1030
           ]
          }
         ],
         "name": "2020-04-29"
        },
        {
         "data": [
          {
           "coloraxis": "coloraxis",
           "geo": "geo",
           "hovertemplate": "<b>%{hovertext}</b><br><br>Date=2020-04-30<br>Country=%{location}<br>PercentOfBaseline=%{z}<extra></extra>",
           "hovertext": [
            "Australia",
            "Canada",
            "Chile",
            "United States of America (the)"
           ],
           "locationmode": "country names",
           "locations": [
            "Australia",
            "Canada",
            "Chile",
            "United States of America (the)"
           ],
           "name": "",
           "type": "choropleth",
           "z": [
            65,
            647,
            31,
            985
           ]
          }
         ],
         "name": "2020-04-30"
        },
        {
         "data": [
          {
           "coloraxis": "coloraxis",
           "geo": "geo",
           "hovertemplate": "<b>%{hovertext}</b><br><br>Date=2020-05-01<br>Country=%{location}<br>PercentOfBaseline=%{z}<extra></extra>",
           "hovertext": [
            "Australia",
            "Canada",
            "United States of America (the)"
           ],
           "locationmode": "country names",
           "locations": [
            "Australia",
            "Canada",
            "United States of America (the)"
           ],
           "name": "",
           "type": "choropleth",
           "z": [
            61,
            644,
            977
           ]
          }
         ],
         "name": "2020-05-01"
        },
        {
         "data": [
          {
           "coloraxis": "coloraxis",
           "geo": "geo",
           "hovertemplate": "<b>%{hovertext}</b><br><br>Date=2020-05-02<br>Country=%{location}<br>PercentOfBaseline=%{z}<extra></extra>",
           "hovertext": [
            "Australia",
            "Canada",
            "United States of America (the)"
           ],
           "locationmode": "country names",
           "locations": [
            "Australia",
            "Canada",
            "United States of America (the)"
           ],
           "name": "",
           "type": "choropleth",
           "z": [
            41,
            524,
            863
           ]
          }
         ],
         "name": "2020-05-02"
        },
        {
         "data": [
          {
           "coloraxis": "coloraxis",
           "geo": "geo",
           "hovertemplate": "<b>%{hovertext}</b><br><br>Date=2020-05-03<br>Country=%{location}<br>PercentOfBaseline=%{z}<extra></extra>",
           "hovertext": [
            "Australia",
            "Canada",
            "United States of America (the)"
           ],
           "locationmode": "country names",
           "locations": [
            "Australia",
            "Canada",
            "United States of America (the)"
           ],
           "name": "",
           "type": "choropleth",
           "z": [
            50,
            435,
            803
           ]
          }
         ],
         "name": "2020-05-03"
        },
        {
         "data": [
          {
           "coloraxis": "coloraxis",
           "geo": "geo",
           "hovertemplate": "<b>%{hovertext}</b><br><br>Date=2020-05-04<br>Country=%{location}<br>PercentOfBaseline=%{z}<extra></extra>",
           "hovertext": [
            "Australia",
            "Canada",
            "Chile",
            "United States of America (the)"
           ],
           "locationmode": "country names",
           "locations": [
            "Australia",
            "Canada",
            "Chile",
            "United States of America (the)"
           ],
           "name": "",
           "type": "choropleth",
           "z": [
            53,
            674,
            25,
            1012
           ]
          }
         ],
         "name": "2020-05-04"
        },
        {
         "data": [
          {
           "coloraxis": "coloraxis",
           "geo": "geo",
           "hovertemplate": "<b>%{hovertext}</b><br><br>Date=2020-05-05<br>Country=%{location}<br>PercentOfBaseline=%{z}<extra></extra>",
           "hovertext": [
            "Australia",
            "Canada",
            "Chile",
            "United States of America (the)"
           ],
           "locationmode": "country names",
           "locations": [
            "Australia",
            "Canada",
            "Chile",
            "United States of America (the)"
           ],
           "name": "",
           "type": "choropleth",
           "z": [
            56,
            708,
            13,
            1014
           ]
          }
         ],
         "name": "2020-05-05"
        },
        {
         "data": [
          {
           "coloraxis": "coloraxis",
           "geo": "geo",
           "hovertemplate": "<b>%{hovertext}</b><br><br>Date=2020-05-06<br>Country=%{location}<br>PercentOfBaseline=%{z}<extra></extra>",
           "hovertext": [
            "Australia",
            "Canada",
            "Chile",
            "United States of America (the)"
           ],
           "locationmode": "country names",
           "locations": [
            "Australia",
            "Canada",
            "Chile",
            "United States of America (the)"
           ],
           "name": "",
           "type": "choropleth",
           "z": [
            52,
            679,
            22,
            1027
           ]
          }
         ],
         "name": "2020-05-06"
        },
        {
         "data": [
          {
           "coloraxis": "coloraxis",
           "geo": "geo",
           "hovertemplate": "<b>%{hovertext}</b><br><br>Date=2020-05-07<br>Country=%{location}<br>PercentOfBaseline=%{z}<extra></extra>",
           "hovertext": [
            "Australia",
            "Canada",
            "Chile",
            "United States of America (the)"
           ],
           "locationmode": "country names",
           "locations": [
            "Australia",
            "Canada",
            "Chile",
            "United States of America (the)"
           ],
           "name": "",
           "type": "choropleth",
           "z": [
            62,
            686,
            28,
            978
           ]
          }
         ],
         "name": "2020-05-07"
        },
        {
         "data": [
          {
           "coloraxis": "coloraxis",
           "geo": "geo",
           "hovertemplate": "<b>%{hovertext}</b><br><br>Date=2020-05-08<br>Country=%{location}<br>PercentOfBaseline=%{z}<extra></extra>",
           "hovertext": [
            "Australia",
            "Canada",
            "Chile",
            "United States of America (the)"
           ],
           "locationmode": "country names",
           "locations": [
            "Australia",
            "Canada",
            "Chile",
            "United States of America (the)"
           ],
           "name": "",
           "type": "choropleth",
           "z": [
            56,
            667,
            19,
            979
           ]
          }
         ],
         "name": "2020-05-08"
        },
        {
         "data": [
          {
           "coloraxis": "coloraxis",
           "geo": "geo",
           "hovertemplate": "<b>%{hovertext}</b><br><br>Date=2020-05-09<br>Country=%{location}<br>PercentOfBaseline=%{z}<extra></extra>",
           "hovertext": [
            "Australia",
            "Canada",
            "Chile",
            "United States of America (the)"
           ],
           "locationmode": "country names",
           "locations": [
            "Australia",
            "Canada",
            "Chile",
            "United States of America (the)"
           ],
           "name": "",
           "type": "choropleth",
           "z": [
            19,
            516,
            15,
            828
           ]
          }
         ],
         "name": "2020-05-09"
        },
        {
         "data": [
          {
           "coloraxis": "coloraxis",
           "geo": "geo",
           "hovertemplate": "<b>%{hovertext}</b><br><br>Date=2020-05-10<br>Country=%{location}<br>PercentOfBaseline=%{z}<extra></extra>",
           "hovertext": [
            "Australia",
            "Canada",
            "Chile",
            "United States of America (the)"
           ],
           "locationmode": "country names",
           "locations": [
            "Australia",
            "Canada",
            "Chile",
            "United States of America (the)"
           ],
           "name": "",
           "type": "choropleth",
           "z": [
            40,
            385,
            12,
            794
           ]
          }
         ],
         "name": "2020-05-10"
        },
        {
         "data": [
          {
           "coloraxis": "coloraxis",
           "geo": "geo",
           "hovertemplate": "<b>%{hovertext}</b><br><br>Date=2020-05-11<br>Country=%{location}<br>PercentOfBaseline=%{z}<extra></extra>",
           "hovertext": [
            "Australia",
            "Canada",
            "Chile",
            "United States of America (the)"
           ],
           "locationmode": "country names",
           "locations": [
            "Australia",
            "Canada",
            "Chile",
            "United States of America (the)"
           ],
           "name": "",
           "type": "choropleth",
           "z": [
            47,
            743,
            28,
            991
           ]
          }
         ],
         "name": "2020-05-11"
        },
        {
         "data": [
          {
           "coloraxis": "coloraxis",
           "geo": "geo",
           "hovertemplate": "<b>%{hovertext}</b><br><br>Date=2020-05-12<br>Country=%{location}<br>PercentOfBaseline=%{z}<extra></extra>",
           "hovertext": [
            "Australia",
            "Canada",
            "Chile",
            "United States of America (the)"
           ],
           "locationmode": "country names",
           "locations": [
            "Australia",
            "Canada",
            "Chile",
            "United States of America (the)"
           ],
           "name": "",
           "type": "choropleth",
           "z": [
            54,
            752,
            35,
            1002
           ]
          }
         ],
         "name": "2020-05-12"
        },
        {
         "data": [
          {
           "coloraxis": "coloraxis",
           "geo": "geo",
           "hovertemplate": "<b>%{hovertext}</b><br><br>Date=2020-05-13<br>Country=%{location}<br>PercentOfBaseline=%{z}<extra></extra>",
           "hovertext": [
            "Australia",
            "Canada",
            "Chile",
            "United States of America (the)"
           ],
           "locationmode": "country names",
           "locations": [
            "Australia",
            "Canada",
            "Chile",
            "United States of America (the)"
           ],
           "name": "",
           "type": "choropleth",
           "z": [
            56,
            712,
            32,
            1045
           ]
          }
         ],
         "name": "2020-05-13"
        },
        {
         "data": [
          {
           "coloraxis": "coloraxis",
           "geo": "geo",
           "hovertemplate": "<b>%{hovertext}</b><br><br>Date=2020-05-14<br>Country=%{location}<br>PercentOfBaseline=%{z}<extra></extra>",
           "hovertext": [
            "Australia",
            "Canada",
            "Chile",
            "United States of America (the)"
           ],
           "locationmode": "country names",
           "locations": [
            "Australia",
            "Canada",
            "Chile",
            "United States of America (the)"
           ],
           "name": "",
           "type": "choropleth",
           "z": [
            59,
            666,
            18,
            1005
           ]
          }
         ],
         "name": "2020-05-14"
        },
        {
         "data": [
          {
           "coloraxis": "coloraxis",
           "geo": "geo",
           "hovertemplate": "<b>%{hovertext}</b><br><br>Date=2020-05-15<br>Country=%{location}<br>PercentOfBaseline=%{z}<extra></extra>",
           "hovertext": [
            "Australia",
            "Canada",
            "Chile",
            "United States of America (the)"
           ],
           "locationmode": "country names",
           "locations": [
            "Australia",
            "Canada",
            "Chile",
            "United States of America (the)"
           ],
           "name": "",
           "type": "choropleth",
           "z": [
            59,
            680,
            23,
            982
           ]
          }
         ],
         "name": "2020-05-15"
        },
        {
         "data": [
          {
           "coloraxis": "coloraxis",
           "geo": "geo",
           "hovertemplate": "<b>%{hovertext}</b><br><br>Date=2020-05-16<br>Country=%{location}<br>PercentOfBaseline=%{z}<extra></extra>",
           "hovertext": [
            "Australia",
            "Canada",
            "Chile",
            "United States of America (the)"
           ],
           "locationmode": "country names",
           "locations": [
            "Australia",
            "Canada",
            "Chile",
            "United States of America (the)"
           ],
           "name": "",
           "type": "choropleth",
           "z": [
            23,
            565,
            22,
            848
           ]
          }
         ],
         "name": "2020-05-16"
        },
        {
         "data": [
          {
           "coloraxis": "coloraxis",
           "geo": "geo",
           "hovertemplate": "<b>%{hovertext}</b><br><br>Date=2020-05-17<br>Country=%{location}<br>PercentOfBaseline=%{z}<extra></extra>",
           "hovertext": [
            "Australia",
            "Canada",
            "Chile",
            "United States of America (the)"
           ],
           "locationmode": "country names",
           "locations": [
            "Australia",
            "Canada",
            "Chile",
            "United States of America (the)"
           ],
           "name": "",
           "type": "choropleth",
           "z": [
            43,
            458,
            10,
            804
           ]
          }
         ],
         "name": "2020-05-17"
        },
        {
         "data": [
          {
           "coloraxis": "coloraxis",
           "geo": "geo",
           "hovertemplate": "<b>%{hovertext}</b><br><br>Date=2020-05-18<br>Country=%{location}<br>PercentOfBaseline=%{z}<extra></extra>",
           "hovertext": [
            "Australia",
            "Canada",
            "Chile",
            "United States of America (the)"
           ],
           "locationmode": "country names",
           "locations": [
            "Australia",
            "Canada",
            "Chile",
            "United States of America (the)"
           ],
           "name": "",
           "type": "choropleth",
           "z": [
            51,
            151,
            27,
            1006
           ]
          }
         ],
         "name": "2020-05-18"
        },
        {
         "data": [
          {
           "coloraxis": "coloraxis",
           "geo": "geo",
           "hovertemplate": "<b>%{hovertext}</b><br><br>Date=2020-05-19<br>Country=%{location}<br>PercentOfBaseline=%{z}<extra></extra>",
           "hovertext": [
            "Australia",
            "Canada",
            "Chile",
            "United States of America (the)"
           ],
           "locationmode": "country names",
           "locations": [
            "Australia",
            "Canada",
            "Chile",
            "United States of America (the)"
           ],
           "name": "",
           "type": "choropleth",
           "z": [
            60,
            685,
            29,
            1074
           ]
          }
         ],
         "name": "2020-05-19"
        },
        {
         "data": [
          {
           "coloraxis": "coloraxis",
           "geo": "geo",
           "hovertemplate": "<b>%{hovertext}</b><br><br>Date=2020-05-20<br>Country=%{location}<br>PercentOfBaseline=%{z}<extra></extra>",
           "hovertext": [
            "Australia",
            "Canada",
            "Chile",
            "United States of America (the)"
           ],
           "locationmode": "country names",
           "locations": [
            "Australia",
            "Canada",
            "Chile",
            "United States of America (the)"
           ],
           "name": "",
           "type": "choropleth",
           "z": [
            61,
            721,
            35,
            1083
           ]
          }
         ],
         "name": "2020-05-20"
        },
        {
         "data": [
          {
           "coloraxis": "coloraxis",
           "geo": "geo",
           "hovertemplate": "<b>%{hovertext}</b><br><br>Date=2020-05-21<br>Country=%{location}<br>PercentOfBaseline=%{z}<extra></extra>",
           "hovertext": [
            "Australia",
            "Canada",
            "Chile",
            "United States of America (the)"
           ],
           "locationmode": "country names",
           "locations": [
            "Australia",
            "Canada",
            "Chile",
            "United States of America (the)"
           ],
           "name": "",
           "type": "choropleth",
           "z": [
            54,
            688,
            13,
            1045
           ]
          }
         ],
         "name": "2020-05-21"
        },
        {
         "data": [
          {
           "coloraxis": "coloraxis",
           "geo": "geo",
           "hovertemplate": "<b>%{hovertext}</b><br><br>Date=2020-05-22<br>Country=%{location}<br>PercentOfBaseline=%{z}<extra></extra>",
           "hovertext": [
            "Australia",
            "Canada",
            "Chile",
            "United States of America (the)"
           ],
           "locationmode": "country names",
           "locations": [
            "Australia",
            "Canada",
            "Chile",
            "United States of America (the)"
           ],
           "name": "",
           "type": "choropleth",
           "z": [
            50,
            712,
            18,
            994
           ]
          }
         ],
         "name": "2020-05-22"
        },
        {
         "data": [
          {
           "coloraxis": "coloraxis",
           "geo": "geo",
           "hovertemplate": "<b>%{hovertext}</b><br><br>Date=2020-05-23<br>Country=%{location}<br>PercentOfBaseline=%{z}<extra></extra>",
           "hovertext": [
            "Australia",
            "Canada",
            "Chile",
            "United States of America (the)"
           ],
           "locationmode": "country names",
           "locations": [
            "Australia",
            "Canada",
            "Chile",
            "United States of America (the)"
           ],
           "name": "",
           "type": "choropleth",
           "z": [
            16,
            506,
            15,
            843
           ]
          }
         ],
         "name": "2020-05-23"
        },
        {
         "data": [
          {
           "coloraxis": "coloraxis",
           "geo": "geo",
           "hovertemplate": "<b>%{hovertext}</b><br><br>Date=2020-05-24<br>Country=%{location}<br>PercentOfBaseline=%{z}<extra></extra>",
           "hovertext": [
            "Australia",
            "Canada",
            "Chile",
            "United States of America (the)"
           ],
           "locationmode": "country names",
           "locations": [
            "Australia",
            "Canada",
            "Chile",
            "United States of America (the)"
           ],
           "name": "",
           "type": "choropleth",
           "z": [
            40,
            468,
            9,
            798
           ]
          }
         ],
         "name": "2020-05-24"
        },
        {
         "data": [
          {
           "coloraxis": "coloraxis",
           "geo": "geo",
           "hovertemplate": "<b>%{hovertext}</b><br><br>Date=2020-05-25<br>Country=%{location}<br>PercentOfBaseline=%{z}<extra></extra>",
           "hovertext": [
            "Australia",
            "Canada",
            "Chile",
            "United States of America (the)"
           ],
           "locationmode": "country names",
           "locations": [
            "Australia",
            "Canada",
            "Chile",
            "United States of America (the)"
           ],
           "name": "",
           "type": "choropleth",
           "z": [
            53,
            762,
            27,
            405
           ]
          }
         ],
         "name": "2020-05-25"
        },
        {
         "data": [
          {
           "coloraxis": "coloraxis",
           "geo": "geo",
           "hovertemplate": "<b>%{hovertext}</b><br><br>Date=2020-05-26<br>Country=%{location}<br>PercentOfBaseline=%{z}<extra></extra>",
           "hovertext": [
            "Australia",
            "Canada",
            "Chile",
            "United States of America (the)"
           ],
           "locationmode": "country names",
           "locations": [
            "Australia",
            "Canada",
            "Chile",
            "United States of America (the)"
           ],
           "name": "",
           "type": "choropleth",
           "z": [
            53,
            750,
            22,
            972
           ]
          }
         ],
         "name": "2020-05-26"
        },
        {
         "data": [
          {
           "coloraxis": "coloraxis",
           "geo": "geo",
           "hovertemplate": "<b>%{hovertext}</b><br><br>Date=2020-05-27<br>Country=%{location}<br>PercentOfBaseline=%{z}<extra></extra>",
           "hovertext": [
            "Australia",
            "Canada",
            "Chile",
            "United States of America (the)"
           ],
           "locationmode": "country names",
           "locations": [
            "Australia",
            "Canada",
            "Chile",
            "United States of America (the)"
           ],
           "name": "",
           "type": "choropleth",
           "z": [
            58,
            747,
            19,
            1088
           ]
          }
         ],
         "name": "2020-05-27"
        },
        {
         "data": [
          {
           "coloraxis": "coloraxis",
           "geo": "geo",
           "hovertemplate": "<b>%{hovertext}</b><br><br>Date=2020-05-28<br>Country=%{location}<br>PercentOfBaseline=%{z}<extra></extra>",
           "hovertext": [
            "Australia",
            "Canada",
            "Chile",
            "United States of America (the)"
           ],
           "locationmode": "country names",
           "locations": [
            "Australia",
            "Canada",
            "Chile",
            "United States of America (the)"
           ],
           "name": "",
           "type": "choropleth",
           "z": [
            61,
            744,
            22,
            1087
           ]
          }
         ],
         "name": "2020-05-28"
        },
        {
         "data": [
          {
           "coloraxis": "coloraxis",
           "geo": "geo",
           "hovertemplate": "<b>%{hovertext}</b><br><br>Date=2020-05-29<br>Country=%{location}<br>PercentOfBaseline=%{z}<extra></extra>",
           "hovertext": [
            "Australia",
            "Canada",
            "Chile",
            "United States of America (the)"
           ],
           "locationmode": "country names",
           "locations": [
            "Australia",
            "Canada",
            "Chile",
            "United States of America (the)"
           ],
           "name": "",
           "type": "choropleth",
           "z": [
            54,
            712,
            28,
            1056
           ]
          }
         ],
         "name": "2020-05-29"
        },
        {
         "data": [
          {
           "coloraxis": "coloraxis",
           "geo": "geo",
           "hovertemplate": "<b>%{hovertext}</b><br><br>Date=2020-05-30<br>Country=%{location}<br>PercentOfBaseline=%{z}<extra></extra>",
           "hovertext": [
            "Australia",
            "Canada",
            "Chile",
            "United States of America (the)"
           ],
           "locationmode": "country names",
           "locations": [
            "Australia",
            "Canada",
            "Chile",
            "United States of America (the)"
           ],
           "name": "",
           "type": "choropleth",
           "z": [
            30,
            586,
            13,
            928
           ]
          }
         ],
         "name": "2020-05-30"
        },
        {
         "data": [
          {
           "coloraxis": "coloraxis",
           "geo": "geo",
           "hovertemplate": "<b>%{hovertext}</b><br><br>Date=2020-05-31<br>Country=%{location}<br>PercentOfBaseline=%{z}<extra></extra>",
           "hovertext": [
            "Australia",
            "Canada",
            "United States of America (the)"
           ],
           "locationmode": "country names",
           "locations": [
            "Australia",
            "Canada",
            "United States of America (the)"
           ],
           "name": "",
           "type": "choropleth",
           "z": [
            51,
            683,
            857
           ]
          }
         ],
         "name": "2020-05-31"
        },
        {
         "data": [
          {
           "coloraxis": "coloraxis",
           "geo": "geo",
           "hovertemplate": "<b>%{hovertext}</b><br><br>Date=2020-06-01<br>Country=%{location}<br>PercentOfBaseline=%{z}<extra></extra>",
           "hovertext": [
            "Australia",
            "Canada",
            "Chile",
            "United States of America (the)"
           ],
           "locationmode": "country names",
           "locations": [
            "Australia",
            "Canada",
            "Chile",
            "United States of America (the)"
           ],
           "name": "",
           "type": "choropleth",
           "z": [
            55,
            799,
            20,
            1064
           ]
          }
         ],
         "name": "2020-06-01"
        },
        {
         "data": [
          {
           "coloraxis": "coloraxis",
           "geo": "geo",
           "hovertemplate": "<b>%{hovertext}</b><br><br>Date=2020-06-02<br>Country=%{location}<br>PercentOfBaseline=%{z}<extra></extra>",
           "hovertext": [
            "Australia",
            "Canada",
            "Chile",
            "United States of America (the)"
           ],
           "locationmode": "country names",
           "locations": [
            "Australia",
            "Canada",
            "Chile",
            "United States of America (the)"
           ],
           "name": "",
           "type": "choropleth",
           "z": [
            59,
            752,
            34,
            1103
           ]
          }
         ],
         "name": "2020-06-02"
        },
        {
         "data": [
          {
           "coloraxis": "coloraxis",
           "geo": "geo",
           "hovertemplate": "<b>%{hovertext}</b><br><br>Date=2020-06-03<br>Country=%{location}<br>PercentOfBaseline=%{z}<extra></extra>",
           "hovertext": [
            "Australia",
            "Canada",
            "Chile",
            "United States of America (the)"
           ],
           "locationmode": "country names",
           "locations": [
            "Australia",
            "Canada",
            "Chile",
            "United States of America (the)"
           ],
           "name": "",
           "type": "choropleth",
           "z": [
            61,
            747,
            41,
            1102
           ]
          }
         ],
         "name": "2020-06-03"
        },
        {
         "data": [
          {
           "coloraxis": "coloraxis",
           "geo": "geo",
           "hovertemplate": "<b>%{hovertext}</b><br><br>Date=2020-06-04<br>Country=%{location}<br>PercentOfBaseline=%{z}<extra></extra>",
           "hovertext": [
            "Australia",
            "Canada",
            "Chile",
            "United States of America (the)"
           ],
           "locationmode": "country names",
           "locations": [
            "Australia",
            "Canada",
            "Chile",
            "United States of America (the)"
           ],
           "name": "",
           "type": "choropleth",
           "z": [
            59,
            715,
            20,
            1090
           ]
          }
         ],
         "name": "2020-06-04"
        },
        {
         "data": [
          {
           "coloraxis": "coloraxis",
           "geo": "geo",
           "hovertemplate": "<b>%{hovertext}</b><br><br>Date=2020-06-05<br>Country=%{location}<br>PercentOfBaseline=%{z}<extra></extra>",
           "hovertext": [
            "Australia",
            "Canada",
            "Chile",
            "United States of America (the)"
           ],
           "locationmode": "country names",
           "locations": [
            "Australia",
            "Canada",
            "Chile",
            "United States of America (the)"
           ],
           "name": "",
           "type": "choropleth",
           "z": [
            50,
            710,
            27,
            1087
           ]
          }
         ],
         "name": "2020-06-05"
        },
        {
         "data": [
          {
           "coloraxis": "coloraxis",
           "geo": "geo",
           "hovertemplate": "<b>%{hovertext}</b><br><br>Date=2020-06-06<br>Country=%{location}<br>PercentOfBaseline=%{z}<extra></extra>",
           "hovertext": [
            "Canada",
            "Chile",
            "United States of America (the)"
           ],
           "locationmode": "country names",
           "locations": [
            "Canada",
            "Chile",
            "United States of America (the)"
           ],
           "name": "",
           "type": "choropleth",
           "z": [
            517,
            22,
            971
           ]
          }
         ],
         "name": "2020-06-06"
        },
        {
         "data": [
          {
           "coloraxis": "coloraxis",
           "geo": "geo",
           "hovertemplate": "<b>%{hovertext}</b><br><br>Date=2020-06-07<br>Country=%{location}<br>PercentOfBaseline=%{z}<extra></extra>",
           "hovertext": [
            "Australia",
            "Canada",
            "United States of America (the)"
           ],
           "locationmode": "country names",
           "locations": [
            "Australia",
            "Canada",
            "United States of America (the)"
           ],
           "name": "",
           "type": "choropleth",
           "z": [
            21,
            588,
            939
           ]
          }
         ],
         "name": "2020-06-07"
        },
        {
         "data": [
          {
           "coloraxis": "coloraxis",
           "geo": "geo",
           "hovertemplate": "<b>%{hovertext}</b><br><br>Date=2020-06-08<br>Country=%{location}<br>PercentOfBaseline=%{z}<extra></extra>",
           "hovertext": [
            "Australia",
            "Canada",
            "Chile",
            "United States of America (the)"
           ],
           "locationmode": "country names",
           "locations": [
            "Australia",
            "Canada",
            "Chile",
            "United States of America (the)"
           ],
           "name": "",
           "type": "choropleth",
           "z": [
            25,
            794,
            28,
            1082
           ]
          }
         ],
         "name": "2020-06-08"
        },
        {
         "data": [
          {
           "coloraxis": "coloraxis",
           "geo": "geo",
           "hovertemplate": "<b>%{hovertext}</b><br><br>Date=2020-06-09<br>Country=%{location}<br>PercentOfBaseline=%{z}<extra></extra>",
           "hovertext": [
            "Australia",
            "Canada",
            "Chile",
            "United States of America (the)"
           ],
           "locationmode": "country names",
           "locations": [
            "Australia",
            "Canada",
            "Chile",
            "United States of America (the)"
           ],
           "name": "",
           "type": "choropleth",
           "z": [
            54,
            764,
            25,
            1089
           ]
          }
         ],
         "name": "2020-06-09"
        },
        {
         "data": [
          {
           "coloraxis": "coloraxis",
           "geo": "geo",
           "hovertemplate": "<b>%{hovertext}</b><br><br>Date=2020-06-10<br>Country=%{location}<br>PercentOfBaseline=%{z}<extra></extra>",
           "hovertext": [
            "Australia",
            "Canada",
            "Chile",
            "United States of America (the)"
           ],
           "locationmode": "country names",
           "locations": [
            "Australia",
            "Canada",
            "Chile",
            "United States of America (the)"
           ],
           "name": "",
           "type": "choropleth",
           "z": [
            56,
            738,
            24,
            1075
           ]
          }
         ],
         "name": "2020-06-10"
        },
        {
         "data": [
          {
           "coloraxis": "coloraxis",
           "geo": "geo",
           "hovertemplate": "<b>%{hovertext}</b><br><br>Date=2020-06-11<br>Country=%{location}<br>PercentOfBaseline=%{z}<extra></extra>",
           "hovertext": [
            "Australia",
            "Canada",
            "Chile",
            "United States of America (the)"
           ],
           "locationmode": "country names",
           "locations": [
            "Australia",
            "Canada",
            "Chile",
            "United States of America (the)"
           ],
           "name": "",
           "type": "choropleth",
           "z": [
            64,
            755,
            24,
            1085
           ]
          }
         ],
         "name": "2020-06-11"
        },
        {
         "data": [
          {
           "coloraxis": "coloraxis",
           "geo": "geo",
           "hovertemplate": "<b>%{hovertext}</b><br><br>Date=2020-06-12<br>Country=%{location}<br>PercentOfBaseline=%{z}<extra></extra>",
           "hovertext": [
            "Australia",
            "Canada",
            "Chile",
            "United States of America (the)"
           ],
           "locationmode": "country names",
           "locations": [
            "Australia",
            "Canada",
            "Chile",
            "United States of America (the)"
           ],
           "name": "",
           "type": "choropleth",
           "z": [
            60,
            738,
            31,
            1067
           ]
          }
         ],
         "name": "2020-06-12"
        },
        {
         "data": [
          {
           "coloraxis": "coloraxis",
           "geo": "geo",
           "hovertemplate": "<b>%{hovertext}</b><br><br>Date=2020-06-13<br>Country=%{location}<br>PercentOfBaseline=%{z}<extra></extra>",
           "hovertext": [
            "Australia",
            "Canada",
            "United States of America (the)"
           ],
           "locationmode": "country names",
           "locations": [
            "Australia",
            "Canada",
            "United States of America (the)"
           ],
           "name": "",
           "type": "choropleth",
           "z": [
            36,
            554,
            963
           ]
          }
         ],
         "name": "2020-06-13"
        },
        {
         "data": [
          {
           "coloraxis": "coloraxis",
           "geo": "geo",
           "hovertemplate": "<b>%{hovertext}</b><br><br>Date=2020-06-14<br>Country=%{location}<br>PercentOfBaseline=%{z}<extra></extra>",
           "hovertext": [
            "Australia",
            "Canada",
            "United States of America (the)"
           ],
           "locationmode": "country names",
           "locations": [
            "Australia",
            "Canada",
            "United States of America (the)"
           ],
           "name": "",
           "type": "choropleth",
           "z": [
            55,
            672,
            911
           ]
          }
         ],
         "name": "2020-06-14"
        },
        {
         "data": [
          {
           "coloraxis": "coloraxis",
           "geo": "geo",
           "hovertemplate": "<b>%{hovertext}</b><br><br>Date=2020-06-15<br>Country=%{location}<br>PercentOfBaseline=%{z}<extra></extra>",
           "hovertext": [
            "Australia",
            "Canada",
            "Chile",
            "United States of America (the)"
           ],
           "locationmode": "country names",
           "locations": [
            "Australia",
            "Canada",
            "Chile",
            "United States of America (the)"
           ],
           "name": "",
           "type": "choropleth",
           "z": [
            52,
            823,
            32,
            1099
           ]
          }
         ],
         "name": "2020-06-15"
        },
        {
         "data": [
          {
           "coloraxis": "coloraxis",
           "geo": "geo",
           "hovertemplate": "<b>%{hovertext}</b><br><br>Date=2020-06-16<br>Country=%{location}<br>PercentOfBaseline=%{z}<extra></extra>",
           "hovertext": [
            "Australia",
            "Canada",
            "Chile",
            "United States of America (the)"
           ],
           "locationmode": "country names",
           "locations": [
            "Australia",
            "Canada",
            "Chile",
            "United States of America (the)"
           ],
           "name": "",
           "type": "choropleth",
           "z": [
            63,
            780,
            27,
            1122
           ]
          }
         ],
         "name": "2020-06-16"
        },
        {
         "data": [
          {
           "coloraxis": "coloraxis",
           "geo": "geo",
           "hovertemplate": "<b>%{hovertext}</b><br><br>Date=2020-06-17<br>Country=%{location}<br>PercentOfBaseline=%{z}<extra></extra>",
           "hovertext": [
            "Australia",
            "Canada",
            "Chile",
            "United States of America (the)"
           ],
           "locationmode": "country names",
           "locations": [
            "Australia",
            "Canada",
            "Chile",
            "United States of America (the)"
           ],
           "name": "",
           "type": "choropleth",
           "z": [
            58,
            764,
            30,
            1122
           ]
          }
         ],
         "name": "2020-06-17"
        },
        {
         "data": [
          {
           "coloraxis": "coloraxis",
           "geo": "geo",
           "hovertemplate": "<b>%{hovertext}</b><br><br>Date=2020-06-18<br>Country=%{location}<br>PercentOfBaseline=%{z}<extra></extra>",
           "hovertext": [
            "Australia",
            "Canada",
            "Chile",
            "United States of America (the)"
           ],
           "locationmode": "country names",
           "locations": [
            "Australia",
            "Canada",
            "Chile",
            "United States of America (the)"
           ],
           "name": "",
           "type": "choropleth",
           "z": [
            59,
            766,
            30,
            1110
           ]
          }
         ],
         "name": "2020-06-18"
        },
        {
         "data": [
          {
           "coloraxis": "coloraxis",
           "geo": "geo",
           "hovertemplate": "<b>%{hovertext}</b><br><br>Date=2020-06-19<br>Country=%{location}<br>PercentOfBaseline=%{z}<extra></extra>",
           "hovertext": [
            "Australia",
            "Canada",
            "Chile",
            "United States of America (the)"
           ],
           "locationmode": "country names",
           "locations": [
            "Australia",
            "Canada",
            "Chile",
            "United States of America (the)"
           ],
           "name": "",
           "type": "choropleth",
           "z": [
            65,
            769,
            28,
            1086
           ]
          }
         ],
         "name": "2020-06-19"
        },
        {
         "data": [
          {
           "coloraxis": "coloraxis",
           "geo": "geo",
           "hovertemplate": "<b>%{hovertext}</b><br><br>Date=2020-06-20<br>Country=%{location}<br>PercentOfBaseline=%{z}<extra></extra>",
           "hovertext": [
            "Australia",
            "Canada",
            "Chile",
            "United States of America (the)"
           ],
           "locationmode": "country names",
           "locations": [
            "Australia",
            "Canada",
            "Chile",
            "United States of America (the)"
           ],
           "name": "",
           "type": "choropleth",
           "z": [
            26,
            599,
            16,
            944
           ]
          }
         ],
         "name": "2020-06-20"
        },
        {
         "data": [
          {
           "coloraxis": "coloraxis",
           "geo": "geo",
           "hovertemplate": "<b>%{hovertext}</b><br><br>Date=2020-06-21<br>Country=%{location}<br>PercentOfBaseline=%{z}<extra></extra>",
           "hovertext": [
            "Australia",
            "Canada",
            "Chile",
            "United States of America (the)"
           ],
           "locationmode": "country names",
           "locations": [
            "Australia",
            "Canada",
            "Chile",
            "United States of America (the)"
           ],
           "name": "",
           "type": "choropleth",
           "z": [
            46,
            508,
            14,
            853
           ]
          }
         ],
         "name": "2020-06-21"
        },
        {
         "data": [
          {
           "coloraxis": "coloraxis",
           "geo": "geo",
           "hovertemplate": "<b>%{hovertext}</b><br><br>Date=2020-06-22<br>Country=%{location}<br>PercentOfBaseline=%{z}<extra></extra>",
           "hovertext": [
            "Australia",
            "Canada",
            "Chile",
            "United States of America (the)"
           ],
           "locationmode": "country names",
           "locations": [
            "Australia",
            "Canada",
            "Chile",
            "United States of America (the)"
           ],
           "name": "",
           "type": "choropleth",
           "z": [
            50,
            826,
            37,
            1091
           ]
          }
         ],
         "name": "2020-06-22"
        },
        {
         "data": [
          {
           "coloraxis": "coloraxis",
           "geo": "geo",
           "hovertemplate": "<b>%{hovertext}</b><br><br>Date=2020-06-23<br>Country=%{location}<br>PercentOfBaseline=%{z}<extra></extra>",
           "hovertext": [
            "Australia",
            "Canada",
            "Chile",
            "United States of America (the)"
           ],
           "locationmode": "country names",
           "locations": [
            "Australia",
            "Canada",
            "Chile",
            "United States of America (the)"
           ],
           "name": "",
           "type": "choropleth",
           "z": [
            58,
            779,
            32,
            1167
           ]
          }
         ],
         "name": "2020-06-23"
        },
        {
         "data": [
          {
           "coloraxis": "coloraxis",
           "geo": "geo",
           "hovertemplate": "<b>%{hovertext}</b><br><br>Date=2020-06-24<br>Country=%{location}<br>PercentOfBaseline=%{z}<extra></extra>",
           "hovertext": [
            "Australia",
            "Canada",
            "Chile",
            "United States of America (the)"
           ],
           "locationmode": "country names",
           "locations": [
            "Australia",
            "Canada",
            "Chile",
            "United States of America (the)"
           ],
           "name": "",
           "type": "choropleth",
           "z": [
            58,
            670,
            30,
            1162
           ]
          }
         ],
         "name": "2020-06-24"
        },
        {
         "data": [
          {
           "coloraxis": "coloraxis",
           "geo": "geo",
           "hovertemplate": "<b>%{hovertext}</b><br><br>Date=2020-06-25<br>Country=%{location}<br>PercentOfBaseline=%{z}<extra></extra>",
           "hovertext": [
            "Australia",
            "Canada",
            "Chile",
            "United States of America (the)"
           ],
           "locationmode": "country names",
           "locations": [
            "Australia",
            "Canada",
            "Chile",
            "United States of America (the)"
           ],
           "name": "",
           "type": "choropleth",
           "z": [
            62,
            744,
            29,
            1123
           ]
          }
         ],
         "name": "2020-06-25"
        },
        {
         "data": [
          {
           "coloraxis": "coloraxis",
           "geo": "geo",
           "hovertemplate": "<b>%{hovertext}</b><br><br>Date=2020-06-26<br>Country=%{location}<br>PercentOfBaseline=%{z}<extra></extra>",
           "hovertext": [
            "Australia",
            "Canada",
            "Chile",
            "United States of America (the)"
           ],
           "locationmode": "country names",
           "locations": [
            "Australia",
            "Canada",
            "Chile",
            "United States of America (the)"
           ],
           "name": "",
           "type": "choropleth",
           "z": [
            53,
            765,
            32,
            1124
           ]
          }
         ],
         "name": "2020-06-26"
        },
        {
         "data": [
          {
           "coloraxis": "coloraxis",
           "geo": "geo",
           "hovertemplate": "<b>%{hovertext}</b><br><br>Date=2020-06-27<br>Country=%{location}<br>PercentOfBaseline=%{z}<extra></extra>",
           "hovertext": [
            "Australia",
            "Canada",
            "Chile",
            "United States of America (the)"
           ],
           "locationmode": "country names",
           "locations": [
            "Australia",
            "Canada",
            "Chile",
            "United States of America (the)"
           ],
           "name": "",
           "type": "choropleth",
           "z": [
            51,
            549,
            19,
            1028
           ]
          }
         ],
         "name": "2020-06-27"
        },
        {
         "data": [
          {
           "coloraxis": "coloraxis",
           "geo": "geo",
           "hovertemplate": "<b>%{hovertext}</b><br><br>Date=2020-06-28<br>Country=%{location}<br>PercentOfBaseline=%{z}<extra></extra>",
           "hovertext": [
            "Australia",
            "Canada",
            "United States of America (the)"
           ],
           "locationmode": "country names",
           "locations": [
            "Australia",
            "Canada",
            "United States of America (the)"
           ],
           "name": "",
           "type": "choropleth",
           "z": [
            48,
            595,
            930
           ]
          }
         ],
         "name": "2020-06-28"
        },
        {
         "data": [
          {
           "coloraxis": "coloraxis",
           "geo": "geo",
           "hovertemplate": "<b>%{hovertext}</b><br><br>Date=2020-06-29<br>Country=%{location}<br>PercentOfBaseline=%{z}<extra></extra>",
           "hovertext": [
            "Australia",
            "Canada",
            "Chile",
            "United States of America (the)"
           ],
           "locationmode": "country names",
           "locations": [
            "Australia",
            "Canada",
            "Chile",
            "United States of America (the)"
           ],
           "name": "",
           "type": "choropleth",
           "z": [
            57,
            814,
            19,
            1115
           ]
          }
         ],
         "name": "2020-06-29"
        },
        {
         "data": [
          {
           "coloraxis": "coloraxis",
           "geo": "geo",
           "hovertemplate": "<b>%{hovertext}</b><br><br>Date=2020-06-30<br>Country=%{location}<br>PercentOfBaseline=%{z}<extra></extra>",
           "hovertext": [
            "Australia",
            "Canada",
            "Chile",
            "United States of America (the)"
           ],
           "locationmode": "country names",
           "locations": [
            "Australia",
            "Canada",
            "Chile",
            "United States of America (the)"
           ],
           "name": "",
           "type": "choropleth",
           "z": [
            62,
            769,
            27,
            1153
           ]
          }
         ],
         "name": "2020-06-30"
        },
        {
         "data": [
          {
           "coloraxis": "coloraxis",
           "geo": "geo",
           "hovertemplate": "<b>%{hovertext}</b><br><br>Date=2020-07-01<br>Country=%{location}<br>PercentOfBaseline=%{z}<extra></extra>",
           "hovertext": [
            "Australia",
            "Canada",
            "Chile",
            "United States of America (the)"
           ],
           "locationmode": "country names",
           "locations": [
            "Australia",
            "Canada",
            "Chile",
            "United States of America (the)"
           ],
           "name": "",
           "type": "choropleth",
           "z": [
            62,
            280,
            33,
            1166
           ]
          }
         ],
         "name": "2020-07-01"
        },
        {
         "data": [
          {
           "coloraxis": "coloraxis",
           "geo": "geo",
           "hovertemplate": "<b>%{hovertext}</b><br><br>Date=2020-07-02<br>Country=%{location}<br>PercentOfBaseline=%{z}<extra></extra>",
           "hovertext": [
            "Australia",
            "Canada",
            "Chile",
            "United States of America (the)"
           ],
           "locationmode": "country names",
           "locations": [
            "Australia",
            "Canada",
            "Chile",
            "United States of America (the)"
           ],
           "name": "",
           "type": "choropleth",
           "z": [
            56,
            673,
            25,
            1130
           ]
          }
         ],
         "name": "2020-07-02"
        },
        {
         "data": [
          {
           "coloraxis": "coloraxis",
           "geo": "geo",
           "hovertemplate": "<b>%{hovertext}</b><br><br>Date=2020-07-03<br>Country=%{location}<br>PercentOfBaseline=%{z}<extra></extra>",
           "hovertext": [
            "Australia",
            "Canada",
            "Chile",
            "United States of America (the)"
           ],
           "locationmode": "country names",
           "locations": [
            "Australia",
            "Canada",
            "Chile",
            "United States of America (the)"
           ],
           "name": "",
           "type": "choropleth",
           "z": [
            46,
            669,
            32,
            758
           ]
          }
         ],
         "name": "2020-07-03"
        },
        {
         "data": [
          {
           "coloraxis": "coloraxis",
           "geo": "geo",
           "hovertemplate": "<b>%{hovertext}</b><br><br>Date=2020-07-04<br>Country=%{location}<br>PercentOfBaseline=%{z}<extra></extra>",
           "hovertext": [
            "Australia",
            "Canada",
            "Chile",
            "United States of America (the)"
           ],
           "locationmode": "country names",
           "locations": [
            "Australia",
            "Canada",
            "Chile",
            "United States of America (the)"
           ],
           "name": "",
           "type": "choropleth",
           "z": [
            48,
            571,
            19,
            641
           ]
          }
         ],
         "name": "2020-07-04"
        },
        {
         "data": [
          {
           "coloraxis": "coloraxis",
           "geo": "geo",
           "hovertemplate": "<b>%{hovertext}</b><br><br>Date=2020-07-05<br>Country=%{location}<br>PercentOfBaseline=%{z}<extra></extra>",
           "hovertext": [
            "Australia",
            "Canada",
            "United States of America (the)"
           ],
           "locationmode": "country names",
           "locations": [
            "Australia",
            "Canada",
            "United States of America (the)"
           ],
           "name": "",
           "type": "choropleth",
           "z": [
            52,
            632,
            841
           ]
          }
         ],
         "name": "2020-07-05"
        },
        {
         "data": [
          {
           "coloraxis": "coloraxis",
           "geo": "geo",
           "hovertemplate": "<b>%{hovertext}</b><br><br>Date=2020-07-06<br>Country=%{location}<br>PercentOfBaseline=%{z}<extra></extra>",
           "hovertext": [
            "Australia",
            "Canada",
            "Chile",
            "United States of America (the)"
           ],
           "locationmode": "country names",
           "locations": [
            "Australia",
            "Canada",
            "Chile",
            "United States of America (the)"
           ],
           "name": "",
           "type": "choropleth",
           "z": [
            55,
            845,
            33,
            1076
           ]
          }
         ],
         "name": "2020-07-06"
        },
        {
         "data": [
          {
           "coloraxis": "coloraxis",
           "geo": "geo",
           "hovertemplate": "<b>%{hovertext}</b><br><br>Date=2020-07-07<br>Country=%{location}<br>PercentOfBaseline=%{z}<extra></extra>",
           "hovertext": [
            "Australia",
            "Canada",
            "Chile",
            "United States of America (the)"
           ],
           "locationmode": "country names",
           "locations": [
            "Australia",
            "Canada",
            "Chile",
            "United States of America (the)"
           ],
           "name": "",
           "type": "choropleth",
           "z": [
            59,
            776,
            30,
            1202
           ]
          }
         ],
         "name": "2020-07-07"
        },
        {
         "data": [
          {
           "coloraxis": "coloraxis",
           "geo": "geo",
           "hovertemplate": "<b>%{hovertext}</b><br><br>Date=2020-07-08<br>Country=%{location}<br>PercentOfBaseline=%{z}<extra></extra>",
           "hovertext": [
            "Australia",
            "Canada",
            "Chile",
            "United States of America (the)"
           ],
           "locationmode": "country names",
           "locations": [
            "Australia",
            "Canada",
            "Chile",
            "United States of America (the)"
           ],
           "name": "",
           "type": "choropleth",
           "z": [
            55,
            792,
            32,
            1200
           ]
          }
         ],
         "name": "2020-07-08"
        },
        {
         "data": [
          {
           "coloraxis": "coloraxis",
           "geo": "geo",
           "hovertemplate": "<b>%{hovertext}</b><br><br>Date=2020-07-09<br>Country=%{location}<br>PercentOfBaseline=%{z}<extra></extra>",
           "hovertext": [
            "Australia",
            "Canada",
            "Chile",
            "United States of America (the)"
           ],
           "locationmode": "country names",
           "locations": [
            "Australia",
            "Canada",
            "Chile",
            "United States of America (the)"
           ],
           "name": "",
           "type": "choropleth",
           "z": [
            55,
            756,
            33,
            1164
           ]
          }
         ],
         "name": "2020-07-09"
        },
        {
         "data": [
          {
           "coloraxis": "coloraxis",
           "geo": "geo",
           "hovertemplate": "<b>%{hovertext}</b><br><br>Date=2020-07-10<br>Country=%{location}<br>PercentOfBaseline=%{z}<extra></extra>",
           "hovertext": [
            "Australia",
            "Canada",
            "Chile",
            "United States of America (the)"
           ],
           "locationmode": "country names",
           "locations": [
            "Australia",
            "Canada",
            "Chile",
            "United States of America (the)"
           ],
           "name": "",
           "type": "choropleth",
           "z": [
            54,
            773,
            37,
            1159
           ]
          }
         ],
         "name": "2020-07-10"
        },
        {
         "data": [
          {
           "coloraxis": "coloraxis",
           "geo": "geo",
           "hovertemplate": "<b>%{hovertext}</b><br><br>Date=2020-07-11<br>Country=%{location}<br>PercentOfBaseline=%{z}<extra></extra>",
           "hovertext": [
            "Australia",
            "Canada",
            "Chile",
            "United States of America (the)"
           ],
           "locationmode": "country names",
           "locations": [
            "Australia",
            "Canada",
            "Chile",
            "United States of America (the)"
           ],
           "name": "",
           "type": "choropleth",
           "z": [
            52,
            610,
            26,
            1062
           ]
          }
         ],
         "name": "2020-07-11"
        },
        {
         "data": [
          {
           "coloraxis": "coloraxis",
           "geo": "geo",
           "hovertemplate": "<b>%{hovertext}</b><br><br>Date=2020-07-12<br>Country=%{location}<br>PercentOfBaseline=%{z}<extra></extra>",
           "hovertext": [
            "Australia",
            "Canada",
            "United States of America (the)"
           ],
           "locationmode": "country names",
           "locations": [
            "Australia",
            "Canada",
            "United States of America (the)"
           ],
           "name": "",
           "type": "choropleth",
           "z": [
            54,
            550,
            968
           ]
          }
         ],
         "name": "2020-07-12"
        },
        {
         "data": [
          {
           "coloraxis": "coloraxis",
           "geo": "geo",
           "hovertemplate": "<b>%{hovertext}</b><br><br>Date=2020-07-13<br>Country=%{location}<br>PercentOfBaseline=%{z}<extra></extra>",
           "hovertext": [
            "Australia",
            "Canada",
            "Chile",
            "United States of America (the)"
           ],
           "locationmode": "country names",
           "locations": [
            "Australia",
            "Canada",
            "Chile",
            "United States of America (the)"
           ],
           "name": "",
           "type": "choropleth",
           "z": [
            52,
            835,
            32,
            1150
           ]
          }
         ],
         "name": "2020-07-13"
        },
        {
         "data": [
          {
           "coloraxis": "coloraxis",
           "geo": "geo",
           "hovertemplate": "<b>%{hovertext}</b><br><br>Date=2020-07-14<br>Country=%{location}<br>PercentOfBaseline=%{z}<extra></extra>",
           "hovertext": [
            "Australia",
            "Canada",
            "Chile",
            "United States of America (the)"
           ],
           "locationmode": "country names",
           "locations": [
            "Australia",
            "Canada",
            "Chile",
            "United States of America (the)"
           ],
           "name": "",
           "type": "choropleth",
           "z": [
            58,
            780,
            36,
            1222
           ]
          }
         ],
         "name": "2020-07-14"
        },
        {
         "data": [
          {
           "coloraxis": "coloraxis",
           "geo": "geo",
           "hovertemplate": "<b>%{hovertext}</b><br><br>Date=2020-07-15<br>Country=%{location}<br>PercentOfBaseline=%{z}<extra></extra>",
           "hovertext": [
            "Australia",
            "Canada",
            "Chile",
            "United States of America (the)"
           ],
           "locationmode": "country names",
           "locations": [
            "Australia",
            "Canada",
            "Chile",
            "United States of America (the)"
           ],
           "name": "",
           "type": "choropleth",
           "z": [
            58,
            762,
            39,
            1171
           ]
          }
         ],
         "name": "2020-07-15"
        },
        {
         "data": [
          {
           "coloraxis": "coloraxis",
           "geo": "geo",
           "hovertemplate": "<b>%{hovertext}</b><br><br>Date=2020-07-16<br>Country=%{location}<br>PercentOfBaseline=%{z}<extra></extra>",
           "hovertext": [
            "Australia",
            "Canada",
            "Chile",
            "United States of America (the)"
           ],
           "locationmode": "country names",
           "locations": [
            "Australia",
            "Canada",
            "Chile",
            "United States of America (the)"
           ],
           "name": "",
           "type": "choropleth",
           "z": [
            56,
            762,
            27,
            1173
           ]
          }
         ],
         "name": "2020-07-16"
        },
        {
         "data": [
          {
           "coloraxis": "coloraxis",
           "geo": "geo",
           "hovertemplate": "<b>%{hovertext}</b><br><br>Date=2020-07-17<br>Country=%{location}<br>PercentOfBaseline=%{z}<extra></extra>",
           "hovertext": [
            "Australia",
            "Canada",
            "Chile",
            "United States of America (the)"
           ],
           "locationmode": "country names",
           "locations": [
            "Australia",
            "Canada",
            "Chile",
            "United States of America (the)"
           ],
           "name": "",
           "type": "choropleth",
           "z": [
            51,
            747,
            26,
            1179
           ]
          }
         ],
         "name": "2020-07-17"
        },
        {
         "data": [
          {
           "coloraxis": "coloraxis",
           "geo": "geo",
           "hovertemplate": "<b>%{hovertext}</b><br><br>Date=2020-07-18<br>Country=%{location}<br>PercentOfBaseline=%{z}<extra></extra>",
           "hovertext": [
            "Australia",
            "Canada",
            "Chile",
            "United States of America (the)"
           ],
           "locationmode": "country names",
           "locations": [
            "Australia",
            "Canada",
            "Chile",
            "United States of America (the)"
           ],
           "name": "",
           "type": "choropleth",
           "z": [
            36,
            553,
            29,
            1058
           ]
          }
         ],
         "name": "2020-07-18"
        },
        {
         "data": [
          {
           "coloraxis": "coloraxis",
           "geo": "geo",
           "hovertemplate": "<b>%{hovertext}</b><br><br>Date=2020-07-19<br>Country=%{location}<br>PercentOfBaseline=%{z}<extra></extra>",
           "hovertext": [
            "Australia",
            "Canada",
            "Chile",
            "United States of America (the)"
           ],
           "locationmode": "country names",
           "locations": [
            "Australia",
            "Canada",
            "Chile",
            "United States of America (the)"
           ],
           "name": "",
           "type": "choropleth",
           "z": [
            52,
            558,
            16,
            1004
           ]
          }
         ],
         "name": "2020-07-19"
        },
        {
         "data": [
          {
           "coloraxis": "coloraxis",
           "geo": "geo",
           "hovertemplate": "<b>%{hovertext}</b><br><br>Date=2020-07-20<br>Country=%{location}<br>PercentOfBaseline=%{z}<extra></extra>",
           "hovertext": [
            "Australia",
            "Canada",
            "Chile",
            "United States of America (the)"
           ],
           "locationmode": "country names",
           "locations": [
            "Australia",
            "Canada",
            "Chile",
            "United States of America (the)"
           ],
           "name": "",
           "type": "choropleth",
           "z": [
            51,
            827,
            34,
            1187
           ]
          }
         ],
         "name": "2020-07-20"
        },
        {
         "data": [
          {
           "coloraxis": "coloraxis",
           "geo": "geo",
           "hovertemplate": "<b>%{hovertext}</b><br><br>Date=2020-07-21<br>Country=%{location}<br>PercentOfBaseline=%{z}<extra></extra>",
           "hovertext": [
            "Australia",
            "Canada",
            "Chile",
            "United States of America (the)"
           ],
           "locationmode": "country names",
           "locations": [
            "Australia",
            "Canada",
            "Chile",
            "United States of America (the)"
           ],
           "name": "",
           "type": "choropleth",
           "z": [
            59,
            766,
            36,
            1293
           ]
          }
         ],
         "name": "2020-07-21"
        },
        {
         "data": [
          {
           "coloraxis": "coloraxis",
           "geo": "geo",
           "hovertemplate": "<b>%{hovertext}</b><br><br>Date=2020-07-22<br>Country=%{location}<br>PercentOfBaseline=%{z}<extra></extra>",
           "hovertext": [
            "Australia",
            "Canada",
            "Chile",
            "United States of America (the)"
           ],
           "locationmode": "country names",
           "locations": [
            "Australia",
            "Canada",
            "Chile",
            "United States of America (the)"
           ],
           "name": "",
           "type": "choropleth",
           "z": [
            65,
            774,
            36,
            1281
           ]
          }
         ],
         "name": "2020-07-22"
        },
        {
         "data": [
          {
           "coloraxis": "coloraxis",
           "geo": "geo",
           "hovertemplate": "<b>%{hovertext}</b><br><br>Date=2020-07-23<br>Country=%{location}<br>PercentOfBaseline=%{z}<extra></extra>",
           "hovertext": [
            "Australia",
            "Canada",
            "Chile",
            "United States of America (the)"
           ],
           "locationmode": "country names",
           "locations": [
            "Australia",
            "Canada",
            "Chile",
            "United States of America (the)"
           ],
           "name": "",
           "type": "choropleth",
           "z": [
            57,
            749,
            28,
            1159
           ]
          }
         ],
         "name": "2020-07-23"
        },
        {
         "data": [
          {
           "coloraxis": "coloraxis",
           "geo": "geo",
           "hovertemplate": "<b>%{hovertext}</b><br><br>Date=2020-07-24<br>Country=%{location}<br>PercentOfBaseline=%{z}<extra></extra>",
           "hovertext": [
            "Australia",
            "Canada",
            "Chile",
            "United States of America (the)"
           ],
           "locationmode": "country names",
           "locations": [
            "Australia",
            "Canada",
            "Chile",
            "United States of America (the)"
           ],
           "name": "",
           "type": "choropleth",
           "z": [
            35,
            730,
            34,
            1168
           ]
          }
         ],
         "name": "2020-07-24"
        },
        {
         "data": [
          {
           "coloraxis": "coloraxis",
           "geo": "geo",
           "hovertemplate": "<b>%{hovertext}</b><br><br>Date=2020-07-25<br>Country=%{location}<br>PercentOfBaseline=%{z}<extra></extra>",
           "hovertext": [
            "Australia",
            "Canada",
            "Chile",
            "United States of America (the)"
           ],
           "locationmode": "country names",
           "locations": [
            "Australia",
            "Canada",
            "Chile",
            "United States of America (the)"
           ],
           "name": "",
           "type": "choropleth",
           "z": [
            35,
            567,
            19,
            1091
           ]
          }
         ],
         "name": "2020-07-25"
        },
        {
         "data": [
          {
           "coloraxis": "coloraxis",
           "geo": "geo",
           "hovertemplate": "<b>%{hovertext}</b><br><br>Date=2020-07-26<br>Country=%{location}<br>PercentOfBaseline=%{z}<extra></extra>",
           "hovertext": [
            "Australia",
            "Canada",
            "United States of America (the)"
           ],
           "locationmode": "country names",
           "locations": [
            "Australia",
            "Canada",
            "United States of America (the)"
           ],
           "name": "",
           "type": "choropleth",
           "z": [
            17,
            558,
            1069
           ]
          }
         ],
         "name": "2020-07-26"
        },
        {
         "data": [
          {
           "coloraxis": "coloraxis",
           "geo": "geo",
           "hovertemplate": "<b>%{hovertext}</b><br><br>Date=2020-07-27<br>Country=%{location}<br>PercentOfBaseline=%{z}<extra></extra>",
           "hovertext": [
            "Australia",
            "Canada",
            "Chile",
            "United States of America (the)"
           ],
           "locationmode": "country names",
           "locations": [
            "Australia",
            "Canada",
            "Chile",
            "United States of America (the)"
           ],
           "name": "",
           "type": "choropleth",
           "z": [
            17,
            770,
            46,
            1159
           ]
          }
         ],
         "name": "2020-07-27"
        },
        {
         "data": [
          {
           "coloraxis": "coloraxis",
           "geo": "geo",
           "hovertemplate": "<b>%{hovertext}</b><br><br>Date=2020-07-28<br>Country=%{location}<br>PercentOfBaseline=%{z}<extra></extra>",
           "hovertext": [
            "Australia",
            "Canada",
            "Chile",
            "United States of America (the)"
           ],
           "locationmode": "country names",
           "locations": [
            "Australia",
            "Canada",
            "Chile",
            "United States of America (the)"
           ],
           "name": "",
           "type": "choropleth",
           "z": [
            22,
            766,
            29,
            1196
           ]
          }
         ],
         "name": "2020-07-28"
        },
        {
         "data": [
          {
           "coloraxis": "coloraxis",
           "geo": "geo",
           "hovertemplate": "<b>%{hovertext}</b><br><br>Date=2020-07-29<br>Country=%{location}<br>PercentOfBaseline=%{z}<extra></extra>",
           "hovertext": [
            "Australia",
            "Canada",
            "Chile",
            "United States of America (the)"
           ],
           "locationmode": "country names",
           "locations": [
            "Australia",
            "Canada",
            "Chile",
            "United States of America (the)"
           ],
           "name": "",
           "type": "choropleth",
           "z": [
            18,
            752,
            42,
            1185
           ]
          }
         ],
         "name": "2020-07-29"
        },
        {
         "data": [
          {
           "coloraxis": "coloraxis",
           "geo": "geo",
           "hovertemplate": "<b>%{hovertext}</b><br><br>Date=2020-07-30<br>Country=%{location}<br>PercentOfBaseline=%{z}<extra></extra>",
           "hovertext": [
            "Australia",
            "Canada",
            "Chile",
            "United States of America (the)"
           ],
           "locationmode": "country names",
           "locations": [
            "Australia",
            "Canada",
            "Chile",
            "United States of America (the)"
           ],
           "name": "",
           "type": "choropleth",
           "z": [
            22,
            737,
            27,
            1170
           ]
          }
         ],
         "name": "2020-07-30"
        },
        {
         "data": [
          {
           "coloraxis": "coloraxis",
           "geo": "geo",
           "hovertemplate": "<b>%{hovertext}</b><br><br>Date=2020-07-31<br>Country=%{location}<br>PercentOfBaseline=%{z}<extra></extra>",
           "hovertext": [
            "Australia",
            "Canada",
            "Chile",
            "United States of America (the)"
           ],
           "locationmode": "country names",
           "locations": [
            "Australia",
            "Canada",
            "Chile",
            "United States of America (the)"
           ],
           "name": "",
           "type": "choropleth",
           "z": [
            25,
            691,
            35,
            1124
           ]
          }
         ],
         "name": "2020-07-31"
        },
        {
         "data": [
          {
           "coloraxis": "coloraxis",
           "geo": "geo",
           "hovertemplate": "<b>%{hovertext}</b><br><br>Date=2020-08-01<br>Country=%{location}<br>PercentOfBaseline=%{z}<extra></extra>",
           "hovertext": [
            "Australia",
            "Canada",
            "Chile",
            "United States of America (the)"
           ],
           "locationmode": "country names",
           "locations": [
            "Australia",
            "Canada",
            "Chile",
            "United States of America (the)"
           ],
           "name": "",
           "type": "choropleth",
           "z": [
            25,
            574,
            19,
            1084
           ]
          }
         ],
         "name": "2020-08-01"
        },
        {
         "data": [
          {
           "coloraxis": "coloraxis",
           "geo": "geo",
           "hovertemplate": "<b>%{hovertext}</b><br><br>Date=2020-08-02<br>Country=%{location}<br>PercentOfBaseline=%{z}<extra></extra>",
           "hovertext": [
            "Australia",
            "Canada",
            "United States of America (the)"
           ],
           "locationmode": "country names",
           "locations": [
            "Australia",
            "Canada",
            "United States of America (the)"
           ],
           "name": "",
           "type": "choropleth",
           "z": [
            13,
            553,
            1027
           ]
          }
         ],
         "name": "2020-08-02"
        },
        {
         "data": [
          {
           "coloraxis": "coloraxis",
           "geo": "geo",
           "hovertemplate": "<b>%{hovertext}</b><br><br>Date=2020-08-03<br>Country=%{location}<br>PercentOfBaseline=%{z}<extra></extra>",
           "hovertext": [
            "Australia",
            "Canada",
            "Chile",
            "United States of America (the)"
           ],
           "locationmode": "country names",
           "locations": [
            "Australia",
            "Canada",
            "Chile",
            "United States of America (the)"
           ],
           "name": "",
           "type": "choropleth",
           "z": [
            15,
            285,
            48,
            1168
           ]
          }
         ],
         "name": "2020-08-03"
        },
        {
         "data": [
          {
           "coloraxis": "coloraxis",
           "geo": "geo",
           "hovertemplate": "<b>%{hovertext}</b><br><br>Date=2020-08-04<br>Country=%{location}<br>PercentOfBaseline=%{z}<extra></extra>",
           "hovertext": [
            "Australia",
            "Canada",
            "Chile",
            "United States of America (the)"
           ],
           "locationmode": "country names",
           "locations": [
            "Australia",
            "Canada",
            "Chile",
            "United States of America (the)"
           ],
           "name": "",
           "type": "choropleth",
           "z": [
            20,
            703,
            33,
            1202
           ]
          }
         ],
         "name": "2020-08-04"
        },
        {
         "data": [
          {
           "coloraxis": "coloraxis",
           "geo": "geo",
           "hovertemplate": "<b>%{hovertext}</b><br><br>Date=2020-08-05<br>Country=%{location}<br>PercentOfBaseline=%{z}<extra></extra>",
           "hovertext": [
            "Australia",
            "Canada",
            "Chile",
            "United States of America (the)"
           ],
           "locationmode": "country names",
           "locations": [
            "Australia",
            "Canada",
            "Chile",
            "United States of America (the)"
           ],
           "name": "",
           "type": "choropleth",
           "z": [
            20,
            757,
            25,
            1193
           ]
          }
         ],
         "name": "2020-08-05"
        },
        {
         "data": [
          {
           "coloraxis": "coloraxis",
           "geo": "geo",
           "hovertemplate": "<b>%{hovertext}</b><br><br>Date=2020-08-06<br>Country=%{location}<br>PercentOfBaseline=%{z}<extra></extra>",
           "hovertext": [
            "Australia",
            "Canada",
            "Chile",
            "United States of America (the)"
           ],
           "locationmode": "country names",
           "locations": [
            "Australia",
            "Canada",
            "Chile",
            "United States of America (the)"
           ],
           "name": "",
           "type": "choropleth",
           "z": [
            21,
            726,
            24,
            1222
           ]
          }
         ],
         "name": "2020-08-06"
        },
        {
         "data": [
          {
           "coloraxis": "coloraxis",
           "geo": "geo",
           "hovertemplate": "<b>%{hovertext}</b><br><br>Date=2020-08-07<br>Country=%{location}<br>PercentOfBaseline=%{z}<extra></extra>",
           "hovertext": [
            "Australia",
            "Canada",
            "Chile",
            "United States of America (the)"
           ],
           "locationmode": "country names",
           "locations": [
            "Australia",
            "Canada",
            "Chile",
            "United States of America (the)"
           ],
           "name": "",
           "type": "choropleth",
           "z": [
            22,
            747,
            32,
            1172
           ]
          }
         ],
         "name": "2020-08-07"
        },
        {
         "data": [
          {
           "coloraxis": "coloraxis",
           "geo": "geo",
           "hovertemplate": "<b>%{hovertext}</b><br><br>Date=2020-08-08<br>Country=%{location}<br>PercentOfBaseline=%{z}<extra></extra>",
           "hovertext": [
            "Australia",
            "Canada",
            "Chile",
            "United States of America (the)"
           ],
           "locationmode": "country names",
           "locations": [
            "Australia",
            "Canada",
            "Chile",
            "United States of America (the)"
           ],
           "name": "",
           "type": "choropleth",
           "z": [
            26,
            575,
            19,
            1084
           ]
          }
         ],
         "name": "2020-08-08"
        },
        {
         "data": [
          {
           "coloraxis": "coloraxis",
           "geo": "geo",
           "hovertemplate": "<b>%{hovertext}</b><br><br>Date=2020-08-09<br>Country=%{location}<br>PercentOfBaseline=%{z}<extra></extra>",
           "hovertext": [
            "Australia",
            "Canada",
            "United States of America (the)"
           ],
           "locationmode": "country names",
           "locations": [
            "Australia",
            "Canada",
            "United States of America (the)"
           ],
           "name": "",
           "type": "choropleth",
           "z": [
            19,
            479,
            1040
           ]
          }
         ],
         "name": "2020-08-09"
        },
        {
         "data": [
          {
           "coloraxis": "coloraxis",
           "geo": "geo",
           "hovertemplate": "<b>%{hovertext}</b><br><br>Date=2020-08-10<br>Country=%{location}<br>PercentOfBaseline=%{z}<extra></extra>",
           "hovertext": [
            "Australia",
            "Canada",
            "Chile",
            "United States of America (the)"
           ],
           "locationmode": "country names",
           "locations": [
            "Australia",
            "Canada",
            "Chile",
            "United States of America (the)"
           ],
           "name": "",
           "type": "choropleth",
           "z": [
            19,
            790,
            42,
            1149
           ]
          }
         ],
         "name": "2020-08-10"
        },
        {
         "data": [
          {
           "coloraxis": "coloraxis",
           "geo": "geo",
           "hovertemplate": "<b>%{hovertext}</b><br><br>Date=2020-08-11<br>Country=%{location}<br>PercentOfBaseline=%{z}<extra></extra>",
           "hovertext": [
            "Australia",
            "Canada",
            "Chile",
            "United States of America (the)"
           ],
           "locationmode": "country names",
           "locations": [
            "Australia",
            "Canada",
            "Chile",
            "United States of America (the)"
           ],
           "name": "",
           "type": "choropleth",
           "z": [
            20,
            774,
            36,
            1200
           ]
          }
         ],
         "name": "2020-08-11"
        },
        {
         "data": [
          {
           "coloraxis": "coloraxis",
           "geo": "geo",
           "hovertemplate": "<b>%{hovertext}</b><br><br>Date=2020-08-12<br>Country=%{location}<br>PercentOfBaseline=%{z}<extra></extra>",
           "hovertext": [
            "Australia",
            "Canada",
            "Chile",
            "United States of America (the)"
           ],
           "locationmode": "country names",
           "locations": [
            "Australia",
            "Canada",
            "Chile",
            "United States of America (the)"
           ],
           "name": "",
           "type": "choropleth",
           "z": [
            19,
            775,
            31,
            1189
           ]
          }
         ],
         "name": "2020-08-12"
        },
        {
         "data": [
          {
           "coloraxis": "coloraxis",
           "geo": "geo",
           "hovertemplate": "<b>%{hovertext}</b><br><br>Date=2020-08-13<br>Country=%{location}<br>PercentOfBaseline=%{z}<extra></extra>",
           "hovertext": [
            "Australia",
            "Canada",
            "Chile",
            "United States of America (the)"
           ],
           "locationmode": "country names",
           "locations": [
            "Australia",
            "Canada",
            "Chile",
            "United States of America (the)"
           ],
           "name": "",
           "type": "choropleth",
           "z": [
            14,
            738,
            31,
            1161
           ]
          }
         ],
         "name": "2020-08-13"
        },
        {
         "data": [
          {
           "coloraxis": "coloraxis",
           "geo": "geo",
           "hovertemplate": "<b>%{hovertext}</b><br><br>Date=2020-08-14<br>Country=%{location}<br>PercentOfBaseline=%{z}<extra></extra>",
           "hovertext": [
            "Australia",
            "Canada",
            "Chile",
            "United States of America (the)"
           ],
           "locationmode": "country names",
           "locations": [
            "Australia",
            "Canada",
            "Chile",
            "United States of America (the)"
           ],
           "name": "",
           "type": "choropleth",
           "z": [
            26,
            745,
            38,
            1163
           ]
          }
         ],
         "name": "2020-08-14"
        },
        {
         "data": [
          {
           "coloraxis": "coloraxis",
           "geo": "geo",
           "hovertemplate": "<b>%{hovertext}</b><br><br>Date=2020-08-15<br>Country=%{location}<br>PercentOfBaseline=%{z}<extra></extra>",
           "hovertext": [
            "Australia",
            "Canada",
            "Chile",
            "United States of America (the)"
           ],
           "locationmode": "country names",
           "locations": [
            "Australia",
            "Canada",
            "Chile",
            "United States of America (the)"
           ],
           "name": "",
           "type": "choropleth",
           "z": [
            16,
            609,
            18,
            1066
           ]
          }
         ],
         "name": "2020-08-15"
        },
        {
         "data": [
          {
           "coloraxis": "coloraxis",
           "geo": "geo",
           "hovertemplate": "<b>%{hovertext}</b><br><br>Date=2020-08-16<br>Country=%{location}<br>PercentOfBaseline=%{z}<extra></extra>",
           "hovertext": [
            "Australia",
            "Canada",
            "United States of America (the)"
           ],
           "locationmode": "country names",
           "locations": [
            "Australia",
            "Canada",
            "United States of America (the)"
           ],
           "name": "",
           "type": "choropleth",
           "z": [
            13,
            587,
            1066
           ]
          }
         ],
         "name": "2020-08-16"
        },
        {
         "data": [
          {
           "coloraxis": "coloraxis",
           "geo": "geo",
           "hovertemplate": "<b>%{hovertext}</b><br><br>Date=2020-08-17<br>Country=%{location}<br>PercentOfBaseline=%{z}<extra></extra>",
           "hovertext": [
            "United States of America (the)"
           ],
           "locationmode": "country names",
           "locations": [
            "United States of America (the)"
           ],
           "name": "",
           "type": "choropleth",
           "z": [
            1
           ]
          }
         ],
         "name": "2020-08-17"
        },
        {
         "data": [
          {
           "coloraxis": "coloraxis",
           "geo": "geo",
           "hovertemplate": "<b>%{hovertext}</b><br><br>Date=2020-08-18<br>Country=%{location}<br>PercentOfBaseline=%{z}<extra></extra>",
           "hovertext": [
            "Australia",
            "Canada",
            "Chile",
            "United States of America (the)"
           ],
           "locationmode": "country names",
           "locations": [
            "Australia",
            "Canada",
            "Chile",
            "United States of America (the)"
           ],
           "name": "",
           "type": "choropleth",
           "z": [
            21,
            777,
            40,
            1218
           ]
          }
         ],
         "name": "2020-08-18"
        },
        {
         "data": [
          {
           "coloraxis": "coloraxis",
           "geo": "geo",
           "hovertemplate": "<b>%{hovertext}</b><br><br>Date=2020-08-19<br>Country=%{location}<br>PercentOfBaseline=%{z}<extra></extra>",
           "hovertext": [
            "Australia",
            "Canada",
            "Chile",
            "United States of America (the)"
           ],
           "locationmode": "country names",
           "locations": [
            "Australia",
            "Canada",
            "Chile",
            "United States of America (the)"
           ],
           "name": "",
           "type": "choropleth",
           "z": [
            20,
            786,
            48,
            1230
           ]
          }
         ],
         "name": "2020-08-19"
        },
        {
         "data": [
          {
           "coloraxis": "coloraxis",
           "geo": "geo",
           "hovertemplate": "<b>%{hovertext}</b><br><br>Date=2020-08-20<br>Country=%{location}<br>PercentOfBaseline=%{z}<extra></extra>",
           "hovertext": [
            "Australia",
            "Canada",
            "Chile",
            "United States of America (the)"
           ],
           "locationmode": "country names",
           "locations": [
            "Australia",
            "Canada",
            "Chile",
            "United States of America (the)"
           ],
           "name": "",
           "type": "choropleth",
           "z": [
            13,
            774,
            32,
            1213
           ]
          }
         ],
         "name": "2020-08-20"
        },
        {
         "data": [
          {
           "coloraxis": "coloraxis",
           "geo": "geo",
           "hovertemplate": "<b>%{hovertext}</b><br><br>Date=2020-08-21<br>Country=%{location}<br>PercentOfBaseline=%{z}<extra></extra>",
           "hovertext": [
            "Australia",
            "Canada",
            "Chile",
            "United States of America (the)"
           ],
           "locationmode": "country names",
           "locations": [
            "Australia",
            "Canada",
            "Chile",
            "United States of America (the)"
           ],
           "name": "",
           "type": "choropleth",
           "z": [
            17,
            733,
            35,
            1177
           ]
          }
         ],
         "name": "2020-08-21"
        },
        {
         "data": [
          {
           "coloraxis": "coloraxis",
           "geo": "geo",
           "hovertemplate": "<b>%{hovertext}</b><br><br>Date=2020-08-22<br>Country=%{location}<br>PercentOfBaseline=%{z}<extra></extra>",
           "hovertext": [
            "Australia",
            "Canada",
            "Chile",
            "United States of America (the)"
           ],
           "locationmode": "country names",
           "locations": [
            "Australia",
            "Canada",
            "Chile",
            "United States of America (the)"
           ],
           "name": "",
           "type": "choropleth",
           "z": [
            27,
            565,
            33,
            1071
           ]
          }
         ],
         "name": "2020-08-22"
        },
        {
         "data": [
          {
           "coloraxis": "coloraxis",
           "geo": "geo",
           "hovertemplate": "<b>%{hovertext}</b><br><br>Date=2020-08-23<br>Country=%{location}<br>PercentOfBaseline=%{z}<extra></extra>",
           "hovertext": [
            "Australia",
            "Canada",
            "Chile",
            "United States of America (the)"
           ],
           "locationmode": "country names",
           "locations": [
            "Australia",
            "Canada",
            "Chile",
            "United States of America (the)"
           ],
           "name": "",
           "type": "choropleth",
           "z": [
            9,
            585,
            22,
            1158
           ]
          }
         ],
         "name": "2020-08-23"
        },
        {
         "data": [
          {
           "coloraxis": "coloraxis",
           "geo": "geo",
           "hovertemplate": "<b>%{hovertext}</b><br><br>Date=2020-08-24<br>Country=%{location}<br>PercentOfBaseline=%{z}<extra></extra>",
           "hovertext": [
            "Australia",
            "Canada",
            "Chile",
            "United States of America (the)"
           ],
           "locationmode": "country names",
           "locations": [
            "Australia",
            "Canada",
            "Chile",
            "United States of America (the)"
           ],
           "name": "",
           "type": "choropleth",
           "z": [
            11,
            771,
            46,
            1209
           ]
          }
         ],
         "name": "2020-08-24"
        },
        {
         "data": [
          {
           "coloraxis": "coloraxis",
           "geo": "geo",
           "hovertemplate": "<b>%{hovertext}</b><br><br>Date=2020-08-25<br>Country=%{location}<br>PercentOfBaseline=%{z}<extra></extra>",
           "hovertext": [
            "Australia",
            "Canada",
            "Chile",
            "United States of America (the)"
           ],
           "locationmode": "country names",
           "locations": [
            "Australia",
            "Canada",
            "Chile",
            "United States of America (the)"
           ],
           "name": "",
           "type": "choropleth",
           "z": [
            12,
            780,
            37,
            1240
           ]
          }
         ],
         "name": "2020-08-25"
        },
        {
         "data": [
          {
           "coloraxis": "coloraxis",
           "geo": "geo",
           "hovertemplate": "<b>%{hovertext}</b><br><br>Date=2020-08-26<br>Country=%{location}<br>PercentOfBaseline=%{z}<extra></extra>",
           "hovertext": [
            "Australia",
            "Canada",
            "Chile",
            "United States of America (the)"
           ],
           "locationmode": "country names",
           "locations": [
            "Australia",
            "Canada",
            "Chile",
            "United States of America (the)"
           ],
           "name": "",
           "type": "choropleth",
           "z": [
            11,
            755,
            36,
            1278
           ]
          }
         ],
         "name": "2020-08-26"
        },
        {
         "data": [
          {
           "coloraxis": "coloraxis",
           "geo": "geo",
           "hovertemplate": "<b>%{hovertext}</b><br><br>Date=2020-08-27<br>Country=%{location}<br>PercentOfBaseline=%{z}<extra></extra>",
           "hovertext": [
            "Australia",
            "Canada",
            "Chile",
            "United States of America (the)"
           ],
           "locationmode": "country names",
           "locations": [
            "Australia",
            "Canada",
            "Chile",
            "United States of America (the)"
           ],
           "name": "",
           "type": "choropleth",
           "z": [
            17,
            732,
            42,
            1247
           ]
          }
         ],
         "name": "2020-08-27"
        },
        {
         "data": [
          {
           "coloraxis": "coloraxis",
           "geo": "geo",
           "hovertemplate": "<b>%{hovertext}</b><br><br>Date=2020-08-28<br>Country=%{location}<br>PercentOfBaseline=%{z}<extra></extra>",
           "hovertext": [
            "Australia",
            "Canada",
            "Chile",
            "United States of America (the)"
           ],
           "locationmode": "country names",
           "locations": [
            "Australia",
            "Canada",
            "Chile",
            "United States of America (the)"
           ],
           "name": "",
           "type": "choropleth",
           "z": [
            22,
            771,
            33,
            1208
           ]
          }
         ],
         "name": "2020-08-28"
        },
        {
         "data": [
          {
           "coloraxis": "coloraxis",
           "geo": "geo",
           "hovertemplate": "<b>%{hovertext}</b><br><br>Date=2020-08-29<br>Country=%{location}<br>PercentOfBaseline=%{z}<extra></extra>",
           "hovertext": [
            "Canada",
            "Chile",
            "United States of America (the)"
           ],
           "locationmode": "country names",
           "locations": [
            "Canada",
            "Chile",
            "United States of America (the)"
           ],
           "name": "",
           "type": "choropleth",
           "z": [
            588,
            20,
            1121
           ]
          }
         ],
         "name": "2020-08-29"
        },
        {
         "data": [
          {
           "coloraxis": "coloraxis",
           "geo": "geo",
           "hovertemplate": "<b>%{hovertext}</b><br><br>Date=2020-08-30<br>Country=%{location}<br>PercentOfBaseline=%{z}<extra></extra>",
           "hovertext": [
            "Australia",
            "Canada",
            "United States of America (the)"
           ],
           "locationmode": "country names",
           "locations": [
            "Australia",
            "Canada",
            "United States of America (the)"
           ],
           "name": "",
           "type": "choropleth",
           "z": [
            10,
            584,
            1095
           ]
          }
         ],
         "name": "2020-08-30"
        },
        {
         "data": [
          {
           "coloraxis": "coloraxis",
           "geo": "geo",
           "hovertemplate": "<b>%{hovertext}</b><br><br>Date=2020-08-31<br>Country=%{location}<br>PercentOfBaseline=%{z}<extra></extra>",
           "hovertext": [
            "Australia",
            "Canada",
            "Chile",
            "United States of America (the)"
           ],
           "locationmode": "country names",
           "locations": [
            "Australia",
            "Canada",
            "Chile",
            "United States of America (the)"
           ],
           "name": "",
           "type": "choropleth",
           "z": [
            18,
            801,
            45,
            1155
           ]
          }
         ],
         "name": "2020-08-31"
        },
        {
         "data": [
          {
           "coloraxis": "coloraxis",
           "geo": "geo",
           "hovertemplate": "<b>%{hovertext}</b><br><br>Date=2020-09-01<br>Country=%{location}<br>PercentOfBaseline=%{z}<extra></extra>",
           "hovertext": [
            "Australia",
            "Canada",
            "Chile",
            "United States of America (the)"
           ],
           "locationmode": "country names",
           "locations": [
            "Australia",
            "Canada",
            "Chile",
            "United States of America (the)"
           ],
           "name": "",
           "type": "choropleth",
           "z": [
            15,
            726,
            47,
            1242
           ]
          }
         ],
         "name": "2020-09-01"
        },
        {
         "data": [
          {
           "coloraxis": "coloraxis",
           "geo": "geo",
           "hovertemplate": "<b>%{hovertext}</b><br><br>Date=2020-09-02<br>Country=%{location}<br>PercentOfBaseline=%{z}<extra></extra>",
           "hovertext": [
            "Australia",
            "Canada",
            "Chile",
            "United States of America (the)"
           ],
           "locationmode": "country names",
           "locations": [
            "Australia",
            "Canada",
            "Chile",
            "United States of America (the)"
           ],
           "name": "",
           "type": "choropleth",
           "z": [
            18,
            787,
            40,
            1217
           ]
          }
         ],
         "name": "2020-09-02"
        },
        {
         "data": [
          {
           "coloraxis": "coloraxis",
           "geo": "geo",
           "hovertemplate": "<b>%{hovertext}</b><br><br>Date=2020-09-03<br>Country=%{location}<br>PercentOfBaseline=%{z}<extra></extra>",
           "hovertext": [
            "Australia",
            "Canada",
            "Chile",
            "United States of America (the)"
           ],
           "locationmode": "country names",
           "locations": [
            "Australia",
            "Canada",
            "Chile",
            "United States of America (the)"
           ],
           "name": "",
           "type": "choropleth",
           "z": [
            12,
            781,
            33,
            1242
           ]
          }
         ],
         "name": "2020-09-03"
        },
        {
         "data": [
          {
           "coloraxis": "coloraxis",
           "geo": "geo",
           "hovertemplate": "<b>%{hovertext}</b><br><br>Date=2020-09-04<br>Country=%{location}<br>PercentOfBaseline=%{z}<extra></extra>",
           "hovertext": [
            "Australia",
            "Canada",
            "Chile",
            "United States of America (the)"
           ],
           "locationmode": "country names",
           "locations": [
            "Australia",
            "Canada",
            "Chile",
            "United States of America (the)"
           ],
           "name": "",
           "type": "choropleth",
           "z": [
            15,
            766,
            32,
            1185
           ]
          }
         ],
         "name": "2020-09-04"
        },
        {
         "data": [
          {
           "coloraxis": "coloraxis",
           "geo": "geo",
           "hovertemplate": "<b>%{hovertext}</b><br><br>Date=2020-09-05<br>Country=%{location}<br>PercentOfBaseline=%{z}<extra></extra>",
           "hovertext": [
            "Australia",
            "Canada",
            "Chile",
            "United States of America (the)"
           ],
           "locationmode": "country names",
           "locations": [
            "Australia",
            "Canada",
            "Chile",
            "United States of America (the)"
           ],
           "name": "",
           "type": "choropleth",
           "z": [
            27,
            563,
            25,
            1080
           ]
          }
         ],
         "name": "2020-09-05"
        },
        {
         "data": [
          {
           "coloraxis": "coloraxis",
           "geo": "geo",
           "hovertemplate": "<b>%{hovertext}</b><br><br>Date=2020-09-06<br>Country=%{location}<br>PercentOfBaseline=%{z}<extra></extra>",
           "hovertext": [
            "Australia",
            "Canada",
            "Chile",
            "United States of America (the)"
           ],
           "locationmode": "country names",
           "locations": [
            "Australia",
            "Canada",
            "Chile",
            "United States of America (the)"
           ],
           "name": "",
           "type": "choropleth",
           "z": [
            9,
            511,
            20,
            1052
           ]
          }
         ],
         "name": "2020-09-06"
        },
        {
         "data": [
          {
           "coloraxis": "coloraxis",
           "geo": "geo",
           "hovertemplate": "<b>%{hovertext}</b><br><br>Date=2020-09-07<br>Country=%{location}<br>PercentOfBaseline=%{z}<extra></extra>",
           "hovertext": [
            "Australia",
            "Canada",
            "Chile",
            "United States of America (the)"
           ],
           "locationmode": "country names",
           "locations": [
            "Australia",
            "Canada",
            "Chile",
            "United States of America (the)"
           ],
           "name": "",
           "type": "choropleth",
           "z": [
            11,
            126,
            42,
            552
           ]
          }
         ],
         "name": "2020-09-07"
        },
        {
         "data": [
          {
           "coloraxis": "coloraxis",
           "geo": "geo",
           "hovertemplate": "<b>%{hovertext}</b><br><br>Date=2020-09-08<br>Country=%{location}<br>PercentOfBaseline=%{z}<extra></extra>",
           "hovertext": [
            "Australia",
            "Canada",
            "Chile",
            "United States of America (the)"
           ],
           "locationmode": "country names",
           "locations": [
            "Australia",
            "Canada",
            "Chile",
            "United States of America (the)"
           ],
           "name": "",
           "type": "choropleth",
           "z": [
            12,
            694,
            47,
            1128
           ]
          }
         ],
         "name": "2020-09-08"
        },
        {
         "data": [
          {
           "coloraxis": "coloraxis",
           "geo": "geo",
           "hovertemplate": "<b>%{hovertext}</b><br><br>Date=2020-09-09<br>Country=%{location}<br>PercentOfBaseline=%{z}<extra></extra>",
           "hovertext": [
            "Australia",
            "Canada",
            "Chile",
            "United States of America (the)"
           ],
           "locationmode": "country names",
           "locations": [
            "Australia",
            "Canada",
            "Chile",
            "United States of America (the)"
           ],
           "name": "",
           "type": "choropleth",
           "z": [
            16,
            799,
            35,
            1238
           ]
          }
         ],
         "name": "2020-09-09"
        },
        {
         "data": [
          {
           "coloraxis": "coloraxis",
           "geo": "geo",
           "hovertemplate": "<b>%{hovertext}</b><br><br>Date=2020-09-10<br>Country=%{location}<br>PercentOfBaseline=%{z}<extra></extra>",
           "hovertext": [
            "Australia",
            "Canada",
            "Chile",
            "United States of America (the)"
           ],
           "locationmode": "country names",
           "locations": [
            "Australia",
            "Canada",
            "Chile",
            "United States of America (the)"
           ],
           "name": "",
           "type": "choropleth",
           "z": [
            16,
            776,
            40,
            1227
           ]
          }
         ],
         "name": "2020-09-10"
        },
        {
         "data": [
          {
           "coloraxis": "coloraxis",
           "geo": "geo",
           "hovertemplate": "<b>%{hovertext}</b><br><br>Date=2020-09-11<br>Country=%{location}<br>PercentOfBaseline=%{z}<extra></extra>",
           "hovertext": [
            "Australia",
            "Canada",
            "Chile",
            "United States of America (the)"
           ],
           "locationmode": "country names",
           "locations": [
            "Australia",
            "Canada",
            "Chile",
            "United States of America (the)"
           ],
           "name": "",
           "type": "choropleth",
           "z": [
            17,
            795,
            49,
            1218
           ]
          }
         ],
         "name": "2020-09-11"
        },
        {
         "data": [
          {
           "coloraxis": "coloraxis",
           "geo": "geo",
           "hovertemplate": "<b>%{hovertext}</b><br><br>Date=2020-09-12<br>Country=%{location}<br>PercentOfBaseline=%{z}<extra></extra>",
           "hovertext": [
            "Australia",
            "Canada",
            "Chile",
            "United States of America (the)"
           ],
           "locationmode": "country names",
           "locations": [
            "Australia",
            "Canada",
            "Chile",
            "United States of America (the)"
           ],
           "name": "",
           "type": "choropleth",
           "z": [
            29,
            589,
            31,
            1140
           ]
          }
         ],
         "name": "2020-09-12"
        },
        {
         "data": [
          {
           "coloraxis": "coloraxis",
           "geo": "geo",
           "hovertemplate": "<b>%{hovertext}</b><br><br>Date=2020-09-13<br>Country=%{location}<br>PercentOfBaseline=%{z}<extra></extra>",
           "hovertext": [
            "Australia",
            "Canada",
            "Chile",
            "United States of America (the)"
           ],
           "locationmode": "country names",
           "locations": [
            "Australia",
            "Canada",
            "Chile",
            "United States of America (the)"
           ],
           "name": "",
           "type": "choropleth",
           "z": [
            10,
            595,
            25,
            1081
           ]
          }
         ],
         "name": "2020-09-13"
        },
        {
         "data": [
          {
           "coloraxis": "coloraxis",
           "geo": "geo",
           "hovertemplate": "<b>%{hovertext}</b><br><br>Date=2020-09-14<br>Country=%{location}<br>PercentOfBaseline=%{z}<extra></extra>",
           "hovertext": [
            "Australia",
            "Canada",
            "Chile",
            "United States of America (the)"
           ],
           "locationmode": "country names",
           "locations": [
            "Australia",
            "Canada",
            "Chile",
            "United States of America (the)"
           ],
           "name": "",
           "type": "choropleth",
           "z": [
            18,
            811,
            47,
            1233
           ]
          }
         ],
         "name": "2020-09-14"
        },
        {
         "data": [
          {
           "coloraxis": "coloraxis",
           "geo": "geo",
           "hovertemplate": "<b>%{hovertext}</b><br><br>Date=2020-09-15<br>Country=%{location}<br>PercentOfBaseline=%{z}<extra></extra>",
           "hovertext": [
            "Australia",
            "Canada",
            "Chile",
            "United States of America (the)"
           ],
           "locationmode": "country names",
           "locations": [
            "Australia",
            "Canada",
            "Chile",
            "United States of America (the)"
           ],
           "name": "",
           "type": "choropleth",
           "z": [
            19,
            794,
            54,
            1263
           ]
          }
         ],
         "name": "2020-09-15"
        },
        {
         "data": [
          {
           "coloraxis": "coloraxis",
           "geo": "geo",
           "hovertemplate": "<b>%{hovertext}</b><br><br>Date=2020-09-16<br>Country=%{location}<br>PercentOfBaseline=%{z}<extra></extra>",
           "hovertext": [
            "Australia",
            "Canada",
            "Chile",
            "United States of America (the)"
           ],
           "locationmode": "country names",
           "locations": [
            "Australia",
            "Canada",
            "Chile",
            "United States of America (the)"
           ],
           "name": "",
           "type": "choropleth",
           "z": [
            18,
            772,
            53,
            1256
           ]
          }
         ],
         "name": "2020-09-16"
        },
        {
         "data": [
          {
           "coloraxis": "coloraxis",
           "geo": "geo",
           "hovertemplate": "<b>%{hovertext}</b><br><br>Date=2020-09-17<br>Country=%{location}<br>PercentOfBaseline=%{z}<extra></extra>",
           "hovertext": [
            "Australia",
            "Canada",
            "Chile",
            "United States of America (the)"
           ],
           "locationmode": "country names",
           "locations": [
            "Australia",
            "Canada",
            "Chile",
            "United States of America (the)"
           ],
           "name": "",
           "type": "choropleth",
           "z": [
            17,
            776,
            31,
            1202
           ]
          }
         ],
         "name": "2020-09-17"
        },
        {
         "data": [
          {
           "coloraxis": "coloraxis",
           "geo": "geo",
           "hovertemplate": "<b>%{hovertext}</b><br><br>Date=2020-09-18<br>Country=%{location}<br>PercentOfBaseline=%{z}<extra></extra>",
           "hovertext": [
            "Australia",
            "Canada",
            "Chile",
            "United States of America (the)"
           ],
           "locationmode": "country names",
           "locations": [
            "Australia",
            "Canada",
            "Chile",
            "United States of America (the)"
           ],
           "name": "",
           "type": "choropleth",
           "z": [
            16,
            767,
            12,
            1251
           ]
          }
         ],
         "name": "2020-09-18"
        },
        {
         "data": [
          {
           "coloraxis": "coloraxis",
           "geo": "geo",
           "hovertemplate": "<b>%{hovertext}</b><br><br>Date=2020-09-19<br>Country=%{location}<br>PercentOfBaseline=%{z}<extra></extra>",
           "hovertext": [
            "Australia",
            "Canada",
            "United States of America (the)"
           ],
           "locationmode": "country names",
           "locations": [
            "Australia",
            "Canada",
            "United States of America (the)"
           ],
           "name": "",
           "type": "choropleth",
           "z": [
            26,
            603,
            1122
           ]
          }
         ],
         "name": "2020-09-19"
        },
        {
         "data": [
          {
           "coloraxis": "coloraxis",
           "geo": "geo",
           "hovertemplate": "<b>%{hovertext}</b><br><br>Date=2020-09-20<br>Country=%{location}<br>PercentOfBaseline=%{z}<extra></extra>",
           "hovertext": [
            "Australia",
            "Canada",
            "Chile",
            "United States of America (the)"
           ],
           "locationmode": "country names",
           "locations": [
            "Australia",
            "Canada",
            "Chile",
            "United States of America (the)"
           ],
           "name": "",
           "type": "choropleth",
           "z": [
            16,
            555,
            23,
            1072
           ]
          }
         ],
         "name": "2020-09-20"
        },
        {
         "data": [
          {
           "coloraxis": "coloraxis",
           "geo": "geo",
           "hovertemplate": "<b>%{hovertext}</b><br><br>Date=2020-09-21<br>Country=%{location}<br>PercentOfBaseline=%{z}<extra></extra>",
           "hovertext": [
            "Australia",
            "Canada",
            "Chile",
            "United States of America (the)"
           ],
           "locationmode": "country names",
           "locations": [
            "Australia",
            "Canada",
            "Chile",
            "United States of America (the)"
           ],
           "name": "",
           "type": "choropleth",
           "z": [
            15,
            803,
            36,
            1251
           ]
          }
         ],
         "name": "2020-09-21"
        },
        {
         "data": [
          {
           "coloraxis": "coloraxis",
           "geo": "geo",
           "hovertemplate": "<b>%{hovertext}</b><br><br>Date=2020-09-22<br>Country=%{location}<br>PercentOfBaseline=%{z}<extra></extra>",
           "hovertext": [
            "Australia",
            "Canada",
            "Chile",
            "United States of America (the)"
           ],
           "locationmode": "country names",
           "locations": [
            "Australia",
            "Canada",
            "Chile",
            "United States of America (the)"
           ],
           "name": "",
           "type": "choropleth",
           "z": [
            16,
            812,
            47,
            1269
           ]
          }
         ],
         "name": "2020-09-22"
        },
        {
         "data": [
          {
           "coloraxis": "coloraxis",
           "geo": "geo",
           "hovertemplate": "<b>%{hovertext}</b><br><br>Date=2020-09-23<br>Country=%{location}<br>PercentOfBaseline=%{z}<extra></extra>",
           "hovertext": [
            "Australia",
            "Canada",
            "Chile",
            "United States of America (the)"
           ],
           "locationmode": "country names",
           "locations": [
            "Australia",
            "Canada",
            "Chile",
            "United States of America (the)"
           ],
           "name": "",
           "type": "choropleth",
           "z": [
            17,
            752,
            44,
            1268
           ]
          }
         ],
         "name": "2020-09-23"
        },
        {
         "data": [
          {
           "coloraxis": "coloraxis",
           "geo": "geo",
           "hovertemplate": "<b>%{hovertext}</b><br><br>Date=2020-09-24<br>Country=%{location}<br>PercentOfBaseline=%{z}<extra></extra>",
           "hovertext": [
            "Australia",
            "Canada",
            "Chile",
            "United States of America (the)"
           ],
           "locationmode": "country names",
           "locations": [
            "Australia",
            "Canada",
            "Chile",
            "United States of America (the)"
           ],
           "name": "",
           "type": "choropleth",
           "z": [
            15,
            787,
            36,
            1247
           ]
          }
         ],
         "name": "2020-09-24"
        },
        {
         "data": [
          {
           "coloraxis": "coloraxis",
           "geo": "geo",
           "hovertemplate": "<b>%{hovertext}</b><br><br>Date=2020-09-25<br>Country=%{location}<br>PercentOfBaseline=%{z}<extra></extra>",
           "hovertext": [
            "Australia",
            "Canada",
            "Chile",
            "United States of America (the)"
           ],
           "locationmode": "country names",
           "locations": [
            "Australia",
            "Canada",
            "Chile",
            "United States of America (the)"
           ],
           "name": "",
           "type": "choropleth",
           "z": [
            13,
            782,
            42,
            1241
           ]
          }
         ],
         "name": "2020-09-25"
        },
        {
         "data": [
          {
           "coloraxis": "coloraxis",
           "geo": "geo",
           "hovertemplate": "<b>%{hovertext}</b><br><br>Date=2020-09-26<br>Country=%{location}<br>PercentOfBaseline=%{z}<extra></extra>",
           "hovertext": [
            "Australia",
            "Canada",
            "Chile",
            "United States of America (the)"
           ],
           "locationmode": "country names",
           "locations": [
            "Australia",
            "Canada",
            "Chile",
            "United States of America (the)"
           ],
           "name": "",
           "type": "choropleth",
           "z": [
            18,
            586,
            28,
            1109
           ]
          }
         ],
         "name": "2020-09-26"
        },
        {
         "data": [
          {
           "coloraxis": "coloraxis",
           "geo": "geo",
           "hovertemplate": "<b>%{hovertext}</b><br><br>Date=2020-09-27<br>Country=%{location}<br>PercentOfBaseline=%{z}<extra></extra>",
           "hovertext": [
            "Australia",
            "Canada",
            "Chile",
            "United States of America (the)"
           ],
           "locationmode": "country names",
           "locations": [
            "Australia",
            "Canada",
            "Chile",
            "United States of America (the)"
           ],
           "name": "",
           "type": "choropleth",
           "z": [
            12,
            616,
            26,
            1033
           ]
          }
         ],
         "name": "2020-09-27"
        },
        {
         "data": [
          {
           "coloraxis": "coloraxis",
           "geo": "geo",
           "hovertemplate": "<b>%{hovertext}</b><br><br>Date=2020-09-28<br>Country=%{location}<br>PercentOfBaseline=%{z}<extra></extra>",
           "hovertext": [
            "Australia",
            "Canada",
            "Chile",
            "United States of America (the)"
           ],
           "locationmode": "country names",
           "locations": [
            "Australia",
            "Canada",
            "Chile",
            "United States of America (the)"
           ],
           "name": "",
           "type": "choropleth",
           "z": [
            12,
            869,
            39,
            1241
           ]
          }
         ],
         "name": "2020-09-28"
        },
        {
         "data": [
          {
           "coloraxis": "coloraxis",
           "geo": "geo",
           "hovertemplate": "<b>%{hovertext}</b><br><br>Date=2020-09-29<br>Country=%{location}<br>PercentOfBaseline=%{z}<extra></extra>",
           "hovertext": [
            "Australia",
            "Canada",
            "Chile",
            "United States of America (the)"
           ],
           "locationmode": "country names",
           "locations": [
            "Australia",
            "Canada",
            "Chile",
            "United States of America (the)"
           ],
           "name": "",
           "type": "choropleth",
           "z": [
            21,
            832,
            46,
            1295
           ]
          }
         ],
         "name": "2020-09-29"
        },
        {
         "data": [
          {
           "coloraxis": "coloraxis",
           "geo": "geo",
           "hovertemplate": "<b>%{hovertext}</b><br><br>Date=2020-09-30<br>Country=%{location}<br>PercentOfBaseline=%{z}<extra></extra>",
           "hovertext": [
            "Australia",
            "Canada",
            "Chile",
            "United States of America (the)"
           ],
           "locationmode": "country names",
           "locations": [
            "Australia",
            "Canada",
            "Chile",
            "United States of America (the)"
           ],
           "name": "",
           "type": "choropleth",
           "z": [
            16,
            820,
            49,
            1284
           ]
          }
         ],
         "name": "2020-09-30"
        },
        {
         "data": [
          {
           "coloraxis": "coloraxis",
           "geo": "geo",
           "hovertemplate": "<b>%{hovertext}</b><br><br>Date=2020-10-01<br>Country=%{location}<br>PercentOfBaseline=%{z}<extra></extra>",
           "hovertext": [
            "Australia",
            "Canada",
            "Chile",
            "United States of America (the)"
           ],
           "locationmode": "country names",
           "locations": [
            "Australia",
            "Canada",
            "Chile",
            "United States of America (the)"
           ],
           "name": "",
           "type": "choropleth",
           "z": [
            19,
            813,
            39,
            1278
           ]
          }
         ],
         "name": "2020-10-01"
        },
        {
         "data": [
          {
           "coloraxis": "coloraxis",
           "geo": "geo",
           "hovertemplate": "<b>%{hovertext}</b><br><br>Date=2020-10-02<br>Country=%{location}<br>PercentOfBaseline=%{z}<extra></extra>",
           "hovertext": [
            "Australia",
            "Canada",
            "Chile",
            "United States of America (the)"
           ],
           "locationmode": "country names",
           "locations": [
            "Australia",
            "Canada",
            "Chile",
            "United States of America (the)"
           ],
           "name": "",
           "type": "choropleth",
           "z": [
            16,
            813,
            53,
            1253
           ]
          }
         ],
         "name": "2020-10-02"
        },
        {
         "data": [
          {
           "coloraxis": "coloraxis",
           "geo": "geo",
           "hovertemplate": "<b>%{hovertext}</b><br><br>Date=2020-10-03<br>Country=%{location}<br>PercentOfBaseline=%{z}<extra></extra>",
           "hovertext": [
            "Australia",
            "Canada",
            "Chile",
            "United States of America (the)"
           ],
           "locationmode": "country names",
           "locations": [
            "Australia",
            "Canada",
            "Chile",
            "United States of America (the)"
           ],
           "name": "",
           "type": "choropleth",
           "z": [
            20,
            649,
            29,
            1095
           ]
          }
         ],
         "name": "2020-10-03"
        },
        {
         "data": [
          {
           "coloraxis": "coloraxis",
           "geo": "geo",
           "hovertemplate": "<b>%{hovertext}</b><br><br>Date=2020-10-04<br>Country=%{location}<br>PercentOfBaseline=%{z}<extra></extra>",
           "hovertext": [
            "Australia",
            "Canada",
            "Chile",
            "United States of America (the)"
           ],
           "locationmode": "country names",
           "locations": [
            "Australia",
            "Canada",
            "Chile",
            "United States of America (the)"
           ],
           "name": "",
           "type": "choropleth",
           "z": [
            6,
            477,
            36,
            1061
           ]
          }
         ],
         "name": "2020-10-04"
        },
        {
         "data": [
          {
           "coloraxis": "coloraxis",
           "geo": "geo",
           "hovertemplate": "<b>%{hovertext}</b><br><br>Date=2020-10-05<br>Country=%{location}<br>PercentOfBaseline=%{z}<extra></extra>",
           "hovertext": [
            "Australia",
            "Canada",
            "Chile",
            "United States of America (the)"
           ],
           "locationmode": "country names",
           "locations": [
            "Australia",
            "Canada",
            "Chile",
            "United States of America (the)"
           ],
           "name": "",
           "type": "choropleth",
           "z": [
            10,
            860,
            56,
            1270
           ]
          }
         ],
         "name": "2020-10-05"
        },
        {
         "data": [
          {
           "coloraxis": "coloraxis",
           "geo": "geo",
           "hovertemplate": "<b>%{hovertext}</b><br><br>Date=2020-10-06<br>Country=%{location}<br>PercentOfBaseline=%{z}<extra></extra>",
           "hovertext": [
            "Australia",
            "Canada",
            "Chile",
            "United States of America (the)"
           ],
           "locationmode": "country names",
           "locations": [
            "Australia",
            "Canada",
            "Chile",
            "United States of America (the)"
           ],
           "name": "",
           "type": "choropleth",
           "z": [
            22,
            857,
            53,
            1264
           ]
          }
         ],
         "name": "2020-10-06"
        },
        {
         "data": [
          {
           "coloraxis": "coloraxis",
           "geo": "geo",
           "hovertemplate": "<b>%{hovertext}</b><br><br>Date=2020-10-07<br>Country=%{location}<br>PercentOfBaseline=%{z}<extra></extra>",
           "hovertext": [
            "Australia",
            "Canada",
            "Chile",
            "United States of America (the)"
           ],
           "locationmode": "country names",
           "locations": [
            "Australia",
            "Canada",
            "Chile",
            "United States of America (the)"
           ],
           "name": "",
           "type": "choropleth",
           "z": [
            16,
            807,
            55,
            1308
           ]
          }
         ],
         "name": "2020-10-07"
        },
        {
         "data": [
          {
           "coloraxis": "coloraxis",
           "geo": "geo",
           "hovertemplate": "<b>%{hovertext}</b><br><br>Date=2020-10-08<br>Country=%{location}<br>PercentOfBaseline=%{z}<extra></extra>",
           "hovertext": [
            "Australia",
            "Canada",
            "Chile",
            "United States of America (the)"
           ],
           "locationmode": "country names",
           "locations": [
            "Australia",
            "Canada",
            "Chile",
            "United States of America (the)"
           ],
           "name": "",
           "type": "choropleth",
           "z": [
            24,
            843,
            50,
            1264
           ]
          }
         ],
         "name": "2020-10-08"
        },
        {
         "data": [
          {
           "coloraxis": "coloraxis",
           "geo": "geo",
           "hovertemplate": "<b>%{hovertext}</b><br><br>Date=2020-10-09<br>Country=%{location}<br>PercentOfBaseline=%{z}<extra></extra>",
           "hovertext": [
            "Australia",
            "Canada",
            "Chile",
            "United States of America (the)"
           ],
           "locationmode": "country names",
           "locations": [
            "Australia",
            "Canada",
            "Chile",
            "United States of America (the)"
           ],
           "name": "",
           "type": "choropleth",
           "z": [
            24,
            817,
            56,
            1254
           ]
          }
         ],
         "name": "2020-10-09"
        },
        {
         "data": [
          {
           "coloraxis": "coloraxis",
           "geo": "geo",
           "hovertemplate": "<b>%{hovertext}</b><br><br>Date=2020-10-10<br>Country=%{location}<br>PercentOfBaseline=%{z}<extra></extra>",
           "hovertext": [
            "Australia",
            "Canada",
            "Chile",
            "United States of America (the)"
           ],
           "locationmode": "country names",
           "locations": [
            "Australia",
            "Canada",
            "Chile",
            "United States of America (the)"
           ],
           "name": "",
           "type": "choropleth",
           "z": [
            18,
            718,
            34,
            1057
           ]
          }
         ],
         "name": "2020-10-10"
        },
        {
         "data": [
          {
           "coloraxis": "coloraxis",
           "geo": "geo",
           "hovertemplate": "<b>%{hovertext}</b><br><br>Date=2020-10-11<br>Country=%{location}<br>PercentOfBaseline=%{z}<extra></extra>",
           "hovertext": [
            "Australia",
            "Canada",
            "Chile",
            "United States of America (the)"
           ],
           "locationmode": "country names",
           "locations": [
            "Australia",
            "Canada",
            "Chile",
            "United States of America (the)"
           ],
           "name": "",
           "type": "choropleth",
           "z": [
            25,
            588,
            15,
            1055
           ]
          }
         ],
         "name": "2020-10-11"
        },
        {
         "data": [
          {
           "coloraxis": "coloraxis",
           "geo": "geo",
           "hovertemplate": "<b>%{hovertext}</b><br><br>Date=2020-10-12<br>Country=%{location}<br>PercentOfBaseline=%{z}<extra></extra>",
           "hovertext": [
            "Australia",
            "Canada",
            "Chile",
            "United States of America (the)"
           ],
           "locationmode": "country names",
           "locations": [
            "Australia",
            "Canada",
            "Chile",
            "United States of America (the)"
           ],
           "name": "",
           "type": "choropleth",
           "z": [
            22,
            163,
            38,
            1104
           ]
          }
         ],
         "name": "2020-10-12"
        },
        {
         "data": [
          {
           "coloraxis": "coloraxis",
           "geo": "geo",
           "hovertemplate": "<b>%{hovertext}</b><br><br>Date=2020-10-13<br>Country=%{location}<br>PercentOfBaseline=%{z}<extra></extra>",
           "hovertext": [
            "Australia",
            "Canada",
            "Chile",
            "United States of America (the)"
           ],
           "locationmode": "country names",
           "locations": [
            "Australia",
            "Canada",
            "Chile",
            "United States of America (the)"
           ],
           "name": "",
           "type": "choropleth",
           "z": [
            21,
            749,
            56,
            1252
           ]
          }
         ],
         "name": "2020-10-13"
        },
        {
         "data": [
          {
           "coloraxis": "coloraxis",
           "geo": "geo",
           "hovertemplate": "<b>%{hovertext}</b><br><br>Date=2020-10-14<br>Country=%{location}<br>PercentOfBaseline=%{z}<extra></extra>",
           "hovertext": [
            "Australia",
            "Canada",
            "Chile",
            "United States of America (the)"
           ],
           "locationmode": "country names",
           "locations": [
            "Australia",
            "Canada",
            "Chile",
            "United States of America (the)"
           ],
           "name": "",
           "type": "choropleth",
           "z": [
            23,
            796,
            48,
            1277
           ]
          }
         ],
         "name": "2020-10-14"
        },
        {
         "data": [
          {
           "coloraxis": "coloraxis",
           "geo": "geo",
           "hovertemplate": "<b>%{hovertext}</b><br><br>Date=2020-10-15<br>Country=%{location}<br>PercentOfBaseline=%{z}<extra></extra>",
           "hovertext": [
            "Australia",
            "Canada",
            "Chile",
            "United States of America (the)"
           ],
           "locationmode": "country names",
           "locations": [
            "Australia",
            "Canada",
            "Chile",
            "United States of America (the)"
           ],
           "name": "",
           "type": "choropleth",
           "z": [
            18,
            804,
            49,
            1231
           ]
          }
         ],
         "name": "2020-10-15"
        },
        {
         "data": [
          {
           "coloraxis": "coloraxis",
           "geo": "geo",
           "hovertemplate": "<b>%{hovertext}</b><br><br>Date=2020-10-16<br>Country=%{location}<br>PercentOfBaseline=%{z}<extra></extra>",
           "hovertext": [
            "Australia",
            "Canada",
            "Chile",
            "United States of America (the)"
           ],
           "locationmode": "country names",
           "locations": [
            "Australia",
            "Canada",
            "Chile",
            "United States of America (the)"
           ],
           "name": "",
           "type": "choropleth",
           "z": [
            18,
            802,
            61,
            1215
           ]
          }
         ],
         "name": "2020-10-16"
        },
        {
         "data": [
          {
           "coloraxis": "coloraxis",
           "geo": "geo",
           "hovertemplate": "<b>%{hovertext}</b><br><br>Date=2020-10-17<br>Country=%{location}<br>PercentOfBaseline=%{z}<extra></extra>",
           "hovertext": [
            "Australia",
            "Canada",
            "Chile",
            "United States of America (the)"
           ],
           "locationmode": "country names",
           "locations": [
            "Australia",
            "Canada",
            "Chile",
            "United States of America (the)"
           ],
           "name": "",
           "type": "choropleth",
           "z": [
            11,
            663,
            38,
            1082
           ]
          }
         ],
         "name": "2020-10-17"
        },
        {
         "data": [
          {
           "coloraxis": "coloraxis",
           "geo": "geo",
           "hovertemplate": "<b>%{hovertext}</b><br><br>Date=2020-10-18<br>Country=%{location}<br>PercentOfBaseline=%{z}<extra></extra>",
           "hovertext": [
            "Australia",
            "Canada",
            "Chile",
            "United States of America (the)"
           ],
           "locationmode": "country names",
           "locations": [
            "Australia",
            "Canada",
            "Chile",
            "United States of America (the)"
           ],
           "name": "",
           "type": "choropleth",
           "z": [
            16,
            612,
            28,
            1049
           ]
          }
         ],
         "name": "2020-10-18"
        },
        {
         "data": [
          {
           "coloraxis": "coloraxis",
           "geo": "geo",
           "hovertemplate": "<b>%{hovertext}</b><br><br>Date=2020-10-19<br>Country=%{location}<br>PercentOfBaseline=%{z}<extra></extra>",
           "hovertext": [
            "Australia",
            "Canada",
            "Chile",
            "United States of America (the)"
           ],
           "locationmode": "country names",
           "locations": [
            "Australia",
            "Canada",
            "Chile",
            "United States of America (the)"
           ],
           "name": "",
           "type": "choropleth",
           "z": [
            22,
            833,
            55,
            1281
           ]
          }
         ],
         "name": "2020-10-19"
        },
        {
         "data": [
          {
           "coloraxis": "coloraxis",
           "geo": "geo",
           "hovertemplate": "<b>%{hovertext}</b><br><br>Date=2020-10-20<br>Country=%{location}<br>PercentOfBaseline=%{z}<extra></extra>",
           "hovertext": [
            "Australia",
            "Canada",
            "Chile",
            "United States of America (the)"
           ],
           "locationmode": "country names",
           "locations": [
            "Australia",
            "Canada",
            "Chile",
            "United States of America (the)"
           ],
           "name": "",
           "type": "choropleth",
           "z": [
            21,
            819,
            51,
            1331
           ]
          }
         ],
         "name": "2020-10-20"
        },
        {
         "data": [
          {
           "coloraxis": "coloraxis",
           "geo": "geo",
           "hovertemplate": "<b>%{hovertext}</b><br><br>Date=2020-10-21<br>Country=%{location}<br>PercentOfBaseline=%{z}<extra></extra>",
           "hovertext": [
            "Australia",
            "Canada",
            "Chile",
            "United States of America (the)"
           ],
           "locationmode": "country names",
           "locations": [
            "Australia",
            "Canada",
            "Chile",
            "United States of America (the)"
           ],
           "name": "",
           "type": "choropleth",
           "z": [
            20,
            815,
            65,
            1295
           ]
          }
         ],
         "name": "2020-10-21"
        },
        {
         "data": [
          {
           "coloraxis": "coloraxis",
           "geo": "geo",
           "hovertemplate": "<b>%{hovertext}</b><br><br>Date=2020-10-22<br>Country=%{location}<br>PercentOfBaseline=%{z}<extra></extra>",
           "hovertext": [
            "Australia",
            "Canada",
            "Chile",
            "United States of America (the)"
           ],
           "locationmode": "country names",
           "locations": [
            "Australia",
            "Canada",
            "Chile",
            "United States of America (the)"
           ],
           "name": "",
           "type": "choropleth",
           "z": [
            21,
            806,
            53,
            1299
           ]
          }
         ],
         "name": "2020-10-22"
        },
        {
         "data": [
          {
           "coloraxis": "coloraxis",
           "geo": "geo",
           "hovertemplate": "<b>%{hovertext}</b><br><br>Date=2020-10-23<br>Country=%{location}<br>PercentOfBaseline=%{z}<extra></extra>",
           "hovertext": [
            "Australia",
            "Canada",
            "Chile",
            "United States of America (the)"
           ],
           "locationmode": "country names",
           "locations": [
            "Australia",
            "Canada",
            "Chile",
            "United States of America (the)"
           ],
           "name": "",
           "type": "choropleth",
           "z": [
            15,
            841,
            50,
            1246
           ]
          }
         ],
         "name": "2020-10-23"
        },
        {
         "data": [
          {
           "coloraxis": "coloraxis",
           "geo": "geo",
           "hovertemplate": "<b>%{hovertext}</b><br><br>Date=2020-10-24<br>Country=%{location}<br>PercentOfBaseline=%{z}<extra></extra>",
           "hovertext": [
            "Australia",
            "Canada",
            "Chile",
            "United States of America (the)"
           ],
           "locationmode": "country names",
           "locations": [
            "Australia",
            "Canada",
            "Chile",
            "United States of America (the)"
           ],
           "name": "",
           "type": "choropleth",
           "z": [
            29,
            755,
            60,
            1098
           ]
          }
         ],
         "name": "2020-10-24"
        },
        {
         "data": [
          {
           "coloraxis": "coloraxis",
           "geo": "geo",
           "hovertemplate": "<b>%{hovertext}</b><br><br>Date=2020-10-25<br>Country=%{location}<br>PercentOfBaseline=%{z}<extra></extra>",
           "hovertext": [
            "Australia",
            "Canada",
            "Chile",
            "United States of America (the)"
           ],
           "locationmode": "country names",
           "locations": [
            "Australia",
            "Canada",
            "Chile",
            "United States of America (the)"
           ],
           "name": "",
           "type": "choropleth",
           "z": [
            16,
            704,
            36,
            1073
           ]
          }
         ],
         "name": "2020-10-25"
        },
        {
         "data": [
          {
           "coloraxis": "coloraxis",
           "geo": "geo",
           "hovertemplate": "<b>%{hovertext}</b><br><br>Date=2020-10-26<br>Country=%{location}<br>PercentOfBaseline=%{z}<extra></extra>",
           "hovertext": [
            "Australia",
            "Canada",
            "Chile",
            "United States of America (the)"
           ],
           "locationmode": "country names",
           "locations": [
            "Australia",
            "Canada",
            "Chile",
            "United States of America (the)"
           ],
           "name": "",
           "type": "choropleth",
           "z": [
            19,
            852,
            59,
            1234
           ]
          }
         ],
         "name": "2020-10-26"
        },
        {
         "data": [
          {
           "coloraxis": "coloraxis",
           "geo": "geo",
           "hovertemplate": "<b>%{hovertext}</b><br><br>Date=2020-10-27<br>Country=%{location}<br>PercentOfBaseline=%{z}<extra></extra>",
           "hovertext": [
            "Australia",
            "Canada",
            "Chile",
            "United States of America (the)"
           ],
           "locationmode": "country names",
           "locations": [
            "Australia",
            "Canada",
            "Chile",
            "United States of America (the)"
           ],
           "name": "",
           "type": "choropleth",
           "z": [
            23,
            826,
            58,
            1241
           ]
          }
         ],
         "name": "2020-10-27"
        },
        {
         "data": [
          {
           "coloraxis": "coloraxis",
           "geo": "geo",
           "hovertemplate": "<b>%{hovertext}</b><br><br>Date=2020-10-28<br>Country=%{location}<br>PercentOfBaseline=%{z}<extra></extra>",
           "hovertext": [
            "Australia",
            "Canada",
            "Chile",
            "United States of America (the)"
           ],
           "locationmode": "country names",
           "locations": [
            "Australia",
            "Canada",
            "Chile",
            "United States of America (the)"
           ],
           "name": "",
           "type": "choropleth",
           "z": [
            22,
            837,
            70,
            1294
           ]
          }
         ],
         "name": "2020-10-28"
        },
        {
         "data": [
          {
           "coloraxis": "coloraxis",
           "geo": "geo",
           "hovertemplate": "<b>%{hovertext}</b><br><br>Date=2020-10-29<br>Country=%{location}<br>PercentOfBaseline=%{z}<extra></extra>",
           "hovertext": [
            "Australia",
            "Canada",
            "Chile",
            "United States of America (the)"
           ],
           "locationmode": "country names",
           "locations": [
            "Australia",
            "Canada",
            "Chile",
            "United States of America (the)"
           ],
           "name": "",
           "type": "choropleth",
           "z": [
            24,
            792,
            53,
            1199
           ]
          }
         ],
         "name": "2020-10-29"
        },
        {
         "data": [
          {
           "coloraxis": "coloraxis",
           "geo": "geo",
           "hovertemplate": "<b>%{hovertext}</b><br><br>Date=2020-10-30<br>Country=%{location}<br>PercentOfBaseline=%{z}<extra></extra>",
           "hovertext": [
            "Australia",
            "Canada",
            "Chile",
            "United States of America (the)"
           ],
           "locationmode": "country names",
           "locations": [
            "Australia",
            "Canada",
            "Chile",
            "United States of America (the)"
           ],
           "name": "",
           "type": "choropleth",
           "z": [
            18,
            781,
            45,
            1191
           ]
          }
         ],
         "name": "2020-10-30"
        },
        {
         "data": [
          {
           "coloraxis": "coloraxis",
           "geo": "geo",
           "hovertemplate": "<b>%{hovertext}</b><br><br>Date=2020-10-31<br>Country=%{location}<br>PercentOfBaseline=%{z}<extra></extra>",
           "hovertext": [
            "Australia",
            "Canada",
            "Chile",
            "United States of America (the)"
           ],
           "locationmode": "country names",
           "locations": [
            "Australia",
            "Canada",
            "Chile",
            "United States of America (the)"
           ],
           "name": "",
           "type": "choropleth",
           "z": [
            22,
            683,
            33,
            1063
           ]
          }
         ],
         "name": "2020-10-31"
        },
        {
         "data": [
          {
           "coloraxis": "coloraxis",
           "geo": "geo",
           "hovertemplate": "<b>%{hovertext}</b><br><br>Date=2020-11-01<br>Country=%{location}<br>PercentOfBaseline=%{z}<extra></extra>",
           "hovertext": [
            "Australia",
            "Canada",
            "United States of America (the)"
           ],
           "locationmode": "country names",
           "locations": [
            "Australia",
            "Canada",
            "United States of America (the)"
           ],
           "name": "",
           "type": "choropleth",
           "z": [
            19,
            557,
            1026
           ]
          }
         ],
         "name": "2020-11-01"
        },
        {
         "data": [
          {
           "coloraxis": "coloraxis",
           "geo": "geo",
           "hovertemplate": "<b>%{hovertext}</b><br><br>Date=2020-11-02<br>Country=%{location}<br>PercentOfBaseline=%{z}<extra></extra>",
           "hovertext": [
            "Australia",
            "Canada",
            "Chile",
            "United States of America (the)"
           ],
           "locationmode": "country names",
           "locations": [
            "Australia",
            "Canada",
            "Chile",
            "United States of America (the)"
           ],
           "name": "",
           "type": "choropleth",
           "z": [
            17,
            840,
            60,
            1235
           ]
          }
         ],
         "name": "2020-11-02"
        },
        {
         "data": [
          {
           "coloraxis": "coloraxis",
           "geo": "geo",
           "hovertemplate": "<b>%{hovertext}</b><br><br>Date=2020-11-03<br>Country=%{location}<br>PercentOfBaseline=%{z}<extra></extra>",
           "hovertext": [
            "Australia",
            "Canada",
            "Chile",
            "United States of America (the)"
           ],
           "locationmode": "country names",
           "locations": [
            "Australia",
            "Canada",
            "Chile",
            "United States of America (the)"
           ],
           "name": "",
           "type": "choropleth",
           "z": [
            20,
            817,
            63,
            1203
           ]
          }
         ],
         "name": "2020-11-03"
        },
        {
         "data": [
          {
           "coloraxis": "coloraxis",
           "geo": "geo",
           "hovertemplate": "<b>%{hovertext}</b><br><br>Date=2020-11-04<br>Country=%{location}<br>PercentOfBaseline=%{z}<extra></extra>",
           "hovertext": [
            "Australia",
            "Canada",
            "Chile",
            "United States of America (the)"
           ],
           "locationmode": "country names",
           "locations": [
            "Australia",
            "Canada",
            "Chile",
            "United States of America (the)"
           ],
           "name": "",
           "type": "choropleth",
           "z": [
            21,
            814,
            45,
            1213
           ]
          }
         ],
         "name": "2020-11-04"
        },
        {
         "data": [
          {
           "coloraxis": "coloraxis",
           "geo": "geo",
           "hovertemplate": "<b>%{hovertext}</b><br><br>Date=2020-11-05<br>Country=%{location}<br>PercentOfBaseline=%{z}<extra></extra>",
           "hovertext": [
            "Australia",
            "Canada",
            "Chile",
            "United States of America (the)"
           ],
           "locationmode": "country names",
           "locations": [
            "Australia",
            "Canada",
            "Chile",
            "United States of America (the)"
           ],
           "name": "",
           "type": "choropleth",
           "z": [
            16,
            810,
            45,
            1241
           ]
          }
         ],
         "name": "2020-11-05"
        },
        {
         "data": [
          {
           "coloraxis": "coloraxis",
           "geo": "geo",
           "hovertemplate": "<b>%{hovertext}</b><br><br>Date=2020-11-06<br>Country=%{location}<br>PercentOfBaseline=%{z}<extra></extra>",
           "hovertext": [
            "Australia",
            "Canada",
            "Chile",
            "United States of America (the)"
           ],
           "locationmode": "country names",
           "locations": [
            "Australia",
            "Canada",
            "Chile",
            "United States of America (the)"
           ],
           "name": "",
           "type": "choropleth",
           "z": [
            20,
            822,
            57,
            1210
           ]
          }
         ],
         "name": "2020-11-06"
        },
        {
         "data": [
          {
           "coloraxis": "coloraxis",
           "geo": "geo",
           "hovertemplate": "<b>%{hovertext}</b><br><br>Date=2020-11-07<br>Country=%{location}<br>PercentOfBaseline=%{z}<extra></extra>",
           "hovertext": [
            "Canada",
            "Chile",
            "United States of America (the)"
           ],
           "locationmode": "country names",
           "locations": [
            "Canada",
            "Chile",
            "United States of America (the)"
           ],
           "name": "",
           "type": "choropleth",
           "z": [
            745,
            48,
            1123
           ]
          }
         ],
         "name": "2020-11-07"
        },
        {
         "data": [
          {
           "coloraxis": "coloraxis",
           "geo": "geo",
           "hovertemplate": "<b>%{hovertext}</b><br><br>Date=2020-11-08<br>Country=%{location}<br>PercentOfBaseline=%{z}<extra></extra>",
           "hovertext": [
            "Australia",
            "Canada",
            "United States of America (the)"
           ],
           "locationmode": "country names",
           "locations": [
            "Australia",
            "Canada",
            "United States of America (the)"
           ],
           "name": "",
           "type": "choropleth",
           "z": [
            24,
            632,
            1059
           ]
          }
         ],
         "name": "2020-11-08"
        },
        {
         "data": [
          {
           "coloraxis": "coloraxis",
           "geo": "geo",
           "hovertemplate": "<b>%{hovertext}</b><br><br>Date=2020-11-09<br>Country=%{location}<br>PercentOfBaseline=%{z}<extra></extra>",
           "hovertext": [
            "Australia",
            "Canada",
            "Chile",
            "United States of America (the)"
           ],
           "locationmode": "country names",
           "locations": [
            "Australia",
            "Canada",
            "Chile",
            "United States of America (the)"
           ],
           "name": "",
           "type": "choropleth",
           "z": [
            21,
            797,
            52,
            1203
           ]
          }
         ],
         "name": "2020-11-09"
        },
        {
         "data": [
          {
           "coloraxis": "coloraxis",
           "geo": "geo",
           "hovertemplate": "<b>%{hovertext}</b><br><br>Date=2020-11-10<br>Country=%{location}<br>PercentOfBaseline=%{z}<extra></extra>",
           "hovertext": [
            "Australia",
            "Canada",
            "Chile",
            "United States of America (the)"
           ],
           "locationmode": "country names",
           "locations": [
            "Australia",
            "Canada",
            "Chile",
            "United States of America (the)"
           ],
           "name": "",
           "type": "choropleth",
           "z": [
            27,
            815,
            52,
            1257
           ]
          }
         ],
         "name": "2020-11-10"
        },
        {
         "data": [
          {
           "coloraxis": "coloraxis",
           "geo": "geo",
           "hovertemplate": "<b>%{hovertext}</b><br><br>Date=2020-11-11<br>Country=%{location}<br>PercentOfBaseline=%{z}<extra></extra>",
           "hovertext": [
            "Australia",
            "Canada",
            "Chile",
            "United States of America (the)"
           ],
           "locationmode": "country names",
           "locations": [
            "Australia",
            "Canada",
            "Chile",
            "United States of America (the)"
           ],
           "name": "",
           "type": "choropleth",
           "z": [
            28,
            654,
            59,
            1072
           ]
          }
         ],
         "name": "2020-11-11"
        },
        {
         "data": [
          {
           "coloraxis": "coloraxis",
           "geo": "geo",
           "hovertemplate": "<b>%{hovertext}</b><br><br>Date=2020-11-12<br>Country=%{location}<br>PercentOfBaseline=%{z}<extra></extra>",
           "hovertext": [
            "Australia",
            "Canada",
            "Chile",
            "United States of America (the)"
           ],
           "locationmode": "country names",
           "locations": [
            "Australia",
            "Canada",
            "Chile",
            "United States of America (the)"
           ],
           "name": "",
           "type": "choropleth",
           "z": [
            20,
            732,
            60,
            1173
           ]
          }
         ],
         "name": "2020-11-12"
        },
        {
         "data": [
          {
           "coloraxis": "coloraxis",
           "geo": "geo",
           "hovertemplate": "<b>%{hovertext}</b><br><br>Date=2020-11-13<br>Country=%{location}<br>PercentOfBaseline=%{z}<extra></extra>",
           "hovertext": [
            "Australia",
            "Canada",
            "Chile",
            "United States of America (the)"
           ],
           "locationmode": "country names",
           "locations": [
            "Australia",
            "Canada",
            "Chile",
            "United States of America (the)"
           ],
           "name": "",
           "type": "choropleth",
           "z": [
            23,
            794,
            63,
            1251
           ]
          }
         ],
         "name": "2020-11-13"
        },
        {
         "data": [
          {
           "coloraxis": "coloraxis",
           "geo": "geo",
           "hovertemplate": "<b>%{hovertext}</b><br><br>Date=2020-11-14<br>Country=%{location}<br>PercentOfBaseline=%{z}<extra></extra>",
           "hovertext": [
            "Australia",
            "Canada",
            "Chile",
            "United States of America (the)"
           ],
           "locationmode": "country names",
           "locations": [
            "Australia",
            "Canada",
            "Chile",
            "United States of America (the)"
           ],
           "name": "",
           "type": "choropleth",
           "z": [
            18,
            725,
            41,
            1082
           ]
          }
         ],
         "name": "2020-11-14"
        },
        {
         "data": [
          {
           "coloraxis": "coloraxis",
           "geo": "geo",
           "hovertemplate": "<b>%{hovertext}</b><br><br>Date=2020-11-15<br>Country=%{location}<br>PercentOfBaseline=%{z}<extra></extra>",
           "hovertext": [
            "Australia",
            "Canada",
            "United States of America (the)"
           ],
           "locationmode": "country names",
           "locations": [
            "Australia",
            "Canada",
            "United States of America (the)"
           ],
           "name": "",
           "type": "choropleth",
           "z": [
            26,
            555,
            1045
           ]
          }
         ],
         "name": "2020-11-15"
        },
        {
         "data": [
          {
           "coloraxis": "coloraxis",
           "geo": "geo",
           "hovertemplate": "<b>%{hovertext}</b><br><br>Date=2020-11-16<br>Country=%{location}<br>PercentOfBaseline=%{z}<extra></extra>",
           "hovertext": [
            "Australia",
            "Canada",
            "Chile",
            "United States of America (the)"
           ],
           "locationmode": "country names",
           "locations": [
            "Australia",
            "Canada",
            "Chile",
            "United States of America (the)"
           ],
           "name": "",
           "type": "choropleth",
           "z": [
            23,
            803,
            65,
            1231
           ]
          }
         ],
         "name": "2020-11-16"
        },
        {
         "data": [
          {
           "coloraxis": "coloraxis",
           "geo": "geo",
           "hovertemplate": "<b>%{hovertext}</b><br><br>Date=2020-11-17<br>Country=%{location}<br>PercentOfBaseline=%{z}<extra></extra>",
           "hovertext": [
            "Australia",
            "Canada",
            "Chile",
            "United States of America (the)"
           ],
           "locationmode": "country names",
           "locations": [
            "Australia",
            "Canada",
            "Chile",
            "United States of America (the)"
           ],
           "name": "",
           "type": "choropleth",
           "z": [
            22,
            812,
            62,
            1289
           ]
          }
         ],
         "name": "2020-11-17"
        },
        {
         "data": [
          {
           "coloraxis": "coloraxis",
           "geo": "geo",
           "hovertemplate": "<b>%{hovertext}</b><br><br>Date=2020-11-18<br>Country=%{location}<br>PercentOfBaseline=%{z}<extra></extra>",
           "hovertext": [
            "Australia",
            "Canada",
            "Chile",
            "United States of America (the)"
           ],
           "locationmode": "country names",
           "locations": [
            "Australia",
            "Canada",
            "Chile",
            "United States of America (the)"
           ],
           "name": "",
           "type": "choropleth",
           "z": [
            25,
            807,
            62,
            1253
           ]
          }
         ],
         "name": "2020-11-18"
        },
        {
         "data": [
          {
           "coloraxis": "coloraxis",
           "geo": "geo",
           "hovertemplate": "<b>%{hovertext}</b><br><br>Date=2020-11-19<br>Country=%{location}<br>PercentOfBaseline=%{z}<extra></extra>",
           "hovertext": [
            "Australia",
            "Canada",
            "Chile",
            "United States of America (the)"
           ],
           "locationmode": "country names",
           "locations": [
            "Australia",
            "Canada",
            "Chile",
            "United States of America (the)"
           ],
           "name": "",
           "type": "choropleth",
           "z": [
            22,
            811,
            60,
            1217
           ]
          }
         ],
         "name": "2020-11-19"
        },
        {
         "data": [
          {
           "coloraxis": "coloraxis",
           "geo": "geo",
           "hovertemplate": "<b>%{hovertext}</b><br><br>Date=2020-11-20<br>Country=%{location}<br>PercentOfBaseline=%{z}<extra></extra>",
           "hovertext": [
            "Australia",
            "Canada",
            "Chile",
            "United States of America (the)"
           ],
           "locationmode": "country names",
           "locations": [
            "Australia",
            "Canada",
            "Chile",
            "United States of America (the)"
           ],
           "name": "",
           "type": "choropleth",
           "z": [
            27,
            779,
            64,
            1241
           ]
          }
         ],
         "name": "2020-11-20"
        },
        {
         "data": [
          {
           "coloraxis": "coloraxis",
           "geo": "geo",
           "hovertemplate": "<b>%{hovertext}</b><br><br>Date=2020-11-21<br>Country=%{location}<br>PercentOfBaseline=%{z}<extra></extra>",
           "hovertext": [
            "Australia",
            "Canada",
            "Chile",
            "United States of America (the)"
           ],
           "locationmode": "country names",
           "locations": [
            "Australia",
            "Canada",
            "Chile",
            "United States of America (the)"
           ],
           "name": "",
           "type": "choropleth",
           "z": [
            33,
            725,
            31,
            1153
           ]
          }
         ],
         "name": "2020-11-21"
        },
        {
         "data": [
          {
           "coloraxis": "coloraxis",
           "geo": "geo",
           "hovertemplate": "<b>%{hovertext}</b><br><br>Date=2020-11-22<br>Country=%{location}<br>PercentOfBaseline=%{z}<extra></extra>",
           "hovertext": [
            "Australia",
            "Canada",
            "Chile",
            "United States of America (the)"
           ],
           "locationmode": "country names",
           "locations": [
            "Australia",
            "Canada",
            "Chile",
            "United States of America (the)"
           ],
           "name": "",
           "type": "choropleth",
           "z": [
            18,
            596,
            26,
            1109
           ]
          }
         ],
         "name": "2020-11-22"
        },
        {
         "data": [
          {
           "coloraxis": "coloraxis",
           "geo": "geo",
           "hovertemplate": "<b>%{hovertext}</b><br><br>Date=2020-11-23<br>Country=%{location}<br>PercentOfBaseline=%{z}<extra></extra>",
           "hovertext": [
            "Australia",
            "Canada",
            "Chile",
            "United States of America (the)"
           ],
           "locationmode": "country names",
           "locations": [
            "Australia",
            "Canada",
            "Chile",
            "United States of America (the)"
           ],
           "name": "",
           "type": "choropleth",
           "z": [
            22,
            839,
            58,
            1273
           ]
          }
         ],
         "name": "2020-11-23"
        },
        {
         "data": [
          {
           "coloraxis": "coloraxis",
           "geo": "geo",
           "hovertemplate": "<b>%{hovertext}</b><br><br>Date=2020-11-24<br>Country=%{location}<br>PercentOfBaseline=%{z}<extra></extra>",
           "hovertext": [
            "Australia",
            "Canada",
            "Chile",
            "United States of America (the)"
           ],
           "locationmode": "country names",
           "locations": [
            "Australia",
            "Canada",
            "Chile",
            "United States of America (the)"
           ],
           "name": "",
           "type": "choropleth",
           "z": [
            25,
            804,
            44,
            1242
           ]
          }
         ],
         "name": "2020-11-24"
        },
        {
         "data": [
          {
           "coloraxis": "coloraxis",
           "geo": "geo",
           "hovertemplate": "<b>%{hovertext}</b><br><br>Date=2020-11-25<br>Country=%{location}<br>PercentOfBaseline=%{z}<extra></extra>",
           "hovertext": [
            "Australia",
            "Canada",
            "Chile",
            "United States of America (the)"
           ],
           "locationmode": "country names",
           "locations": [
            "Australia",
            "Canada",
            "Chile",
            "United States of America (the)"
           ],
           "name": "",
           "type": "choropleth",
           "z": [
            28,
            801,
            47,
            1181
           ]
          }
         ],
         "name": "2020-11-25"
        },
        {
         "data": [
          {
           "coloraxis": "coloraxis",
           "geo": "geo",
           "hovertemplate": "<b>%{hovertext}</b><br><br>Date=2020-11-26<br>Country=%{location}<br>PercentOfBaseline=%{z}<extra></extra>",
           "hovertext": [
            "Australia",
            "Canada",
            "Chile",
            "United States of America (the)"
           ],
           "locationmode": "country names",
           "locations": [
            "Australia",
            "Canada",
            "Chile",
            "United States of America (the)"
           ],
           "name": "",
           "type": "choropleth",
           "z": [
            25,
            786,
            50,
            501
           ]
          }
         ],
         "name": "2020-11-26"
        },
        {
         "data": [
          {
           "coloraxis": "coloraxis",
           "geo": "geo",
           "hovertemplate": "<b>%{hovertext}</b><br><br>Date=2020-11-27<br>Country=%{location}<br>PercentOfBaseline=%{z}<extra></extra>",
           "hovertext": [
            "Australia",
            "Canada",
            "Chile",
            "United States of America (the)"
           ],
           "locationmode": "country names",
           "locations": [
            "Australia",
            "Canada",
            "Chile",
            "United States of America (the)"
           ],
           "name": "",
           "type": "choropleth",
           "z": [
            18,
            777,
            48,
            622
           ]
          }
         ],
         "name": "2020-11-27"
        },
        {
         "data": [
          {
           "coloraxis": "coloraxis",
           "geo": "geo",
           "hovertemplate": "<b>%{hovertext}</b><br><br>Date=2020-11-28<br>Country=%{location}<br>PercentOfBaseline=%{z}<extra></extra>",
           "hovertext": [
            "Australia",
            "Canada",
            "Chile",
            "United States of America (the)"
           ],
           "locationmode": "country names",
           "locations": [
            "Australia",
            "Canada",
            "Chile",
            "United States of America (the)"
           ],
           "name": "",
           "type": "choropleth",
           "z": [
            46,
            751,
            39,
            990
           ]
          }
         ],
         "name": "2020-11-28"
        },
        {
         "data": [
          {
           "coloraxis": "coloraxis",
           "geo": "geo",
           "hovertemplate": "<b>%{hovertext}</b><br><br>Date=2020-11-29<br>Country=%{location}<br>PercentOfBaseline=%{z}<extra></extra>",
           "hovertext": [
            "Australia",
            "Canada",
            "United States of America (the)"
           ],
           "locationmode": "country names",
           "locations": [
            "Australia",
            "Canada",
            "United States of America (the)"
           ],
           "name": "",
           "type": "choropleth",
           "z": [
            28,
            727,
            1088
           ]
          }
         ],
         "name": "2020-11-29"
        },
        {
         "data": [
          {
           "coloraxis": "coloraxis",
           "geo": "geo",
           "hovertemplate": "<b>%{hovertext}</b><br><br>Date=2020-11-30<br>Country=%{location}<br>PercentOfBaseline=%{z}<extra></extra>",
           "hovertext": [
            "Australia",
            "Canada",
            "Chile",
            "United States of America (the)"
           ],
           "locationmode": "country names",
           "locations": [
            "Australia",
            "Canada",
            "Chile",
            "United States of America (the)"
           ],
           "name": "",
           "type": "choropleth",
           "z": [
            29,
            820,
            65,
            1178
           ]
          }
         ],
         "name": "2020-11-30"
        },
        {
         "data": [
          {
           "coloraxis": "coloraxis",
           "geo": "geo",
           "hovertemplate": "<b>%{hovertext}</b><br><br>Date=2020-12-01<br>Country=%{location}<br>PercentOfBaseline=%{z}<extra></extra>",
           "hovertext": [
            "Australia",
            "Canada",
            "Chile",
            "United States of America (the)"
           ],
           "locationmode": "country names",
           "locations": [
            "Australia",
            "Canada",
            "Chile",
            "United States of America (the)"
           ],
           "name": "",
           "type": "choropleth",
           "z": [
            21,
            827,
            45,
            1275
           ]
          }
         ],
         "name": "2020-12-01"
        },
        {
         "data": [
          {
           "coloraxis": "coloraxis",
           "geo": "geo",
           "hovertemplate": "<b>%{hovertext}</b><br><br>Date=2020-12-02<br>Country=%{location}<br>PercentOfBaseline=%{z}<extra></extra>",
           "hovertext": [
            "Australia",
            "Canada",
            "Chile",
            "United States of America (the)"
           ],
           "locationmode": "country names",
           "locations": [
            "Australia",
            "Canada",
            "Chile",
            "United States of America (the)"
           ],
           "name": "",
           "type": "choropleth",
           "z": [
            27,
            798,
            48,
            1276
           ]
          }
         ],
         "name": "2020-12-02"
        }
       ],
       "layout": {
        "coloraxis": {
         "colorbar": {
          "title": {
           "text": "PercentOfBaseline"
          }
         },
         "colorscale": [
          [
           0,
           "#0d0887"
          ],
          [
           0.1111111111111111,
           "#46039f"
          ],
          [
           0.2222222222222222,
           "#7201a8"
          ],
          [
           0.3333333333333333,
           "#9c179e"
          ],
          [
           0.4444444444444444,
           "#bd3786"
          ],
          [
           0.5555555555555556,
           "#d8576b"
          ],
          [
           0.6666666666666666,
           "#ed7953"
          ],
          [
           0.7777777777777778,
           "#fb9f3a"
          ],
          [
           0.8888888888888888,
           "#fdca26"
          ],
          [
           1,
           "#f0f921"
          ]
         ]
        },
        "geo": {
         "center": {},
         "domain": {
          "x": [
           0,
           1
          ],
          "y": [
           0,
           1
          ]
         },
         "showcoastlines": false,
         "showframe": false
        },
        "legend": {
         "tracegroupgap": 0
        },
        "margin": {
         "t": 60
        },
        "sliders": [
         {
          "active": 0,
          "currentvalue": {
           "prefix": "Date="
          },
          "len": 0.9,
          "pad": {
           "b": 10,
           "t": 60
          },
          "steps": [
           {
            "args": [
             [
              "2020-03-16"
             ],
             {
              "frame": {
               "duration": 0,
               "redraw": true
              },
              "fromcurrent": true,
              "mode": "immediate",
              "transition": {
               "duration": 0,
               "easing": "linear"
              }
             }
            ],
            "label": "2020-03-16",
            "method": "animate"
           },
           {
            "args": [
             [
              "2020-03-17"
             ],
             {
              "frame": {
               "duration": 0,
               "redraw": true
              },
              "fromcurrent": true,
              "mode": "immediate",
              "transition": {
               "duration": 0,
               "easing": "linear"
              }
             }
            ],
            "label": "2020-03-17",
            "method": "animate"
           },
           {
            "args": [
             [
              "2020-03-18"
             ],
             {
              "frame": {
               "duration": 0,
               "redraw": true
              },
              "fromcurrent": true,
              "mode": "immediate",
              "transition": {
               "duration": 0,
               "easing": "linear"
              }
             }
            ],
            "label": "2020-03-18",
            "method": "animate"
           },
           {
            "args": [
             [
              "2020-03-19"
             ],
             {
              "frame": {
               "duration": 0,
               "redraw": true
              },
              "fromcurrent": true,
              "mode": "immediate",
              "transition": {
               "duration": 0,
               "easing": "linear"
              }
             }
            ],
            "label": "2020-03-19",
            "method": "animate"
           },
           {
            "args": [
             [
              "2020-03-20"
             ],
             {
              "frame": {
               "duration": 0,
               "redraw": true
              },
              "fromcurrent": true,
              "mode": "immediate",
              "transition": {
               "duration": 0,
               "easing": "linear"
              }
             }
            ],
            "label": "2020-03-20",
            "method": "animate"
           },
           {
            "args": [
             [
              "2020-03-21"
             ],
             {
              "frame": {
               "duration": 0,
               "redraw": true
              },
              "fromcurrent": true,
              "mode": "immediate",
              "transition": {
               "duration": 0,
               "easing": "linear"
              }
             }
            ],
            "label": "2020-03-21",
            "method": "animate"
           },
           {
            "args": [
             [
              "2020-03-22"
             ],
             {
              "frame": {
               "duration": 0,
               "redraw": true
              },
              "fromcurrent": true,
              "mode": "immediate",
              "transition": {
               "duration": 0,
               "easing": "linear"
              }
             }
            ],
            "label": "2020-03-22",
            "method": "animate"
           },
           {
            "args": [
             [
              "2020-03-23"
             ],
             {
              "frame": {
               "duration": 0,
               "redraw": true
              },
              "fromcurrent": true,
              "mode": "immediate",
              "transition": {
               "duration": 0,
               "easing": "linear"
              }
             }
            ],
            "label": "2020-03-23",
            "method": "animate"
           },
           {
            "args": [
             [
              "2020-03-24"
             ],
             {
              "frame": {
               "duration": 0,
               "redraw": true
              },
              "fromcurrent": true,
              "mode": "immediate",
              "transition": {
               "duration": 0,
               "easing": "linear"
              }
             }
            ],
            "label": "2020-03-24",
            "method": "animate"
           },
           {
            "args": [
             [
              "2020-03-25"
             ],
             {
              "frame": {
               "duration": 0,
               "redraw": true
              },
              "fromcurrent": true,
              "mode": "immediate",
              "transition": {
               "duration": 0,
               "easing": "linear"
              }
             }
            ],
            "label": "2020-03-25",
            "method": "animate"
           },
           {
            "args": [
             [
              "2020-03-26"
             ],
             {
              "frame": {
               "duration": 0,
               "redraw": true
              },
              "fromcurrent": true,
              "mode": "immediate",
              "transition": {
               "duration": 0,
               "easing": "linear"
              }
             }
            ],
            "label": "2020-03-26",
            "method": "animate"
           },
           {
            "args": [
             [
              "2020-03-27"
             ],
             {
              "frame": {
               "duration": 0,
               "redraw": true
              },
              "fromcurrent": true,
              "mode": "immediate",
              "transition": {
               "duration": 0,
               "easing": "linear"
              }
             }
            ],
            "label": "2020-03-27",
            "method": "animate"
           },
           {
            "args": [
             [
              "2020-03-28"
             ],
             {
              "frame": {
               "duration": 0,
               "redraw": true
              },
              "fromcurrent": true,
              "mode": "immediate",
              "transition": {
               "duration": 0,
               "easing": "linear"
              }
             }
            ],
            "label": "2020-03-28",
            "method": "animate"
           },
           {
            "args": [
             [
              "2020-03-29"
             ],
             {
              "frame": {
               "duration": 0,
               "redraw": true
              },
              "fromcurrent": true,
              "mode": "immediate",
              "transition": {
               "duration": 0,
               "easing": "linear"
              }
             }
            ],
            "label": "2020-03-29",
            "method": "animate"
           },
           {
            "args": [
             [
              "2020-03-30"
             ],
             {
              "frame": {
               "duration": 0,
               "redraw": true
              },
              "fromcurrent": true,
              "mode": "immediate",
              "transition": {
               "duration": 0,
               "easing": "linear"
              }
             }
            ],
            "label": "2020-03-30",
            "method": "animate"
           },
           {
            "args": [
             [
              "2020-03-31"
             ],
             {
              "frame": {
               "duration": 0,
               "redraw": true
              },
              "fromcurrent": true,
              "mode": "immediate",
              "transition": {
               "duration": 0,
               "easing": "linear"
              }
             }
            ],
            "label": "2020-03-31",
            "method": "animate"
           },
           {
            "args": [
             [
              "2020-04-01"
             ],
             {
              "frame": {
               "duration": 0,
               "redraw": true
              },
              "fromcurrent": true,
              "mode": "immediate",
              "transition": {
               "duration": 0,
               "easing": "linear"
              }
             }
            ],
            "label": "2020-04-01",
            "method": "animate"
           },
           {
            "args": [
             [
              "2020-04-02"
             ],
             {
              "frame": {
               "duration": 0,
               "redraw": true
              },
              "fromcurrent": true,
              "mode": "immediate",
              "transition": {
               "duration": 0,
               "easing": "linear"
              }
             }
            ],
            "label": "2020-04-02",
            "method": "animate"
           },
           {
            "args": [
             [
              "2020-04-03"
             ],
             {
              "frame": {
               "duration": 0,
               "redraw": true
              },
              "fromcurrent": true,
              "mode": "immediate",
              "transition": {
               "duration": 0,
               "easing": "linear"
              }
             }
            ],
            "label": "2020-04-03",
            "method": "animate"
           },
           {
            "args": [
             [
              "2020-04-04"
             ],
             {
              "frame": {
               "duration": 0,
               "redraw": true
              },
              "fromcurrent": true,
              "mode": "immediate",
              "transition": {
               "duration": 0,
               "easing": "linear"
              }
             }
            ],
            "label": "2020-04-04",
            "method": "animate"
           },
           {
            "args": [
             [
              "2020-04-05"
             ],
             {
              "frame": {
               "duration": 0,
               "redraw": true
              },
              "fromcurrent": true,
              "mode": "immediate",
              "transition": {
               "duration": 0,
               "easing": "linear"
              }
             }
            ],
            "label": "2020-04-05",
            "method": "animate"
           },
           {
            "args": [
             [
              "2020-04-06"
             ],
             {
              "frame": {
               "duration": 0,
               "redraw": true
              },
              "fromcurrent": true,
              "mode": "immediate",
              "transition": {
               "duration": 0,
               "easing": "linear"
              }
             }
            ],
            "label": "2020-04-06",
            "method": "animate"
           },
           {
            "args": [
             [
              "2020-04-07"
             ],
             {
              "frame": {
               "duration": 0,
               "redraw": true
              },
              "fromcurrent": true,
              "mode": "immediate",
              "transition": {
               "duration": 0,
               "easing": "linear"
              }
             }
            ],
            "label": "2020-04-07",
            "method": "animate"
           },
           {
            "args": [
             [
              "2020-04-08"
             ],
             {
              "frame": {
               "duration": 0,
               "redraw": true
              },
              "fromcurrent": true,
              "mode": "immediate",
              "transition": {
               "duration": 0,
               "easing": "linear"
              }
             }
            ],
            "label": "2020-04-08",
            "method": "animate"
           },
           {
            "args": [
             [
              "2020-04-09"
             ],
             {
              "frame": {
               "duration": 0,
               "redraw": true
              },
              "fromcurrent": true,
              "mode": "immediate",
              "transition": {
               "duration": 0,
               "easing": "linear"
              }
             }
            ],
            "label": "2020-04-09",
            "method": "animate"
           },
           {
            "args": [
             [
              "2020-04-10"
             ],
             {
              "frame": {
               "duration": 0,
               "redraw": true
              },
              "fromcurrent": true,
              "mode": "immediate",
              "transition": {
               "duration": 0,
               "easing": "linear"
              }
             }
            ],
            "label": "2020-04-10",
            "method": "animate"
           },
           {
            "args": [
             [
              "2020-04-11"
             ],
             {
              "frame": {
               "duration": 0,
               "redraw": true
              },
              "fromcurrent": true,
              "mode": "immediate",
              "transition": {
               "duration": 0,
               "easing": "linear"
              }
             }
            ],
            "label": "2020-04-11",
            "method": "animate"
           },
           {
            "args": [
             [
              "2020-04-12"
             ],
             {
              "frame": {
               "duration": 0,
               "redraw": true
              },
              "fromcurrent": true,
              "mode": "immediate",
              "transition": {
               "duration": 0,
               "easing": "linear"
              }
             }
            ],
            "label": "2020-04-12",
            "method": "animate"
           },
           {
            "args": [
             [
              "2020-04-13"
             ],
             {
              "frame": {
               "duration": 0,
               "redraw": true
              },
              "fromcurrent": true,
              "mode": "immediate",
              "transition": {
               "duration": 0,
               "easing": "linear"
              }
             }
            ],
            "label": "2020-04-13",
            "method": "animate"
           },
           {
            "args": [
             [
              "2020-04-14"
             ],
             {
              "frame": {
               "duration": 0,
               "redraw": true
              },
              "fromcurrent": true,
              "mode": "immediate",
              "transition": {
               "duration": 0,
               "easing": "linear"
              }
             }
            ],
            "label": "2020-04-14",
            "method": "animate"
           },
           {
            "args": [
             [
              "2020-04-15"
             ],
             {
              "frame": {
               "duration": 0,
               "redraw": true
              },
              "fromcurrent": true,
              "mode": "immediate",
              "transition": {
               "duration": 0,
               "easing": "linear"
              }
             }
            ],
            "label": "2020-04-15",
            "method": "animate"
           },
           {
            "args": [
             [
              "2020-04-16"
             ],
             {
              "frame": {
               "duration": 0,
               "redraw": true
              },
              "fromcurrent": true,
              "mode": "immediate",
              "transition": {
               "duration": 0,
               "easing": "linear"
              }
             }
            ],
            "label": "2020-04-16",
            "method": "animate"
           },
           {
            "args": [
             [
              "2020-04-17"
             ],
             {
              "frame": {
               "duration": 0,
               "redraw": true
              },
              "fromcurrent": true,
              "mode": "immediate",
              "transition": {
               "duration": 0,
               "easing": "linear"
              }
             }
            ],
            "label": "2020-04-17",
            "method": "animate"
           },
           {
            "args": [
             [
              "2020-04-18"
             ],
             {
              "frame": {
               "duration": 0,
               "redraw": true
              },
              "fromcurrent": true,
              "mode": "immediate",
              "transition": {
               "duration": 0,
               "easing": "linear"
              }
             }
            ],
            "label": "2020-04-18",
            "method": "animate"
           },
           {
            "args": [
             [
              "2020-04-19"
             ],
             {
              "frame": {
               "duration": 0,
               "redraw": true
              },
              "fromcurrent": true,
              "mode": "immediate",
              "transition": {
               "duration": 0,
               "easing": "linear"
              }
             }
            ],
            "label": "2020-04-19",
            "method": "animate"
           },
           {
            "args": [
             [
              "2020-04-20"
             ],
             {
              "frame": {
               "duration": 0,
               "redraw": true
              },
              "fromcurrent": true,
              "mode": "immediate",
              "transition": {
               "duration": 0,
               "easing": "linear"
              }
             }
            ],
            "label": "2020-04-20",
            "method": "animate"
           },
           {
            "args": [
             [
              "2020-04-21"
             ],
             {
              "frame": {
               "duration": 0,
               "redraw": true
              },
              "fromcurrent": true,
              "mode": "immediate",
              "transition": {
               "duration": 0,
               "easing": "linear"
              }
             }
            ],
            "label": "2020-04-21",
            "method": "animate"
           },
           {
            "args": [
             [
              "2020-04-22"
             ],
             {
              "frame": {
               "duration": 0,
               "redraw": true
              },
              "fromcurrent": true,
              "mode": "immediate",
              "transition": {
               "duration": 0,
               "easing": "linear"
              }
             }
            ],
            "label": "2020-04-22",
            "method": "animate"
           },
           {
            "args": [
             [
              "2020-04-23"
             ],
             {
              "frame": {
               "duration": 0,
               "redraw": true
              },
              "fromcurrent": true,
              "mode": "immediate",
              "transition": {
               "duration": 0,
               "easing": "linear"
              }
             }
            ],
            "label": "2020-04-23",
            "method": "animate"
           },
           {
            "args": [
             [
              "2020-04-24"
             ],
             {
              "frame": {
               "duration": 0,
               "redraw": true
              },
              "fromcurrent": true,
              "mode": "immediate",
              "transition": {
               "duration": 0,
               "easing": "linear"
              }
             }
            ],
            "label": "2020-04-24",
            "method": "animate"
           },
           {
            "args": [
             [
              "2020-04-25"
             ],
             {
              "frame": {
               "duration": 0,
               "redraw": true
              },
              "fromcurrent": true,
              "mode": "immediate",
              "transition": {
               "duration": 0,
               "easing": "linear"
              }
             }
            ],
            "label": "2020-04-25",
            "method": "animate"
           },
           {
            "args": [
             [
              "2020-04-26"
             ],
             {
              "frame": {
               "duration": 0,
               "redraw": true
              },
              "fromcurrent": true,
              "mode": "immediate",
              "transition": {
               "duration": 0,
               "easing": "linear"
              }
             }
            ],
            "label": "2020-04-26",
            "method": "animate"
           },
           {
            "args": [
             [
              "2020-04-27"
             ],
             {
              "frame": {
               "duration": 0,
               "redraw": true
              },
              "fromcurrent": true,
              "mode": "immediate",
              "transition": {
               "duration": 0,
               "easing": "linear"
              }
             }
            ],
            "label": "2020-04-27",
            "method": "animate"
           },
           {
            "args": [
             [
              "2020-04-28"
             ],
             {
              "frame": {
               "duration": 0,
               "redraw": true
              },
              "fromcurrent": true,
              "mode": "immediate",
              "transition": {
               "duration": 0,
               "easing": "linear"
              }
             }
            ],
            "label": "2020-04-28",
            "method": "animate"
           },
           {
            "args": [
             [
              "2020-04-29"
             ],
             {
              "frame": {
               "duration": 0,
               "redraw": true
              },
              "fromcurrent": true,
              "mode": "immediate",
              "transition": {
               "duration": 0,
               "easing": "linear"
              }
             }
            ],
            "label": "2020-04-29",
            "method": "animate"
           },
           {
            "args": [
             [
              "2020-04-30"
             ],
             {
              "frame": {
               "duration": 0,
               "redraw": true
              },
              "fromcurrent": true,
              "mode": "immediate",
              "transition": {
               "duration": 0,
               "easing": "linear"
              }
             }
            ],
            "label": "2020-04-30",
            "method": "animate"
           },
           {
            "args": [
             [
              "2020-05-01"
             ],
             {
              "frame": {
               "duration": 0,
               "redraw": true
              },
              "fromcurrent": true,
              "mode": "immediate",
              "transition": {
               "duration": 0,
               "easing": "linear"
              }
             }
            ],
            "label": "2020-05-01",
            "method": "animate"
           },
           {
            "args": [
             [
              "2020-05-02"
             ],
             {
              "frame": {
               "duration": 0,
               "redraw": true
              },
              "fromcurrent": true,
              "mode": "immediate",
              "transition": {
               "duration": 0,
               "easing": "linear"
              }
             }
            ],
            "label": "2020-05-02",
            "method": "animate"
           },
           {
            "args": [
             [
              "2020-05-03"
             ],
             {
              "frame": {
               "duration": 0,
               "redraw": true
              },
              "fromcurrent": true,
              "mode": "immediate",
              "transition": {
               "duration": 0,
               "easing": "linear"
              }
             }
            ],
            "label": "2020-05-03",
            "method": "animate"
           },
           {
            "args": [
             [
              "2020-05-04"
             ],
             {
              "frame": {
               "duration": 0,
               "redraw": true
              },
              "fromcurrent": true,
              "mode": "immediate",
              "transition": {
               "duration": 0,
               "easing": "linear"
              }
             }
            ],
            "label": "2020-05-04",
            "method": "animate"
           },
           {
            "args": [
             [
              "2020-05-05"
             ],
             {
              "frame": {
               "duration": 0,
               "redraw": true
              },
              "fromcurrent": true,
              "mode": "immediate",
              "transition": {
               "duration": 0,
               "easing": "linear"
              }
             }
            ],
            "label": "2020-05-05",
            "method": "animate"
           },
           {
            "args": [
             [
              "2020-05-06"
             ],
             {
              "frame": {
               "duration": 0,
               "redraw": true
              },
              "fromcurrent": true,
              "mode": "immediate",
              "transition": {
               "duration": 0,
               "easing": "linear"
              }
             }
            ],
            "label": "2020-05-06",
            "method": "animate"
           },
           {
            "args": [
             [
              "2020-05-07"
             ],
             {
              "frame": {
               "duration": 0,
               "redraw": true
              },
              "fromcurrent": true,
              "mode": "immediate",
              "transition": {
               "duration": 0,
               "easing": "linear"
              }
             }
            ],
            "label": "2020-05-07",
            "method": "animate"
           },
           {
            "args": [
             [
              "2020-05-08"
             ],
             {
              "frame": {
               "duration": 0,
               "redraw": true
              },
              "fromcurrent": true,
              "mode": "immediate",
              "transition": {
               "duration": 0,
               "easing": "linear"
              }
             }
            ],
            "label": "2020-05-08",
            "method": "animate"
           },
           {
            "args": [
             [
              "2020-05-09"
             ],
             {
              "frame": {
               "duration": 0,
               "redraw": true
              },
              "fromcurrent": true,
              "mode": "immediate",
              "transition": {
               "duration": 0,
               "easing": "linear"
              }
             }
            ],
            "label": "2020-05-09",
            "method": "animate"
           },
           {
            "args": [
             [
              "2020-05-10"
             ],
             {
              "frame": {
               "duration": 0,
               "redraw": true
              },
              "fromcurrent": true,
              "mode": "immediate",
              "transition": {
               "duration": 0,
               "easing": "linear"
              }
             }
            ],
            "label": "2020-05-10",
            "method": "animate"
           },
           {
            "args": [
             [
              "2020-05-11"
             ],
             {
              "frame": {
               "duration": 0,
               "redraw": true
              },
              "fromcurrent": true,
              "mode": "immediate",
              "transition": {
               "duration": 0,
               "easing": "linear"
              }
             }
            ],
            "label": "2020-05-11",
            "method": "animate"
           },
           {
            "args": [
             [
              "2020-05-12"
             ],
             {
              "frame": {
               "duration": 0,
               "redraw": true
              },
              "fromcurrent": true,
              "mode": "immediate",
              "transition": {
               "duration": 0,
               "easing": "linear"
              }
             }
            ],
            "label": "2020-05-12",
            "method": "animate"
           },
           {
            "args": [
             [
              "2020-05-13"
             ],
             {
              "frame": {
               "duration": 0,
               "redraw": true
              },
              "fromcurrent": true,
              "mode": "immediate",
              "transition": {
               "duration": 0,
               "easing": "linear"
              }
             }
            ],
            "label": "2020-05-13",
            "method": "animate"
           },
           {
            "args": [
             [
              "2020-05-14"
             ],
             {
              "frame": {
               "duration": 0,
               "redraw": true
              },
              "fromcurrent": true,
              "mode": "immediate",
              "transition": {
               "duration": 0,
               "easing": "linear"
              }
             }
            ],
            "label": "2020-05-14",
            "method": "animate"
           },
           {
            "args": [
             [
              "2020-05-15"
             ],
             {
              "frame": {
               "duration": 0,
               "redraw": true
              },
              "fromcurrent": true,
              "mode": "immediate",
              "transition": {
               "duration": 0,
               "easing": "linear"
              }
             }
            ],
            "label": "2020-05-15",
            "method": "animate"
           },
           {
            "args": [
             [
              "2020-05-16"
             ],
             {
              "frame": {
               "duration": 0,
               "redraw": true
              },
              "fromcurrent": true,
              "mode": "immediate",
              "transition": {
               "duration": 0,
               "easing": "linear"
              }
             }
            ],
            "label": "2020-05-16",
            "method": "animate"
           },
           {
            "args": [
             [
              "2020-05-17"
             ],
             {
              "frame": {
               "duration": 0,
               "redraw": true
              },
              "fromcurrent": true,
              "mode": "immediate",
              "transition": {
               "duration": 0,
               "easing": "linear"
              }
             }
            ],
            "label": "2020-05-17",
            "method": "animate"
           },
           {
            "args": [
             [
              "2020-05-18"
             ],
             {
              "frame": {
               "duration": 0,
               "redraw": true
              },
              "fromcurrent": true,
              "mode": "immediate",
              "transition": {
               "duration": 0,
               "easing": "linear"
              }
             }
            ],
            "label": "2020-05-18",
            "method": "animate"
           },
           {
            "args": [
             [
              "2020-05-19"
             ],
             {
              "frame": {
               "duration": 0,
               "redraw": true
              },
              "fromcurrent": true,
              "mode": "immediate",
              "transition": {
               "duration": 0,
               "easing": "linear"
              }
             }
            ],
            "label": "2020-05-19",
            "method": "animate"
           },
           {
            "args": [
             [
              "2020-05-20"
             ],
             {
              "frame": {
               "duration": 0,
               "redraw": true
              },
              "fromcurrent": true,
              "mode": "immediate",
              "transition": {
               "duration": 0,
               "easing": "linear"
              }
             }
            ],
            "label": "2020-05-20",
            "method": "animate"
           },
           {
            "args": [
             [
              "2020-05-21"
             ],
             {
              "frame": {
               "duration": 0,
               "redraw": true
              },
              "fromcurrent": true,
              "mode": "immediate",
              "transition": {
               "duration": 0,
               "easing": "linear"
              }
             }
            ],
            "label": "2020-05-21",
            "method": "animate"
           },
           {
            "args": [
             [
              "2020-05-22"
             ],
             {
              "frame": {
               "duration": 0,
               "redraw": true
              },
              "fromcurrent": true,
              "mode": "immediate",
              "transition": {
               "duration": 0,
               "easing": "linear"
              }
             }
            ],
            "label": "2020-05-22",
            "method": "animate"
           },
           {
            "args": [
             [
              "2020-05-23"
             ],
             {
              "frame": {
               "duration": 0,
               "redraw": true
              },
              "fromcurrent": true,
              "mode": "immediate",
              "transition": {
               "duration": 0,
               "easing": "linear"
              }
             }
            ],
            "label": "2020-05-23",
            "method": "animate"
           },
           {
            "args": [
             [
              "2020-05-24"
             ],
             {
              "frame": {
               "duration": 0,
               "redraw": true
              },
              "fromcurrent": true,
              "mode": "immediate",
              "transition": {
               "duration": 0,
               "easing": "linear"
              }
             }
            ],
            "label": "2020-05-24",
            "method": "animate"
           },
           {
            "args": [
             [
              "2020-05-25"
             ],
             {
              "frame": {
               "duration": 0,
               "redraw": true
              },
              "fromcurrent": true,
              "mode": "immediate",
              "transition": {
               "duration": 0,
               "easing": "linear"
              }
             }
            ],
            "label": "2020-05-25",
            "method": "animate"
           },
           {
            "args": [
             [
              "2020-05-26"
             ],
             {
              "frame": {
               "duration": 0,
               "redraw": true
              },
              "fromcurrent": true,
              "mode": "immediate",
              "transition": {
               "duration": 0,
               "easing": "linear"
              }
             }
            ],
            "label": "2020-05-26",
            "method": "animate"
           },
           {
            "args": [
             [
              "2020-05-27"
             ],
             {
              "frame": {
               "duration": 0,
               "redraw": true
              },
              "fromcurrent": true,
              "mode": "immediate",
              "transition": {
               "duration": 0,
               "easing": "linear"
              }
             }
            ],
            "label": "2020-05-27",
            "method": "animate"
           },
           {
            "args": [
             [
              "2020-05-28"
             ],
             {
              "frame": {
               "duration": 0,
               "redraw": true
              },
              "fromcurrent": true,
              "mode": "immediate",
              "transition": {
               "duration": 0,
               "easing": "linear"
              }
             }
            ],
            "label": "2020-05-28",
            "method": "animate"
           },
           {
            "args": [
             [
              "2020-05-29"
             ],
             {
              "frame": {
               "duration": 0,
               "redraw": true
              },
              "fromcurrent": true,
              "mode": "immediate",
              "transition": {
               "duration": 0,
               "easing": "linear"
              }
             }
            ],
            "label": "2020-05-29",
            "method": "animate"
           },
           {
            "args": [
             [
              "2020-05-30"
             ],
             {
              "frame": {
               "duration": 0,
               "redraw": true
              },
              "fromcurrent": true,
              "mode": "immediate",
              "transition": {
               "duration": 0,
               "easing": "linear"
              }
             }
            ],
            "label": "2020-05-30",
            "method": "animate"
           },
           {
            "args": [
             [
              "2020-05-31"
             ],
             {
              "frame": {
               "duration": 0,
               "redraw": true
              },
              "fromcurrent": true,
              "mode": "immediate",
              "transition": {
               "duration": 0,
               "easing": "linear"
              }
             }
            ],
            "label": "2020-05-31",
            "method": "animate"
           },
           {
            "args": [
             [
              "2020-06-01"
             ],
             {
              "frame": {
               "duration": 0,
               "redraw": true
              },
              "fromcurrent": true,
              "mode": "immediate",
              "transition": {
               "duration": 0,
               "easing": "linear"
              }
             }
            ],
            "label": "2020-06-01",
            "method": "animate"
           },
           {
            "args": [
             [
              "2020-06-02"
             ],
             {
              "frame": {
               "duration": 0,
               "redraw": true
              },
              "fromcurrent": true,
              "mode": "immediate",
              "transition": {
               "duration": 0,
               "easing": "linear"
              }
             }
            ],
            "label": "2020-06-02",
            "method": "animate"
           },
           {
            "args": [
             [
              "2020-06-03"
             ],
             {
              "frame": {
               "duration": 0,
               "redraw": true
              },
              "fromcurrent": true,
              "mode": "immediate",
              "transition": {
               "duration": 0,
               "easing": "linear"
              }
             }
            ],
            "label": "2020-06-03",
            "method": "animate"
           },
           {
            "args": [
             [
              "2020-06-04"
             ],
             {
              "frame": {
               "duration": 0,
               "redraw": true
              },
              "fromcurrent": true,
              "mode": "immediate",
              "transition": {
               "duration": 0,
               "easing": "linear"
              }
             }
            ],
            "label": "2020-06-04",
            "method": "animate"
           },
           {
            "args": [
             [
              "2020-06-05"
             ],
             {
              "frame": {
               "duration": 0,
               "redraw": true
              },
              "fromcurrent": true,
              "mode": "immediate",
              "transition": {
               "duration": 0,
               "easing": "linear"
              }
             }
            ],
            "label": "2020-06-05",
            "method": "animate"
           },
           {
            "args": [
             [
              "2020-06-06"
             ],
             {
              "frame": {
               "duration": 0,
               "redraw": true
              },
              "fromcurrent": true,
              "mode": "immediate",
              "transition": {
               "duration": 0,
               "easing": "linear"
              }
             }
            ],
            "label": "2020-06-06",
            "method": "animate"
           },
           {
            "args": [
             [
              "2020-06-07"
             ],
             {
              "frame": {
               "duration": 0,
               "redraw": true
              },
              "fromcurrent": true,
              "mode": "immediate",
              "transition": {
               "duration": 0,
               "easing": "linear"
              }
             }
            ],
            "label": "2020-06-07",
            "method": "animate"
           },
           {
            "args": [
             [
              "2020-06-08"
             ],
             {
              "frame": {
               "duration": 0,
               "redraw": true
              },
              "fromcurrent": true,
              "mode": "immediate",
              "transition": {
               "duration": 0,
               "easing": "linear"
              }
             }
            ],
            "label": "2020-06-08",
            "method": "animate"
           },
           {
            "args": [
             [
              "2020-06-09"
             ],
             {
              "frame": {
               "duration": 0,
               "redraw": true
              },
              "fromcurrent": true,
              "mode": "immediate",
              "transition": {
               "duration": 0,
               "easing": "linear"
              }
             }
            ],
            "label": "2020-06-09",
            "method": "animate"
           },
           {
            "args": [
             [
              "2020-06-10"
             ],
             {
              "frame": {
               "duration": 0,
               "redraw": true
              },
              "fromcurrent": true,
              "mode": "immediate",
              "transition": {
               "duration": 0,
               "easing": "linear"
              }
             }
            ],
            "label": "2020-06-10",
            "method": "animate"
           },
           {
            "args": [
             [
              "2020-06-11"
             ],
             {
              "frame": {
               "duration": 0,
               "redraw": true
              },
              "fromcurrent": true,
              "mode": "immediate",
              "transition": {
               "duration": 0,
               "easing": "linear"
              }
             }
            ],
            "label": "2020-06-11",
            "method": "animate"
           },
           {
            "args": [
             [
              "2020-06-12"
             ],
             {
              "frame": {
               "duration": 0,
               "redraw": true
              },
              "fromcurrent": true,
              "mode": "immediate",
              "transition": {
               "duration": 0,
               "easing": "linear"
              }
             }
            ],
            "label": "2020-06-12",
            "method": "animate"
           },
           {
            "args": [
             [
              "2020-06-13"
             ],
             {
              "frame": {
               "duration": 0,
               "redraw": true
              },
              "fromcurrent": true,
              "mode": "immediate",
              "transition": {
               "duration": 0,
               "easing": "linear"
              }
             }
            ],
            "label": "2020-06-13",
            "method": "animate"
           },
           {
            "args": [
             [
              "2020-06-14"
             ],
             {
              "frame": {
               "duration": 0,
               "redraw": true
              },
              "fromcurrent": true,
              "mode": "immediate",
              "transition": {
               "duration": 0,
               "easing": "linear"
              }
             }
            ],
            "label": "2020-06-14",
            "method": "animate"
           },
           {
            "args": [
             [
              "2020-06-15"
             ],
             {
              "frame": {
               "duration": 0,
               "redraw": true
              },
              "fromcurrent": true,
              "mode": "immediate",
              "transition": {
               "duration": 0,
               "easing": "linear"
              }
             }
            ],
            "label": "2020-06-15",
            "method": "animate"
           },
           {
            "args": [
             [
              "2020-06-16"
             ],
             {
              "frame": {
               "duration": 0,
               "redraw": true
              },
              "fromcurrent": true,
              "mode": "immediate",
              "transition": {
               "duration": 0,
               "easing": "linear"
              }
             }
            ],
            "label": "2020-06-16",
            "method": "animate"
           },
           {
            "args": [
             [
              "2020-06-17"
             ],
             {
              "frame": {
               "duration": 0,
               "redraw": true
              },
              "fromcurrent": true,
              "mode": "immediate",
              "transition": {
               "duration": 0,
               "easing": "linear"
              }
             }
            ],
            "label": "2020-06-17",
            "method": "animate"
           },
           {
            "args": [
             [
              "2020-06-18"
             ],
             {
              "frame": {
               "duration": 0,
               "redraw": true
              },
              "fromcurrent": true,
              "mode": "immediate",
              "transition": {
               "duration": 0,
               "easing": "linear"
              }
             }
            ],
            "label": "2020-06-18",
            "method": "animate"
           },
           {
            "args": [
             [
              "2020-06-19"
             ],
             {
              "frame": {
               "duration": 0,
               "redraw": true
              },
              "fromcurrent": true,
              "mode": "immediate",
              "transition": {
               "duration": 0,
               "easing": "linear"
              }
             }
            ],
            "label": "2020-06-19",
            "method": "animate"
           },
           {
            "args": [
             [
              "2020-06-20"
             ],
             {
              "frame": {
               "duration": 0,
               "redraw": true
              },
              "fromcurrent": true,
              "mode": "immediate",
              "transition": {
               "duration": 0,
               "easing": "linear"
              }
             }
            ],
            "label": "2020-06-20",
            "method": "animate"
           },
           {
            "args": [
             [
              "2020-06-21"
             ],
             {
              "frame": {
               "duration": 0,
               "redraw": true
              },
              "fromcurrent": true,
              "mode": "immediate",
              "transition": {
               "duration": 0,
               "easing": "linear"
              }
             }
            ],
            "label": "2020-06-21",
            "method": "animate"
           },
           {
            "args": [
             [
              "2020-06-22"
             ],
             {
              "frame": {
               "duration": 0,
               "redraw": true
              },
              "fromcurrent": true,
              "mode": "immediate",
              "transition": {
               "duration": 0,
               "easing": "linear"
              }
             }
            ],
            "label": "2020-06-22",
            "method": "animate"
           },
           {
            "args": [
             [
              "2020-06-23"
             ],
             {
              "frame": {
               "duration": 0,
               "redraw": true
              },
              "fromcurrent": true,
              "mode": "immediate",
              "transition": {
               "duration": 0,
               "easing": "linear"
              }
             }
            ],
            "label": "2020-06-23",
            "method": "animate"
           },
           {
            "args": [
             [
              "2020-06-24"
             ],
             {
              "frame": {
               "duration": 0,
               "redraw": true
              },
              "fromcurrent": true,
              "mode": "immediate",
              "transition": {
               "duration": 0,
               "easing": "linear"
              }
             }
            ],
            "label": "2020-06-24",
            "method": "animate"
           },
           {
            "args": [
             [
              "2020-06-25"
             ],
             {
              "frame": {
               "duration": 0,
               "redraw": true
              },
              "fromcurrent": true,
              "mode": "immediate",
              "transition": {
               "duration": 0,
               "easing": "linear"
              }
             }
            ],
            "label": "2020-06-25",
            "method": "animate"
           },
           {
            "args": [
             [
              "2020-06-26"
             ],
             {
              "frame": {
               "duration": 0,
               "redraw": true
              },
              "fromcurrent": true,
              "mode": "immediate",
              "transition": {
               "duration": 0,
               "easing": "linear"
              }
             }
            ],
            "label": "2020-06-26",
            "method": "animate"
           },
           {
            "args": [
             [
              "2020-06-27"
             ],
             {
              "frame": {
               "duration": 0,
               "redraw": true
              },
              "fromcurrent": true,
              "mode": "immediate",
              "transition": {
               "duration": 0,
               "easing": "linear"
              }
             }
            ],
            "label": "2020-06-27",
            "method": "animate"
           },
           {
            "args": [
             [
              "2020-06-28"
             ],
             {
              "frame": {
               "duration": 0,
               "redraw": true
              },
              "fromcurrent": true,
              "mode": "immediate",
              "transition": {
               "duration": 0,
               "easing": "linear"
              }
             }
            ],
            "label": "2020-06-28",
            "method": "animate"
           },
           {
            "args": [
             [
              "2020-06-29"
             ],
             {
              "frame": {
               "duration": 0,
               "redraw": true
              },
              "fromcurrent": true,
              "mode": "immediate",
              "transition": {
               "duration": 0,
               "easing": "linear"
              }
             }
            ],
            "label": "2020-06-29",
            "method": "animate"
           },
           {
            "args": [
             [
              "2020-06-30"
             ],
             {
              "frame": {
               "duration": 0,
               "redraw": true
              },
              "fromcurrent": true,
              "mode": "immediate",
              "transition": {
               "duration": 0,
               "easing": "linear"
              }
             }
            ],
            "label": "2020-06-30",
            "method": "animate"
           },
           {
            "args": [
             [
              "2020-07-01"
             ],
             {
              "frame": {
               "duration": 0,
               "redraw": true
              },
              "fromcurrent": true,
              "mode": "immediate",
              "transition": {
               "duration": 0,
               "easing": "linear"
              }
             }
            ],
            "label": "2020-07-01",
            "method": "animate"
           },
           {
            "args": [
             [
              "2020-07-02"
             ],
             {
              "frame": {
               "duration": 0,
               "redraw": true
              },
              "fromcurrent": true,
              "mode": "immediate",
              "transition": {
               "duration": 0,
               "easing": "linear"
              }
             }
            ],
            "label": "2020-07-02",
            "method": "animate"
           },
           {
            "args": [
             [
              "2020-07-03"
             ],
             {
              "frame": {
               "duration": 0,
               "redraw": true
              },
              "fromcurrent": true,
              "mode": "immediate",
              "transition": {
               "duration": 0,
               "easing": "linear"
              }
             }
            ],
            "label": "2020-07-03",
            "method": "animate"
           },
           {
            "args": [
             [
              "2020-07-04"
             ],
             {
              "frame": {
               "duration": 0,
               "redraw": true
              },
              "fromcurrent": true,
              "mode": "immediate",
              "transition": {
               "duration": 0,
               "easing": "linear"
              }
             }
            ],
            "label": "2020-07-04",
            "method": "animate"
           },
           {
            "args": [
             [
              "2020-07-05"
             ],
             {
              "frame": {
               "duration": 0,
               "redraw": true
              },
              "fromcurrent": true,
              "mode": "immediate",
              "transition": {
               "duration": 0,
               "easing": "linear"
              }
             }
            ],
            "label": "2020-07-05",
            "method": "animate"
           },
           {
            "args": [
             [
              "2020-07-06"
             ],
             {
              "frame": {
               "duration": 0,
               "redraw": true
              },
              "fromcurrent": true,
              "mode": "immediate",
              "transition": {
               "duration": 0,
               "easing": "linear"
              }
             }
            ],
            "label": "2020-07-06",
            "method": "animate"
           },
           {
            "args": [
             [
              "2020-07-07"
             ],
             {
              "frame": {
               "duration": 0,
               "redraw": true
              },
              "fromcurrent": true,
              "mode": "immediate",
              "transition": {
               "duration": 0,
               "easing": "linear"
              }
             }
            ],
            "label": "2020-07-07",
            "method": "animate"
           },
           {
            "args": [
             [
              "2020-07-08"
             ],
             {
              "frame": {
               "duration": 0,
               "redraw": true
              },
              "fromcurrent": true,
              "mode": "immediate",
              "transition": {
               "duration": 0,
               "easing": "linear"
              }
             }
            ],
            "label": "2020-07-08",
            "method": "animate"
           },
           {
            "args": [
             [
              "2020-07-09"
             ],
             {
              "frame": {
               "duration": 0,
               "redraw": true
              },
              "fromcurrent": true,
              "mode": "immediate",
              "transition": {
               "duration": 0,
               "easing": "linear"
              }
             }
            ],
            "label": "2020-07-09",
            "method": "animate"
           },
           {
            "args": [
             [
              "2020-07-10"
             ],
             {
              "frame": {
               "duration": 0,
               "redraw": true
              },
              "fromcurrent": true,
              "mode": "immediate",
              "transition": {
               "duration": 0,
               "easing": "linear"
              }
             }
            ],
            "label": "2020-07-10",
            "method": "animate"
           },
           {
            "args": [
             [
              "2020-07-11"
             ],
             {
              "frame": {
               "duration": 0,
               "redraw": true
              },
              "fromcurrent": true,
              "mode": "immediate",
              "transition": {
               "duration": 0,
               "easing": "linear"
              }
             }
            ],
            "label": "2020-07-11",
            "method": "animate"
           },
           {
            "args": [
             [
              "2020-07-12"
             ],
             {
              "frame": {
               "duration": 0,
               "redraw": true
              },
              "fromcurrent": true,
              "mode": "immediate",
              "transition": {
               "duration": 0,
               "easing": "linear"
              }
             }
            ],
            "label": "2020-07-12",
            "method": "animate"
           },
           {
            "args": [
             [
              "2020-07-13"
             ],
             {
              "frame": {
               "duration": 0,
               "redraw": true
              },
              "fromcurrent": true,
              "mode": "immediate",
              "transition": {
               "duration": 0,
               "easing": "linear"
              }
             }
            ],
            "label": "2020-07-13",
            "method": "animate"
           },
           {
            "args": [
             [
              "2020-07-14"
             ],
             {
              "frame": {
               "duration": 0,
               "redraw": true
              },
              "fromcurrent": true,
              "mode": "immediate",
              "transition": {
               "duration": 0,
               "easing": "linear"
              }
             }
            ],
            "label": "2020-07-14",
            "method": "animate"
           },
           {
            "args": [
             [
              "2020-07-15"
             ],
             {
              "frame": {
               "duration": 0,
               "redraw": true
              },
              "fromcurrent": true,
              "mode": "immediate",
              "transition": {
               "duration": 0,
               "easing": "linear"
              }
             }
            ],
            "label": "2020-07-15",
            "method": "animate"
           },
           {
            "args": [
             [
              "2020-07-16"
             ],
             {
              "frame": {
               "duration": 0,
               "redraw": true
              },
              "fromcurrent": true,
              "mode": "immediate",
              "transition": {
               "duration": 0,
               "easing": "linear"
              }
             }
            ],
            "label": "2020-07-16",
            "method": "animate"
           },
           {
            "args": [
             [
              "2020-07-17"
             ],
             {
              "frame": {
               "duration": 0,
               "redraw": true
              },
              "fromcurrent": true,
              "mode": "immediate",
              "transition": {
               "duration": 0,
               "easing": "linear"
              }
             }
            ],
            "label": "2020-07-17",
            "method": "animate"
           },
           {
            "args": [
             [
              "2020-07-18"
             ],
             {
              "frame": {
               "duration": 0,
               "redraw": true
              },
              "fromcurrent": true,
              "mode": "immediate",
              "transition": {
               "duration": 0,
               "easing": "linear"
              }
             }
            ],
            "label": "2020-07-18",
            "method": "animate"
           },
           {
            "args": [
             [
              "2020-07-19"
             ],
             {
              "frame": {
               "duration": 0,
               "redraw": true
              },
              "fromcurrent": true,
              "mode": "immediate",
              "transition": {
               "duration": 0,
               "easing": "linear"
              }
             }
            ],
            "label": "2020-07-19",
            "method": "animate"
           },
           {
            "args": [
             [
              "2020-07-20"
             ],
             {
              "frame": {
               "duration": 0,
               "redraw": true
              },
              "fromcurrent": true,
              "mode": "immediate",
              "transition": {
               "duration": 0,
               "easing": "linear"
              }
             }
            ],
            "label": "2020-07-20",
            "method": "animate"
           },
           {
            "args": [
             [
              "2020-07-21"
             ],
             {
              "frame": {
               "duration": 0,
               "redraw": true
              },
              "fromcurrent": true,
              "mode": "immediate",
              "transition": {
               "duration": 0,
               "easing": "linear"
              }
             }
            ],
            "label": "2020-07-21",
            "method": "animate"
           },
           {
            "args": [
             [
              "2020-07-22"
             ],
             {
              "frame": {
               "duration": 0,
               "redraw": true
              },
              "fromcurrent": true,
              "mode": "immediate",
              "transition": {
               "duration": 0,
               "easing": "linear"
              }
             }
            ],
            "label": "2020-07-22",
            "method": "animate"
           },
           {
            "args": [
             [
              "2020-07-23"
             ],
             {
              "frame": {
               "duration": 0,
               "redraw": true
              },
              "fromcurrent": true,
              "mode": "immediate",
              "transition": {
               "duration": 0,
               "easing": "linear"
              }
             }
            ],
            "label": "2020-07-23",
            "method": "animate"
           },
           {
            "args": [
             [
              "2020-07-24"
             ],
             {
              "frame": {
               "duration": 0,
               "redraw": true
              },
              "fromcurrent": true,
              "mode": "immediate",
              "transition": {
               "duration": 0,
               "easing": "linear"
              }
             }
            ],
            "label": "2020-07-24",
            "method": "animate"
           },
           {
            "args": [
             [
              "2020-07-25"
             ],
             {
              "frame": {
               "duration": 0,
               "redraw": true
              },
              "fromcurrent": true,
              "mode": "immediate",
              "transition": {
               "duration": 0,
               "easing": "linear"
              }
             }
            ],
            "label": "2020-07-25",
            "method": "animate"
           },
           {
            "args": [
             [
              "2020-07-26"
             ],
             {
              "frame": {
               "duration": 0,
               "redraw": true
              },
              "fromcurrent": true,
              "mode": "immediate",
              "transition": {
               "duration": 0,
               "easing": "linear"
              }
             }
            ],
            "label": "2020-07-26",
            "method": "animate"
           },
           {
            "args": [
             [
              "2020-07-27"
             ],
             {
              "frame": {
               "duration": 0,
               "redraw": true
              },
              "fromcurrent": true,
              "mode": "immediate",
              "transition": {
               "duration": 0,
               "easing": "linear"
              }
             }
            ],
            "label": "2020-07-27",
            "method": "animate"
           },
           {
            "args": [
             [
              "2020-07-28"
             ],
             {
              "frame": {
               "duration": 0,
               "redraw": true
              },
              "fromcurrent": true,
              "mode": "immediate",
              "transition": {
               "duration": 0,
               "easing": "linear"
              }
             }
            ],
            "label": "2020-07-28",
            "method": "animate"
           },
           {
            "args": [
             [
              "2020-07-29"
             ],
             {
              "frame": {
               "duration": 0,
               "redraw": true
              },
              "fromcurrent": true,
              "mode": "immediate",
              "transition": {
               "duration": 0,
               "easing": "linear"
              }
             }
            ],
            "label": "2020-07-29",
            "method": "animate"
           },
           {
            "args": [
             [
              "2020-07-30"
             ],
             {
              "frame": {
               "duration": 0,
               "redraw": true
              },
              "fromcurrent": true,
              "mode": "immediate",
              "transition": {
               "duration": 0,
               "easing": "linear"
              }
             }
            ],
            "label": "2020-07-30",
            "method": "animate"
           },
           {
            "args": [
             [
              "2020-07-31"
             ],
             {
              "frame": {
               "duration": 0,
               "redraw": true
              },
              "fromcurrent": true,
              "mode": "immediate",
              "transition": {
               "duration": 0,
               "easing": "linear"
              }
             }
            ],
            "label": "2020-07-31",
            "method": "animate"
           },
           {
            "args": [
             [
              "2020-08-01"
             ],
             {
              "frame": {
               "duration": 0,
               "redraw": true
              },
              "fromcurrent": true,
              "mode": "immediate",
              "transition": {
               "duration": 0,
               "easing": "linear"
              }
             }
            ],
            "label": "2020-08-01",
            "method": "animate"
           },
           {
            "args": [
             [
              "2020-08-02"
             ],
             {
              "frame": {
               "duration": 0,
               "redraw": true
              },
              "fromcurrent": true,
              "mode": "immediate",
              "transition": {
               "duration": 0,
               "easing": "linear"
              }
             }
            ],
            "label": "2020-08-02",
            "method": "animate"
           },
           {
            "args": [
             [
              "2020-08-03"
             ],
             {
              "frame": {
               "duration": 0,
               "redraw": true
              },
              "fromcurrent": true,
              "mode": "immediate",
              "transition": {
               "duration": 0,
               "easing": "linear"
              }
             }
            ],
            "label": "2020-08-03",
            "method": "animate"
           },
           {
            "args": [
             [
              "2020-08-04"
             ],
             {
              "frame": {
               "duration": 0,
               "redraw": true
              },
              "fromcurrent": true,
              "mode": "immediate",
              "transition": {
               "duration": 0,
               "easing": "linear"
              }
             }
            ],
            "label": "2020-08-04",
            "method": "animate"
           },
           {
            "args": [
             [
              "2020-08-05"
             ],
             {
              "frame": {
               "duration": 0,
               "redraw": true
              },
              "fromcurrent": true,
              "mode": "immediate",
              "transition": {
               "duration": 0,
               "easing": "linear"
              }
             }
            ],
            "label": "2020-08-05",
            "method": "animate"
           },
           {
            "args": [
             [
              "2020-08-06"
             ],
             {
              "frame": {
               "duration": 0,
               "redraw": true
              },
              "fromcurrent": true,
              "mode": "immediate",
              "transition": {
               "duration": 0,
               "easing": "linear"
              }
             }
            ],
            "label": "2020-08-06",
            "method": "animate"
           },
           {
            "args": [
             [
              "2020-08-07"
             ],
             {
              "frame": {
               "duration": 0,
               "redraw": true
              },
              "fromcurrent": true,
              "mode": "immediate",
              "transition": {
               "duration": 0,
               "easing": "linear"
              }
             }
            ],
            "label": "2020-08-07",
            "method": "animate"
           },
           {
            "args": [
             [
              "2020-08-08"
             ],
             {
              "frame": {
               "duration": 0,
               "redraw": true
              },
              "fromcurrent": true,
              "mode": "immediate",
              "transition": {
               "duration": 0,
               "easing": "linear"
              }
             }
            ],
            "label": "2020-08-08",
            "method": "animate"
           },
           {
            "args": [
             [
              "2020-08-09"
             ],
             {
              "frame": {
               "duration": 0,
               "redraw": true
              },
              "fromcurrent": true,
              "mode": "immediate",
              "transition": {
               "duration": 0,
               "easing": "linear"
              }
             }
            ],
            "label": "2020-08-09",
            "method": "animate"
           },
           {
            "args": [
             [
              "2020-08-10"
             ],
             {
              "frame": {
               "duration": 0,
               "redraw": true
              },
              "fromcurrent": true,
              "mode": "immediate",
              "transition": {
               "duration": 0,
               "easing": "linear"
              }
             }
            ],
            "label": "2020-08-10",
            "method": "animate"
           },
           {
            "args": [
             [
              "2020-08-11"
             ],
             {
              "frame": {
               "duration": 0,
               "redraw": true
              },
              "fromcurrent": true,
              "mode": "immediate",
              "transition": {
               "duration": 0,
               "easing": "linear"
              }
             }
            ],
            "label": "2020-08-11",
            "method": "animate"
           },
           {
            "args": [
             [
              "2020-08-12"
             ],
             {
              "frame": {
               "duration": 0,
               "redraw": true
              },
              "fromcurrent": true,
              "mode": "immediate",
              "transition": {
               "duration": 0,
               "easing": "linear"
              }
             }
            ],
            "label": "2020-08-12",
            "method": "animate"
           },
           {
            "args": [
             [
              "2020-08-13"
             ],
             {
              "frame": {
               "duration": 0,
               "redraw": true
              },
              "fromcurrent": true,
              "mode": "immediate",
              "transition": {
               "duration": 0,
               "easing": "linear"
              }
             }
            ],
            "label": "2020-08-13",
            "method": "animate"
           },
           {
            "args": [
             [
              "2020-08-14"
             ],
             {
              "frame": {
               "duration": 0,
               "redraw": true
              },
              "fromcurrent": true,
              "mode": "immediate",
              "transition": {
               "duration": 0,
               "easing": "linear"
              }
             }
            ],
            "label": "2020-08-14",
            "method": "animate"
           },
           {
            "args": [
             [
              "2020-08-15"
             ],
             {
              "frame": {
               "duration": 0,
               "redraw": true
              },
              "fromcurrent": true,
              "mode": "immediate",
              "transition": {
               "duration": 0,
               "easing": "linear"
              }
             }
            ],
            "label": "2020-08-15",
            "method": "animate"
           },
           {
            "args": [
             [
              "2020-08-16"
             ],
             {
              "frame": {
               "duration": 0,
               "redraw": true
              },
              "fromcurrent": true,
              "mode": "immediate",
              "transition": {
               "duration": 0,
               "easing": "linear"
              }
             }
            ],
            "label": "2020-08-16",
            "method": "animate"
           },
           {
            "args": [
             [
              "2020-08-17"
             ],
             {
              "frame": {
               "duration": 0,
               "redraw": true
              },
              "fromcurrent": true,
              "mode": "immediate",
              "transition": {
               "duration": 0,
               "easing": "linear"
              }
             }
            ],
            "label": "2020-08-17",
            "method": "animate"
           },
           {
            "args": [
             [
              "2020-08-18"
             ],
             {
              "frame": {
               "duration": 0,
               "redraw": true
              },
              "fromcurrent": true,
              "mode": "immediate",
              "transition": {
               "duration": 0,
               "easing": "linear"
              }
             }
            ],
            "label": "2020-08-18",
            "method": "animate"
           },
           {
            "args": [
             [
              "2020-08-19"
             ],
             {
              "frame": {
               "duration": 0,
               "redraw": true
              },
              "fromcurrent": true,
              "mode": "immediate",
              "transition": {
               "duration": 0,
               "easing": "linear"
              }
             }
            ],
            "label": "2020-08-19",
            "method": "animate"
           },
           {
            "args": [
             [
              "2020-08-20"
             ],
             {
              "frame": {
               "duration": 0,
               "redraw": true
              },
              "fromcurrent": true,
              "mode": "immediate",
              "transition": {
               "duration": 0,
               "easing": "linear"
              }
             }
            ],
            "label": "2020-08-20",
            "method": "animate"
           },
           {
            "args": [
             [
              "2020-08-21"
             ],
             {
              "frame": {
               "duration": 0,
               "redraw": true
              },
              "fromcurrent": true,
              "mode": "immediate",
              "transition": {
               "duration": 0,
               "easing": "linear"
              }
             }
            ],
            "label": "2020-08-21",
            "method": "animate"
           },
           {
            "args": [
             [
              "2020-08-22"
             ],
             {
              "frame": {
               "duration": 0,
               "redraw": true
              },
              "fromcurrent": true,
              "mode": "immediate",
              "transition": {
               "duration": 0,
               "easing": "linear"
              }
             }
            ],
            "label": "2020-08-22",
            "method": "animate"
           },
           {
            "args": [
             [
              "2020-08-23"
             ],
             {
              "frame": {
               "duration": 0,
               "redraw": true
              },
              "fromcurrent": true,
              "mode": "immediate",
              "transition": {
               "duration": 0,
               "easing": "linear"
              }
             }
            ],
            "label": "2020-08-23",
            "method": "animate"
           },
           {
            "args": [
             [
              "2020-08-24"
             ],
             {
              "frame": {
               "duration": 0,
               "redraw": true
              },
              "fromcurrent": true,
              "mode": "immediate",
              "transition": {
               "duration": 0,
               "easing": "linear"
              }
             }
            ],
            "label": "2020-08-24",
            "method": "animate"
           },
           {
            "args": [
             [
              "2020-08-25"
             ],
             {
              "frame": {
               "duration": 0,
               "redraw": true
              },
              "fromcurrent": true,
              "mode": "immediate",
              "transition": {
               "duration": 0,
               "easing": "linear"
              }
             }
            ],
            "label": "2020-08-25",
            "method": "animate"
           },
           {
            "args": [
             [
              "2020-08-26"
             ],
             {
              "frame": {
               "duration": 0,
               "redraw": true
              },
              "fromcurrent": true,
              "mode": "immediate",
              "transition": {
               "duration": 0,
               "easing": "linear"
              }
             }
            ],
            "label": "2020-08-26",
            "method": "animate"
           },
           {
            "args": [
             [
              "2020-08-27"
             ],
             {
              "frame": {
               "duration": 0,
               "redraw": true
              },
              "fromcurrent": true,
              "mode": "immediate",
              "transition": {
               "duration": 0,
               "easing": "linear"
              }
             }
            ],
            "label": "2020-08-27",
            "method": "animate"
           },
           {
            "args": [
             [
              "2020-08-28"
             ],
             {
              "frame": {
               "duration": 0,
               "redraw": true
              },
              "fromcurrent": true,
              "mode": "immediate",
              "transition": {
               "duration": 0,
               "easing": "linear"
              }
             }
            ],
            "label": "2020-08-28",
            "method": "animate"
           },
           {
            "args": [
             [
              "2020-08-29"
             ],
             {
              "frame": {
               "duration": 0,
               "redraw": true
              },
              "fromcurrent": true,
              "mode": "immediate",
              "transition": {
               "duration": 0,
               "easing": "linear"
              }
             }
            ],
            "label": "2020-08-29",
            "method": "animate"
           },
           {
            "args": [
             [
              "2020-08-30"
             ],
             {
              "frame": {
               "duration": 0,
               "redraw": true
              },
              "fromcurrent": true,
              "mode": "immediate",
              "transition": {
               "duration": 0,
               "easing": "linear"
              }
             }
            ],
            "label": "2020-08-30",
            "method": "animate"
           },
           {
            "args": [
             [
              "2020-08-31"
             ],
             {
              "frame": {
               "duration": 0,
               "redraw": true
              },
              "fromcurrent": true,
              "mode": "immediate",
              "transition": {
               "duration": 0,
               "easing": "linear"
              }
             }
            ],
            "label": "2020-08-31",
            "method": "animate"
           },
           {
            "args": [
             [
              "2020-09-01"
             ],
             {
              "frame": {
               "duration": 0,
               "redraw": true
              },
              "fromcurrent": true,
              "mode": "immediate",
              "transition": {
               "duration": 0,
               "easing": "linear"
              }
             }
            ],
            "label": "2020-09-01",
            "method": "animate"
           },
           {
            "args": [
             [
              "2020-09-02"
             ],
             {
              "frame": {
               "duration": 0,
               "redraw": true
              },
              "fromcurrent": true,
              "mode": "immediate",
              "transition": {
               "duration": 0,
               "easing": "linear"
              }
             }
            ],
            "label": "2020-09-02",
            "method": "animate"
           },
           {
            "args": [
             [
              "2020-09-03"
             ],
             {
              "frame": {
               "duration": 0,
               "redraw": true
              },
              "fromcurrent": true,
              "mode": "immediate",
              "transition": {
               "duration": 0,
               "easing": "linear"
              }
             }
            ],
            "label": "2020-09-03",
            "method": "animate"
           },
           {
            "args": [
             [
              "2020-09-04"
             ],
             {
              "frame": {
               "duration": 0,
               "redraw": true
              },
              "fromcurrent": true,
              "mode": "immediate",
              "transition": {
               "duration": 0,
               "easing": "linear"
              }
             }
            ],
            "label": "2020-09-04",
            "method": "animate"
           },
           {
            "args": [
             [
              "2020-09-05"
             ],
             {
              "frame": {
               "duration": 0,
               "redraw": true
              },
              "fromcurrent": true,
              "mode": "immediate",
              "transition": {
               "duration": 0,
               "easing": "linear"
              }
             }
            ],
            "label": "2020-09-05",
            "method": "animate"
           },
           {
            "args": [
             [
              "2020-09-06"
             ],
             {
              "frame": {
               "duration": 0,
               "redraw": true
              },
              "fromcurrent": true,
              "mode": "immediate",
              "transition": {
               "duration": 0,
               "easing": "linear"
              }
             }
            ],
            "label": "2020-09-06",
            "method": "animate"
           },
           {
            "args": [
             [
              "2020-09-07"
             ],
             {
              "frame": {
               "duration": 0,
               "redraw": true
              },
              "fromcurrent": true,
              "mode": "immediate",
              "transition": {
               "duration": 0,
               "easing": "linear"
              }
             }
            ],
            "label": "2020-09-07",
            "method": "animate"
           },
           {
            "args": [
             [
              "2020-09-08"
             ],
             {
              "frame": {
               "duration": 0,
               "redraw": true
              },
              "fromcurrent": true,
              "mode": "immediate",
              "transition": {
               "duration": 0,
               "easing": "linear"
              }
             }
            ],
            "label": "2020-09-08",
            "method": "animate"
           },
           {
            "args": [
             [
              "2020-09-09"
             ],
             {
              "frame": {
               "duration": 0,
               "redraw": true
              },
              "fromcurrent": true,
              "mode": "immediate",
              "transition": {
               "duration": 0,
               "easing": "linear"
              }
             }
            ],
            "label": "2020-09-09",
            "method": "animate"
           },
           {
            "args": [
             [
              "2020-09-10"
             ],
             {
              "frame": {
               "duration": 0,
               "redraw": true
              },
              "fromcurrent": true,
              "mode": "immediate",
              "transition": {
               "duration": 0,
               "easing": "linear"
              }
             }
            ],
            "label": "2020-09-10",
            "method": "animate"
           },
           {
            "args": [
             [
              "2020-09-11"
             ],
             {
              "frame": {
               "duration": 0,
               "redraw": true
              },
              "fromcurrent": true,
              "mode": "immediate",
              "transition": {
               "duration": 0,
               "easing": "linear"
              }
             }
            ],
            "label": "2020-09-11",
            "method": "animate"
           },
           {
            "args": [
             [
              "2020-09-12"
             ],
             {
              "frame": {
               "duration": 0,
               "redraw": true
              },
              "fromcurrent": true,
              "mode": "immediate",
              "transition": {
               "duration": 0,
               "easing": "linear"
              }
             }
            ],
            "label": "2020-09-12",
            "method": "animate"
           },
           {
            "args": [
             [
              "2020-09-13"
             ],
             {
              "frame": {
               "duration": 0,
               "redraw": true
              },
              "fromcurrent": true,
              "mode": "immediate",
              "transition": {
               "duration": 0,
               "easing": "linear"
              }
             }
            ],
            "label": "2020-09-13",
            "method": "animate"
           },
           {
            "args": [
             [
              "2020-09-14"
             ],
             {
              "frame": {
               "duration": 0,
               "redraw": true
              },
              "fromcurrent": true,
              "mode": "immediate",
              "transition": {
               "duration": 0,
               "easing": "linear"
              }
             }
            ],
            "label": "2020-09-14",
            "method": "animate"
           },
           {
            "args": [
             [
              "2020-09-15"
             ],
             {
              "frame": {
               "duration": 0,
               "redraw": true
              },
              "fromcurrent": true,
              "mode": "immediate",
              "transition": {
               "duration": 0,
               "easing": "linear"
              }
             }
            ],
            "label": "2020-09-15",
            "method": "animate"
           },
           {
            "args": [
             [
              "2020-09-16"
             ],
             {
              "frame": {
               "duration": 0,
               "redraw": true
              },
              "fromcurrent": true,
              "mode": "immediate",
              "transition": {
               "duration": 0,
               "easing": "linear"
              }
             }
            ],
            "label": "2020-09-16",
            "method": "animate"
           },
           {
            "args": [
             [
              "2020-09-17"
             ],
             {
              "frame": {
               "duration": 0,
               "redraw": true
              },
              "fromcurrent": true,
              "mode": "immediate",
              "transition": {
               "duration": 0,
               "easing": "linear"
              }
             }
            ],
            "label": "2020-09-17",
            "method": "animate"
           },
           {
            "args": [
             [
              "2020-09-18"
             ],
             {
              "frame": {
               "duration": 0,
               "redraw": true
              },
              "fromcurrent": true,
              "mode": "immediate",
              "transition": {
               "duration": 0,
               "easing": "linear"
              }
             }
            ],
            "label": "2020-09-18",
            "method": "animate"
           },
           {
            "args": [
             [
              "2020-09-19"
             ],
             {
              "frame": {
               "duration": 0,
               "redraw": true
              },
              "fromcurrent": true,
              "mode": "immediate",
              "transition": {
               "duration": 0,
               "easing": "linear"
              }
             }
            ],
            "label": "2020-09-19",
            "method": "animate"
           },
           {
            "args": [
             [
              "2020-09-20"
             ],
             {
              "frame": {
               "duration": 0,
               "redraw": true
              },
              "fromcurrent": true,
              "mode": "immediate",
              "transition": {
               "duration": 0,
               "easing": "linear"
              }
             }
            ],
            "label": "2020-09-20",
            "method": "animate"
           },
           {
            "args": [
             [
              "2020-09-21"
             ],
             {
              "frame": {
               "duration": 0,
               "redraw": true
              },
              "fromcurrent": true,
              "mode": "immediate",
              "transition": {
               "duration": 0,
               "easing": "linear"
              }
             }
            ],
            "label": "2020-09-21",
            "method": "animate"
           },
           {
            "args": [
             [
              "2020-09-22"
             ],
             {
              "frame": {
               "duration": 0,
               "redraw": true
              },
              "fromcurrent": true,
              "mode": "immediate",
              "transition": {
               "duration": 0,
               "easing": "linear"
              }
             }
            ],
            "label": "2020-09-22",
            "method": "animate"
           },
           {
            "args": [
             [
              "2020-09-23"
             ],
             {
              "frame": {
               "duration": 0,
               "redraw": true
              },
              "fromcurrent": true,
              "mode": "immediate",
              "transition": {
               "duration": 0,
               "easing": "linear"
              }
             }
            ],
            "label": "2020-09-23",
            "method": "animate"
           },
           {
            "args": [
             [
              "2020-09-24"
             ],
             {
              "frame": {
               "duration": 0,
               "redraw": true
              },
              "fromcurrent": true,
              "mode": "immediate",
              "transition": {
               "duration": 0,
               "easing": "linear"
              }
             }
            ],
            "label": "2020-09-24",
            "method": "animate"
           },
           {
            "args": [
             [
              "2020-09-25"
             ],
             {
              "frame": {
               "duration": 0,
               "redraw": true
              },
              "fromcurrent": true,
              "mode": "immediate",
              "transition": {
               "duration": 0,
               "easing": "linear"
              }
             }
            ],
            "label": "2020-09-25",
            "method": "animate"
           },
           {
            "args": [
             [
              "2020-09-26"
             ],
             {
              "frame": {
               "duration": 0,
               "redraw": true
              },
              "fromcurrent": true,
              "mode": "immediate",
              "transition": {
               "duration": 0,
               "easing": "linear"
              }
             }
            ],
            "label": "2020-09-26",
            "method": "animate"
           },
           {
            "args": [
             [
              "2020-09-27"
             ],
             {
              "frame": {
               "duration": 0,
               "redraw": true
              },
              "fromcurrent": true,
              "mode": "immediate",
              "transition": {
               "duration": 0,
               "easing": "linear"
              }
             }
            ],
            "label": "2020-09-27",
            "method": "animate"
           },
           {
            "args": [
             [
              "2020-09-28"
             ],
             {
              "frame": {
               "duration": 0,
               "redraw": true
              },
              "fromcurrent": true,
              "mode": "immediate",
              "transition": {
               "duration": 0,
               "easing": "linear"
              }
             }
            ],
            "label": "2020-09-28",
            "method": "animate"
           },
           {
            "args": [
             [
              "2020-09-29"
             ],
             {
              "frame": {
               "duration": 0,
               "redraw": true
              },
              "fromcurrent": true,
              "mode": "immediate",
              "transition": {
               "duration": 0,
               "easing": "linear"
              }
             }
            ],
            "label": "2020-09-29",
            "method": "animate"
           },
           {
            "args": [
             [
              "2020-09-30"
             ],
             {
              "frame": {
               "duration": 0,
               "redraw": true
              },
              "fromcurrent": true,
              "mode": "immediate",
              "transition": {
               "duration": 0,
               "easing": "linear"
              }
             }
            ],
            "label": "2020-09-30",
            "method": "animate"
           },
           {
            "args": [
             [
              "2020-10-01"
             ],
             {
              "frame": {
               "duration": 0,
               "redraw": true
              },
              "fromcurrent": true,
              "mode": "immediate",
              "transition": {
               "duration": 0,
               "easing": "linear"
              }
             }
            ],
            "label": "2020-10-01",
            "method": "animate"
           },
           {
            "args": [
             [
              "2020-10-02"
             ],
             {
              "frame": {
               "duration": 0,
               "redraw": true
              },
              "fromcurrent": true,
              "mode": "immediate",
              "transition": {
               "duration": 0,
               "easing": "linear"
              }
             }
            ],
            "label": "2020-10-02",
            "method": "animate"
           },
           {
            "args": [
             [
              "2020-10-03"
             ],
             {
              "frame": {
               "duration": 0,
               "redraw": true
              },
              "fromcurrent": true,
              "mode": "immediate",
              "transition": {
               "duration": 0,
               "easing": "linear"
              }
             }
            ],
            "label": "2020-10-03",
            "method": "animate"
           },
           {
            "args": [
             [
              "2020-10-04"
             ],
             {
              "frame": {
               "duration": 0,
               "redraw": true
              },
              "fromcurrent": true,
              "mode": "immediate",
              "transition": {
               "duration": 0,
               "easing": "linear"
              }
             }
            ],
            "label": "2020-10-04",
            "method": "animate"
           },
           {
            "args": [
             [
              "2020-10-05"
             ],
             {
              "frame": {
               "duration": 0,
               "redraw": true
              },
              "fromcurrent": true,
              "mode": "immediate",
              "transition": {
               "duration": 0,
               "easing": "linear"
              }
             }
            ],
            "label": "2020-10-05",
            "method": "animate"
           },
           {
            "args": [
             [
              "2020-10-06"
             ],
             {
              "frame": {
               "duration": 0,
               "redraw": true
              },
              "fromcurrent": true,
              "mode": "immediate",
              "transition": {
               "duration": 0,
               "easing": "linear"
              }
             }
            ],
            "label": "2020-10-06",
            "method": "animate"
           },
           {
            "args": [
             [
              "2020-10-07"
             ],
             {
              "frame": {
               "duration": 0,
               "redraw": true
              },
              "fromcurrent": true,
              "mode": "immediate",
              "transition": {
               "duration": 0,
               "easing": "linear"
              }
             }
            ],
            "label": "2020-10-07",
            "method": "animate"
           },
           {
            "args": [
             [
              "2020-10-08"
             ],
             {
              "frame": {
               "duration": 0,
               "redraw": true
              },
              "fromcurrent": true,
              "mode": "immediate",
              "transition": {
               "duration": 0,
               "easing": "linear"
              }
             }
            ],
            "label": "2020-10-08",
            "method": "animate"
           },
           {
            "args": [
             [
              "2020-10-09"
             ],
             {
              "frame": {
               "duration": 0,
               "redraw": true
              },
              "fromcurrent": true,
              "mode": "immediate",
              "transition": {
               "duration": 0,
               "easing": "linear"
              }
             }
            ],
            "label": "2020-10-09",
            "method": "animate"
           },
           {
            "args": [
             [
              "2020-10-10"
             ],
             {
              "frame": {
               "duration": 0,
               "redraw": true
              },
              "fromcurrent": true,
              "mode": "immediate",
              "transition": {
               "duration": 0,
               "easing": "linear"
              }
             }
            ],
            "label": "2020-10-10",
            "method": "animate"
           },
           {
            "args": [
             [
              "2020-10-11"
             ],
             {
              "frame": {
               "duration": 0,
               "redraw": true
              },
              "fromcurrent": true,
              "mode": "immediate",
              "transition": {
               "duration": 0,
               "easing": "linear"
              }
             }
            ],
            "label": "2020-10-11",
            "method": "animate"
           },
           {
            "args": [
             [
              "2020-10-12"
             ],
             {
              "frame": {
               "duration": 0,
               "redraw": true
              },
              "fromcurrent": true,
              "mode": "immediate",
              "transition": {
               "duration": 0,
               "easing": "linear"
              }
             }
            ],
            "label": "2020-10-12",
            "method": "animate"
           },
           {
            "args": [
             [
              "2020-10-13"
             ],
             {
              "frame": {
               "duration": 0,
               "redraw": true
              },
              "fromcurrent": true,
              "mode": "immediate",
              "transition": {
               "duration": 0,
               "easing": "linear"
              }
             }
            ],
            "label": "2020-10-13",
            "method": "animate"
           },
           {
            "args": [
             [
              "2020-10-14"
             ],
             {
              "frame": {
               "duration": 0,
               "redraw": true
              },
              "fromcurrent": true,
              "mode": "immediate",
              "transition": {
               "duration": 0,
               "easing": "linear"
              }
             }
            ],
            "label": "2020-10-14",
            "method": "animate"
           },
           {
            "args": [
             [
              "2020-10-15"
             ],
             {
              "frame": {
               "duration": 0,
               "redraw": true
              },
              "fromcurrent": true,
              "mode": "immediate",
              "transition": {
               "duration": 0,
               "easing": "linear"
              }
             }
            ],
            "label": "2020-10-15",
            "method": "animate"
           },
           {
            "args": [
             [
              "2020-10-16"
             ],
             {
              "frame": {
               "duration": 0,
               "redraw": true
              },
              "fromcurrent": true,
              "mode": "immediate",
              "transition": {
               "duration": 0,
               "easing": "linear"
              }
             }
            ],
            "label": "2020-10-16",
            "method": "animate"
           },
           {
            "args": [
             [
              "2020-10-17"
             ],
             {
              "frame": {
               "duration": 0,
               "redraw": true
              },
              "fromcurrent": true,
              "mode": "immediate",
              "transition": {
               "duration": 0,
               "easing": "linear"
              }
             }
            ],
            "label": "2020-10-17",
            "method": "animate"
           },
           {
            "args": [
             [
              "2020-10-18"
             ],
             {
              "frame": {
               "duration": 0,
               "redraw": true
              },
              "fromcurrent": true,
              "mode": "immediate",
              "transition": {
               "duration": 0,
               "easing": "linear"
              }
             }
            ],
            "label": "2020-10-18",
            "method": "animate"
           },
           {
            "args": [
             [
              "2020-10-19"
             ],
             {
              "frame": {
               "duration": 0,
               "redraw": true
              },
              "fromcurrent": true,
              "mode": "immediate",
              "transition": {
               "duration": 0,
               "easing": "linear"
              }
             }
            ],
            "label": "2020-10-19",
            "method": "animate"
           },
           {
            "args": [
             [
              "2020-10-20"
             ],
             {
              "frame": {
               "duration": 0,
               "redraw": true
              },
              "fromcurrent": true,
              "mode": "immediate",
              "transition": {
               "duration": 0,
               "easing": "linear"
              }
             }
            ],
            "label": "2020-10-20",
            "method": "animate"
           },
           {
            "args": [
             [
              "2020-10-21"
             ],
             {
              "frame": {
               "duration": 0,
               "redraw": true
              },
              "fromcurrent": true,
              "mode": "immediate",
              "transition": {
               "duration": 0,
               "easing": "linear"
              }
             }
            ],
            "label": "2020-10-21",
            "method": "animate"
           },
           {
            "args": [
             [
              "2020-10-22"
             ],
             {
              "frame": {
               "duration": 0,
               "redraw": true
              },
              "fromcurrent": true,
              "mode": "immediate",
              "transition": {
               "duration": 0,
               "easing": "linear"
              }
             }
            ],
            "label": "2020-10-22",
            "method": "animate"
           },
           {
            "args": [
             [
              "2020-10-23"
             ],
             {
              "frame": {
               "duration": 0,
               "redraw": true
              },
              "fromcurrent": true,
              "mode": "immediate",
              "transition": {
               "duration": 0,
               "easing": "linear"
              }
             }
            ],
            "label": "2020-10-23",
            "method": "animate"
           },
           {
            "args": [
             [
              "2020-10-24"
             ],
             {
              "frame": {
               "duration": 0,
               "redraw": true
              },
              "fromcurrent": true,
              "mode": "immediate",
              "transition": {
               "duration": 0,
               "easing": "linear"
              }
             }
            ],
            "label": "2020-10-24",
            "method": "animate"
           },
           {
            "args": [
             [
              "2020-10-25"
             ],
             {
              "frame": {
               "duration": 0,
               "redraw": true
              },
              "fromcurrent": true,
              "mode": "immediate",
              "transition": {
               "duration": 0,
               "easing": "linear"
              }
             }
            ],
            "label": "2020-10-25",
            "method": "animate"
           },
           {
            "args": [
             [
              "2020-10-26"
             ],
             {
              "frame": {
               "duration": 0,
               "redraw": true
              },
              "fromcurrent": true,
              "mode": "immediate",
              "transition": {
               "duration": 0,
               "easing": "linear"
              }
             }
            ],
            "label": "2020-10-26",
            "method": "animate"
           },
           {
            "args": [
             [
              "2020-10-27"
             ],
             {
              "frame": {
               "duration": 0,
               "redraw": true
              },
              "fromcurrent": true,
              "mode": "immediate",
              "transition": {
               "duration": 0,
               "easing": "linear"
              }
             }
            ],
            "label": "2020-10-27",
            "method": "animate"
           },
           {
            "args": [
             [
              "2020-10-28"
             ],
             {
              "frame": {
               "duration": 0,
               "redraw": true
              },
              "fromcurrent": true,
              "mode": "immediate",
              "transition": {
               "duration": 0,
               "easing": "linear"
              }
             }
            ],
            "label": "2020-10-28",
            "method": "animate"
           },
           {
            "args": [
             [
              "2020-10-29"
             ],
             {
              "frame": {
               "duration": 0,
               "redraw": true
              },
              "fromcurrent": true,
              "mode": "immediate",
              "transition": {
               "duration": 0,
               "easing": "linear"
              }
             }
            ],
            "label": "2020-10-29",
            "method": "animate"
           },
           {
            "args": [
             [
              "2020-10-30"
             ],
             {
              "frame": {
               "duration": 0,
               "redraw": true
              },
              "fromcurrent": true,
              "mode": "immediate",
              "transition": {
               "duration": 0,
               "easing": "linear"
              }
             }
            ],
            "label": "2020-10-30",
            "method": "animate"
           },
           {
            "args": [
             [
              "2020-10-31"
             ],
             {
              "frame": {
               "duration": 0,
               "redraw": true
              },
              "fromcurrent": true,
              "mode": "immediate",
              "transition": {
               "duration": 0,
               "easing": "linear"
              }
             }
            ],
            "label": "2020-10-31",
            "method": "animate"
           },
           {
            "args": [
             [
              "2020-11-01"
             ],
             {
              "frame": {
               "duration": 0,
               "redraw": true
              },
              "fromcurrent": true,
              "mode": "immediate",
              "transition": {
               "duration": 0,
               "easing": "linear"
              }
             }
            ],
            "label": "2020-11-01",
            "method": "animate"
           },
           {
            "args": [
             [
              "2020-11-02"
             ],
             {
              "frame": {
               "duration": 0,
               "redraw": true
              },
              "fromcurrent": true,
              "mode": "immediate",
              "transition": {
               "duration": 0,
               "easing": "linear"
              }
             }
            ],
            "label": "2020-11-02",
            "method": "animate"
           },
           {
            "args": [
             [
              "2020-11-03"
             ],
             {
              "frame": {
               "duration": 0,
               "redraw": true
              },
              "fromcurrent": true,
              "mode": "immediate",
              "transition": {
               "duration": 0,
               "easing": "linear"
              }
             }
            ],
            "label": "2020-11-03",
            "method": "animate"
           },
           {
            "args": [
             [
              "2020-11-04"
             ],
             {
              "frame": {
               "duration": 0,
               "redraw": true
              },
              "fromcurrent": true,
              "mode": "immediate",
              "transition": {
               "duration": 0,
               "easing": "linear"
              }
             }
            ],
            "label": "2020-11-04",
            "method": "animate"
           },
           {
            "args": [
             [
              "2020-11-05"
             ],
             {
              "frame": {
               "duration": 0,
               "redraw": true
              },
              "fromcurrent": true,
              "mode": "immediate",
              "transition": {
               "duration": 0,
               "easing": "linear"
              }
             }
            ],
            "label": "2020-11-05",
            "method": "animate"
           },
           {
            "args": [
             [
              "2020-11-06"
             ],
             {
              "frame": {
               "duration": 0,
               "redraw": true
              },
              "fromcurrent": true,
              "mode": "immediate",
              "transition": {
               "duration": 0,
               "easing": "linear"
              }
             }
            ],
            "label": "2020-11-06",
            "method": "animate"
           },
           {
            "args": [
             [
              "2020-11-07"
             ],
             {
              "frame": {
               "duration": 0,
               "redraw": true
              },
              "fromcurrent": true,
              "mode": "immediate",
              "transition": {
               "duration": 0,
               "easing": "linear"
              }
             }
            ],
            "label": "2020-11-07",
            "method": "animate"
           },
           {
            "args": [
             [
              "2020-11-08"
             ],
             {
              "frame": {
               "duration": 0,
               "redraw": true
              },
              "fromcurrent": true,
              "mode": "immediate",
              "transition": {
               "duration": 0,
               "easing": "linear"
              }
             }
            ],
            "label": "2020-11-08",
            "method": "animate"
           },
           {
            "args": [
             [
              "2020-11-09"
             ],
             {
              "frame": {
               "duration": 0,
               "redraw": true
              },
              "fromcurrent": true,
              "mode": "immediate",
              "transition": {
               "duration": 0,
               "easing": "linear"
              }
             }
            ],
            "label": "2020-11-09",
            "method": "animate"
           },
           {
            "args": [
             [
              "2020-11-10"
             ],
             {
              "frame": {
               "duration": 0,
               "redraw": true
              },
              "fromcurrent": true,
              "mode": "immediate",
              "transition": {
               "duration": 0,
               "easing": "linear"
              }
             }
            ],
            "label": "2020-11-10",
            "method": "animate"
           },
           {
            "args": [
             [
              "2020-11-11"
             ],
             {
              "frame": {
               "duration": 0,
               "redraw": true
              },
              "fromcurrent": true,
              "mode": "immediate",
              "transition": {
               "duration": 0,
               "easing": "linear"
              }
             }
            ],
            "label": "2020-11-11",
            "method": "animate"
           },
           {
            "args": [
             [
              "2020-11-12"
             ],
             {
              "frame": {
               "duration": 0,
               "redraw": true
              },
              "fromcurrent": true,
              "mode": "immediate",
              "transition": {
               "duration": 0,
               "easing": "linear"
              }
             }
            ],
            "label": "2020-11-12",
            "method": "animate"
           },
           {
            "args": [
             [
              "2020-11-13"
             ],
             {
              "frame": {
               "duration": 0,
               "redraw": true
              },
              "fromcurrent": true,
              "mode": "immediate",
              "transition": {
               "duration": 0,
               "easing": "linear"
              }
             }
            ],
            "label": "2020-11-13",
            "method": "animate"
           },
           {
            "args": [
             [
              "2020-11-14"
             ],
             {
              "frame": {
               "duration": 0,
               "redraw": true
              },
              "fromcurrent": true,
              "mode": "immediate",
              "transition": {
               "duration": 0,
               "easing": "linear"
              }
             }
            ],
            "label": "2020-11-14",
            "method": "animate"
           },
           {
            "args": [
             [
              "2020-11-15"
             ],
             {
              "frame": {
               "duration": 0,
               "redraw": true
              },
              "fromcurrent": true,
              "mode": "immediate",
              "transition": {
               "duration": 0,
               "easing": "linear"
              }
             }
            ],
            "label": "2020-11-15",
            "method": "animate"
           },
           {
            "args": [
             [
              "2020-11-16"
             ],
             {
              "frame": {
               "duration": 0,
               "redraw": true
              },
              "fromcurrent": true,
              "mode": "immediate",
              "transition": {
               "duration": 0,
               "easing": "linear"
              }
             }
            ],
            "label": "2020-11-16",
            "method": "animate"
           },
           {
            "args": [
             [
              "2020-11-17"
             ],
             {
              "frame": {
               "duration": 0,
               "redraw": true
              },
              "fromcurrent": true,
              "mode": "immediate",
              "transition": {
               "duration": 0,
               "easing": "linear"
              }
             }
            ],
            "label": "2020-11-17",
            "method": "animate"
           },
           {
            "args": [
             [
              "2020-11-18"
             ],
             {
              "frame": {
               "duration": 0,
               "redraw": true
              },
              "fromcurrent": true,
              "mode": "immediate",
              "transition": {
               "duration": 0,
               "easing": "linear"
              }
             }
            ],
            "label": "2020-11-18",
            "method": "animate"
           },
           {
            "args": [
             [
              "2020-11-19"
             ],
             {
              "frame": {
               "duration": 0,
               "redraw": true
              },
              "fromcurrent": true,
              "mode": "immediate",
              "transition": {
               "duration": 0,
               "easing": "linear"
              }
             }
            ],
            "label": "2020-11-19",
            "method": "animate"
           },
           {
            "args": [
             [
              "2020-11-20"
             ],
             {
              "frame": {
               "duration": 0,
               "redraw": true
              },
              "fromcurrent": true,
              "mode": "immediate",
              "transition": {
               "duration": 0,
               "easing": "linear"
              }
             }
            ],
            "label": "2020-11-20",
            "method": "animate"
           },
           {
            "args": [
             [
              "2020-11-21"
             ],
             {
              "frame": {
               "duration": 0,
               "redraw": true
              },
              "fromcurrent": true,
              "mode": "immediate",
              "transition": {
               "duration": 0,
               "easing": "linear"
              }
             }
            ],
            "label": "2020-11-21",
            "method": "animate"
           },
           {
            "args": [
             [
              "2020-11-22"
             ],
             {
              "frame": {
               "duration": 0,
               "redraw": true
              },
              "fromcurrent": true,
              "mode": "immediate",
              "transition": {
               "duration": 0,
               "easing": "linear"
              }
             }
            ],
            "label": "2020-11-22",
            "method": "animate"
           },
           {
            "args": [
             [
              "2020-11-23"
             ],
             {
              "frame": {
               "duration": 0,
               "redraw": true
              },
              "fromcurrent": true,
              "mode": "immediate",
              "transition": {
               "duration": 0,
               "easing": "linear"
              }
             }
            ],
            "label": "2020-11-23",
            "method": "animate"
           },
           {
            "args": [
             [
              "2020-11-24"
             ],
             {
              "frame": {
               "duration": 0,
               "redraw": true
              },
              "fromcurrent": true,
              "mode": "immediate",
              "transition": {
               "duration": 0,
               "easing": "linear"
              }
             }
            ],
            "label": "2020-11-24",
            "method": "animate"
           },
           {
            "args": [
             [
              "2020-11-25"
             ],
             {
              "frame": {
               "duration": 0,
               "redraw": true
              },
              "fromcurrent": true,
              "mode": "immediate",
              "transition": {
               "duration": 0,
               "easing": "linear"
              }
             }
            ],
            "label": "2020-11-25",
            "method": "animate"
           },
           {
            "args": [
             [
              "2020-11-26"
             ],
             {
              "frame": {
               "duration": 0,
               "redraw": true
              },
              "fromcurrent": true,
              "mode": "immediate",
              "transition": {
               "duration": 0,
               "easing": "linear"
              }
             }
            ],
            "label": "2020-11-26",
            "method": "animate"
           },
           {
            "args": [
             [
              "2020-11-27"
             ],
             {
              "frame": {
               "duration": 0,
               "redraw": true
              },
              "fromcurrent": true,
              "mode": "immediate",
              "transition": {
               "duration": 0,
               "easing": "linear"
              }
             }
            ],
            "label": "2020-11-27",
            "method": "animate"
           },
           {
            "args": [
             [
              "2020-11-28"
             ],
             {
              "frame": {
               "duration": 0,
               "redraw": true
              },
              "fromcurrent": true,
              "mode": "immediate",
              "transition": {
               "duration": 0,
               "easing": "linear"
              }
             }
            ],
            "label": "2020-11-28",
            "method": "animate"
           },
           {
            "args": [
             [
              "2020-11-29"
             ],
             {
              "frame": {
               "duration": 0,
               "redraw": true
              },
              "fromcurrent": true,
              "mode": "immediate",
              "transition": {
               "duration": 0,
               "easing": "linear"
              }
             }
            ],
            "label": "2020-11-29",
            "method": "animate"
           },
           {
            "args": [
             [
              "2020-11-30"
             ],
             {
              "frame": {
               "duration": 0,
               "redraw": true
              },
              "fromcurrent": true,
              "mode": "immediate",
              "transition": {
               "duration": 0,
               "easing": "linear"
              }
             }
            ],
            "label": "2020-11-30",
            "method": "animate"
           },
           {
            "args": [
             [
              "2020-12-01"
             ],
             {
              "frame": {
               "duration": 0,
               "redraw": true
              },
              "fromcurrent": true,
              "mode": "immediate",
              "transition": {
               "duration": 0,
               "easing": "linear"
              }
             }
            ],
            "label": "2020-12-01",
            "method": "animate"
           },
           {
            "args": [
             [
              "2020-12-02"
             ],
             {
              "frame": {
               "duration": 0,
               "redraw": true
              },
              "fromcurrent": true,
              "mode": "immediate",
              "transition": {
               "duration": 0,
               "easing": "linear"
              }
             }
            ],
            "label": "2020-12-02",
            "method": "animate"
           }
          ],
          "x": 0.1,
          "xanchor": "left",
          "y": 0,
          "yanchor": "top"
         }
        ],
        "template": {
         "data": {
          "bar": [
           {
            "error_x": {
             "color": "#2a3f5f"
            },
            "error_y": {
             "color": "#2a3f5f"
            },
            "marker": {
             "line": {
              "color": "#E5ECF6",
              "width": 0.5
             },
             "pattern": {
              "fillmode": "overlay",
              "size": 10,
              "solidity": 0.2
             }
            },
            "type": "bar"
           }
          ],
          "barpolar": [
           {
            "marker": {
             "line": {
              "color": "#E5ECF6",
              "width": 0.5
             },
             "pattern": {
              "fillmode": "overlay",
              "size": 10,
              "solidity": 0.2
             }
            },
            "type": "barpolar"
           }
          ],
          "carpet": [
           {
            "aaxis": {
             "endlinecolor": "#2a3f5f",
             "gridcolor": "white",
             "linecolor": "white",
             "minorgridcolor": "white",
             "startlinecolor": "#2a3f5f"
            },
            "baxis": {
             "endlinecolor": "#2a3f5f",
             "gridcolor": "white",
             "linecolor": "white",
             "minorgridcolor": "white",
             "startlinecolor": "#2a3f5f"
            },
            "type": "carpet"
           }
          ],
          "choropleth": [
           {
            "colorbar": {
             "outlinewidth": 0,
             "ticks": ""
            },
            "type": "choropleth"
           }
          ],
          "contour": [
           {
            "colorbar": {
             "outlinewidth": 0,
             "ticks": ""
            },
            "colorscale": [
             [
              0,
              "#0d0887"
             ],
             [
              0.1111111111111111,
              "#46039f"
             ],
             [
              0.2222222222222222,
              "#7201a8"
             ],
             [
              0.3333333333333333,
              "#9c179e"
             ],
             [
              0.4444444444444444,
              "#bd3786"
             ],
             [
              0.5555555555555556,
              "#d8576b"
             ],
             [
              0.6666666666666666,
              "#ed7953"
             ],
             [
              0.7777777777777778,
              "#fb9f3a"
             ],
             [
              0.8888888888888888,
              "#fdca26"
             ],
             [
              1,
              "#f0f921"
             ]
            ],
            "type": "contour"
           }
          ],
          "contourcarpet": [
           {
            "colorbar": {
             "outlinewidth": 0,
             "ticks": ""
            },
            "type": "contourcarpet"
           }
          ],
          "heatmap": [
           {
            "colorbar": {
             "outlinewidth": 0,
             "ticks": ""
            },
            "colorscale": [
             [
              0,
              "#0d0887"
             ],
             [
              0.1111111111111111,
              "#46039f"
             ],
             [
              0.2222222222222222,
              "#7201a8"
             ],
             [
              0.3333333333333333,
              "#9c179e"
             ],
             [
              0.4444444444444444,
              "#bd3786"
             ],
             [
              0.5555555555555556,
              "#d8576b"
             ],
             [
              0.6666666666666666,
              "#ed7953"
             ],
             [
              0.7777777777777778,
              "#fb9f3a"
             ],
             [
              0.8888888888888888,
              "#fdca26"
             ],
             [
              1,
              "#f0f921"
             ]
            ],
            "type": "heatmap"
           }
          ],
          "heatmapgl": [
           {
            "colorbar": {
             "outlinewidth": 0,
             "ticks": ""
            },
            "colorscale": [
             [
              0,
              "#0d0887"
             ],
             [
              0.1111111111111111,
              "#46039f"
             ],
             [
              0.2222222222222222,
              "#7201a8"
             ],
             [
              0.3333333333333333,
              "#9c179e"
             ],
             [
              0.4444444444444444,
              "#bd3786"
             ],
             [
              0.5555555555555556,
              "#d8576b"
             ],
             [
              0.6666666666666666,
              "#ed7953"
             ],
             [
              0.7777777777777778,
              "#fb9f3a"
             ],
             [
              0.8888888888888888,
              "#fdca26"
             ],
             [
              1,
              "#f0f921"
             ]
            ],
            "type": "heatmapgl"
           }
          ],
          "histogram": [
           {
            "marker": {
             "pattern": {
              "fillmode": "overlay",
              "size": 10,
              "solidity": 0.2
             }
            },
            "type": "histogram"
           }
          ],
          "histogram2d": [
           {
            "colorbar": {
             "outlinewidth": 0,
             "ticks": ""
            },
            "colorscale": [
             [
              0,
              "#0d0887"
             ],
             [
              0.1111111111111111,
              "#46039f"
             ],
             [
              0.2222222222222222,
              "#7201a8"
             ],
             [
              0.3333333333333333,
              "#9c179e"
             ],
             [
              0.4444444444444444,
              "#bd3786"
             ],
             [
              0.5555555555555556,
              "#d8576b"
             ],
             [
              0.6666666666666666,
              "#ed7953"
             ],
             [
              0.7777777777777778,
              "#fb9f3a"
             ],
             [
              0.8888888888888888,
              "#fdca26"
             ],
             [
              1,
              "#f0f921"
             ]
            ],
            "type": "histogram2d"
           }
          ],
          "histogram2dcontour": [
           {
            "colorbar": {
             "outlinewidth": 0,
             "ticks": ""
            },
            "colorscale": [
             [
              0,
              "#0d0887"
             ],
             [
              0.1111111111111111,
              "#46039f"
             ],
             [
              0.2222222222222222,
              "#7201a8"
             ],
             [
              0.3333333333333333,
              "#9c179e"
             ],
             [
              0.4444444444444444,
              "#bd3786"
             ],
             [
              0.5555555555555556,
              "#d8576b"
             ],
             [
              0.6666666666666666,
              "#ed7953"
             ],
             [
              0.7777777777777778,
              "#fb9f3a"
             ],
             [
              0.8888888888888888,
              "#fdca26"
             ],
             [
              1,
              "#f0f921"
             ]
            ],
            "type": "histogram2dcontour"
           }
          ],
          "mesh3d": [
           {
            "colorbar": {
             "outlinewidth": 0,
             "ticks": ""
            },
            "type": "mesh3d"
           }
          ],
          "parcoords": [
           {
            "line": {
             "colorbar": {
              "outlinewidth": 0,
              "ticks": ""
             }
            },
            "type": "parcoords"
           }
          ],
          "pie": [
           {
            "automargin": true,
            "type": "pie"
           }
          ],
          "scatter": [
           {
            "marker": {
             "colorbar": {
              "outlinewidth": 0,
              "ticks": ""
             }
            },
            "type": "scatter"
           }
          ],
          "scatter3d": [
           {
            "line": {
             "colorbar": {
              "outlinewidth": 0,
              "ticks": ""
             }
            },
            "marker": {
             "colorbar": {
              "outlinewidth": 0,
              "ticks": ""
             }
            },
            "type": "scatter3d"
           }
          ],
          "scattercarpet": [
           {
            "marker": {
             "colorbar": {
              "outlinewidth": 0,
              "ticks": ""
             }
            },
            "type": "scattercarpet"
           }
          ],
          "scattergeo": [
           {
            "marker": {
             "colorbar": {
              "outlinewidth": 0,
              "ticks": ""
             }
            },
            "type": "scattergeo"
           }
          ],
          "scattergl": [
           {
            "marker": {
             "colorbar": {
              "outlinewidth": 0,
              "ticks": ""
             }
            },
            "type": "scattergl"
           }
          ],
          "scattermapbox": [
           {
            "marker": {
             "colorbar": {
              "outlinewidth": 0,
              "ticks": ""
             }
            },
            "type": "scattermapbox"
           }
          ],
          "scatterpolar": [
           {
            "marker": {
             "colorbar": {
              "outlinewidth": 0,
              "ticks": ""
             }
            },
            "type": "scatterpolar"
           }
          ],
          "scatterpolargl": [
           {
            "marker": {
             "colorbar": {
              "outlinewidth": 0,
              "ticks": ""
             }
            },
            "type": "scatterpolargl"
           }
          ],
          "scatterternary": [
           {
            "marker": {
             "colorbar": {
              "outlinewidth": 0,
              "ticks": ""
             }
            },
            "type": "scatterternary"
           }
          ],
          "surface": [
           {
            "colorbar": {
             "outlinewidth": 0,
             "ticks": ""
            },
            "colorscale": [
             [
              0,
              "#0d0887"
             ],
             [
              0.1111111111111111,
              "#46039f"
             ],
             [
              0.2222222222222222,
              "#7201a8"
             ],
             [
              0.3333333333333333,
              "#9c179e"
             ],
             [
              0.4444444444444444,
              "#bd3786"
             ],
             [
              0.5555555555555556,
              "#d8576b"
             ],
             [
              0.6666666666666666,
              "#ed7953"
             ],
             [
              0.7777777777777778,
              "#fb9f3a"
             ],
             [
              0.8888888888888888,
              "#fdca26"
             ],
             [
              1,
              "#f0f921"
             ]
            ],
            "type": "surface"
           }
          ],
          "table": [
           {
            "cells": {
             "fill": {
              "color": "#EBF0F8"
             },
             "line": {
              "color": "white"
             }
            },
            "header": {
             "fill": {
              "color": "#C8D4E3"
             },
             "line": {
              "color": "white"
             }
            },
            "type": "table"
           }
          ]
         },
         "layout": {
          "annotationdefaults": {
           "arrowcolor": "#2a3f5f",
           "arrowhead": 0,
           "arrowwidth": 1
          },
          "autotypenumbers": "strict",
          "coloraxis": {
           "colorbar": {
            "outlinewidth": 0,
            "ticks": ""
           }
          },
          "colorscale": {
           "diverging": [
            [
             0,
             "#8e0152"
            ],
            [
             0.1,
             "#c51b7d"
            ],
            [
             0.2,
             "#de77ae"
            ],
            [
             0.3,
             "#f1b6da"
            ],
            [
             0.4,
             "#fde0ef"
            ],
            [
             0.5,
             "#f7f7f7"
            ],
            [
             0.6,
             "#e6f5d0"
            ],
            [
             0.7,
             "#b8e186"
            ],
            [
             0.8,
             "#7fbc41"
            ],
            [
             0.9,
             "#4d9221"
            ],
            [
             1,
             "#276419"
            ]
           ],
           "sequential": [
            [
             0,
             "#0d0887"
            ],
            [
             0.1111111111111111,
             "#46039f"
            ],
            [
             0.2222222222222222,
             "#7201a8"
            ],
            [
             0.3333333333333333,
             "#9c179e"
            ],
            [
             0.4444444444444444,
             "#bd3786"
            ],
            [
             0.5555555555555556,
             "#d8576b"
            ],
            [
             0.6666666666666666,
             "#ed7953"
            ],
            [
             0.7777777777777778,
             "#fb9f3a"
            ],
            [
             0.8888888888888888,
             "#fdca26"
            ],
            [
             1,
             "#f0f921"
            ]
           ],
           "sequentialminus": [
            [
             0,
             "#0d0887"
            ],
            [
             0.1111111111111111,
             "#46039f"
            ],
            [
             0.2222222222222222,
             "#7201a8"
            ],
            [
             0.3333333333333333,
             "#9c179e"
            ],
            [
             0.4444444444444444,
             "#bd3786"
            ],
            [
             0.5555555555555556,
             "#d8576b"
            ],
            [
             0.6666666666666666,
             "#ed7953"
            ],
            [
             0.7777777777777778,
             "#fb9f3a"
            ],
            [
             0.8888888888888888,
             "#fdca26"
            ],
            [
             1,
             "#f0f921"
            ]
           ]
          },
          "colorway": [
           "#636efa",
           "#EF553B",
           "#00cc96",
           "#ab63fa",
           "#FFA15A",
           "#19d3f3",
           "#FF6692",
           "#B6E880",
           "#FF97FF",
           "#FECB52"
          ],
          "font": {
           "color": "#2a3f5f"
          },
          "geo": {
           "bgcolor": "white",
           "lakecolor": "white",
           "landcolor": "#E5ECF6",
           "showlakes": true,
           "showland": true,
           "subunitcolor": "white"
          },
          "hoverlabel": {
           "align": "left"
          },
          "hovermode": "closest",
          "mapbox": {
           "style": "light"
          },
          "paper_bgcolor": "white",
          "plot_bgcolor": "#E5ECF6",
          "polar": {
           "angularaxis": {
            "gridcolor": "white",
            "linecolor": "white",
            "ticks": ""
           },
           "bgcolor": "#E5ECF6",
           "radialaxis": {
            "gridcolor": "white",
            "linecolor": "white",
            "ticks": ""
           }
          },
          "scene": {
           "xaxis": {
            "backgroundcolor": "#E5ECF6",
            "gridcolor": "white",
            "gridwidth": 2,
            "linecolor": "white",
            "showbackground": true,
            "ticks": "",
            "zerolinecolor": "white"
           },
           "yaxis": {
            "backgroundcolor": "#E5ECF6",
            "gridcolor": "white",
            "gridwidth": 2,
            "linecolor": "white",
            "showbackground": true,
            "ticks": "",
            "zerolinecolor": "white"
           },
           "zaxis": {
            "backgroundcolor": "#E5ECF6",
            "gridcolor": "white",
            "gridwidth": 2,
            "linecolor": "white",
            "showbackground": true,
            "ticks": "",
            "zerolinecolor": "white"
           }
          },
          "shapedefaults": {
           "line": {
            "color": "#2a3f5f"
           }
          },
          "ternary": {
           "aaxis": {
            "gridcolor": "white",
            "linecolor": "white",
            "ticks": ""
           },
           "baxis": {
            "gridcolor": "white",
            "linecolor": "white",
            "ticks": ""
           },
           "bgcolor": "#E5ECF6",
           "caxis": {
            "gridcolor": "white",
            "linecolor": "white",
            "ticks": ""
           }
          },
          "title": {
           "x": 0.05
          },
          "xaxis": {
           "automargin": true,
           "gridcolor": "white",
           "linecolor": "white",
           "ticks": "",
           "title": {
            "standoff": 15
           },
           "zerolinecolor": "white",
           "zerolinewidth": 2
          },
          "yaxis": {
           "automargin": true,
           "gridcolor": "white",
           "linecolor": "white",
           "ticks": "",
           "title": {
            "standoff": 15
           },
           "zerolinecolor": "white",
           "zerolinewidth": 2
          }
         }
        },
        "title": {
         "text": "Global Spread of Coronavirus",
         "x": 0.5
        },
        "updatemenus": [
         {
          "buttons": [
           {
            "args": [
             null,
             {
              "frame": {
               "duration": 500,
               "redraw": true
              },
              "fromcurrent": true,
              "mode": "immediate",
              "transition": {
               "duration": 500,
               "easing": "linear"
              }
             }
            ],
            "label": "&#9654;",
            "method": "animate"
           },
           {
            "args": [
             [
              null
             ],
             {
              "frame": {
               "duration": 0,
               "redraw": true
              },
              "fromcurrent": true,
              "mode": "immediate",
              "transition": {
               "duration": 0,
               "easing": "linear"
              }
             }
            ],
            "label": "&#9724;",
            "method": "animate"
           }
          ],
          "direction": "left",
          "pad": {
           "r": 10,
           "t": 70
          },
          "showactive": false,
          "type": "buttons",
          "x": 0.1,
          "xanchor": "right",
          "y": 0,
          "yanchor": "top"
         }
        ]
       }
      },
      "text/html": [
       "<div>                            <div id=\"a6e762f1-21f7-40c5-980d-1fc22ff1420b\" class=\"plotly-graph-div\" style=\"height:525px; width:100%;\"></div>            <script type=\"text/javascript\">                require([\"plotly\"], function(Plotly) {                    window.PLOTLYENV=window.PLOTLYENV || {};                                    if (document.getElementById(\"a6e762f1-21f7-40c5-980d-1fc22ff1420b\")) {                    Plotly.newPlot(                        \"a6e762f1-21f7-40c5-980d-1fc22ff1420b\",                        [{\"coloraxis\":\"coloraxis\",\"geo\":\"geo\",\"hovertemplate\":\"<b>%{hovertext}</b><br><br>Date=2020-03-16<br>Country=%{location}<br>PercentOfBaseline=%{z}<extra></extra>\",\"hovertext\":[\"Australia\",\"Canada\",\"Chile\",\"United States of America (the)\"],\"locationmode\":\"country names\",\"locations\":[\"Australia\",\"Canada\",\"Chile\",\"United States of America (the)\"],\"name\":\"\",\"type\":\"choropleth\",\"z\":[92,831,96,1497]}],                        {\"coloraxis\":{\"colorbar\":{\"title\":{\"text\":\"PercentOfBaseline\"}},\"colorscale\":[[0.0,\"#0d0887\"],[0.1111111111111111,\"#46039f\"],[0.2222222222222222,\"#7201a8\"],[0.3333333333333333,\"#9c179e\"],[0.4444444444444444,\"#bd3786\"],[0.5555555555555556,\"#d8576b\"],[0.6666666666666666,\"#ed7953\"],[0.7777777777777778,\"#fb9f3a\"],[0.8888888888888888,\"#fdca26\"],[1.0,\"#f0f921\"]]},\"geo\":{\"center\":{},\"domain\":{\"x\":[0.0,1.0],\"y\":[0.0,1.0]},\"showcoastlines\":false,\"showframe\":false},\"legend\":{\"tracegroupgap\":0},\"margin\":{\"t\":60},\"sliders\":[{\"active\":0,\"currentvalue\":{\"prefix\":\"Date=\"},\"len\":0.9,\"pad\":{\"b\":10,\"t\":60},\"steps\":[{\"args\":[[\"2020-03-16\"],{\"frame\":{\"duration\":0,\"redraw\":true},\"fromcurrent\":true,\"mode\":\"immediate\",\"transition\":{\"duration\":0,\"easing\":\"linear\"}}],\"label\":\"2020-03-16\",\"method\":\"animate\"},{\"args\":[[\"2020-03-17\"],{\"frame\":{\"duration\":0,\"redraw\":true},\"fromcurrent\":true,\"mode\":\"immediate\",\"transition\":{\"duration\":0,\"easing\":\"linear\"}}],\"label\":\"2020-03-17\",\"method\":\"animate\"},{\"args\":[[\"2020-03-18\"],{\"frame\":{\"duration\":0,\"redraw\":true},\"fromcurrent\":true,\"mode\":\"immediate\",\"transition\":{\"duration\":0,\"easing\":\"linear\"}}],\"label\":\"2020-03-18\",\"method\":\"animate\"},{\"args\":[[\"2020-03-19\"],{\"frame\":{\"duration\":0,\"redraw\":true},\"fromcurrent\":true,\"mode\":\"immediate\",\"transition\":{\"duration\":0,\"easing\":\"linear\"}}],\"label\":\"2020-03-19\",\"method\":\"animate\"},{\"args\":[[\"2020-03-20\"],{\"frame\":{\"duration\":0,\"redraw\":true},\"fromcurrent\":true,\"mode\":\"immediate\",\"transition\":{\"duration\":0,\"easing\":\"linear\"}}],\"label\":\"2020-03-20\",\"method\":\"animate\"},{\"args\":[[\"2020-03-21\"],{\"frame\":{\"duration\":0,\"redraw\":true},\"fromcurrent\":true,\"mode\":\"immediate\",\"transition\":{\"duration\":0,\"easing\":\"linear\"}}],\"label\":\"2020-03-21\",\"method\":\"animate\"},{\"args\":[[\"2020-03-22\"],{\"frame\":{\"duration\":0,\"redraw\":true},\"fromcurrent\":true,\"mode\":\"immediate\",\"transition\":{\"duration\":0,\"easing\":\"linear\"}}],\"label\":\"2020-03-22\",\"method\":\"animate\"},{\"args\":[[\"2020-03-23\"],{\"frame\":{\"duration\":0,\"redraw\":true},\"fromcurrent\":true,\"mode\":\"immediate\",\"transition\":{\"duration\":0,\"easing\":\"linear\"}}],\"label\":\"2020-03-23\",\"method\":\"animate\"},{\"args\":[[\"2020-03-24\"],{\"frame\":{\"duration\":0,\"redraw\":true},\"fromcurrent\":true,\"mode\":\"immediate\",\"transition\":{\"duration\":0,\"easing\":\"linear\"}}],\"label\":\"2020-03-24\",\"method\":\"animate\"},{\"args\":[[\"2020-03-25\"],{\"frame\":{\"duration\":0,\"redraw\":true},\"fromcurrent\":true,\"mode\":\"immediate\",\"transition\":{\"duration\":0,\"easing\":\"linear\"}}],\"label\":\"2020-03-25\",\"method\":\"animate\"},{\"args\":[[\"2020-03-26\"],{\"frame\":{\"duration\":0,\"redraw\":true},\"fromcurrent\":true,\"mode\":\"immediate\",\"transition\":{\"duration\":0,\"easing\":\"linear\"}}],\"label\":\"2020-03-26\",\"method\":\"animate\"},{\"args\":[[\"2020-03-27\"],{\"frame\":{\"duration\":0,\"redraw\":true},\"fromcurrent\":true,\"mode\":\"immediate\",\"transition\":{\"duration\":0,\"easing\":\"linear\"}}],\"label\":\"2020-03-27\",\"method\":\"animate\"},{\"args\":[[\"2020-03-28\"],{\"frame\":{\"duration\":0,\"redraw\":true},\"fromcurrent\":true,\"mode\":\"immediate\",\"transition\":{\"duration\":0,\"easing\":\"linear\"}}],\"label\":\"2020-03-28\",\"method\":\"animate\"},{\"args\":[[\"2020-03-29\"],{\"frame\":{\"duration\":0,\"redraw\":true},\"fromcurrent\":true,\"mode\":\"immediate\",\"transition\":{\"duration\":0,\"easing\":\"linear\"}}],\"label\":\"2020-03-29\",\"method\":\"animate\"},{\"args\":[[\"2020-03-30\"],{\"frame\":{\"duration\":0,\"redraw\":true},\"fromcurrent\":true,\"mode\":\"immediate\",\"transition\":{\"duration\":0,\"easing\":\"linear\"}}],\"label\":\"2020-03-30\",\"method\":\"animate\"},{\"args\":[[\"2020-03-31\"],{\"frame\":{\"duration\":0,\"redraw\":true},\"fromcurrent\":true,\"mode\":\"immediate\",\"transition\":{\"duration\":0,\"easing\":\"linear\"}}],\"label\":\"2020-03-31\",\"method\":\"animate\"},{\"args\":[[\"2020-04-01\"],{\"frame\":{\"duration\":0,\"redraw\":true},\"fromcurrent\":true,\"mode\":\"immediate\",\"transition\":{\"duration\":0,\"easing\":\"linear\"}}],\"label\":\"2020-04-01\",\"method\":\"animate\"},{\"args\":[[\"2020-04-02\"],{\"frame\":{\"duration\":0,\"redraw\":true},\"fromcurrent\":true,\"mode\":\"immediate\",\"transition\":{\"duration\":0,\"easing\":\"linear\"}}],\"label\":\"2020-04-02\",\"method\":\"animate\"},{\"args\":[[\"2020-04-03\"],{\"frame\":{\"duration\":0,\"redraw\":true},\"fromcurrent\":true,\"mode\":\"immediate\",\"transition\":{\"duration\":0,\"easing\":\"linear\"}}],\"label\":\"2020-04-03\",\"method\":\"animate\"},{\"args\":[[\"2020-04-04\"],{\"frame\":{\"duration\":0,\"redraw\":true},\"fromcurrent\":true,\"mode\":\"immediate\",\"transition\":{\"duration\":0,\"easing\":\"linear\"}}],\"label\":\"2020-04-04\",\"method\":\"animate\"},{\"args\":[[\"2020-04-05\"],{\"frame\":{\"duration\":0,\"redraw\":true},\"fromcurrent\":true,\"mode\":\"immediate\",\"transition\":{\"duration\":0,\"easing\":\"linear\"}}],\"label\":\"2020-04-05\",\"method\":\"animate\"},{\"args\":[[\"2020-04-06\"],{\"frame\":{\"duration\":0,\"redraw\":true},\"fromcurrent\":true,\"mode\":\"immediate\",\"transition\":{\"duration\":0,\"easing\":\"linear\"}}],\"label\":\"2020-04-06\",\"method\":\"animate\"},{\"args\":[[\"2020-04-07\"],{\"frame\":{\"duration\":0,\"redraw\":true},\"fromcurrent\":true,\"mode\":\"immediate\",\"transition\":{\"duration\":0,\"easing\":\"linear\"}}],\"label\":\"2020-04-07\",\"method\":\"animate\"},{\"args\":[[\"2020-04-08\"],{\"frame\":{\"duration\":0,\"redraw\":true},\"fromcurrent\":true,\"mode\":\"immediate\",\"transition\":{\"duration\":0,\"easing\":\"linear\"}}],\"label\":\"2020-04-08\",\"method\":\"animate\"},{\"args\":[[\"2020-04-09\"],{\"frame\":{\"duration\":0,\"redraw\":true},\"fromcurrent\":true,\"mode\":\"immediate\",\"transition\":{\"duration\":0,\"easing\":\"linear\"}}],\"label\":\"2020-04-09\",\"method\":\"animate\"},{\"args\":[[\"2020-04-10\"],{\"frame\":{\"duration\":0,\"redraw\":true},\"fromcurrent\":true,\"mode\":\"immediate\",\"transition\":{\"duration\":0,\"easing\":\"linear\"}}],\"label\":\"2020-04-10\",\"method\":\"animate\"},{\"args\":[[\"2020-04-11\"],{\"frame\":{\"duration\":0,\"redraw\":true},\"fromcurrent\":true,\"mode\":\"immediate\",\"transition\":{\"duration\":0,\"easing\":\"linear\"}}],\"label\":\"2020-04-11\",\"method\":\"animate\"},{\"args\":[[\"2020-04-12\"],{\"frame\":{\"duration\":0,\"redraw\":true},\"fromcurrent\":true,\"mode\":\"immediate\",\"transition\":{\"duration\":0,\"easing\":\"linear\"}}],\"label\":\"2020-04-12\",\"method\":\"animate\"},{\"args\":[[\"2020-04-13\"],{\"frame\":{\"duration\":0,\"redraw\":true},\"fromcurrent\":true,\"mode\":\"immediate\",\"transition\":{\"duration\":0,\"easing\":\"linear\"}}],\"label\":\"2020-04-13\",\"method\":\"animate\"},{\"args\":[[\"2020-04-14\"],{\"frame\":{\"duration\":0,\"redraw\":true},\"fromcurrent\":true,\"mode\":\"immediate\",\"transition\":{\"duration\":0,\"easing\":\"linear\"}}],\"label\":\"2020-04-14\",\"method\":\"animate\"},{\"args\":[[\"2020-04-15\"],{\"frame\":{\"duration\":0,\"redraw\":true},\"fromcurrent\":true,\"mode\":\"immediate\",\"transition\":{\"duration\":0,\"easing\":\"linear\"}}],\"label\":\"2020-04-15\",\"method\":\"animate\"},{\"args\":[[\"2020-04-16\"],{\"frame\":{\"duration\":0,\"redraw\":true},\"fromcurrent\":true,\"mode\":\"immediate\",\"transition\":{\"duration\":0,\"easing\":\"linear\"}}],\"label\":\"2020-04-16\",\"method\":\"animate\"},{\"args\":[[\"2020-04-17\"],{\"frame\":{\"duration\":0,\"redraw\":true},\"fromcurrent\":true,\"mode\":\"immediate\",\"transition\":{\"duration\":0,\"easing\":\"linear\"}}],\"label\":\"2020-04-17\",\"method\":\"animate\"},{\"args\":[[\"2020-04-18\"],{\"frame\":{\"duration\":0,\"redraw\":true},\"fromcurrent\":true,\"mode\":\"immediate\",\"transition\":{\"duration\":0,\"easing\":\"linear\"}}],\"label\":\"2020-04-18\",\"method\":\"animate\"},{\"args\":[[\"2020-04-19\"],{\"frame\":{\"duration\":0,\"redraw\":true},\"fromcurrent\":true,\"mode\":\"immediate\",\"transition\":{\"duration\":0,\"easing\":\"linear\"}}],\"label\":\"2020-04-19\",\"method\":\"animate\"},{\"args\":[[\"2020-04-20\"],{\"frame\":{\"duration\":0,\"redraw\":true},\"fromcurrent\":true,\"mode\":\"immediate\",\"transition\":{\"duration\":0,\"easing\":\"linear\"}}],\"label\":\"2020-04-20\",\"method\":\"animate\"},{\"args\":[[\"2020-04-21\"],{\"frame\":{\"duration\":0,\"redraw\":true},\"fromcurrent\":true,\"mode\":\"immediate\",\"transition\":{\"duration\":0,\"easing\":\"linear\"}}],\"label\":\"2020-04-21\",\"method\":\"animate\"},{\"args\":[[\"2020-04-22\"],{\"frame\":{\"duration\":0,\"redraw\":true},\"fromcurrent\":true,\"mode\":\"immediate\",\"transition\":{\"duration\":0,\"easing\":\"linear\"}}],\"label\":\"2020-04-22\",\"method\":\"animate\"},{\"args\":[[\"2020-04-23\"],{\"frame\":{\"duration\":0,\"redraw\":true},\"fromcurrent\":true,\"mode\":\"immediate\",\"transition\":{\"duration\":0,\"easing\":\"linear\"}}],\"label\":\"2020-04-23\",\"method\":\"animate\"},{\"args\":[[\"2020-04-24\"],{\"frame\":{\"duration\":0,\"redraw\":true},\"fromcurrent\":true,\"mode\":\"immediate\",\"transition\":{\"duration\":0,\"easing\":\"linear\"}}],\"label\":\"2020-04-24\",\"method\":\"animate\"},{\"args\":[[\"2020-04-25\"],{\"frame\":{\"duration\":0,\"redraw\":true},\"fromcurrent\":true,\"mode\":\"immediate\",\"transition\":{\"duration\":0,\"easing\":\"linear\"}}],\"label\":\"2020-04-25\",\"method\":\"animate\"},{\"args\":[[\"2020-04-26\"],{\"frame\":{\"duration\":0,\"redraw\":true},\"fromcurrent\":true,\"mode\":\"immediate\",\"transition\":{\"duration\":0,\"easing\":\"linear\"}}],\"label\":\"2020-04-26\",\"method\":\"animate\"},{\"args\":[[\"2020-04-27\"],{\"frame\":{\"duration\":0,\"redraw\":true},\"fromcurrent\":true,\"mode\":\"immediate\",\"transition\":{\"duration\":0,\"easing\":\"linear\"}}],\"label\":\"2020-04-27\",\"method\":\"animate\"},{\"args\":[[\"2020-04-28\"],{\"frame\":{\"duration\":0,\"redraw\":true},\"fromcurrent\":true,\"mode\":\"immediate\",\"transition\":{\"duration\":0,\"easing\":\"linear\"}}],\"label\":\"2020-04-28\",\"method\":\"animate\"},{\"args\":[[\"2020-04-29\"],{\"frame\":{\"duration\":0,\"redraw\":true},\"fromcurrent\":true,\"mode\":\"immediate\",\"transition\":{\"duration\":0,\"easing\":\"linear\"}}],\"label\":\"2020-04-29\",\"method\":\"animate\"},{\"args\":[[\"2020-04-30\"],{\"frame\":{\"duration\":0,\"redraw\":true},\"fromcurrent\":true,\"mode\":\"immediate\",\"transition\":{\"duration\":0,\"easing\":\"linear\"}}],\"label\":\"2020-04-30\",\"method\":\"animate\"},{\"args\":[[\"2020-05-01\"],{\"frame\":{\"duration\":0,\"redraw\":true},\"fromcurrent\":true,\"mode\":\"immediate\",\"transition\":{\"duration\":0,\"easing\":\"linear\"}}],\"label\":\"2020-05-01\",\"method\":\"animate\"},{\"args\":[[\"2020-05-02\"],{\"frame\":{\"duration\":0,\"redraw\":true},\"fromcurrent\":true,\"mode\":\"immediate\",\"transition\":{\"duration\":0,\"easing\":\"linear\"}}],\"label\":\"2020-05-02\",\"method\":\"animate\"},{\"args\":[[\"2020-05-03\"],{\"frame\":{\"duration\":0,\"redraw\":true},\"fromcurrent\":true,\"mode\":\"immediate\",\"transition\":{\"duration\":0,\"easing\":\"linear\"}}],\"label\":\"2020-05-03\",\"method\":\"animate\"},{\"args\":[[\"2020-05-04\"],{\"frame\":{\"duration\":0,\"redraw\":true},\"fromcurrent\":true,\"mode\":\"immediate\",\"transition\":{\"duration\":0,\"easing\":\"linear\"}}],\"label\":\"2020-05-04\",\"method\":\"animate\"},{\"args\":[[\"2020-05-05\"],{\"frame\":{\"duration\":0,\"redraw\":true},\"fromcurrent\":true,\"mode\":\"immediate\",\"transition\":{\"duration\":0,\"easing\":\"linear\"}}],\"label\":\"2020-05-05\",\"method\":\"animate\"},{\"args\":[[\"2020-05-06\"],{\"frame\":{\"duration\":0,\"redraw\":true},\"fromcurrent\":true,\"mode\":\"immediate\",\"transition\":{\"duration\":0,\"easing\":\"linear\"}}],\"label\":\"2020-05-06\",\"method\":\"animate\"},{\"args\":[[\"2020-05-07\"],{\"frame\":{\"duration\":0,\"redraw\":true},\"fromcurrent\":true,\"mode\":\"immediate\",\"transition\":{\"duration\":0,\"easing\":\"linear\"}}],\"label\":\"2020-05-07\",\"method\":\"animate\"},{\"args\":[[\"2020-05-08\"],{\"frame\":{\"duration\":0,\"redraw\":true},\"fromcurrent\":true,\"mode\":\"immediate\",\"transition\":{\"duration\":0,\"easing\":\"linear\"}}],\"label\":\"2020-05-08\",\"method\":\"animate\"},{\"args\":[[\"2020-05-09\"],{\"frame\":{\"duration\":0,\"redraw\":true},\"fromcurrent\":true,\"mode\":\"immediate\",\"transition\":{\"duration\":0,\"easing\":\"linear\"}}],\"label\":\"2020-05-09\",\"method\":\"animate\"},{\"args\":[[\"2020-05-10\"],{\"frame\":{\"duration\":0,\"redraw\":true},\"fromcurrent\":true,\"mode\":\"immediate\",\"transition\":{\"duration\":0,\"easing\":\"linear\"}}],\"label\":\"2020-05-10\",\"method\":\"animate\"},{\"args\":[[\"2020-05-11\"],{\"frame\":{\"duration\":0,\"redraw\":true},\"fromcurrent\":true,\"mode\":\"immediate\",\"transition\":{\"duration\":0,\"easing\":\"linear\"}}],\"label\":\"2020-05-11\",\"method\":\"animate\"},{\"args\":[[\"2020-05-12\"],{\"frame\":{\"duration\":0,\"redraw\":true},\"fromcurrent\":true,\"mode\":\"immediate\",\"transition\":{\"duration\":0,\"easing\":\"linear\"}}],\"label\":\"2020-05-12\",\"method\":\"animate\"},{\"args\":[[\"2020-05-13\"],{\"frame\":{\"duration\":0,\"redraw\":true},\"fromcurrent\":true,\"mode\":\"immediate\",\"transition\":{\"duration\":0,\"easing\":\"linear\"}}],\"label\":\"2020-05-13\",\"method\":\"animate\"},{\"args\":[[\"2020-05-14\"],{\"frame\":{\"duration\":0,\"redraw\":true},\"fromcurrent\":true,\"mode\":\"immediate\",\"transition\":{\"duration\":0,\"easing\":\"linear\"}}],\"label\":\"2020-05-14\",\"method\":\"animate\"},{\"args\":[[\"2020-05-15\"],{\"frame\":{\"duration\":0,\"redraw\":true},\"fromcurrent\":true,\"mode\":\"immediate\",\"transition\":{\"duration\":0,\"easing\":\"linear\"}}],\"label\":\"2020-05-15\",\"method\":\"animate\"},{\"args\":[[\"2020-05-16\"],{\"frame\":{\"duration\":0,\"redraw\":true},\"fromcurrent\":true,\"mode\":\"immediate\",\"transition\":{\"duration\":0,\"easing\":\"linear\"}}],\"label\":\"2020-05-16\",\"method\":\"animate\"},{\"args\":[[\"2020-05-17\"],{\"frame\":{\"duration\":0,\"redraw\":true},\"fromcurrent\":true,\"mode\":\"immediate\",\"transition\":{\"duration\":0,\"easing\":\"linear\"}}],\"label\":\"2020-05-17\",\"method\":\"animate\"},{\"args\":[[\"2020-05-18\"],{\"frame\":{\"duration\":0,\"redraw\":true},\"fromcurrent\":true,\"mode\":\"immediate\",\"transition\":{\"duration\":0,\"easing\":\"linear\"}}],\"label\":\"2020-05-18\",\"method\":\"animate\"},{\"args\":[[\"2020-05-19\"],{\"frame\":{\"duration\":0,\"redraw\":true},\"fromcurrent\":true,\"mode\":\"immediate\",\"transition\":{\"duration\":0,\"easing\":\"linear\"}}],\"label\":\"2020-05-19\",\"method\":\"animate\"},{\"args\":[[\"2020-05-20\"],{\"frame\":{\"duration\":0,\"redraw\":true},\"fromcurrent\":true,\"mode\":\"immediate\",\"transition\":{\"duration\":0,\"easing\":\"linear\"}}],\"label\":\"2020-05-20\",\"method\":\"animate\"},{\"args\":[[\"2020-05-21\"],{\"frame\":{\"duration\":0,\"redraw\":true},\"fromcurrent\":true,\"mode\":\"immediate\",\"transition\":{\"duration\":0,\"easing\":\"linear\"}}],\"label\":\"2020-05-21\",\"method\":\"animate\"},{\"args\":[[\"2020-05-22\"],{\"frame\":{\"duration\":0,\"redraw\":true},\"fromcurrent\":true,\"mode\":\"immediate\",\"transition\":{\"duration\":0,\"easing\":\"linear\"}}],\"label\":\"2020-05-22\",\"method\":\"animate\"},{\"args\":[[\"2020-05-23\"],{\"frame\":{\"duration\":0,\"redraw\":true},\"fromcurrent\":true,\"mode\":\"immediate\",\"transition\":{\"duration\":0,\"easing\":\"linear\"}}],\"label\":\"2020-05-23\",\"method\":\"animate\"},{\"args\":[[\"2020-05-24\"],{\"frame\":{\"duration\":0,\"redraw\":true},\"fromcurrent\":true,\"mode\":\"immediate\",\"transition\":{\"duration\":0,\"easing\":\"linear\"}}],\"label\":\"2020-05-24\",\"method\":\"animate\"},{\"args\":[[\"2020-05-25\"],{\"frame\":{\"duration\":0,\"redraw\":true},\"fromcurrent\":true,\"mode\":\"immediate\",\"transition\":{\"duration\":0,\"easing\":\"linear\"}}],\"label\":\"2020-05-25\",\"method\":\"animate\"},{\"args\":[[\"2020-05-26\"],{\"frame\":{\"duration\":0,\"redraw\":true},\"fromcurrent\":true,\"mode\":\"immediate\",\"transition\":{\"duration\":0,\"easing\":\"linear\"}}],\"label\":\"2020-05-26\",\"method\":\"animate\"},{\"args\":[[\"2020-05-27\"],{\"frame\":{\"duration\":0,\"redraw\":true},\"fromcurrent\":true,\"mode\":\"immediate\",\"transition\":{\"duration\":0,\"easing\":\"linear\"}}],\"label\":\"2020-05-27\",\"method\":\"animate\"},{\"args\":[[\"2020-05-28\"],{\"frame\":{\"duration\":0,\"redraw\":true},\"fromcurrent\":true,\"mode\":\"immediate\",\"transition\":{\"duration\":0,\"easing\":\"linear\"}}],\"label\":\"2020-05-28\",\"method\":\"animate\"},{\"args\":[[\"2020-05-29\"],{\"frame\":{\"duration\":0,\"redraw\":true},\"fromcurrent\":true,\"mode\":\"immediate\",\"transition\":{\"duration\":0,\"easing\":\"linear\"}}],\"label\":\"2020-05-29\",\"method\":\"animate\"},{\"args\":[[\"2020-05-30\"],{\"frame\":{\"duration\":0,\"redraw\":true},\"fromcurrent\":true,\"mode\":\"immediate\",\"transition\":{\"duration\":0,\"easing\":\"linear\"}}],\"label\":\"2020-05-30\",\"method\":\"animate\"},{\"args\":[[\"2020-05-31\"],{\"frame\":{\"duration\":0,\"redraw\":true},\"fromcurrent\":true,\"mode\":\"immediate\",\"transition\":{\"duration\":0,\"easing\":\"linear\"}}],\"label\":\"2020-05-31\",\"method\":\"animate\"},{\"args\":[[\"2020-06-01\"],{\"frame\":{\"duration\":0,\"redraw\":true},\"fromcurrent\":true,\"mode\":\"immediate\",\"transition\":{\"duration\":0,\"easing\":\"linear\"}}],\"label\":\"2020-06-01\",\"method\":\"animate\"},{\"args\":[[\"2020-06-02\"],{\"frame\":{\"duration\":0,\"redraw\":true},\"fromcurrent\":true,\"mode\":\"immediate\",\"transition\":{\"duration\":0,\"easing\":\"linear\"}}],\"label\":\"2020-06-02\",\"method\":\"animate\"},{\"args\":[[\"2020-06-03\"],{\"frame\":{\"duration\":0,\"redraw\":true},\"fromcurrent\":true,\"mode\":\"immediate\",\"transition\":{\"duration\":0,\"easing\":\"linear\"}}],\"label\":\"2020-06-03\",\"method\":\"animate\"},{\"args\":[[\"2020-06-04\"],{\"frame\":{\"duration\":0,\"redraw\":true},\"fromcurrent\":true,\"mode\":\"immediate\",\"transition\":{\"duration\":0,\"easing\":\"linear\"}}],\"label\":\"2020-06-04\",\"method\":\"animate\"},{\"args\":[[\"2020-06-05\"],{\"frame\":{\"duration\":0,\"redraw\":true},\"fromcurrent\":true,\"mode\":\"immediate\",\"transition\":{\"duration\":0,\"easing\":\"linear\"}}],\"label\":\"2020-06-05\",\"method\":\"animate\"},{\"args\":[[\"2020-06-06\"],{\"frame\":{\"duration\":0,\"redraw\":true},\"fromcurrent\":true,\"mode\":\"immediate\",\"transition\":{\"duration\":0,\"easing\":\"linear\"}}],\"label\":\"2020-06-06\",\"method\":\"animate\"},{\"args\":[[\"2020-06-07\"],{\"frame\":{\"duration\":0,\"redraw\":true},\"fromcurrent\":true,\"mode\":\"immediate\",\"transition\":{\"duration\":0,\"easing\":\"linear\"}}],\"label\":\"2020-06-07\",\"method\":\"animate\"},{\"args\":[[\"2020-06-08\"],{\"frame\":{\"duration\":0,\"redraw\":true},\"fromcurrent\":true,\"mode\":\"immediate\",\"transition\":{\"duration\":0,\"easing\":\"linear\"}}],\"label\":\"2020-06-08\",\"method\":\"animate\"},{\"args\":[[\"2020-06-09\"],{\"frame\":{\"duration\":0,\"redraw\":true},\"fromcurrent\":true,\"mode\":\"immediate\",\"transition\":{\"duration\":0,\"easing\":\"linear\"}}],\"label\":\"2020-06-09\",\"method\":\"animate\"},{\"args\":[[\"2020-06-10\"],{\"frame\":{\"duration\":0,\"redraw\":true},\"fromcurrent\":true,\"mode\":\"immediate\",\"transition\":{\"duration\":0,\"easing\":\"linear\"}}],\"label\":\"2020-06-10\",\"method\":\"animate\"},{\"args\":[[\"2020-06-11\"],{\"frame\":{\"duration\":0,\"redraw\":true},\"fromcurrent\":true,\"mode\":\"immediate\",\"transition\":{\"duration\":0,\"easing\":\"linear\"}}],\"label\":\"2020-06-11\",\"method\":\"animate\"},{\"args\":[[\"2020-06-12\"],{\"frame\":{\"duration\":0,\"redraw\":true},\"fromcurrent\":true,\"mode\":\"immediate\",\"transition\":{\"duration\":0,\"easing\":\"linear\"}}],\"label\":\"2020-06-12\",\"method\":\"animate\"},{\"args\":[[\"2020-06-13\"],{\"frame\":{\"duration\":0,\"redraw\":true},\"fromcurrent\":true,\"mode\":\"immediate\",\"transition\":{\"duration\":0,\"easing\":\"linear\"}}],\"label\":\"2020-06-13\",\"method\":\"animate\"},{\"args\":[[\"2020-06-14\"],{\"frame\":{\"duration\":0,\"redraw\":true},\"fromcurrent\":true,\"mode\":\"immediate\",\"transition\":{\"duration\":0,\"easing\":\"linear\"}}],\"label\":\"2020-06-14\",\"method\":\"animate\"},{\"args\":[[\"2020-06-15\"],{\"frame\":{\"duration\":0,\"redraw\":true},\"fromcurrent\":true,\"mode\":\"immediate\",\"transition\":{\"duration\":0,\"easing\":\"linear\"}}],\"label\":\"2020-06-15\",\"method\":\"animate\"},{\"args\":[[\"2020-06-16\"],{\"frame\":{\"duration\":0,\"redraw\":true},\"fromcurrent\":true,\"mode\":\"immediate\",\"transition\":{\"duration\":0,\"easing\":\"linear\"}}],\"label\":\"2020-06-16\",\"method\":\"animate\"},{\"args\":[[\"2020-06-17\"],{\"frame\":{\"duration\":0,\"redraw\":true},\"fromcurrent\":true,\"mode\":\"immediate\",\"transition\":{\"duration\":0,\"easing\":\"linear\"}}],\"label\":\"2020-06-17\",\"method\":\"animate\"},{\"args\":[[\"2020-06-18\"],{\"frame\":{\"duration\":0,\"redraw\":true},\"fromcurrent\":true,\"mode\":\"immediate\",\"transition\":{\"duration\":0,\"easing\":\"linear\"}}],\"label\":\"2020-06-18\",\"method\":\"animate\"},{\"args\":[[\"2020-06-19\"],{\"frame\":{\"duration\":0,\"redraw\":true},\"fromcurrent\":true,\"mode\":\"immediate\",\"transition\":{\"duration\":0,\"easing\":\"linear\"}}],\"label\":\"2020-06-19\",\"method\":\"animate\"},{\"args\":[[\"2020-06-20\"],{\"frame\":{\"duration\":0,\"redraw\":true},\"fromcurrent\":true,\"mode\":\"immediate\",\"transition\":{\"duration\":0,\"easing\":\"linear\"}}],\"label\":\"2020-06-20\",\"method\":\"animate\"},{\"args\":[[\"2020-06-21\"],{\"frame\":{\"duration\":0,\"redraw\":true},\"fromcurrent\":true,\"mode\":\"immediate\",\"transition\":{\"duration\":0,\"easing\":\"linear\"}}],\"label\":\"2020-06-21\",\"method\":\"animate\"},{\"args\":[[\"2020-06-22\"],{\"frame\":{\"duration\":0,\"redraw\":true},\"fromcurrent\":true,\"mode\":\"immediate\",\"transition\":{\"duration\":0,\"easing\":\"linear\"}}],\"label\":\"2020-06-22\",\"method\":\"animate\"},{\"args\":[[\"2020-06-23\"],{\"frame\":{\"duration\":0,\"redraw\":true},\"fromcurrent\":true,\"mode\":\"immediate\",\"transition\":{\"duration\":0,\"easing\":\"linear\"}}],\"label\":\"2020-06-23\",\"method\":\"animate\"},{\"args\":[[\"2020-06-24\"],{\"frame\":{\"duration\":0,\"redraw\":true},\"fromcurrent\":true,\"mode\":\"immediate\",\"transition\":{\"duration\":0,\"easing\":\"linear\"}}],\"label\":\"2020-06-24\",\"method\":\"animate\"},{\"args\":[[\"2020-06-25\"],{\"frame\":{\"duration\":0,\"redraw\":true},\"fromcurrent\":true,\"mode\":\"immediate\",\"transition\":{\"duration\":0,\"easing\":\"linear\"}}],\"label\":\"2020-06-25\",\"method\":\"animate\"},{\"args\":[[\"2020-06-26\"],{\"frame\":{\"duration\":0,\"redraw\":true},\"fromcurrent\":true,\"mode\":\"immediate\",\"transition\":{\"duration\":0,\"easing\":\"linear\"}}],\"label\":\"2020-06-26\",\"method\":\"animate\"},{\"args\":[[\"2020-06-27\"],{\"frame\":{\"duration\":0,\"redraw\":true},\"fromcurrent\":true,\"mode\":\"immediate\",\"transition\":{\"duration\":0,\"easing\":\"linear\"}}],\"label\":\"2020-06-27\",\"method\":\"animate\"},{\"args\":[[\"2020-06-28\"],{\"frame\":{\"duration\":0,\"redraw\":true},\"fromcurrent\":true,\"mode\":\"immediate\",\"transition\":{\"duration\":0,\"easing\":\"linear\"}}],\"label\":\"2020-06-28\",\"method\":\"animate\"},{\"args\":[[\"2020-06-29\"],{\"frame\":{\"duration\":0,\"redraw\":true},\"fromcurrent\":true,\"mode\":\"immediate\",\"transition\":{\"duration\":0,\"easing\":\"linear\"}}],\"label\":\"2020-06-29\",\"method\":\"animate\"},{\"args\":[[\"2020-06-30\"],{\"frame\":{\"duration\":0,\"redraw\":true},\"fromcurrent\":true,\"mode\":\"immediate\",\"transition\":{\"duration\":0,\"easing\":\"linear\"}}],\"label\":\"2020-06-30\",\"method\":\"animate\"},{\"args\":[[\"2020-07-01\"],{\"frame\":{\"duration\":0,\"redraw\":true},\"fromcurrent\":true,\"mode\":\"immediate\",\"transition\":{\"duration\":0,\"easing\":\"linear\"}}],\"label\":\"2020-07-01\",\"method\":\"animate\"},{\"args\":[[\"2020-07-02\"],{\"frame\":{\"duration\":0,\"redraw\":true},\"fromcurrent\":true,\"mode\":\"immediate\",\"transition\":{\"duration\":0,\"easing\":\"linear\"}}],\"label\":\"2020-07-02\",\"method\":\"animate\"},{\"args\":[[\"2020-07-03\"],{\"frame\":{\"duration\":0,\"redraw\":true},\"fromcurrent\":true,\"mode\":\"immediate\",\"transition\":{\"duration\":0,\"easing\":\"linear\"}}],\"label\":\"2020-07-03\",\"method\":\"animate\"},{\"args\":[[\"2020-07-04\"],{\"frame\":{\"duration\":0,\"redraw\":true},\"fromcurrent\":true,\"mode\":\"immediate\",\"transition\":{\"duration\":0,\"easing\":\"linear\"}}],\"label\":\"2020-07-04\",\"method\":\"animate\"},{\"args\":[[\"2020-07-05\"],{\"frame\":{\"duration\":0,\"redraw\":true},\"fromcurrent\":true,\"mode\":\"immediate\",\"transition\":{\"duration\":0,\"easing\":\"linear\"}}],\"label\":\"2020-07-05\",\"method\":\"animate\"},{\"args\":[[\"2020-07-06\"],{\"frame\":{\"duration\":0,\"redraw\":true},\"fromcurrent\":true,\"mode\":\"immediate\",\"transition\":{\"duration\":0,\"easing\":\"linear\"}}],\"label\":\"2020-07-06\",\"method\":\"animate\"},{\"args\":[[\"2020-07-07\"],{\"frame\":{\"duration\":0,\"redraw\":true},\"fromcurrent\":true,\"mode\":\"immediate\",\"transition\":{\"duration\":0,\"easing\":\"linear\"}}],\"label\":\"2020-07-07\",\"method\":\"animate\"},{\"args\":[[\"2020-07-08\"],{\"frame\":{\"duration\":0,\"redraw\":true},\"fromcurrent\":true,\"mode\":\"immediate\",\"transition\":{\"duration\":0,\"easing\":\"linear\"}}],\"label\":\"2020-07-08\",\"method\":\"animate\"},{\"args\":[[\"2020-07-09\"],{\"frame\":{\"duration\":0,\"redraw\":true},\"fromcurrent\":true,\"mode\":\"immediate\",\"transition\":{\"duration\":0,\"easing\":\"linear\"}}],\"label\":\"2020-07-09\",\"method\":\"animate\"},{\"args\":[[\"2020-07-10\"],{\"frame\":{\"duration\":0,\"redraw\":true},\"fromcurrent\":true,\"mode\":\"immediate\",\"transition\":{\"duration\":0,\"easing\":\"linear\"}}],\"label\":\"2020-07-10\",\"method\":\"animate\"},{\"args\":[[\"2020-07-11\"],{\"frame\":{\"duration\":0,\"redraw\":true},\"fromcurrent\":true,\"mode\":\"immediate\",\"transition\":{\"duration\":0,\"easing\":\"linear\"}}],\"label\":\"2020-07-11\",\"method\":\"animate\"},{\"args\":[[\"2020-07-12\"],{\"frame\":{\"duration\":0,\"redraw\":true},\"fromcurrent\":true,\"mode\":\"immediate\",\"transition\":{\"duration\":0,\"easing\":\"linear\"}}],\"label\":\"2020-07-12\",\"method\":\"animate\"},{\"args\":[[\"2020-07-13\"],{\"frame\":{\"duration\":0,\"redraw\":true},\"fromcurrent\":true,\"mode\":\"immediate\",\"transition\":{\"duration\":0,\"easing\":\"linear\"}}],\"label\":\"2020-07-13\",\"method\":\"animate\"},{\"args\":[[\"2020-07-14\"],{\"frame\":{\"duration\":0,\"redraw\":true},\"fromcurrent\":true,\"mode\":\"immediate\",\"transition\":{\"duration\":0,\"easing\":\"linear\"}}],\"label\":\"2020-07-14\",\"method\":\"animate\"},{\"args\":[[\"2020-07-15\"],{\"frame\":{\"duration\":0,\"redraw\":true},\"fromcurrent\":true,\"mode\":\"immediate\",\"transition\":{\"duration\":0,\"easing\":\"linear\"}}],\"label\":\"2020-07-15\",\"method\":\"animate\"},{\"args\":[[\"2020-07-16\"],{\"frame\":{\"duration\":0,\"redraw\":true},\"fromcurrent\":true,\"mode\":\"immediate\",\"transition\":{\"duration\":0,\"easing\":\"linear\"}}],\"label\":\"2020-07-16\",\"method\":\"animate\"},{\"args\":[[\"2020-07-17\"],{\"frame\":{\"duration\":0,\"redraw\":true},\"fromcurrent\":true,\"mode\":\"immediate\",\"transition\":{\"duration\":0,\"easing\":\"linear\"}}],\"label\":\"2020-07-17\",\"method\":\"animate\"},{\"args\":[[\"2020-07-18\"],{\"frame\":{\"duration\":0,\"redraw\":true},\"fromcurrent\":true,\"mode\":\"immediate\",\"transition\":{\"duration\":0,\"easing\":\"linear\"}}],\"label\":\"2020-07-18\",\"method\":\"animate\"},{\"args\":[[\"2020-07-19\"],{\"frame\":{\"duration\":0,\"redraw\":true},\"fromcurrent\":true,\"mode\":\"immediate\",\"transition\":{\"duration\":0,\"easing\":\"linear\"}}],\"label\":\"2020-07-19\",\"method\":\"animate\"},{\"args\":[[\"2020-07-20\"],{\"frame\":{\"duration\":0,\"redraw\":true},\"fromcurrent\":true,\"mode\":\"immediate\",\"transition\":{\"duration\":0,\"easing\":\"linear\"}}],\"label\":\"2020-07-20\",\"method\":\"animate\"},{\"args\":[[\"2020-07-21\"],{\"frame\":{\"duration\":0,\"redraw\":true},\"fromcurrent\":true,\"mode\":\"immediate\",\"transition\":{\"duration\":0,\"easing\":\"linear\"}}],\"label\":\"2020-07-21\",\"method\":\"animate\"},{\"args\":[[\"2020-07-22\"],{\"frame\":{\"duration\":0,\"redraw\":true},\"fromcurrent\":true,\"mode\":\"immediate\",\"transition\":{\"duration\":0,\"easing\":\"linear\"}}],\"label\":\"2020-07-22\",\"method\":\"animate\"},{\"args\":[[\"2020-07-23\"],{\"frame\":{\"duration\":0,\"redraw\":true},\"fromcurrent\":true,\"mode\":\"immediate\",\"transition\":{\"duration\":0,\"easing\":\"linear\"}}],\"label\":\"2020-07-23\",\"method\":\"animate\"},{\"args\":[[\"2020-07-24\"],{\"frame\":{\"duration\":0,\"redraw\":true},\"fromcurrent\":true,\"mode\":\"immediate\",\"transition\":{\"duration\":0,\"easing\":\"linear\"}}],\"label\":\"2020-07-24\",\"method\":\"animate\"},{\"args\":[[\"2020-07-25\"],{\"frame\":{\"duration\":0,\"redraw\":true},\"fromcurrent\":true,\"mode\":\"immediate\",\"transition\":{\"duration\":0,\"easing\":\"linear\"}}],\"label\":\"2020-07-25\",\"method\":\"animate\"},{\"args\":[[\"2020-07-26\"],{\"frame\":{\"duration\":0,\"redraw\":true},\"fromcurrent\":true,\"mode\":\"immediate\",\"transition\":{\"duration\":0,\"easing\":\"linear\"}}],\"label\":\"2020-07-26\",\"method\":\"animate\"},{\"args\":[[\"2020-07-27\"],{\"frame\":{\"duration\":0,\"redraw\":true},\"fromcurrent\":true,\"mode\":\"immediate\",\"transition\":{\"duration\":0,\"easing\":\"linear\"}}],\"label\":\"2020-07-27\",\"method\":\"animate\"},{\"args\":[[\"2020-07-28\"],{\"frame\":{\"duration\":0,\"redraw\":true},\"fromcurrent\":true,\"mode\":\"immediate\",\"transition\":{\"duration\":0,\"easing\":\"linear\"}}],\"label\":\"2020-07-28\",\"method\":\"animate\"},{\"args\":[[\"2020-07-29\"],{\"frame\":{\"duration\":0,\"redraw\":true},\"fromcurrent\":true,\"mode\":\"immediate\",\"transition\":{\"duration\":0,\"easing\":\"linear\"}}],\"label\":\"2020-07-29\",\"method\":\"animate\"},{\"args\":[[\"2020-07-30\"],{\"frame\":{\"duration\":0,\"redraw\":true},\"fromcurrent\":true,\"mode\":\"immediate\",\"transition\":{\"duration\":0,\"easing\":\"linear\"}}],\"label\":\"2020-07-30\",\"method\":\"animate\"},{\"args\":[[\"2020-07-31\"],{\"frame\":{\"duration\":0,\"redraw\":true},\"fromcurrent\":true,\"mode\":\"immediate\",\"transition\":{\"duration\":0,\"easing\":\"linear\"}}],\"label\":\"2020-07-31\",\"method\":\"animate\"},{\"args\":[[\"2020-08-01\"],{\"frame\":{\"duration\":0,\"redraw\":true},\"fromcurrent\":true,\"mode\":\"immediate\",\"transition\":{\"duration\":0,\"easing\":\"linear\"}}],\"label\":\"2020-08-01\",\"method\":\"animate\"},{\"args\":[[\"2020-08-02\"],{\"frame\":{\"duration\":0,\"redraw\":true},\"fromcurrent\":true,\"mode\":\"immediate\",\"transition\":{\"duration\":0,\"easing\":\"linear\"}}],\"label\":\"2020-08-02\",\"method\":\"animate\"},{\"args\":[[\"2020-08-03\"],{\"frame\":{\"duration\":0,\"redraw\":true},\"fromcurrent\":true,\"mode\":\"immediate\",\"transition\":{\"duration\":0,\"easing\":\"linear\"}}],\"label\":\"2020-08-03\",\"method\":\"animate\"},{\"args\":[[\"2020-08-04\"],{\"frame\":{\"duration\":0,\"redraw\":true},\"fromcurrent\":true,\"mode\":\"immediate\",\"transition\":{\"duration\":0,\"easing\":\"linear\"}}],\"label\":\"2020-08-04\",\"method\":\"animate\"},{\"args\":[[\"2020-08-05\"],{\"frame\":{\"duration\":0,\"redraw\":true},\"fromcurrent\":true,\"mode\":\"immediate\",\"transition\":{\"duration\":0,\"easing\":\"linear\"}}],\"label\":\"2020-08-05\",\"method\":\"animate\"},{\"args\":[[\"2020-08-06\"],{\"frame\":{\"duration\":0,\"redraw\":true},\"fromcurrent\":true,\"mode\":\"immediate\",\"transition\":{\"duration\":0,\"easing\":\"linear\"}}],\"label\":\"2020-08-06\",\"method\":\"animate\"},{\"args\":[[\"2020-08-07\"],{\"frame\":{\"duration\":0,\"redraw\":true},\"fromcurrent\":true,\"mode\":\"immediate\",\"transition\":{\"duration\":0,\"easing\":\"linear\"}}],\"label\":\"2020-08-07\",\"method\":\"animate\"},{\"args\":[[\"2020-08-08\"],{\"frame\":{\"duration\":0,\"redraw\":true},\"fromcurrent\":true,\"mode\":\"immediate\",\"transition\":{\"duration\":0,\"easing\":\"linear\"}}],\"label\":\"2020-08-08\",\"method\":\"animate\"},{\"args\":[[\"2020-08-09\"],{\"frame\":{\"duration\":0,\"redraw\":true},\"fromcurrent\":true,\"mode\":\"immediate\",\"transition\":{\"duration\":0,\"easing\":\"linear\"}}],\"label\":\"2020-08-09\",\"method\":\"animate\"},{\"args\":[[\"2020-08-10\"],{\"frame\":{\"duration\":0,\"redraw\":true},\"fromcurrent\":true,\"mode\":\"immediate\",\"transition\":{\"duration\":0,\"easing\":\"linear\"}}],\"label\":\"2020-08-10\",\"method\":\"animate\"},{\"args\":[[\"2020-08-11\"],{\"frame\":{\"duration\":0,\"redraw\":true},\"fromcurrent\":true,\"mode\":\"immediate\",\"transition\":{\"duration\":0,\"easing\":\"linear\"}}],\"label\":\"2020-08-11\",\"method\":\"animate\"},{\"args\":[[\"2020-08-12\"],{\"frame\":{\"duration\":0,\"redraw\":true},\"fromcurrent\":true,\"mode\":\"immediate\",\"transition\":{\"duration\":0,\"easing\":\"linear\"}}],\"label\":\"2020-08-12\",\"method\":\"animate\"},{\"args\":[[\"2020-08-13\"],{\"frame\":{\"duration\":0,\"redraw\":true},\"fromcurrent\":true,\"mode\":\"immediate\",\"transition\":{\"duration\":0,\"easing\":\"linear\"}}],\"label\":\"2020-08-13\",\"method\":\"animate\"},{\"args\":[[\"2020-08-14\"],{\"frame\":{\"duration\":0,\"redraw\":true},\"fromcurrent\":true,\"mode\":\"immediate\",\"transition\":{\"duration\":0,\"easing\":\"linear\"}}],\"label\":\"2020-08-14\",\"method\":\"animate\"},{\"args\":[[\"2020-08-15\"],{\"frame\":{\"duration\":0,\"redraw\":true},\"fromcurrent\":true,\"mode\":\"immediate\",\"transition\":{\"duration\":0,\"easing\":\"linear\"}}],\"label\":\"2020-08-15\",\"method\":\"animate\"},{\"args\":[[\"2020-08-16\"],{\"frame\":{\"duration\":0,\"redraw\":true},\"fromcurrent\":true,\"mode\":\"immediate\",\"transition\":{\"duration\":0,\"easing\":\"linear\"}}],\"label\":\"2020-08-16\",\"method\":\"animate\"},{\"args\":[[\"2020-08-17\"],{\"frame\":{\"duration\":0,\"redraw\":true},\"fromcurrent\":true,\"mode\":\"immediate\",\"transition\":{\"duration\":0,\"easing\":\"linear\"}}],\"label\":\"2020-08-17\",\"method\":\"animate\"},{\"args\":[[\"2020-08-18\"],{\"frame\":{\"duration\":0,\"redraw\":true},\"fromcurrent\":true,\"mode\":\"immediate\",\"transition\":{\"duration\":0,\"easing\":\"linear\"}}],\"label\":\"2020-08-18\",\"method\":\"animate\"},{\"args\":[[\"2020-08-19\"],{\"frame\":{\"duration\":0,\"redraw\":true},\"fromcurrent\":true,\"mode\":\"immediate\",\"transition\":{\"duration\":0,\"easing\":\"linear\"}}],\"label\":\"2020-08-19\",\"method\":\"animate\"},{\"args\":[[\"2020-08-20\"],{\"frame\":{\"duration\":0,\"redraw\":true},\"fromcurrent\":true,\"mode\":\"immediate\",\"transition\":{\"duration\":0,\"easing\":\"linear\"}}],\"label\":\"2020-08-20\",\"method\":\"animate\"},{\"args\":[[\"2020-08-21\"],{\"frame\":{\"duration\":0,\"redraw\":true},\"fromcurrent\":true,\"mode\":\"immediate\",\"transition\":{\"duration\":0,\"easing\":\"linear\"}}],\"label\":\"2020-08-21\",\"method\":\"animate\"},{\"args\":[[\"2020-08-22\"],{\"frame\":{\"duration\":0,\"redraw\":true},\"fromcurrent\":true,\"mode\":\"immediate\",\"transition\":{\"duration\":0,\"easing\":\"linear\"}}],\"label\":\"2020-08-22\",\"method\":\"animate\"},{\"args\":[[\"2020-08-23\"],{\"frame\":{\"duration\":0,\"redraw\":true},\"fromcurrent\":true,\"mode\":\"immediate\",\"transition\":{\"duration\":0,\"easing\":\"linear\"}}],\"label\":\"2020-08-23\",\"method\":\"animate\"},{\"args\":[[\"2020-08-24\"],{\"frame\":{\"duration\":0,\"redraw\":true},\"fromcurrent\":true,\"mode\":\"immediate\",\"transition\":{\"duration\":0,\"easing\":\"linear\"}}],\"label\":\"2020-08-24\",\"method\":\"animate\"},{\"args\":[[\"2020-08-25\"],{\"frame\":{\"duration\":0,\"redraw\":true},\"fromcurrent\":true,\"mode\":\"immediate\",\"transition\":{\"duration\":0,\"easing\":\"linear\"}}],\"label\":\"2020-08-25\",\"method\":\"animate\"},{\"args\":[[\"2020-08-26\"],{\"frame\":{\"duration\":0,\"redraw\":true},\"fromcurrent\":true,\"mode\":\"immediate\",\"transition\":{\"duration\":0,\"easing\":\"linear\"}}],\"label\":\"2020-08-26\",\"method\":\"animate\"},{\"args\":[[\"2020-08-27\"],{\"frame\":{\"duration\":0,\"redraw\":true},\"fromcurrent\":true,\"mode\":\"immediate\",\"transition\":{\"duration\":0,\"easing\":\"linear\"}}],\"label\":\"2020-08-27\",\"method\":\"animate\"},{\"args\":[[\"2020-08-28\"],{\"frame\":{\"duration\":0,\"redraw\":true},\"fromcurrent\":true,\"mode\":\"immediate\",\"transition\":{\"duration\":0,\"easing\":\"linear\"}}],\"label\":\"2020-08-28\",\"method\":\"animate\"},{\"args\":[[\"2020-08-29\"],{\"frame\":{\"duration\":0,\"redraw\":true},\"fromcurrent\":true,\"mode\":\"immediate\",\"transition\":{\"duration\":0,\"easing\":\"linear\"}}],\"label\":\"2020-08-29\",\"method\":\"animate\"},{\"args\":[[\"2020-08-30\"],{\"frame\":{\"duration\":0,\"redraw\":true},\"fromcurrent\":true,\"mode\":\"immediate\",\"transition\":{\"duration\":0,\"easing\":\"linear\"}}],\"label\":\"2020-08-30\",\"method\":\"animate\"},{\"args\":[[\"2020-08-31\"],{\"frame\":{\"duration\":0,\"redraw\":true},\"fromcurrent\":true,\"mode\":\"immediate\",\"transition\":{\"duration\":0,\"easing\":\"linear\"}}],\"label\":\"2020-08-31\",\"method\":\"animate\"},{\"args\":[[\"2020-09-01\"],{\"frame\":{\"duration\":0,\"redraw\":true},\"fromcurrent\":true,\"mode\":\"immediate\",\"transition\":{\"duration\":0,\"easing\":\"linear\"}}],\"label\":\"2020-09-01\",\"method\":\"animate\"},{\"args\":[[\"2020-09-02\"],{\"frame\":{\"duration\":0,\"redraw\":true},\"fromcurrent\":true,\"mode\":\"immediate\",\"transition\":{\"duration\":0,\"easing\":\"linear\"}}],\"label\":\"2020-09-02\",\"method\":\"animate\"},{\"args\":[[\"2020-09-03\"],{\"frame\":{\"duration\":0,\"redraw\":true},\"fromcurrent\":true,\"mode\":\"immediate\",\"transition\":{\"duration\":0,\"easing\":\"linear\"}}],\"label\":\"2020-09-03\",\"method\":\"animate\"},{\"args\":[[\"2020-09-04\"],{\"frame\":{\"duration\":0,\"redraw\":true},\"fromcurrent\":true,\"mode\":\"immediate\",\"transition\":{\"duration\":0,\"easing\":\"linear\"}}],\"label\":\"2020-09-04\",\"method\":\"animate\"},{\"args\":[[\"2020-09-05\"],{\"frame\":{\"duration\":0,\"redraw\":true},\"fromcurrent\":true,\"mode\":\"immediate\",\"transition\":{\"duration\":0,\"easing\":\"linear\"}}],\"label\":\"2020-09-05\",\"method\":\"animate\"},{\"args\":[[\"2020-09-06\"],{\"frame\":{\"duration\":0,\"redraw\":true},\"fromcurrent\":true,\"mode\":\"immediate\",\"transition\":{\"duration\":0,\"easing\":\"linear\"}}],\"label\":\"2020-09-06\",\"method\":\"animate\"},{\"args\":[[\"2020-09-07\"],{\"frame\":{\"duration\":0,\"redraw\":true},\"fromcurrent\":true,\"mode\":\"immediate\",\"transition\":{\"duration\":0,\"easing\":\"linear\"}}],\"label\":\"2020-09-07\",\"method\":\"animate\"},{\"args\":[[\"2020-09-08\"],{\"frame\":{\"duration\":0,\"redraw\":true},\"fromcurrent\":true,\"mode\":\"immediate\",\"transition\":{\"duration\":0,\"easing\":\"linear\"}}],\"label\":\"2020-09-08\",\"method\":\"animate\"},{\"args\":[[\"2020-09-09\"],{\"frame\":{\"duration\":0,\"redraw\":true},\"fromcurrent\":true,\"mode\":\"immediate\",\"transition\":{\"duration\":0,\"easing\":\"linear\"}}],\"label\":\"2020-09-09\",\"method\":\"animate\"},{\"args\":[[\"2020-09-10\"],{\"frame\":{\"duration\":0,\"redraw\":true},\"fromcurrent\":true,\"mode\":\"immediate\",\"transition\":{\"duration\":0,\"easing\":\"linear\"}}],\"label\":\"2020-09-10\",\"method\":\"animate\"},{\"args\":[[\"2020-09-11\"],{\"frame\":{\"duration\":0,\"redraw\":true},\"fromcurrent\":true,\"mode\":\"immediate\",\"transition\":{\"duration\":0,\"easing\":\"linear\"}}],\"label\":\"2020-09-11\",\"method\":\"animate\"},{\"args\":[[\"2020-09-12\"],{\"frame\":{\"duration\":0,\"redraw\":true},\"fromcurrent\":true,\"mode\":\"immediate\",\"transition\":{\"duration\":0,\"easing\":\"linear\"}}],\"label\":\"2020-09-12\",\"method\":\"animate\"},{\"args\":[[\"2020-09-13\"],{\"frame\":{\"duration\":0,\"redraw\":true},\"fromcurrent\":true,\"mode\":\"immediate\",\"transition\":{\"duration\":0,\"easing\":\"linear\"}}],\"label\":\"2020-09-13\",\"method\":\"animate\"},{\"args\":[[\"2020-09-14\"],{\"frame\":{\"duration\":0,\"redraw\":true},\"fromcurrent\":true,\"mode\":\"immediate\",\"transition\":{\"duration\":0,\"easing\":\"linear\"}}],\"label\":\"2020-09-14\",\"method\":\"animate\"},{\"args\":[[\"2020-09-15\"],{\"frame\":{\"duration\":0,\"redraw\":true},\"fromcurrent\":true,\"mode\":\"immediate\",\"transition\":{\"duration\":0,\"easing\":\"linear\"}}],\"label\":\"2020-09-15\",\"method\":\"animate\"},{\"args\":[[\"2020-09-16\"],{\"frame\":{\"duration\":0,\"redraw\":true},\"fromcurrent\":true,\"mode\":\"immediate\",\"transition\":{\"duration\":0,\"easing\":\"linear\"}}],\"label\":\"2020-09-16\",\"method\":\"animate\"},{\"args\":[[\"2020-09-17\"],{\"frame\":{\"duration\":0,\"redraw\":true},\"fromcurrent\":true,\"mode\":\"immediate\",\"transition\":{\"duration\":0,\"easing\":\"linear\"}}],\"label\":\"2020-09-17\",\"method\":\"animate\"},{\"args\":[[\"2020-09-18\"],{\"frame\":{\"duration\":0,\"redraw\":true},\"fromcurrent\":true,\"mode\":\"immediate\",\"transition\":{\"duration\":0,\"easing\":\"linear\"}}],\"label\":\"2020-09-18\",\"method\":\"animate\"},{\"args\":[[\"2020-09-19\"],{\"frame\":{\"duration\":0,\"redraw\":true},\"fromcurrent\":true,\"mode\":\"immediate\",\"transition\":{\"duration\":0,\"easing\":\"linear\"}}],\"label\":\"2020-09-19\",\"method\":\"animate\"},{\"args\":[[\"2020-09-20\"],{\"frame\":{\"duration\":0,\"redraw\":true},\"fromcurrent\":true,\"mode\":\"immediate\",\"transition\":{\"duration\":0,\"easing\":\"linear\"}}],\"label\":\"2020-09-20\",\"method\":\"animate\"},{\"args\":[[\"2020-09-21\"],{\"frame\":{\"duration\":0,\"redraw\":true},\"fromcurrent\":true,\"mode\":\"immediate\",\"transition\":{\"duration\":0,\"easing\":\"linear\"}}],\"label\":\"2020-09-21\",\"method\":\"animate\"},{\"args\":[[\"2020-09-22\"],{\"frame\":{\"duration\":0,\"redraw\":true},\"fromcurrent\":true,\"mode\":\"immediate\",\"transition\":{\"duration\":0,\"easing\":\"linear\"}}],\"label\":\"2020-09-22\",\"method\":\"animate\"},{\"args\":[[\"2020-09-23\"],{\"frame\":{\"duration\":0,\"redraw\":true},\"fromcurrent\":true,\"mode\":\"immediate\",\"transition\":{\"duration\":0,\"easing\":\"linear\"}}],\"label\":\"2020-09-23\",\"method\":\"animate\"},{\"args\":[[\"2020-09-24\"],{\"frame\":{\"duration\":0,\"redraw\":true},\"fromcurrent\":true,\"mode\":\"immediate\",\"transition\":{\"duration\":0,\"easing\":\"linear\"}}],\"label\":\"2020-09-24\",\"method\":\"animate\"},{\"args\":[[\"2020-09-25\"],{\"frame\":{\"duration\":0,\"redraw\":true},\"fromcurrent\":true,\"mode\":\"immediate\",\"transition\":{\"duration\":0,\"easing\":\"linear\"}}],\"label\":\"2020-09-25\",\"method\":\"animate\"},{\"args\":[[\"2020-09-26\"],{\"frame\":{\"duration\":0,\"redraw\":true},\"fromcurrent\":true,\"mode\":\"immediate\",\"transition\":{\"duration\":0,\"easing\":\"linear\"}}],\"label\":\"2020-09-26\",\"method\":\"animate\"},{\"args\":[[\"2020-09-27\"],{\"frame\":{\"duration\":0,\"redraw\":true},\"fromcurrent\":true,\"mode\":\"immediate\",\"transition\":{\"duration\":0,\"easing\":\"linear\"}}],\"label\":\"2020-09-27\",\"method\":\"animate\"},{\"args\":[[\"2020-09-28\"],{\"frame\":{\"duration\":0,\"redraw\":true},\"fromcurrent\":true,\"mode\":\"immediate\",\"transition\":{\"duration\":0,\"easing\":\"linear\"}}],\"label\":\"2020-09-28\",\"method\":\"animate\"},{\"args\":[[\"2020-09-29\"],{\"frame\":{\"duration\":0,\"redraw\":true},\"fromcurrent\":true,\"mode\":\"immediate\",\"transition\":{\"duration\":0,\"easing\":\"linear\"}}],\"label\":\"2020-09-29\",\"method\":\"animate\"},{\"args\":[[\"2020-09-30\"],{\"frame\":{\"duration\":0,\"redraw\":true},\"fromcurrent\":true,\"mode\":\"immediate\",\"transition\":{\"duration\":0,\"easing\":\"linear\"}}],\"label\":\"2020-09-30\",\"method\":\"animate\"},{\"args\":[[\"2020-10-01\"],{\"frame\":{\"duration\":0,\"redraw\":true},\"fromcurrent\":true,\"mode\":\"immediate\",\"transition\":{\"duration\":0,\"easing\":\"linear\"}}],\"label\":\"2020-10-01\",\"method\":\"animate\"},{\"args\":[[\"2020-10-02\"],{\"frame\":{\"duration\":0,\"redraw\":true},\"fromcurrent\":true,\"mode\":\"immediate\",\"transition\":{\"duration\":0,\"easing\":\"linear\"}}],\"label\":\"2020-10-02\",\"method\":\"animate\"},{\"args\":[[\"2020-10-03\"],{\"frame\":{\"duration\":0,\"redraw\":true},\"fromcurrent\":true,\"mode\":\"immediate\",\"transition\":{\"duration\":0,\"easing\":\"linear\"}}],\"label\":\"2020-10-03\",\"method\":\"animate\"},{\"args\":[[\"2020-10-04\"],{\"frame\":{\"duration\":0,\"redraw\":true},\"fromcurrent\":true,\"mode\":\"immediate\",\"transition\":{\"duration\":0,\"easing\":\"linear\"}}],\"label\":\"2020-10-04\",\"method\":\"animate\"},{\"args\":[[\"2020-10-05\"],{\"frame\":{\"duration\":0,\"redraw\":true},\"fromcurrent\":true,\"mode\":\"immediate\",\"transition\":{\"duration\":0,\"easing\":\"linear\"}}],\"label\":\"2020-10-05\",\"method\":\"animate\"},{\"args\":[[\"2020-10-06\"],{\"frame\":{\"duration\":0,\"redraw\":true},\"fromcurrent\":true,\"mode\":\"immediate\",\"transition\":{\"duration\":0,\"easing\":\"linear\"}}],\"label\":\"2020-10-06\",\"method\":\"animate\"},{\"args\":[[\"2020-10-07\"],{\"frame\":{\"duration\":0,\"redraw\":true},\"fromcurrent\":true,\"mode\":\"immediate\",\"transition\":{\"duration\":0,\"easing\":\"linear\"}}],\"label\":\"2020-10-07\",\"method\":\"animate\"},{\"args\":[[\"2020-10-08\"],{\"frame\":{\"duration\":0,\"redraw\":true},\"fromcurrent\":true,\"mode\":\"immediate\",\"transition\":{\"duration\":0,\"easing\":\"linear\"}}],\"label\":\"2020-10-08\",\"method\":\"animate\"},{\"args\":[[\"2020-10-09\"],{\"frame\":{\"duration\":0,\"redraw\":true},\"fromcurrent\":true,\"mode\":\"immediate\",\"transition\":{\"duration\":0,\"easing\":\"linear\"}}],\"label\":\"2020-10-09\",\"method\":\"animate\"},{\"args\":[[\"2020-10-10\"],{\"frame\":{\"duration\":0,\"redraw\":true},\"fromcurrent\":true,\"mode\":\"immediate\",\"transition\":{\"duration\":0,\"easing\":\"linear\"}}],\"label\":\"2020-10-10\",\"method\":\"animate\"},{\"args\":[[\"2020-10-11\"],{\"frame\":{\"duration\":0,\"redraw\":true},\"fromcurrent\":true,\"mode\":\"immediate\",\"transition\":{\"duration\":0,\"easing\":\"linear\"}}],\"label\":\"2020-10-11\",\"method\":\"animate\"},{\"args\":[[\"2020-10-12\"],{\"frame\":{\"duration\":0,\"redraw\":true},\"fromcurrent\":true,\"mode\":\"immediate\",\"transition\":{\"duration\":0,\"easing\":\"linear\"}}],\"label\":\"2020-10-12\",\"method\":\"animate\"},{\"args\":[[\"2020-10-13\"],{\"frame\":{\"duration\":0,\"redraw\":true},\"fromcurrent\":true,\"mode\":\"immediate\",\"transition\":{\"duration\":0,\"easing\":\"linear\"}}],\"label\":\"2020-10-13\",\"method\":\"animate\"},{\"args\":[[\"2020-10-14\"],{\"frame\":{\"duration\":0,\"redraw\":true},\"fromcurrent\":true,\"mode\":\"immediate\",\"transition\":{\"duration\":0,\"easing\":\"linear\"}}],\"label\":\"2020-10-14\",\"method\":\"animate\"},{\"args\":[[\"2020-10-15\"],{\"frame\":{\"duration\":0,\"redraw\":true},\"fromcurrent\":true,\"mode\":\"immediate\",\"transition\":{\"duration\":0,\"easing\":\"linear\"}}],\"label\":\"2020-10-15\",\"method\":\"animate\"},{\"args\":[[\"2020-10-16\"],{\"frame\":{\"duration\":0,\"redraw\":true},\"fromcurrent\":true,\"mode\":\"immediate\",\"transition\":{\"duration\":0,\"easing\":\"linear\"}}],\"label\":\"2020-10-16\",\"method\":\"animate\"},{\"args\":[[\"2020-10-17\"],{\"frame\":{\"duration\":0,\"redraw\":true},\"fromcurrent\":true,\"mode\":\"immediate\",\"transition\":{\"duration\":0,\"easing\":\"linear\"}}],\"label\":\"2020-10-17\",\"method\":\"animate\"},{\"args\":[[\"2020-10-18\"],{\"frame\":{\"duration\":0,\"redraw\":true},\"fromcurrent\":true,\"mode\":\"immediate\",\"transition\":{\"duration\":0,\"easing\":\"linear\"}}],\"label\":\"2020-10-18\",\"method\":\"animate\"},{\"args\":[[\"2020-10-19\"],{\"frame\":{\"duration\":0,\"redraw\":true},\"fromcurrent\":true,\"mode\":\"immediate\",\"transition\":{\"duration\":0,\"easing\":\"linear\"}}],\"label\":\"2020-10-19\",\"method\":\"animate\"},{\"args\":[[\"2020-10-20\"],{\"frame\":{\"duration\":0,\"redraw\":true},\"fromcurrent\":true,\"mode\":\"immediate\",\"transition\":{\"duration\":0,\"easing\":\"linear\"}}],\"label\":\"2020-10-20\",\"method\":\"animate\"},{\"args\":[[\"2020-10-21\"],{\"frame\":{\"duration\":0,\"redraw\":true},\"fromcurrent\":true,\"mode\":\"immediate\",\"transition\":{\"duration\":0,\"easing\":\"linear\"}}],\"label\":\"2020-10-21\",\"method\":\"animate\"},{\"args\":[[\"2020-10-22\"],{\"frame\":{\"duration\":0,\"redraw\":true},\"fromcurrent\":true,\"mode\":\"immediate\",\"transition\":{\"duration\":0,\"easing\":\"linear\"}}],\"label\":\"2020-10-22\",\"method\":\"animate\"},{\"args\":[[\"2020-10-23\"],{\"frame\":{\"duration\":0,\"redraw\":true},\"fromcurrent\":true,\"mode\":\"immediate\",\"transition\":{\"duration\":0,\"easing\":\"linear\"}}],\"label\":\"2020-10-23\",\"method\":\"animate\"},{\"args\":[[\"2020-10-24\"],{\"frame\":{\"duration\":0,\"redraw\":true},\"fromcurrent\":true,\"mode\":\"immediate\",\"transition\":{\"duration\":0,\"easing\":\"linear\"}}],\"label\":\"2020-10-24\",\"method\":\"animate\"},{\"args\":[[\"2020-10-25\"],{\"frame\":{\"duration\":0,\"redraw\":true},\"fromcurrent\":true,\"mode\":\"immediate\",\"transition\":{\"duration\":0,\"easing\":\"linear\"}}],\"label\":\"2020-10-25\",\"method\":\"animate\"},{\"args\":[[\"2020-10-26\"],{\"frame\":{\"duration\":0,\"redraw\":true},\"fromcurrent\":true,\"mode\":\"immediate\",\"transition\":{\"duration\":0,\"easing\":\"linear\"}}],\"label\":\"2020-10-26\",\"method\":\"animate\"},{\"args\":[[\"2020-10-27\"],{\"frame\":{\"duration\":0,\"redraw\":true},\"fromcurrent\":true,\"mode\":\"immediate\",\"transition\":{\"duration\":0,\"easing\":\"linear\"}}],\"label\":\"2020-10-27\",\"method\":\"animate\"},{\"args\":[[\"2020-10-28\"],{\"frame\":{\"duration\":0,\"redraw\":true},\"fromcurrent\":true,\"mode\":\"immediate\",\"transition\":{\"duration\":0,\"easing\":\"linear\"}}],\"label\":\"2020-10-28\",\"method\":\"animate\"},{\"args\":[[\"2020-10-29\"],{\"frame\":{\"duration\":0,\"redraw\":true},\"fromcurrent\":true,\"mode\":\"immediate\",\"transition\":{\"duration\":0,\"easing\":\"linear\"}}],\"label\":\"2020-10-29\",\"method\":\"animate\"},{\"args\":[[\"2020-10-30\"],{\"frame\":{\"duration\":0,\"redraw\":true},\"fromcurrent\":true,\"mode\":\"immediate\",\"transition\":{\"duration\":0,\"easing\":\"linear\"}}],\"label\":\"2020-10-30\",\"method\":\"animate\"},{\"args\":[[\"2020-10-31\"],{\"frame\":{\"duration\":0,\"redraw\":true},\"fromcurrent\":true,\"mode\":\"immediate\",\"transition\":{\"duration\":0,\"easing\":\"linear\"}}],\"label\":\"2020-10-31\",\"method\":\"animate\"},{\"args\":[[\"2020-11-01\"],{\"frame\":{\"duration\":0,\"redraw\":true},\"fromcurrent\":true,\"mode\":\"immediate\",\"transition\":{\"duration\":0,\"easing\":\"linear\"}}],\"label\":\"2020-11-01\",\"method\":\"animate\"},{\"args\":[[\"2020-11-02\"],{\"frame\":{\"duration\":0,\"redraw\":true},\"fromcurrent\":true,\"mode\":\"immediate\",\"transition\":{\"duration\":0,\"easing\":\"linear\"}}],\"label\":\"2020-11-02\",\"method\":\"animate\"},{\"args\":[[\"2020-11-03\"],{\"frame\":{\"duration\":0,\"redraw\":true},\"fromcurrent\":true,\"mode\":\"immediate\",\"transition\":{\"duration\":0,\"easing\":\"linear\"}}],\"label\":\"2020-11-03\",\"method\":\"animate\"},{\"args\":[[\"2020-11-04\"],{\"frame\":{\"duration\":0,\"redraw\":true},\"fromcurrent\":true,\"mode\":\"immediate\",\"transition\":{\"duration\":0,\"easing\":\"linear\"}}],\"label\":\"2020-11-04\",\"method\":\"animate\"},{\"args\":[[\"2020-11-05\"],{\"frame\":{\"duration\":0,\"redraw\":true},\"fromcurrent\":true,\"mode\":\"immediate\",\"transition\":{\"duration\":0,\"easing\":\"linear\"}}],\"label\":\"2020-11-05\",\"method\":\"animate\"},{\"args\":[[\"2020-11-06\"],{\"frame\":{\"duration\":0,\"redraw\":true},\"fromcurrent\":true,\"mode\":\"immediate\",\"transition\":{\"duration\":0,\"easing\":\"linear\"}}],\"label\":\"2020-11-06\",\"method\":\"animate\"},{\"args\":[[\"2020-11-07\"],{\"frame\":{\"duration\":0,\"redraw\":true},\"fromcurrent\":true,\"mode\":\"immediate\",\"transition\":{\"duration\":0,\"easing\":\"linear\"}}],\"label\":\"2020-11-07\",\"method\":\"animate\"},{\"args\":[[\"2020-11-08\"],{\"frame\":{\"duration\":0,\"redraw\":true},\"fromcurrent\":true,\"mode\":\"immediate\",\"transition\":{\"duration\":0,\"easing\":\"linear\"}}],\"label\":\"2020-11-08\",\"method\":\"animate\"},{\"args\":[[\"2020-11-09\"],{\"frame\":{\"duration\":0,\"redraw\":true},\"fromcurrent\":true,\"mode\":\"immediate\",\"transition\":{\"duration\":0,\"easing\":\"linear\"}}],\"label\":\"2020-11-09\",\"method\":\"animate\"},{\"args\":[[\"2020-11-10\"],{\"frame\":{\"duration\":0,\"redraw\":true},\"fromcurrent\":true,\"mode\":\"immediate\",\"transition\":{\"duration\":0,\"easing\":\"linear\"}}],\"label\":\"2020-11-10\",\"method\":\"animate\"},{\"args\":[[\"2020-11-11\"],{\"frame\":{\"duration\":0,\"redraw\":true},\"fromcurrent\":true,\"mode\":\"immediate\",\"transition\":{\"duration\":0,\"easing\":\"linear\"}}],\"label\":\"2020-11-11\",\"method\":\"animate\"},{\"args\":[[\"2020-11-12\"],{\"frame\":{\"duration\":0,\"redraw\":true},\"fromcurrent\":true,\"mode\":\"immediate\",\"transition\":{\"duration\":0,\"easing\":\"linear\"}}],\"label\":\"2020-11-12\",\"method\":\"animate\"},{\"args\":[[\"2020-11-13\"],{\"frame\":{\"duration\":0,\"redraw\":true},\"fromcurrent\":true,\"mode\":\"immediate\",\"transition\":{\"duration\":0,\"easing\":\"linear\"}}],\"label\":\"2020-11-13\",\"method\":\"animate\"},{\"args\":[[\"2020-11-14\"],{\"frame\":{\"duration\":0,\"redraw\":true},\"fromcurrent\":true,\"mode\":\"immediate\",\"transition\":{\"duration\":0,\"easing\":\"linear\"}}],\"label\":\"2020-11-14\",\"method\":\"animate\"},{\"args\":[[\"2020-11-15\"],{\"frame\":{\"duration\":0,\"redraw\":true},\"fromcurrent\":true,\"mode\":\"immediate\",\"transition\":{\"duration\":0,\"easing\":\"linear\"}}],\"label\":\"2020-11-15\",\"method\":\"animate\"},{\"args\":[[\"2020-11-16\"],{\"frame\":{\"duration\":0,\"redraw\":true},\"fromcurrent\":true,\"mode\":\"immediate\",\"transition\":{\"duration\":0,\"easing\":\"linear\"}}],\"label\":\"2020-11-16\",\"method\":\"animate\"},{\"args\":[[\"2020-11-17\"],{\"frame\":{\"duration\":0,\"redraw\":true},\"fromcurrent\":true,\"mode\":\"immediate\",\"transition\":{\"duration\":0,\"easing\":\"linear\"}}],\"label\":\"2020-11-17\",\"method\":\"animate\"},{\"args\":[[\"2020-11-18\"],{\"frame\":{\"duration\":0,\"redraw\":true},\"fromcurrent\":true,\"mode\":\"immediate\",\"transition\":{\"duration\":0,\"easing\":\"linear\"}}],\"label\":\"2020-11-18\",\"method\":\"animate\"},{\"args\":[[\"2020-11-19\"],{\"frame\":{\"duration\":0,\"redraw\":true},\"fromcurrent\":true,\"mode\":\"immediate\",\"transition\":{\"duration\":0,\"easing\":\"linear\"}}],\"label\":\"2020-11-19\",\"method\":\"animate\"},{\"args\":[[\"2020-11-20\"],{\"frame\":{\"duration\":0,\"redraw\":true},\"fromcurrent\":true,\"mode\":\"immediate\",\"transition\":{\"duration\":0,\"easing\":\"linear\"}}],\"label\":\"2020-11-20\",\"method\":\"animate\"},{\"args\":[[\"2020-11-21\"],{\"frame\":{\"duration\":0,\"redraw\":true},\"fromcurrent\":true,\"mode\":\"immediate\",\"transition\":{\"duration\":0,\"easing\":\"linear\"}}],\"label\":\"2020-11-21\",\"method\":\"animate\"},{\"args\":[[\"2020-11-22\"],{\"frame\":{\"duration\":0,\"redraw\":true},\"fromcurrent\":true,\"mode\":\"immediate\",\"transition\":{\"duration\":0,\"easing\":\"linear\"}}],\"label\":\"2020-11-22\",\"method\":\"animate\"},{\"args\":[[\"2020-11-23\"],{\"frame\":{\"duration\":0,\"redraw\":true},\"fromcurrent\":true,\"mode\":\"immediate\",\"transition\":{\"duration\":0,\"easing\":\"linear\"}}],\"label\":\"2020-11-23\",\"method\":\"animate\"},{\"args\":[[\"2020-11-24\"],{\"frame\":{\"duration\":0,\"redraw\":true},\"fromcurrent\":true,\"mode\":\"immediate\",\"transition\":{\"duration\":0,\"easing\":\"linear\"}}],\"label\":\"2020-11-24\",\"method\":\"animate\"},{\"args\":[[\"2020-11-25\"],{\"frame\":{\"duration\":0,\"redraw\":true},\"fromcurrent\":true,\"mode\":\"immediate\",\"transition\":{\"duration\":0,\"easing\":\"linear\"}}],\"label\":\"2020-11-25\",\"method\":\"animate\"},{\"args\":[[\"2020-11-26\"],{\"frame\":{\"duration\":0,\"redraw\":true},\"fromcurrent\":true,\"mode\":\"immediate\",\"transition\":{\"duration\":0,\"easing\":\"linear\"}}],\"label\":\"2020-11-26\",\"method\":\"animate\"},{\"args\":[[\"2020-11-27\"],{\"frame\":{\"duration\":0,\"redraw\":true},\"fromcurrent\":true,\"mode\":\"immediate\",\"transition\":{\"duration\":0,\"easing\":\"linear\"}}],\"label\":\"2020-11-27\",\"method\":\"animate\"},{\"args\":[[\"2020-11-28\"],{\"frame\":{\"duration\":0,\"redraw\":true},\"fromcurrent\":true,\"mode\":\"immediate\",\"transition\":{\"duration\":0,\"easing\":\"linear\"}}],\"label\":\"2020-11-28\",\"method\":\"animate\"},{\"args\":[[\"2020-11-29\"],{\"frame\":{\"duration\":0,\"redraw\":true},\"fromcurrent\":true,\"mode\":\"immediate\",\"transition\":{\"duration\":0,\"easing\":\"linear\"}}],\"label\":\"2020-11-29\",\"method\":\"animate\"},{\"args\":[[\"2020-11-30\"],{\"frame\":{\"duration\":0,\"redraw\":true},\"fromcurrent\":true,\"mode\":\"immediate\",\"transition\":{\"duration\":0,\"easing\":\"linear\"}}],\"label\":\"2020-11-30\",\"method\":\"animate\"},{\"args\":[[\"2020-12-01\"],{\"frame\":{\"duration\":0,\"redraw\":true},\"fromcurrent\":true,\"mode\":\"immediate\",\"transition\":{\"duration\":0,\"easing\":\"linear\"}}],\"label\":\"2020-12-01\",\"method\":\"animate\"},{\"args\":[[\"2020-12-02\"],{\"frame\":{\"duration\":0,\"redraw\":true},\"fromcurrent\":true,\"mode\":\"immediate\",\"transition\":{\"duration\":0,\"easing\":\"linear\"}}],\"label\":\"2020-12-02\",\"method\":\"animate\"}],\"x\":0.1,\"xanchor\":\"left\",\"y\":0,\"yanchor\":\"top\"}],\"template\":{\"data\":{\"bar\":[{\"error_x\":{\"color\":\"#2a3f5f\"},\"error_y\":{\"color\":\"#2a3f5f\"},\"marker\":{\"line\":{\"color\":\"#E5ECF6\",\"width\":0.5},\"pattern\":{\"fillmode\":\"overlay\",\"size\":10,\"solidity\":0.2}},\"type\":\"bar\"}],\"barpolar\":[{\"marker\":{\"line\":{\"color\":\"#E5ECF6\",\"width\":0.5},\"pattern\":{\"fillmode\":\"overlay\",\"size\":10,\"solidity\":0.2}},\"type\":\"barpolar\"}],\"carpet\":[{\"aaxis\":{\"endlinecolor\":\"#2a3f5f\",\"gridcolor\":\"white\",\"linecolor\":\"white\",\"minorgridcolor\":\"white\",\"startlinecolor\":\"#2a3f5f\"},\"baxis\":{\"endlinecolor\":\"#2a3f5f\",\"gridcolor\":\"white\",\"linecolor\":\"white\",\"minorgridcolor\":\"white\",\"startlinecolor\":\"#2a3f5f\"},\"type\":\"carpet\"}],\"choropleth\":[{\"colorbar\":{\"outlinewidth\":0,\"ticks\":\"\"},\"type\":\"choropleth\"}],\"contour\":[{\"colorbar\":{\"outlinewidth\":0,\"ticks\":\"\"},\"colorscale\":[[0.0,\"#0d0887\"],[0.1111111111111111,\"#46039f\"],[0.2222222222222222,\"#7201a8\"],[0.3333333333333333,\"#9c179e\"],[0.4444444444444444,\"#bd3786\"],[0.5555555555555556,\"#d8576b\"],[0.6666666666666666,\"#ed7953\"],[0.7777777777777778,\"#fb9f3a\"],[0.8888888888888888,\"#fdca26\"],[1.0,\"#f0f921\"]],\"type\":\"contour\"}],\"contourcarpet\":[{\"colorbar\":{\"outlinewidth\":0,\"ticks\":\"\"},\"type\":\"contourcarpet\"}],\"heatmap\":[{\"colorbar\":{\"outlinewidth\":0,\"ticks\":\"\"},\"colorscale\":[[0.0,\"#0d0887\"],[0.1111111111111111,\"#46039f\"],[0.2222222222222222,\"#7201a8\"],[0.3333333333333333,\"#9c179e\"],[0.4444444444444444,\"#bd3786\"],[0.5555555555555556,\"#d8576b\"],[0.6666666666666666,\"#ed7953\"],[0.7777777777777778,\"#fb9f3a\"],[0.8888888888888888,\"#fdca26\"],[1.0,\"#f0f921\"]],\"type\":\"heatmap\"}],\"heatmapgl\":[{\"colorbar\":{\"outlinewidth\":0,\"ticks\":\"\"},\"colorscale\":[[0.0,\"#0d0887\"],[0.1111111111111111,\"#46039f\"],[0.2222222222222222,\"#7201a8\"],[0.3333333333333333,\"#9c179e\"],[0.4444444444444444,\"#bd3786\"],[0.5555555555555556,\"#d8576b\"],[0.6666666666666666,\"#ed7953\"],[0.7777777777777778,\"#fb9f3a\"],[0.8888888888888888,\"#fdca26\"],[1.0,\"#f0f921\"]],\"type\":\"heatmapgl\"}],\"histogram\":[{\"marker\":{\"pattern\":{\"fillmode\":\"overlay\",\"size\":10,\"solidity\":0.2}},\"type\":\"histogram\"}],\"histogram2d\":[{\"colorbar\":{\"outlinewidth\":0,\"ticks\":\"\"},\"colorscale\":[[0.0,\"#0d0887\"],[0.1111111111111111,\"#46039f\"],[0.2222222222222222,\"#7201a8\"],[0.3333333333333333,\"#9c179e\"],[0.4444444444444444,\"#bd3786\"],[0.5555555555555556,\"#d8576b\"],[0.6666666666666666,\"#ed7953\"],[0.7777777777777778,\"#fb9f3a\"],[0.8888888888888888,\"#fdca26\"],[1.0,\"#f0f921\"]],\"type\":\"histogram2d\"}],\"histogram2dcontour\":[{\"colorbar\":{\"outlinewidth\":0,\"ticks\":\"\"},\"colorscale\":[[0.0,\"#0d0887\"],[0.1111111111111111,\"#46039f\"],[0.2222222222222222,\"#7201a8\"],[0.3333333333333333,\"#9c179e\"],[0.4444444444444444,\"#bd3786\"],[0.5555555555555556,\"#d8576b\"],[0.6666666666666666,\"#ed7953\"],[0.7777777777777778,\"#fb9f3a\"],[0.8888888888888888,\"#fdca26\"],[1.0,\"#f0f921\"]],\"type\":\"histogram2dcontour\"}],\"mesh3d\":[{\"colorbar\":{\"outlinewidth\":0,\"ticks\":\"\"},\"type\":\"mesh3d\"}],\"parcoords\":[{\"line\":{\"colorbar\":{\"outlinewidth\":0,\"ticks\":\"\"}},\"type\":\"parcoords\"}],\"pie\":[{\"automargin\":true,\"type\":\"pie\"}],\"scatter\":[{\"marker\":{\"colorbar\":{\"outlinewidth\":0,\"ticks\":\"\"}},\"type\":\"scatter\"}],\"scatter3d\":[{\"line\":{\"colorbar\":{\"outlinewidth\":0,\"ticks\":\"\"}},\"marker\":{\"colorbar\":{\"outlinewidth\":0,\"ticks\":\"\"}},\"type\":\"scatter3d\"}],\"scattercarpet\":[{\"marker\":{\"colorbar\":{\"outlinewidth\":0,\"ticks\":\"\"}},\"type\":\"scattercarpet\"}],\"scattergeo\":[{\"marker\":{\"colorbar\":{\"outlinewidth\":0,\"ticks\":\"\"}},\"type\":\"scattergeo\"}],\"scattergl\":[{\"marker\":{\"colorbar\":{\"outlinewidth\":0,\"ticks\":\"\"}},\"type\":\"scattergl\"}],\"scattermapbox\":[{\"marker\":{\"colorbar\":{\"outlinewidth\":0,\"ticks\":\"\"}},\"type\":\"scattermapbox\"}],\"scatterpolar\":[{\"marker\":{\"colorbar\":{\"outlinewidth\":0,\"ticks\":\"\"}},\"type\":\"scatterpolar\"}],\"scatterpolargl\":[{\"marker\":{\"colorbar\":{\"outlinewidth\":0,\"ticks\":\"\"}},\"type\":\"scatterpolargl\"}],\"scatterternary\":[{\"marker\":{\"colorbar\":{\"outlinewidth\":0,\"ticks\":\"\"}},\"type\":\"scatterternary\"}],\"surface\":[{\"colorbar\":{\"outlinewidth\":0,\"ticks\":\"\"},\"colorscale\":[[0.0,\"#0d0887\"],[0.1111111111111111,\"#46039f\"],[0.2222222222222222,\"#7201a8\"],[0.3333333333333333,\"#9c179e\"],[0.4444444444444444,\"#bd3786\"],[0.5555555555555556,\"#d8576b\"],[0.6666666666666666,\"#ed7953\"],[0.7777777777777778,\"#fb9f3a\"],[0.8888888888888888,\"#fdca26\"],[1.0,\"#f0f921\"]],\"type\":\"surface\"}],\"table\":[{\"cells\":{\"fill\":{\"color\":\"#EBF0F8\"},\"line\":{\"color\":\"white\"}},\"header\":{\"fill\":{\"color\":\"#C8D4E3\"},\"line\":{\"color\":\"white\"}},\"type\":\"table\"}]},\"layout\":{\"annotationdefaults\":{\"arrowcolor\":\"#2a3f5f\",\"arrowhead\":0,\"arrowwidth\":1},\"autotypenumbers\":\"strict\",\"coloraxis\":{\"colorbar\":{\"outlinewidth\":0,\"ticks\":\"\"}},\"colorscale\":{\"diverging\":[[0,\"#8e0152\"],[0.1,\"#c51b7d\"],[0.2,\"#de77ae\"],[0.3,\"#f1b6da\"],[0.4,\"#fde0ef\"],[0.5,\"#f7f7f7\"],[0.6,\"#e6f5d0\"],[0.7,\"#b8e186\"],[0.8,\"#7fbc41\"],[0.9,\"#4d9221\"],[1,\"#276419\"]],\"sequential\":[[0.0,\"#0d0887\"],[0.1111111111111111,\"#46039f\"],[0.2222222222222222,\"#7201a8\"],[0.3333333333333333,\"#9c179e\"],[0.4444444444444444,\"#bd3786\"],[0.5555555555555556,\"#d8576b\"],[0.6666666666666666,\"#ed7953\"],[0.7777777777777778,\"#fb9f3a\"],[0.8888888888888888,\"#fdca26\"],[1.0,\"#f0f921\"]],\"sequentialminus\":[[0.0,\"#0d0887\"],[0.1111111111111111,\"#46039f\"],[0.2222222222222222,\"#7201a8\"],[0.3333333333333333,\"#9c179e\"],[0.4444444444444444,\"#bd3786\"],[0.5555555555555556,\"#d8576b\"],[0.6666666666666666,\"#ed7953\"],[0.7777777777777778,\"#fb9f3a\"],[0.8888888888888888,\"#fdca26\"],[1.0,\"#f0f921\"]]},\"colorway\":[\"#636efa\",\"#EF553B\",\"#00cc96\",\"#ab63fa\",\"#FFA15A\",\"#19d3f3\",\"#FF6692\",\"#B6E880\",\"#FF97FF\",\"#FECB52\"],\"font\":{\"color\":\"#2a3f5f\"},\"geo\":{\"bgcolor\":\"white\",\"lakecolor\":\"white\",\"landcolor\":\"#E5ECF6\",\"showlakes\":true,\"showland\":true,\"subunitcolor\":\"white\"},\"hoverlabel\":{\"align\":\"left\"},\"hovermode\":\"closest\",\"mapbox\":{\"style\":\"light\"},\"paper_bgcolor\":\"white\",\"plot_bgcolor\":\"#E5ECF6\",\"polar\":{\"angularaxis\":{\"gridcolor\":\"white\",\"linecolor\":\"white\",\"ticks\":\"\"},\"bgcolor\":\"#E5ECF6\",\"radialaxis\":{\"gridcolor\":\"white\",\"linecolor\":\"white\",\"ticks\":\"\"}},\"scene\":{\"xaxis\":{\"backgroundcolor\":\"#E5ECF6\",\"gridcolor\":\"white\",\"gridwidth\":2,\"linecolor\":\"white\",\"showbackground\":true,\"ticks\":\"\",\"zerolinecolor\":\"white\"},\"yaxis\":{\"backgroundcolor\":\"#E5ECF6\",\"gridcolor\":\"white\",\"gridwidth\":2,\"linecolor\":\"white\",\"showbackground\":true,\"ticks\":\"\",\"zerolinecolor\":\"white\"},\"zaxis\":{\"backgroundcolor\":\"#E5ECF6\",\"gridcolor\":\"white\",\"gridwidth\":2,\"linecolor\":\"white\",\"showbackground\":true,\"ticks\":\"\",\"zerolinecolor\":\"white\"}},\"shapedefaults\":{\"line\":{\"color\":\"#2a3f5f\"}},\"ternary\":{\"aaxis\":{\"gridcolor\":\"white\",\"linecolor\":\"white\",\"ticks\":\"\"},\"baxis\":{\"gridcolor\":\"white\",\"linecolor\":\"white\",\"ticks\":\"\"},\"bgcolor\":\"#E5ECF6\",\"caxis\":{\"gridcolor\":\"white\",\"linecolor\":\"white\",\"ticks\":\"\"}},\"title\":{\"x\":0.05},\"xaxis\":{\"automargin\":true,\"gridcolor\":\"white\",\"linecolor\":\"white\",\"ticks\":\"\",\"title\":{\"standoff\":15},\"zerolinecolor\":\"white\",\"zerolinewidth\":2},\"yaxis\":{\"automargin\":true,\"gridcolor\":\"white\",\"linecolor\":\"white\",\"ticks\":\"\",\"title\":{\"standoff\":15},\"zerolinecolor\":\"white\",\"zerolinewidth\":2}}},\"title\":{\"text\":\"Global Spread of Coronavirus\",\"x\":0.5},\"updatemenus\":[{\"buttons\":[{\"args\":[null,{\"frame\":{\"duration\":500,\"redraw\":true},\"fromcurrent\":true,\"mode\":\"immediate\",\"transition\":{\"duration\":500,\"easing\":\"linear\"}}],\"label\":\"&#9654;\",\"method\":\"animate\"},{\"args\":[[null],{\"frame\":{\"duration\":0,\"redraw\":true},\"fromcurrent\":true,\"mode\":\"immediate\",\"transition\":{\"duration\":0,\"easing\":\"linear\"}}],\"label\":\"&#9724;\",\"method\":\"animate\"}],\"direction\":\"left\",\"pad\":{\"r\":10,\"t\":70},\"showactive\":false,\"type\":\"buttons\",\"x\":0.1,\"xanchor\":\"right\",\"y\":0,\"yanchor\":\"top\"}]},                        {\"responsive\": true}                    ).then(function(){\n",
       "                            Plotly.addFrames('a6e762f1-21f7-40c5-980d-1fc22ff1420b', [{\"data\":[{\"coloraxis\":\"coloraxis\",\"geo\":\"geo\",\"hovertemplate\":\"<b>%{hovertext}</b><br><br>Date=2020-03-16<br>Country=%{location}<br>PercentOfBaseline=%{z}<extra></extra>\",\"hovertext\":[\"Australia\",\"Canada\",\"Chile\",\"United States of America (the)\"],\"locationmode\":\"country names\",\"locations\":[\"Australia\",\"Canada\",\"Chile\",\"United States of America (the)\"],\"name\":\"\",\"type\":\"choropleth\",\"z\":[92,831,96,1497]}],\"name\":\"2020-03-16\"},{\"data\":[{\"coloraxis\":\"coloraxis\",\"geo\":\"geo\",\"hovertemplate\":\"<b>%{hovertext}</b><br><br>Date=2020-03-17<br>Country=%{location}<br>PercentOfBaseline=%{z}<extra></extra>\",\"hovertext\":[\"Australia\",\"Canada\",\"Chile\",\"United States of America (the)\"],\"locationmode\":\"country names\",\"locations\":[\"Australia\",\"Canada\",\"Chile\",\"United States of America (the)\"],\"name\":\"\",\"type\":\"choropleth\",\"z\":[90,791,72,1493]}],\"name\":\"2020-03-17\"},{\"data\":[{\"coloraxis\":\"coloraxis\",\"geo\":\"geo\",\"hovertemplate\":\"<b>%{hovertext}</b><br><br>Date=2020-03-18<br>Country=%{location}<br>PercentOfBaseline=%{z}<extra></extra>\",\"hovertext\":[\"Australia\",\"Canada\",\"Chile\",\"United States of America (the)\"],\"locationmode\":\"country names\",\"locations\":[\"Australia\",\"Canada\",\"Chile\",\"United States of America (the)\"],\"name\":\"\",\"type\":\"choropleth\",\"z\":[97,792,56,1389]}],\"name\":\"2020-03-18\"},{\"data\":[{\"coloraxis\":\"coloraxis\",\"geo\":\"geo\",\"hovertemplate\":\"<b>%{hovertext}</b><br><br>Date=2020-03-19<br>Country=%{location}<br>PercentOfBaseline=%{z}<extra></extra>\",\"hovertext\":[\"Australia\",\"Canada\",\"Chile\",\"United States of America (the)\"],\"locationmode\":\"country names\",\"locations\":[\"Australia\",\"Canada\",\"Chile\",\"United States of America (the)\"],\"name\":\"\",\"type\":\"choropleth\",\"z\":[89,763,52,1254]}],\"name\":\"2020-03-19\"},{\"data\":[{\"coloraxis\":\"coloraxis\",\"geo\":\"geo\",\"hovertemplate\":\"<b>%{hovertext}</b><br><br>Date=2020-03-20<br>Country=%{location}<br>PercentOfBaseline=%{z}<extra></extra>\",\"hovertext\":[\"Australia\",\"Canada\",\"Chile\",\"United States of America (the)\"],\"locationmode\":\"country names\",\"locations\":[\"Australia\",\"Canada\",\"Chile\",\"United States of America (the)\"],\"name\":\"\",\"type\":\"choropleth\",\"z\":[85,780,53,1242]}],\"name\":\"2020-03-20\"},{\"data\":[{\"coloraxis\":\"coloraxis\",\"geo\":\"geo\",\"hovertemplate\":\"<b>%{hovertext}</b><br><br>Date=2020-03-21<br>Country=%{location}<br>PercentOfBaseline=%{z}<extra></extra>\",\"hovertext\":[\"Australia\",\"Canada\",\"Chile\",\"United States of America (the)\"],\"locationmode\":\"country names\",\"locations\":[\"Australia\",\"Canada\",\"Chile\",\"United States of America (the)\"],\"name\":\"\",\"type\":\"choropleth\",\"z\":[100,661,38,1227]}],\"name\":\"2020-03-21\"},{\"data\":[{\"coloraxis\":\"coloraxis\",\"geo\":\"geo\",\"hovertemplate\":\"<b>%{hovertext}</b><br><br>Date=2020-03-22<br>Country=%{location}<br>PercentOfBaseline=%{z}<extra></extra>\",\"hovertext\":[\"Australia\",\"Canada\",\"Chile\",\"United States of America (the)\"],\"locationmode\":\"country names\",\"locations\":[\"Australia\",\"Canada\",\"Chile\",\"United States of America (the)\"],\"name\":\"\",\"type\":\"choropleth\",\"z\":[89,599,13,1216]}],\"name\":\"2020-03-22\"},{\"data\":[{\"coloraxis\":\"coloraxis\",\"geo\":\"geo\",\"hovertemplate\":\"<b>%{hovertext}</b><br><br>Date=2020-03-23<br>Country=%{location}<br>PercentOfBaseline=%{z}<extra></extra>\",\"hovertext\":[\"Australia\",\"Canada\",\"Chile\",\"United States of America (the)\"],\"locationmode\":\"country names\",\"locations\":[\"Australia\",\"Canada\",\"Chile\",\"United States of America (the)\"],\"name\":\"\",\"type\":\"choropleth\",\"z\":[84,765,32,1180]}],\"name\":\"2020-03-23\"},{\"data\":[{\"coloraxis\":\"coloraxis\",\"geo\":\"geo\",\"hovertemplate\":\"<b>%{hovertext}</b><br><br>Date=2020-03-24<br>Country=%{location}<br>PercentOfBaseline=%{z}<extra></extra>\",\"hovertext\":[\"Australia\",\"Canada\",\"Chile\",\"United States of America (the)\"],\"locationmode\":\"country names\",\"locations\":[\"Australia\",\"Canada\",\"Chile\",\"United States of America (the)\"],\"name\":\"\",\"type\":\"choropleth\",\"z\":[89,735,29,1185]}],\"name\":\"2020-03-24\"},{\"data\":[{\"coloraxis\":\"coloraxis\",\"geo\":\"geo\",\"hovertemplate\":\"<b>%{hovertext}</b><br><br>Date=2020-03-25<br>Country=%{location}<br>PercentOfBaseline=%{z}<extra></extra>\",\"hovertext\":[\"Australia\",\"Canada\",\"Chile\",\"United States of America (the)\"],\"locationmode\":\"country names\",\"locations\":[\"Australia\",\"Canada\",\"Chile\",\"United States of America (the)\"],\"name\":\"\",\"type\":\"choropleth\",\"z\":[84,662,26,1167]}],\"name\":\"2020-03-25\"},{\"data\":[{\"coloraxis\":\"coloraxis\",\"geo\":\"geo\",\"hovertemplate\":\"<b>%{hovertext}</b><br><br>Date=2020-03-26<br>Country=%{location}<br>PercentOfBaseline=%{z}<extra></extra>\",\"hovertext\":[\"Australia\",\"Canada\",\"Chile\",\"United States of America (the)\"],\"locationmode\":\"country names\",\"locations\":[\"Australia\",\"Canada\",\"Chile\",\"United States of America (the)\"],\"name\":\"\",\"type\":\"choropleth\",\"z\":[76,640,24,1085]}],\"name\":\"2020-03-26\"},{\"data\":[{\"coloraxis\":\"coloraxis\",\"geo\":\"geo\",\"hovertemplate\":\"<b>%{hovertext}</b><br><br>Date=2020-03-27<br>Country=%{location}<br>PercentOfBaseline=%{z}<extra></extra>\",\"hovertext\":[\"Australia\",\"Canada\",\"Chile\",\"United States of America (the)\"],\"locationmode\":\"country names\",\"locations\":[\"Australia\",\"Canada\",\"Chile\",\"United States of America (the)\"],\"name\":\"\",\"type\":\"choropleth\",\"z\":[81,683,31,1095]}],\"name\":\"2020-03-27\"},{\"data\":[{\"coloraxis\":\"coloraxis\",\"geo\":\"geo\",\"hovertemplate\":\"<b>%{hovertext}</b><br><br>Date=2020-03-28<br>Country=%{location}<br>PercentOfBaseline=%{z}<extra></extra>\",\"hovertext\":[\"Australia\",\"Canada\",\"United States of America (the)\"],\"locationmode\":\"country names\",\"locations\":[\"Australia\",\"Canada\",\"United States of America (the)\"],\"name\":\"\",\"type\":\"choropleth\",\"z\":[62,544,1005]}],\"name\":\"2020-03-28\"},{\"data\":[{\"coloraxis\":\"coloraxis\",\"geo\":\"geo\",\"hovertemplate\":\"<b>%{hovertext}</b><br><br>Date=2020-03-29<br>Country=%{location}<br>PercentOfBaseline=%{z}<extra></extra>\",\"hovertext\":[\"Australia\",\"Canada\",\"Chile\",\"United States of America (the)\"],\"locationmode\":\"country names\",\"locations\":[\"Australia\",\"Canada\",\"Chile\",\"United States of America (the)\"],\"name\":\"\",\"type\":\"choropleth\",\"z\":[66,401,9,930]}],\"name\":\"2020-03-29\"},{\"data\":[{\"coloraxis\":\"coloraxis\",\"geo\":\"geo\",\"hovertemplate\":\"<b>%{hovertext}</b><br><br>Date=2020-03-30<br>Country=%{location}<br>PercentOfBaseline=%{z}<extra></extra>\",\"hovertext\":[\"Australia\",\"Canada\",\"Chile\",\"United States of America (the)\"],\"locationmode\":\"country names\",\"locations\":[\"Australia\",\"Canada\",\"Chile\",\"United States of America (the)\"],\"name\":\"\",\"type\":\"choropleth\",\"z\":[75,646,19,1040]}],\"name\":\"2020-03-30\"},{\"data\":[{\"coloraxis\":\"coloraxis\",\"geo\":\"geo\",\"hovertemplate\":\"<b>%{hovertext}</b><br><br>Date=2020-03-31<br>Country=%{location}<br>PercentOfBaseline=%{z}<extra></extra>\",\"hovertext\":[\"Australia\",\"Canada\",\"Chile\",\"United States of America (the)\"],\"locationmode\":\"country names\",\"locations\":[\"Australia\",\"Canada\",\"Chile\",\"United States of America (the)\"],\"name\":\"\",\"type\":\"choropleth\",\"z\":[71,651,26,1084]}],\"name\":\"2020-03-31\"},{\"data\":[{\"coloraxis\":\"coloraxis\",\"geo\":\"geo\",\"hovertemplate\":\"<b>%{hovertext}</b><br><br>Date=2020-04-01<br>Country=%{location}<br>PercentOfBaseline=%{z}<extra></extra>\",\"hovertext\":[\"Australia\",\"Canada\",\"Chile\",\"United States of America (the)\"],\"locationmode\":\"country names\",\"locations\":[\"Australia\",\"Canada\",\"Chile\",\"United States of America (the)\"],\"name\":\"\",\"type\":\"choropleth\",\"z\":[69,636,27,1064]}],\"name\":\"2020-04-01\"},{\"data\":[{\"coloraxis\":\"coloraxis\",\"geo\":\"geo\",\"hovertemplate\":\"<b>%{hovertext}</b><br><br>Date=2020-04-02<br>Country=%{location}<br>PercentOfBaseline=%{z}<extra></extra>\",\"hovertext\":[\"Australia\",\"Canada\",\"Chile\",\"United States of America (the)\"],\"locationmode\":\"country names\",\"locations\":[\"Australia\",\"Canada\",\"Chile\",\"United States of America (the)\"],\"name\":\"\",\"type\":\"choropleth\",\"z\":[77,653,21,998]}],\"name\":\"2020-04-02\"},{\"data\":[{\"coloraxis\":\"coloraxis\",\"geo\":\"geo\",\"hovertemplate\":\"<b>%{hovertext}</b><br><br>Date=2020-04-03<br>Country=%{location}<br>PercentOfBaseline=%{z}<extra></extra>\",\"hovertext\":[\"Australia\",\"Canada\",\"Chile\",\"United States of America (the)\"],\"locationmode\":\"country names\",\"locations\":[\"Australia\",\"Canada\",\"Chile\",\"United States of America (the)\"],\"name\":\"\",\"type\":\"choropleth\",\"z\":[64,603,31,968]}],\"name\":\"2020-04-03\"},{\"data\":[{\"coloraxis\":\"coloraxis\",\"geo\":\"geo\",\"hovertemplate\":\"<b>%{hovertext}</b><br><br>Date=2020-04-04<br>Country=%{location}<br>PercentOfBaseline=%{z}<extra></extra>\",\"hovertext\":[\"Australia\",\"Canada\",\"Chile\",\"United States of America (the)\"],\"locationmode\":\"country names\",\"locations\":[\"Australia\",\"Canada\",\"Chile\",\"United States of America (the)\"],\"name\":\"\",\"type\":\"choropleth\",\"z\":[27,411,19,868]}],\"name\":\"2020-04-04\"},{\"data\":[{\"coloraxis\":\"coloraxis\",\"geo\":\"geo\",\"hovertemplate\":\"<b>%{hovertext}</b><br><br>Date=2020-04-05<br>Country=%{location}<br>PercentOfBaseline=%{z}<extra></extra>\",\"hovertext\":[\"Australia\",\"Canada\",\"Chile\",\"United States of America (the)\"],\"locationmode\":\"country names\",\"locations\":[\"Australia\",\"Canada\",\"Chile\",\"United States of America (the)\"],\"name\":\"\",\"type\":\"choropleth\",\"z\":[57,256,11,812]}],\"name\":\"2020-04-05\"},{\"data\":[{\"coloraxis\":\"coloraxis\",\"geo\":\"geo\",\"hovertemplate\":\"<b>%{hovertext}</b><br><br>Date=2020-04-06<br>Country=%{location}<br>PercentOfBaseline=%{z}<extra></extra>\",\"hovertext\":[\"Australia\",\"Canada\",\"Chile\",\"United States of America (the)\"],\"locationmode\":\"country names\",\"locations\":[\"Australia\",\"Canada\",\"Chile\",\"United States of America (the)\"],\"name\":\"\",\"type\":\"choropleth\",\"z\":[59,674,27,1003]}],\"name\":\"2020-04-06\"},{\"data\":[{\"coloraxis\":\"coloraxis\",\"geo\":\"geo\",\"hovertemplate\":\"<b>%{hovertext}</b><br><br>Date=2020-04-07<br>Country=%{location}<br>PercentOfBaseline=%{z}<extra></extra>\",\"hovertext\":[\"Australia\",\"Canada\",\"Chile\",\"United States of America (the)\"],\"locationmode\":\"country names\",\"locations\":[\"Australia\",\"Canada\",\"Chile\",\"United States of America (the)\"],\"name\":\"\",\"type\":\"choropleth\",\"z\":[64,652,25,1008]}],\"name\":\"2020-04-07\"},{\"data\":[{\"coloraxis\":\"coloraxis\",\"geo\":\"geo\",\"hovertemplate\":\"<b>%{hovertext}</b><br><br>Date=2020-04-08<br>Country=%{location}<br>PercentOfBaseline=%{z}<extra></extra>\",\"hovertext\":[\"Australia\",\"Canada\",\"Chile\",\"United States of America (the)\"],\"locationmode\":\"country names\",\"locations\":[\"Australia\",\"Canada\",\"Chile\",\"United States of America (the)\"],\"name\":\"\",\"type\":\"choropleth\",\"z\":[69,593,21,1018]}],\"name\":\"2020-04-08\"},{\"data\":[{\"coloraxis\":\"coloraxis\",\"geo\":\"geo\",\"hovertemplate\":\"<b>%{hovertext}</b><br><br>Date=2020-04-09<br>Country=%{location}<br>PercentOfBaseline=%{z}<extra></extra>\",\"hovertext\":[\"Australia\",\"Canada\",\"Chile\",\"United States of America (the)\"],\"locationmode\":\"country names\",\"locations\":[\"Australia\",\"Canada\",\"Chile\",\"United States of America (the)\"],\"name\":\"\",\"type\":\"choropleth\",\"z\":[54,605,24,956]}],\"name\":\"2020-04-09\"},{\"data\":[{\"coloraxis\":\"coloraxis\",\"geo\":\"geo\",\"hovertemplate\":\"<b>%{hovertext}</b><br><br>Date=2020-04-10<br>Country=%{location}<br>PercentOfBaseline=%{z}<extra></extra>\",\"hovertext\":[\"Australia\",\"Canada\",\"Chile\",\"United States of America (the)\"],\"locationmode\":\"country names\",\"locations\":[\"Australia\",\"Canada\",\"Chile\",\"United States of America (the)\"],\"name\":\"\",\"type\":\"choropleth\",\"z\":[8,147,12,888]}],\"name\":\"2020-04-10\"},{\"data\":[{\"coloraxis\":\"coloraxis\",\"geo\":\"geo\",\"hovertemplate\":\"<b>%{hovertext}</b><br><br>Date=2020-04-11<br>Country=%{location}<br>PercentOfBaseline=%{z}<extra></extra>\",\"hovertext\":[\"Australia\",\"Canada\",\"Chile\",\"United States of America (the)\"],\"locationmode\":\"country names\",\"locations\":[\"Australia\",\"Canada\",\"Chile\",\"United States of America (the)\"],\"name\":\"\",\"type\":\"choropleth\",\"z\":[22,204,15,809]}],\"name\":\"2020-04-11\"},{\"data\":[{\"coloraxis\":\"coloraxis\",\"geo\":\"geo\",\"hovertemplate\":\"<b>%{hovertext}</b><br><br>Date=2020-04-12<br>Country=%{location}<br>PercentOfBaseline=%{z}<extra></extra>\",\"hovertext\":[\"Australia\",\"Canada\",\"Chile\",\"United States of America (the)\"],\"locationmode\":\"country names\",\"locations\":[\"Australia\",\"Canada\",\"Chile\",\"United States of America (the)\"],\"name\":\"\",\"type\":\"choropleth\",\"z\":[25,340,4,751]}],\"name\":\"2020-04-12\"},{\"data\":[{\"coloraxis\":\"coloraxis\",\"geo\":\"geo\",\"hovertemplate\":\"<b>%{hovertext}</b><br><br>Date=2020-04-13<br>Country=%{location}<br>PercentOfBaseline=%{z}<extra></extra>\",\"hovertext\":[\"Australia\",\"Canada\",\"Chile\",\"United States of America (the)\"],\"locationmode\":\"country names\",\"locations\":[\"Australia\",\"Canada\",\"Chile\",\"United States of America (the)\"],\"name\":\"\",\"type\":\"choropleth\",\"z\":[29,530,26,889]}],\"name\":\"2020-04-13\"},{\"data\":[{\"coloraxis\":\"coloraxis\",\"geo\":\"geo\",\"hovertemplate\":\"<b>%{hovertext}</b><br><br>Date=2020-04-14<br>Country=%{location}<br>PercentOfBaseline=%{z}<extra></extra>\",\"hovertext\":[\"Australia\",\"Canada\",\"Chile\",\"United States of America (the)\"],\"locationmode\":\"country names\",\"locations\":[\"Australia\",\"Canada\",\"Chile\",\"United States of America (the)\"],\"name\":\"\",\"type\":\"choropleth\",\"z\":[59,630,20,961]}],\"name\":\"2020-04-14\"},{\"data\":[{\"coloraxis\":\"coloraxis\",\"geo\":\"geo\",\"hovertemplate\":\"<b>%{hovertext}</b><br><br>Date=2020-04-15<br>Country=%{location}<br>PercentOfBaseline=%{z}<extra></extra>\",\"hovertext\":[\"Australia\",\"Canada\",\"Chile\",\"United States of America (the)\"],\"locationmode\":\"country names\",\"locations\":[\"Australia\",\"Canada\",\"Chile\",\"United States of America (the)\"],\"name\":\"\",\"type\":\"choropleth\",\"z\":[61,611,21,962]}],\"name\":\"2020-04-15\"},{\"data\":[{\"coloraxis\":\"coloraxis\",\"geo\":\"geo\",\"hovertemplate\":\"<b>%{hovertext}</b><br><br>Date=2020-04-16<br>Country=%{location}<br>PercentOfBaseline=%{z}<extra></extra>\",\"hovertext\":[\"Australia\",\"Canada\",\"Chile\",\"United States of America (the)\"],\"locationmode\":\"country names\",\"locations\":[\"Australia\",\"Canada\",\"Chile\",\"United States of America (the)\"],\"name\":\"\",\"type\":\"choropleth\",\"z\":[60,607,17,937]}],\"name\":\"2020-04-16\"},{\"data\":[{\"coloraxis\":\"coloraxis\",\"geo\":\"geo\",\"hovertemplate\":\"<b>%{hovertext}</b><br><br>Date=2020-04-17<br>Country=%{location}<br>PercentOfBaseline=%{z}<extra></extra>\",\"hovertext\":[\"Australia\",\"Canada\",\"Chile\",\"United States of America (the)\"],\"locationmode\":\"country names\",\"locations\":[\"Australia\",\"Canada\",\"Chile\",\"United States of America (the)\"],\"name\":\"\",\"type\":\"choropleth\",\"z\":[69,571,18,932]}],\"name\":\"2020-04-17\"},{\"data\":[{\"coloraxis\":\"coloraxis\",\"geo\":\"geo\",\"hovertemplate\":\"<b>%{hovertext}</b><br><br>Date=2020-04-18<br>Country=%{location}<br>PercentOfBaseline=%{z}<extra></extra>\",\"hovertext\":[\"Australia\",\"Canada\",\"Chile\",\"United States of America (the)\"],\"locationmode\":\"country names\",\"locations\":[\"Australia\",\"Canada\",\"Chile\",\"United States of America (the)\"],\"name\":\"\",\"type\":\"choropleth\",\"z\":[32,539,10,852]}],\"name\":\"2020-04-18\"},{\"data\":[{\"coloraxis\":\"coloraxis\",\"geo\":\"geo\",\"hovertemplate\":\"<b>%{hovertext}</b><br><br>Date=2020-04-19<br>Country=%{location}<br>PercentOfBaseline=%{z}<extra></extra>\",\"hovertext\":[\"Australia\",\"Canada\",\"United States of America (the)\"],\"locationmode\":\"country names\",\"locations\":[\"Australia\",\"Canada\",\"United States of America (the)\"],\"name\":\"\",\"type\":\"choropleth\",\"z\":[49,325,789]}],\"name\":\"2020-04-19\"},{\"data\":[{\"coloraxis\":\"coloraxis\",\"geo\":\"geo\",\"hovertemplate\":\"<b>%{hovertext}</b><br><br>Date=2020-04-20<br>Country=%{location}<br>PercentOfBaseline=%{z}<extra></extra>\",\"hovertext\":[\"Australia\",\"Canada\",\"Chile\",\"United States of America (the)\"],\"locationmode\":\"country names\",\"locations\":[\"Australia\",\"Canada\",\"Chile\",\"United States of America (the)\"],\"name\":\"\",\"type\":\"choropleth\",\"z\":[60,668,22,972]}],\"name\":\"2020-04-20\"},{\"data\":[{\"coloraxis\":\"coloraxis\",\"geo\":\"geo\",\"hovertemplate\":\"<b>%{hovertext}</b><br><br>Date=2020-04-21<br>Country=%{location}<br>PercentOfBaseline=%{z}<extra></extra>\",\"hovertext\":[\"Australia\",\"Canada\",\"Chile\",\"United States of America (the)\"],\"locationmode\":\"country names\",\"locations\":[\"Australia\",\"Canada\",\"Chile\",\"United States of America (the)\"],\"name\":\"\",\"type\":\"choropleth\",\"z\":[65,697,17,976]}],\"name\":\"2020-04-21\"},{\"data\":[{\"coloraxis\":\"coloraxis\",\"geo\":\"geo\",\"hovertemplate\":\"<b>%{hovertext}</b><br><br>Date=2020-04-22<br>Country=%{location}<br>PercentOfBaseline=%{z}<extra></extra>\",\"hovertext\":[\"Australia\",\"Canada\",\"Chile\",\"United States of America (the)\"],\"locationmode\":\"country names\",\"locations\":[\"Australia\",\"Canada\",\"Chile\",\"United States of America (the)\"],\"name\":\"\",\"type\":\"choropleth\",\"z\":[60,667,21,1015]}],\"name\":\"2020-04-22\"},{\"data\":[{\"coloraxis\":\"coloraxis\",\"geo\":\"geo\",\"hovertemplate\":\"<b>%{hovertext}</b><br><br>Date=2020-04-23<br>Country=%{location}<br>PercentOfBaseline=%{z}<extra></extra>\",\"hovertext\":[\"Australia\",\"Canada\",\"Chile\",\"United States of America (the)\"],\"locationmode\":\"country names\",\"locations\":[\"Australia\",\"Canada\",\"Chile\",\"United States of America (the)\"],\"name\":\"\",\"type\":\"choropleth\",\"z\":[61,586,20,935]}],\"name\":\"2020-04-23\"},{\"data\":[{\"coloraxis\":\"coloraxis\",\"geo\":\"geo\",\"hovertemplate\":\"<b>%{hovertext}</b><br><br>Date=2020-04-24<br>Country=%{location}<br>PercentOfBaseline=%{z}<extra></extra>\",\"hovertext\":[\"Australia\",\"Canada\",\"Chile\",\"United States of America (the)\"],\"locationmode\":\"country names\",\"locations\":[\"Australia\",\"Canada\",\"Chile\",\"United States of America (the)\"],\"name\":\"\",\"type\":\"choropleth\",\"z\":[62,623,16,932]}],\"name\":\"2020-04-24\"},{\"data\":[{\"coloraxis\":\"coloraxis\",\"geo\":\"geo\",\"hovertemplate\":\"<b>%{hovertext}</b><br><br>Date=2020-04-25<br>Country=%{location}<br>PercentOfBaseline=%{z}<extra></extra>\",\"hovertext\":[\"Canada\",\"United States of America (the)\"],\"locationmode\":\"country names\",\"locations\":[\"Canada\",\"United States of America (the)\"],\"name\":\"\",\"type\":\"choropleth\",\"z\":[490,833]}],\"name\":\"2020-04-25\"},{\"data\":[{\"coloraxis\":\"coloraxis\",\"geo\":\"geo\",\"hovertemplate\":\"<b>%{hovertext}</b><br><br>Date=2020-04-26<br>Country=%{location}<br>PercentOfBaseline=%{z}<extra></extra>\",\"hovertext\":[\"Australia\",\"Canada\",\"Chile\",\"United States of America (the)\"],\"locationmode\":\"country names\",\"locations\":[\"Australia\",\"Canada\",\"Chile\",\"United States of America (the)\"],\"name\":\"\",\"type\":\"choropleth\",\"z\":[48,361,7,806]}],\"name\":\"2020-04-26\"},{\"data\":[{\"coloraxis\":\"coloraxis\",\"geo\":\"geo\",\"hovertemplate\":\"<b>%{hovertext}</b><br><br>Date=2020-04-27<br>Country=%{location}<br>PercentOfBaseline=%{z}<extra></extra>\",\"hovertext\":[\"Australia\",\"Canada\",\"Chile\",\"United States of America (the)\"],\"locationmode\":\"country names\",\"locations\":[\"Australia\",\"Canada\",\"Chile\",\"United States of America (the)\"],\"name\":\"\",\"type\":\"choropleth\",\"z\":[53,679,22,977]}],\"name\":\"2020-04-27\"},{\"data\":[{\"coloraxis\":\"coloraxis\",\"geo\":\"geo\",\"hovertemplate\":\"<b>%{hovertext}</b><br><br>Date=2020-04-28<br>Country=%{location}<br>PercentOfBaseline=%{z}<extra></extra>\",\"hovertext\":[\"Australia\",\"Canada\",\"Chile\",\"United States of America (the)\"],\"locationmode\":\"country names\",\"locations\":[\"Australia\",\"Canada\",\"Chile\",\"United States of America (the)\"],\"name\":\"\",\"type\":\"choropleth\",\"z\":[57,701,21,1033]}],\"name\":\"2020-04-28\"},{\"data\":[{\"coloraxis\":\"coloraxis\",\"geo\":\"geo\",\"hovertemplate\":\"<b>%{hovertext}</b><br><br>Date=2020-04-29<br>Country=%{location}<br>PercentOfBaseline=%{z}<extra></extra>\",\"hovertext\":[\"Australia\",\"Canada\",\"Chile\",\"United States of America (the)\"],\"locationmode\":\"country names\",\"locations\":[\"Australia\",\"Canada\",\"Chile\",\"United States of America (the)\"],\"name\":\"\",\"type\":\"choropleth\",\"z\":[59,649,22,1030]}],\"name\":\"2020-04-29\"},{\"data\":[{\"coloraxis\":\"coloraxis\",\"geo\":\"geo\",\"hovertemplate\":\"<b>%{hovertext}</b><br><br>Date=2020-04-30<br>Country=%{location}<br>PercentOfBaseline=%{z}<extra></extra>\",\"hovertext\":[\"Australia\",\"Canada\",\"Chile\",\"United States of America (the)\"],\"locationmode\":\"country names\",\"locations\":[\"Australia\",\"Canada\",\"Chile\",\"United States of America (the)\"],\"name\":\"\",\"type\":\"choropleth\",\"z\":[65,647,31,985]}],\"name\":\"2020-04-30\"},{\"data\":[{\"coloraxis\":\"coloraxis\",\"geo\":\"geo\",\"hovertemplate\":\"<b>%{hovertext}</b><br><br>Date=2020-05-01<br>Country=%{location}<br>PercentOfBaseline=%{z}<extra></extra>\",\"hovertext\":[\"Australia\",\"Canada\",\"United States of America (the)\"],\"locationmode\":\"country names\",\"locations\":[\"Australia\",\"Canada\",\"United States of America (the)\"],\"name\":\"\",\"type\":\"choropleth\",\"z\":[61,644,977]}],\"name\":\"2020-05-01\"},{\"data\":[{\"coloraxis\":\"coloraxis\",\"geo\":\"geo\",\"hovertemplate\":\"<b>%{hovertext}</b><br><br>Date=2020-05-02<br>Country=%{location}<br>PercentOfBaseline=%{z}<extra></extra>\",\"hovertext\":[\"Australia\",\"Canada\",\"United States of America (the)\"],\"locationmode\":\"country names\",\"locations\":[\"Australia\",\"Canada\",\"United States of America (the)\"],\"name\":\"\",\"type\":\"choropleth\",\"z\":[41,524,863]}],\"name\":\"2020-05-02\"},{\"data\":[{\"coloraxis\":\"coloraxis\",\"geo\":\"geo\",\"hovertemplate\":\"<b>%{hovertext}</b><br><br>Date=2020-05-03<br>Country=%{location}<br>PercentOfBaseline=%{z}<extra></extra>\",\"hovertext\":[\"Australia\",\"Canada\",\"United States of America (the)\"],\"locationmode\":\"country names\",\"locations\":[\"Australia\",\"Canada\",\"United States of America (the)\"],\"name\":\"\",\"type\":\"choropleth\",\"z\":[50,435,803]}],\"name\":\"2020-05-03\"},{\"data\":[{\"coloraxis\":\"coloraxis\",\"geo\":\"geo\",\"hovertemplate\":\"<b>%{hovertext}</b><br><br>Date=2020-05-04<br>Country=%{location}<br>PercentOfBaseline=%{z}<extra></extra>\",\"hovertext\":[\"Australia\",\"Canada\",\"Chile\",\"United States of America (the)\"],\"locationmode\":\"country names\",\"locations\":[\"Australia\",\"Canada\",\"Chile\",\"United States of America (the)\"],\"name\":\"\",\"type\":\"choropleth\",\"z\":[53,674,25,1012]}],\"name\":\"2020-05-04\"},{\"data\":[{\"coloraxis\":\"coloraxis\",\"geo\":\"geo\",\"hovertemplate\":\"<b>%{hovertext}</b><br><br>Date=2020-05-05<br>Country=%{location}<br>PercentOfBaseline=%{z}<extra></extra>\",\"hovertext\":[\"Australia\",\"Canada\",\"Chile\",\"United States of America (the)\"],\"locationmode\":\"country names\",\"locations\":[\"Australia\",\"Canada\",\"Chile\",\"United States of America (the)\"],\"name\":\"\",\"type\":\"choropleth\",\"z\":[56,708,13,1014]}],\"name\":\"2020-05-05\"},{\"data\":[{\"coloraxis\":\"coloraxis\",\"geo\":\"geo\",\"hovertemplate\":\"<b>%{hovertext}</b><br><br>Date=2020-05-06<br>Country=%{location}<br>PercentOfBaseline=%{z}<extra></extra>\",\"hovertext\":[\"Australia\",\"Canada\",\"Chile\",\"United States of America (the)\"],\"locationmode\":\"country names\",\"locations\":[\"Australia\",\"Canada\",\"Chile\",\"United States of America (the)\"],\"name\":\"\",\"type\":\"choropleth\",\"z\":[52,679,22,1027]}],\"name\":\"2020-05-06\"},{\"data\":[{\"coloraxis\":\"coloraxis\",\"geo\":\"geo\",\"hovertemplate\":\"<b>%{hovertext}</b><br><br>Date=2020-05-07<br>Country=%{location}<br>PercentOfBaseline=%{z}<extra></extra>\",\"hovertext\":[\"Australia\",\"Canada\",\"Chile\",\"United States of America (the)\"],\"locationmode\":\"country names\",\"locations\":[\"Australia\",\"Canada\",\"Chile\",\"United States of America (the)\"],\"name\":\"\",\"type\":\"choropleth\",\"z\":[62,686,28,978]}],\"name\":\"2020-05-07\"},{\"data\":[{\"coloraxis\":\"coloraxis\",\"geo\":\"geo\",\"hovertemplate\":\"<b>%{hovertext}</b><br><br>Date=2020-05-08<br>Country=%{location}<br>PercentOfBaseline=%{z}<extra></extra>\",\"hovertext\":[\"Australia\",\"Canada\",\"Chile\",\"United States of America (the)\"],\"locationmode\":\"country names\",\"locations\":[\"Australia\",\"Canada\",\"Chile\",\"United States of America (the)\"],\"name\":\"\",\"type\":\"choropleth\",\"z\":[56,667,19,979]}],\"name\":\"2020-05-08\"},{\"data\":[{\"coloraxis\":\"coloraxis\",\"geo\":\"geo\",\"hovertemplate\":\"<b>%{hovertext}</b><br><br>Date=2020-05-09<br>Country=%{location}<br>PercentOfBaseline=%{z}<extra></extra>\",\"hovertext\":[\"Australia\",\"Canada\",\"Chile\",\"United States of America (the)\"],\"locationmode\":\"country names\",\"locations\":[\"Australia\",\"Canada\",\"Chile\",\"United States of America (the)\"],\"name\":\"\",\"type\":\"choropleth\",\"z\":[19,516,15,828]}],\"name\":\"2020-05-09\"},{\"data\":[{\"coloraxis\":\"coloraxis\",\"geo\":\"geo\",\"hovertemplate\":\"<b>%{hovertext}</b><br><br>Date=2020-05-10<br>Country=%{location}<br>PercentOfBaseline=%{z}<extra></extra>\",\"hovertext\":[\"Australia\",\"Canada\",\"Chile\",\"United States of America (the)\"],\"locationmode\":\"country names\",\"locations\":[\"Australia\",\"Canada\",\"Chile\",\"United States of America (the)\"],\"name\":\"\",\"type\":\"choropleth\",\"z\":[40,385,12,794]}],\"name\":\"2020-05-10\"},{\"data\":[{\"coloraxis\":\"coloraxis\",\"geo\":\"geo\",\"hovertemplate\":\"<b>%{hovertext}</b><br><br>Date=2020-05-11<br>Country=%{location}<br>PercentOfBaseline=%{z}<extra></extra>\",\"hovertext\":[\"Australia\",\"Canada\",\"Chile\",\"United States of America (the)\"],\"locationmode\":\"country names\",\"locations\":[\"Australia\",\"Canada\",\"Chile\",\"United States of America (the)\"],\"name\":\"\",\"type\":\"choropleth\",\"z\":[47,743,28,991]}],\"name\":\"2020-05-11\"},{\"data\":[{\"coloraxis\":\"coloraxis\",\"geo\":\"geo\",\"hovertemplate\":\"<b>%{hovertext}</b><br><br>Date=2020-05-12<br>Country=%{location}<br>PercentOfBaseline=%{z}<extra></extra>\",\"hovertext\":[\"Australia\",\"Canada\",\"Chile\",\"United States of America (the)\"],\"locationmode\":\"country names\",\"locations\":[\"Australia\",\"Canada\",\"Chile\",\"United States of America (the)\"],\"name\":\"\",\"type\":\"choropleth\",\"z\":[54,752,35,1002]}],\"name\":\"2020-05-12\"},{\"data\":[{\"coloraxis\":\"coloraxis\",\"geo\":\"geo\",\"hovertemplate\":\"<b>%{hovertext}</b><br><br>Date=2020-05-13<br>Country=%{location}<br>PercentOfBaseline=%{z}<extra></extra>\",\"hovertext\":[\"Australia\",\"Canada\",\"Chile\",\"United States of America (the)\"],\"locationmode\":\"country names\",\"locations\":[\"Australia\",\"Canada\",\"Chile\",\"United States of America (the)\"],\"name\":\"\",\"type\":\"choropleth\",\"z\":[56,712,32,1045]}],\"name\":\"2020-05-13\"},{\"data\":[{\"coloraxis\":\"coloraxis\",\"geo\":\"geo\",\"hovertemplate\":\"<b>%{hovertext}</b><br><br>Date=2020-05-14<br>Country=%{location}<br>PercentOfBaseline=%{z}<extra></extra>\",\"hovertext\":[\"Australia\",\"Canada\",\"Chile\",\"United States of America (the)\"],\"locationmode\":\"country names\",\"locations\":[\"Australia\",\"Canada\",\"Chile\",\"United States of America (the)\"],\"name\":\"\",\"type\":\"choropleth\",\"z\":[59,666,18,1005]}],\"name\":\"2020-05-14\"},{\"data\":[{\"coloraxis\":\"coloraxis\",\"geo\":\"geo\",\"hovertemplate\":\"<b>%{hovertext}</b><br><br>Date=2020-05-15<br>Country=%{location}<br>PercentOfBaseline=%{z}<extra></extra>\",\"hovertext\":[\"Australia\",\"Canada\",\"Chile\",\"United States of America (the)\"],\"locationmode\":\"country names\",\"locations\":[\"Australia\",\"Canada\",\"Chile\",\"United States of America (the)\"],\"name\":\"\",\"type\":\"choropleth\",\"z\":[59,680,23,982]}],\"name\":\"2020-05-15\"},{\"data\":[{\"coloraxis\":\"coloraxis\",\"geo\":\"geo\",\"hovertemplate\":\"<b>%{hovertext}</b><br><br>Date=2020-05-16<br>Country=%{location}<br>PercentOfBaseline=%{z}<extra></extra>\",\"hovertext\":[\"Australia\",\"Canada\",\"Chile\",\"United States of America (the)\"],\"locationmode\":\"country names\",\"locations\":[\"Australia\",\"Canada\",\"Chile\",\"United States of America (the)\"],\"name\":\"\",\"type\":\"choropleth\",\"z\":[23,565,22,848]}],\"name\":\"2020-05-16\"},{\"data\":[{\"coloraxis\":\"coloraxis\",\"geo\":\"geo\",\"hovertemplate\":\"<b>%{hovertext}</b><br><br>Date=2020-05-17<br>Country=%{location}<br>PercentOfBaseline=%{z}<extra></extra>\",\"hovertext\":[\"Australia\",\"Canada\",\"Chile\",\"United States of America (the)\"],\"locationmode\":\"country names\",\"locations\":[\"Australia\",\"Canada\",\"Chile\",\"United States of America (the)\"],\"name\":\"\",\"type\":\"choropleth\",\"z\":[43,458,10,804]}],\"name\":\"2020-05-17\"},{\"data\":[{\"coloraxis\":\"coloraxis\",\"geo\":\"geo\",\"hovertemplate\":\"<b>%{hovertext}</b><br><br>Date=2020-05-18<br>Country=%{location}<br>PercentOfBaseline=%{z}<extra></extra>\",\"hovertext\":[\"Australia\",\"Canada\",\"Chile\",\"United States of America (the)\"],\"locationmode\":\"country names\",\"locations\":[\"Australia\",\"Canada\",\"Chile\",\"United States of America (the)\"],\"name\":\"\",\"type\":\"choropleth\",\"z\":[51,151,27,1006]}],\"name\":\"2020-05-18\"},{\"data\":[{\"coloraxis\":\"coloraxis\",\"geo\":\"geo\",\"hovertemplate\":\"<b>%{hovertext}</b><br><br>Date=2020-05-19<br>Country=%{location}<br>PercentOfBaseline=%{z}<extra></extra>\",\"hovertext\":[\"Australia\",\"Canada\",\"Chile\",\"United States of America (the)\"],\"locationmode\":\"country names\",\"locations\":[\"Australia\",\"Canada\",\"Chile\",\"United States of America (the)\"],\"name\":\"\",\"type\":\"choropleth\",\"z\":[60,685,29,1074]}],\"name\":\"2020-05-19\"},{\"data\":[{\"coloraxis\":\"coloraxis\",\"geo\":\"geo\",\"hovertemplate\":\"<b>%{hovertext}</b><br><br>Date=2020-05-20<br>Country=%{location}<br>PercentOfBaseline=%{z}<extra></extra>\",\"hovertext\":[\"Australia\",\"Canada\",\"Chile\",\"United States of America (the)\"],\"locationmode\":\"country names\",\"locations\":[\"Australia\",\"Canada\",\"Chile\",\"United States of America (the)\"],\"name\":\"\",\"type\":\"choropleth\",\"z\":[61,721,35,1083]}],\"name\":\"2020-05-20\"},{\"data\":[{\"coloraxis\":\"coloraxis\",\"geo\":\"geo\",\"hovertemplate\":\"<b>%{hovertext}</b><br><br>Date=2020-05-21<br>Country=%{location}<br>PercentOfBaseline=%{z}<extra></extra>\",\"hovertext\":[\"Australia\",\"Canada\",\"Chile\",\"United States of America (the)\"],\"locationmode\":\"country names\",\"locations\":[\"Australia\",\"Canada\",\"Chile\",\"United States of America (the)\"],\"name\":\"\",\"type\":\"choropleth\",\"z\":[54,688,13,1045]}],\"name\":\"2020-05-21\"},{\"data\":[{\"coloraxis\":\"coloraxis\",\"geo\":\"geo\",\"hovertemplate\":\"<b>%{hovertext}</b><br><br>Date=2020-05-22<br>Country=%{location}<br>PercentOfBaseline=%{z}<extra></extra>\",\"hovertext\":[\"Australia\",\"Canada\",\"Chile\",\"United States of America (the)\"],\"locationmode\":\"country names\",\"locations\":[\"Australia\",\"Canada\",\"Chile\",\"United States of America (the)\"],\"name\":\"\",\"type\":\"choropleth\",\"z\":[50,712,18,994]}],\"name\":\"2020-05-22\"},{\"data\":[{\"coloraxis\":\"coloraxis\",\"geo\":\"geo\",\"hovertemplate\":\"<b>%{hovertext}</b><br><br>Date=2020-05-23<br>Country=%{location}<br>PercentOfBaseline=%{z}<extra></extra>\",\"hovertext\":[\"Australia\",\"Canada\",\"Chile\",\"United States of America (the)\"],\"locationmode\":\"country names\",\"locations\":[\"Australia\",\"Canada\",\"Chile\",\"United States of America (the)\"],\"name\":\"\",\"type\":\"choropleth\",\"z\":[16,506,15,843]}],\"name\":\"2020-05-23\"},{\"data\":[{\"coloraxis\":\"coloraxis\",\"geo\":\"geo\",\"hovertemplate\":\"<b>%{hovertext}</b><br><br>Date=2020-05-24<br>Country=%{location}<br>PercentOfBaseline=%{z}<extra></extra>\",\"hovertext\":[\"Australia\",\"Canada\",\"Chile\",\"United States of America (the)\"],\"locationmode\":\"country names\",\"locations\":[\"Australia\",\"Canada\",\"Chile\",\"United States of America (the)\"],\"name\":\"\",\"type\":\"choropleth\",\"z\":[40,468,9,798]}],\"name\":\"2020-05-24\"},{\"data\":[{\"coloraxis\":\"coloraxis\",\"geo\":\"geo\",\"hovertemplate\":\"<b>%{hovertext}</b><br><br>Date=2020-05-25<br>Country=%{location}<br>PercentOfBaseline=%{z}<extra></extra>\",\"hovertext\":[\"Australia\",\"Canada\",\"Chile\",\"United States of America (the)\"],\"locationmode\":\"country names\",\"locations\":[\"Australia\",\"Canada\",\"Chile\",\"United States of America (the)\"],\"name\":\"\",\"type\":\"choropleth\",\"z\":[53,762,27,405]}],\"name\":\"2020-05-25\"},{\"data\":[{\"coloraxis\":\"coloraxis\",\"geo\":\"geo\",\"hovertemplate\":\"<b>%{hovertext}</b><br><br>Date=2020-05-26<br>Country=%{location}<br>PercentOfBaseline=%{z}<extra></extra>\",\"hovertext\":[\"Australia\",\"Canada\",\"Chile\",\"United States of America (the)\"],\"locationmode\":\"country names\",\"locations\":[\"Australia\",\"Canada\",\"Chile\",\"United States of America (the)\"],\"name\":\"\",\"type\":\"choropleth\",\"z\":[53,750,22,972]}],\"name\":\"2020-05-26\"},{\"data\":[{\"coloraxis\":\"coloraxis\",\"geo\":\"geo\",\"hovertemplate\":\"<b>%{hovertext}</b><br><br>Date=2020-05-27<br>Country=%{location}<br>PercentOfBaseline=%{z}<extra></extra>\",\"hovertext\":[\"Australia\",\"Canada\",\"Chile\",\"United States of America (the)\"],\"locationmode\":\"country names\",\"locations\":[\"Australia\",\"Canada\",\"Chile\",\"United States of America (the)\"],\"name\":\"\",\"type\":\"choropleth\",\"z\":[58,747,19,1088]}],\"name\":\"2020-05-27\"},{\"data\":[{\"coloraxis\":\"coloraxis\",\"geo\":\"geo\",\"hovertemplate\":\"<b>%{hovertext}</b><br><br>Date=2020-05-28<br>Country=%{location}<br>PercentOfBaseline=%{z}<extra></extra>\",\"hovertext\":[\"Australia\",\"Canada\",\"Chile\",\"United States of America (the)\"],\"locationmode\":\"country names\",\"locations\":[\"Australia\",\"Canada\",\"Chile\",\"United States of America (the)\"],\"name\":\"\",\"type\":\"choropleth\",\"z\":[61,744,22,1087]}],\"name\":\"2020-05-28\"},{\"data\":[{\"coloraxis\":\"coloraxis\",\"geo\":\"geo\",\"hovertemplate\":\"<b>%{hovertext}</b><br><br>Date=2020-05-29<br>Country=%{location}<br>PercentOfBaseline=%{z}<extra></extra>\",\"hovertext\":[\"Australia\",\"Canada\",\"Chile\",\"United States of America (the)\"],\"locationmode\":\"country names\",\"locations\":[\"Australia\",\"Canada\",\"Chile\",\"United States of America (the)\"],\"name\":\"\",\"type\":\"choropleth\",\"z\":[54,712,28,1056]}],\"name\":\"2020-05-29\"},{\"data\":[{\"coloraxis\":\"coloraxis\",\"geo\":\"geo\",\"hovertemplate\":\"<b>%{hovertext}</b><br><br>Date=2020-05-30<br>Country=%{location}<br>PercentOfBaseline=%{z}<extra></extra>\",\"hovertext\":[\"Australia\",\"Canada\",\"Chile\",\"United States of America (the)\"],\"locationmode\":\"country names\",\"locations\":[\"Australia\",\"Canada\",\"Chile\",\"United States of America (the)\"],\"name\":\"\",\"type\":\"choropleth\",\"z\":[30,586,13,928]}],\"name\":\"2020-05-30\"},{\"data\":[{\"coloraxis\":\"coloraxis\",\"geo\":\"geo\",\"hovertemplate\":\"<b>%{hovertext}</b><br><br>Date=2020-05-31<br>Country=%{location}<br>PercentOfBaseline=%{z}<extra></extra>\",\"hovertext\":[\"Australia\",\"Canada\",\"United States of America (the)\"],\"locationmode\":\"country names\",\"locations\":[\"Australia\",\"Canada\",\"United States of America (the)\"],\"name\":\"\",\"type\":\"choropleth\",\"z\":[51,683,857]}],\"name\":\"2020-05-31\"},{\"data\":[{\"coloraxis\":\"coloraxis\",\"geo\":\"geo\",\"hovertemplate\":\"<b>%{hovertext}</b><br><br>Date=2020-06-01<br>Country=%{location}<br>PercentOfBaseline=%{z}<extra></extra>\",\"hovertext\":[\"Australia\",\"Canada\",\"Chile\",\"United States of America (the)\"],\"locationmode\":\"country names\",\"locations\":[\"Australia\",\"Canada\",\"Chile\",\"United States of America (the)\"],\"name\":\"\",\"type\":\"choropleth\",\"z\":[55,799,20,1064]}],\"name\":\"2020-06-01\"},{\"data\":[{\"coloraxis\":\"coloraxis\",\"geo\":\"geo\",\"hovertemplate\":\"<b>%{hovertext}</b><br><br>Date=2020-06-02<br>Country=%{location}<br>PercentOfBaseline=%{z}<extra></extra>\",\"hovertext\":[\"Australia\",\"Canada\",\"Chile\",\"United States of America (the)\"],\"locationmode\":\"country names\",\"locations\":[\"Australia\",\"Canada\",\"Chile\",\"United States of America (the)\"],\"name\":\"\",\"type\":\"choropleth\",\"z\":[59,752,34,1103]}],\"name\":\"2020-06-02\"},{\"data\":[{\"coloraxis\":\"coloraxis\",\"geo\":\"geo\",\"hovertemplate\":\"<b>%{hovertext}</b><br><br>Date=2020-06-03<br>Country=%{location}<br>PercentOfBaseline=%{z}<extra></extra>\",\"hovertext\":[\"Australia\",\"Canada\",\"Chile\",\"United States of America (the)\"],\"locationmode\":\"country names\",\"locations\":[\"Australia\",\"Canada\",\"Chile\",\"United States of America (the)\"],\"name\":\"\",\"type\":\"choropleth\",\"z\":[61,747,41,1102]}],\"name\":\"2020-06-03\"},{\"data\":[{\"coloraxis\":\"coloraxis\",\"geo\":\"geo\",\"hovertemplate\":\"<b>%{hovertext}</b><br><br>Date=2020-06-04<br>Country=%{location}<br>PercentOfBaseline=%{z}<extra></extra>\",\"hovertext\":[\"Australia\",\"Canada\",\"Chile\",\"United States of America (the)\"],\"locationmode\":\"country names\",\"locations\":[\"Australia\",\"Canada\",\"Chile\",\"United States of America (the)\"],\"name\":\"\",\"type\":\"choropleth\",\"z\":[59,715,20,1090]}],\"name\":\"2020-06-04\"},{\"data\":[{\"coloraxis\":\"coloraxis\",\"geo\":\"geo\",\"hovertemplate\":\"<b>%{hovertext}</b><br><br>Date=2020-06-05<br>Country=%{location}<br>PercentOfBaseline=%{z}<extra></extra>\",\"hovertext\":[\"Australia\",\"Canada\",\"Chile\",\"United States of America (the)\"],\"locationmode\":\"country names\",\"locations\":[\"Australia\",\"Canada\",\"Chile\",\"United States of America (the)\"],\"name\":\"\",\"type\":\"choropleth\",\"z\":[50,710,27,1087]}],\"name\":\"2020-06-05\"},{\"data\":[{\"coloraxis\":\"coloraxis\",\"geo\":\"geo\",\"hovertemplate\":\"<b>%{hovertext}</b><br><br>Date=2020-06-06<br>Country=%{location}<br>PercentOfBaseline=%{z}<extra></extra>\",\"hovertext\":[\"Canada\",\"Chile\",\"United States of America (the)\"],\"locationmode\":\"country names\",\"locations\":[\"Canada\",\"Chile\",\"United States of America (the)\"],\"name\":\"\",\"type\":\"choropleth\",\"z\":[517,22,971]}],\"name\":\"2020-06-06\"},{\"data\":[{\"coloraxis\":\"coloraxis\",\"geo\":\"geo\",\"hovertemplate\":\"<b>%{hovertext}</b><br><br>Date=2020-06-07<br>Country=%{location}<br>PercentOfBaseline=%{z}<extra></extra>\",\"hovertext\":[\"Australia\",\"Canada\",\"United States of America (the)\"],\"locationmode\":\"country names\",\"locations\":[\"Australia\",\"Canada\",\"United States of America (the)\"],\"name\":\"\",\"type\":\"choropleth\",\"z\":[21,588,939]}],\"name\":\"2020-06-07\"},{\"data\":[{\"coloraxis\":\"coloraxis\",\"geo\":\"geo\",\"hovertemplate\":\"<b>%{hovertext}</b><br><br>Date=2020-06-08<br>Country=%{location}<br>PercentOfBaseline=%{z}<extra></extra>\",\"hovertext\":[\"Australia\",\"Canada\",\"Chile\",\"United States of America (the)\"],\"locationmode\":\"country names\",\"locations\":[\"Australia\",\"Canada\",\"Chile\",\"United States of America (the)\"],\"name\":\"\",\"type\":\"choropleth\",\"z\":[25,794,28,1082]}],\"name\":\"2020-06-08\"},{\"data\":[{\"coloraxis\":\"coloraxis\",\"geo\":\"geo\",\"hovertemplate\":\"<b>%{hovertext}</b><br><br>Date=2020-06-09<br>Country=%{location}<br>PercentOfBaseline=%{z}<extra></extra>\",\"hovertext\":[\"Australia\",\"Canada\",\"Chile\",\"United States of America (the)\"],\"locationmode\":\"country names\",\"locations\":[\"Australia\",\"Canada\",\"Chile\",\"United States of America (the)\"],\"name\":\"\",\"type\":\"choropleth\",\"z\":[54,764,25,1089]}],\"name\":\"2020-06-09\"},{\"data\":[{\"coloraxis\":\"coloraxis\",\"geo\":\"geo\",\"hovertemplate\":\"<b>%{hovertext}</b><br><br>Date=2020-06-10<br>Country=%{location}<br>PercentOfBaseline=%{z}<extra></extra>\",\"hovertext\":[\"Australia\",\"Canada\",\"Chile\",\"United States of America (the)\"],\"locationmode\":\"country names\",\"locations\":[\"Australia\",\"Canada\",\"Chile\",\"United States of America (the)\"],\"name\":\"\",\"type\":\"choropleth\",\"z\":[56,738,24,1075]}],\"name\":\"2020-06-10\"},{\"data\":[{\"coloraxis\":\"coloraxis\",\"geo\":\"geo\",\"hovertemplate\":\"<b>%{hovertext}</b><br><br>Date=2020-06-11<br>Country=%{location}<br>PercentOfBaseline=%{z}<extra></extra>\",\"hovertext\":[\"Australia\",\"Canada\",\"Chile\",\"United States of America (the)\"],\"locationmode\":\"country names\",\"locations\":[\"Australia\",\"Canada\",\"Chile\",\"United States of America (the)\"],\"name\":\"\",\"type\":\"choropleth\",\"z\":[64,755,24,1085]}],\"name\":\"2020-06-11\"},{\"data\":[{\"coloraxis\":\"coloraxis\",\"geo\":\"geo\",\"hovertemplate\":\"<b>%{hovertext}</b><br><br>Date=2020-06-12<br>Country=%{location}<br>PercentOfBaseline=%{z}<extra></extra>\",\"hovertext\":[\"Australia\",\"Canada\",\"Chile\",\"United States of America (the)\"],\"locationmode\":\"country names\",\"locations\":[\"Australia\",\"Canada\",\"Chile\",\"United States of America (the)\"],\"name\":\"\",\"type\":\"choropleth\",\"z\":[60,738,31,1067]}],\"name\":\"2020-06-12\"},{\"data\":[{\"coloraxis\":\"coloraxis\",\"geo\":\"geo\",\"hovertemplate\":\"<b>%{hovertext}</b><br><br>Date=2020-06-13<br>Country=%{location}<br>PercentOfBaseline=%{z}<extra></extra>\",\"hovertext\":[\"Australia\",\"Canada\",\"United States of America (the)\"],\"locationmode\":\"country names\",\"locations\":[\"Australia\",\"Canada\",\"United States of America (the)\"],\"name\":\"\",\"type\":\"choropleth\",\"z\":[36,554,963]}],\"name\":\"2020-06-13\"},{\"data\":[{\"coloraxis\":\"coloraxis\",\"geo\":\"geo\",\"hovertemplate\":\"<b>%{hovertext}</b><br><br>Date=2020-06-14<br>Country=%{location}<br>PercentOfBaseline=%{z}<extra></extra>\",\"hovertext\":[\"Australia\",\"Canada\",\"United States of America (the)\"],\"locationmode\":\"country names\",\"locations\":[\"Australia\",\"Canada\",\"United States of America (the)\"],\"name\":\"\",\"type\":\"choropleth\",\"z\":[55,672,911]}],\"name\":\"2020-06-14\"},{\"data\":[{\"coloraxis\":\"coloraxis\",\"geo\":\"geo\",\"hovertemplate\":\"<b>%{hovertext}</b><br><br>Date=2020-06-15<br>Country=%{location}<br>PercentOfBaseline=%{z}<extra></extra>\",\"hovertext\":[\"Australia\",\"Canada\",\"Chile\",\"United States of America (the)\"],\"locationmode\":\"country names\",\"locations\":[\"Australia\",\"Canada\",\"Chile\",\"United States of America (the)\"],\"name\":\"\",\"type\":\"choropleth\",\"z\":[52,823,32,1099]}],\"name\":\"2020-06-15\"},{\"data\":[{\"coloraxis\":\"coloraxis\",\"geo\":\"geo\",\"hovertemplate\":\"<b>%{hovertext}</b><br><br>Date=2020-06-16<br>Country=%{location}<br>PercentOfBaseline=%{z}<extra></extra>\",\"hovertext\":[\"Australia\",\"Canada\",\"Chile\",\"United States of America (the)\"],\"locationmode\":\"country names\",\"locations\":[\"Australia\",\"Canada\",\"Chile\",\"United States of America (the)\"],\"name\":\"\",\"type\":\"choropleth\",\"z\":[63,780,27,1122]}],\"name\":\"2020-06-16\"},{\"data\":[{\"coloraxis\":\"coloraxis\",\"geo\":\"geo\",\"hovertemplate\":\"<b>%{hovertext}</b><br><br>Date=2020-06-17<br>Country=%{location}<br>PercentOfBaseline=%{z}<extra></extra>\",\"hovertext\":[\"Australia\",\"Canada\",\"Chile\",\"United States of America (the)\"],\"locationmode\":\"country names\",\"locations\":[\"Australia\",\"Canada\",\"Chile\",\"United States of America (the)\"],\"name\":\"\",\"type\":\"choropleth\",\"z\":[58,764,30,1122]}],\"name\":\"2020-06-17\"},{\"data\":[{\"coloraxis\":\"coloraxis\",\"geo\":\"geo\",\"hovertemplate\":\"<b>%{hovertext}</b><br><br>Date=2020-06-18<br>Country=%{location}<br>PercentOfBaseline=%{z}<extra></extra>\",\"hovertext\":[\"Australia\",\"Canada\",\"Chile\",\"United States of America (the)\"],\"locationmode\":\"country names\",\"locations\":[\"Australia\",\"Canada\",\"Chile\",\"United States of America (the)\"],\"name\":\"\",\"type\":\"choropleth\",\"z\":[59,766,30,1110]}],\"name\":\"2020-06-18\"},{\"data\":[{\"coloraxis\":\"coloraxis\",\"geo\":\"geo\",\"hovertemplate\":\"<b>%{hovertext}</b><br><br>Date=2020-06-19<br>Country=%{location}<br>PercentOfBaseline=%{z}<extra></extra>\",\"hovertext\":[\"Australia\",\"Canada\",\"Chile\",\"United States of America (the)\"],\"locationmode\":\"country names\",\"locations\":[\"Australia\",\"Canada\",\"Chile\",\"United States of America (the)\"],\"name\":\"\",\"type\":\"choropleth\",\"z\":[65,769,28,1086]}],\"name\":\"2020-06-19\"},{\"data\":[{\"coloraxis\":\"coloraxis\",\"geo\":\"geo\",\"hovertemplate\":\"<b>%{hovertext}</b><br><br>Date=2020-06-20<br>Country=%{location}<br>PercentOfBaseline=%{z}<extra></extra>\",\"hovertext\":[\"Australia\",\"Canada\",\"Chile\",\"United States of America (the)\"],\"locationmode\":\"country names\",\"locations\":[\"Australia\",\"Canada\",\"Chile\",\"United States of America (the)\"],\"name\":\"\",\"type\":\"choropleth\",\"z\":[26,599,16,944]}],\"name\":\"2020-06-20\"},{\"data\":[{\"coloraxis\":\"coloraxis\",\"geo\":\"geo\",\"hovertemplate\":\"<b>%{hovertext}</b><br><br>Date=2020-06-21<br>Country=%{location}<br>PercentOfBaseline=%{z}<extra></extra>\",\"hovertext\":[\"Australia\",\"Canada\",\"Chile\",\"United States of America (the)\"],\"locationmode\":\"country names\",\"locations\":[\"Australia\",\"Canada\",\"Chile\",\"United States of America (the)\"],\"name\":\"\",\"type\":\"choropleth\",\"z\":[46,508,14,853]}],\"name\":\"2020-06-21\"},{\"data\":[{\"coloraxis\":\"coloraxis\",\"geo\":\"geo\",\"hovertemplate\":\"<b>%{hovertext}</b><br><br>Date=2020-06-22<br>Country=%{location}<br>PercentOfBaseline=%{z}<extra></extra>\",\"hovertext\":[\"Australia\",\"Canada\",\"Chile\",\"United States of America (the)\"],\"locationmode\":\"country names\",\"locations\":[\"Australia\",\"Canada\",\"Chile\",\"United States of America (the)\"],\"name\":\"\",\"type\":\"choropleth\",\"z\":[50,826,37,1091]}],\"name\":\"2020-06-22\"},{\"data\":[{\"coloraxis\":\"coloraxis\",\"geo\":\"geo\",\"hovertemplate\":\"<b>%{hovertext}</b><br><br>Date=2020-06-23<br>Country=%{location}<br>PercentOfBaseline=%{z}<extra></extra>\",\"hovertext\":[\"Australia\",\"Canada\",\"Chile\",\"United States of America (the)\"],\"locationmode\":\"country names\",\"locations\":[\"Australia\",\"Canada\",\"Chile\",\"United States of America (the)\"],\"name\":\"\",\"type\":\"choropleth\",\"z\":[58,779,32,1167]}],\"name\":\"2020-06-23\"},{\"data\":[{\"coloraxis\":\"coloraxis\",\"geo\":\"geo\",\"hovertemplate\":\"<b>%{hovertext}</b><br><br>Date=2020-06-24<br>Country=%{location}<br>PercentOfBaseline=%{z}<extra></extra>\",\"hovertext\":[\"Australia\",\"Canada\",\"Chile\",\"United States of America (the)\"],\"locationmode\":\"country names\",\"locations\":[\"Australia\",\"Canada\",\"Chile\",\"United States of America (the)\"],\"name\":\"\",\"type\":\"choropleth\",\"z\":[58,670,30,1162]}],\"name\":\"2020-06-24\"},{\"data\":[{\"coloraxis\":\"coloraxis\",\"geo\":\"geo\",\"hovertemplate\":\"<b>%{hovertext}</b><br><br>Date=2020-06-25<br>Country=%{location}<br>PercentOfBaseline=%{z}<extra></extra>\",\"hovertext\":[\"Australia\",\"Canada\",\"Chile\",\"United States of America (the)\"],\"locationmode\":\"country names\",\"locations\":[\"Australia\",\"Canada\",\"Chile\",\"United States of America (the)\"],\"name\":\"\",\"type\":\"choropleth\",\"z\":[62,744,29,1123]}],\"name\":\"2020-06-25\"},{\"data\":[{\"coloraxis\":\"coloraxis\",\"geo\":\"geo\",\"hovertemplate\":\"<b>%{hovertext}</b><br><br>Date=2020-06-26<br>Country=%{location}<br>PercentOfBaseline=%{z}<extra></extra>\",\"hovertext\":[\"Australia\",\"Canada\",\"Chile\",\"United States of America (the)\"],\"locationmode\":\"country names\",\"locations\":[\"Australia\",\"Canada\",\"Chile\",\"United States of America (the)\"],\"name\":\"\",\"type\":\"choropleth\",\"z\":[53,765,32,1124]}],\"name\":\"2020-06-26\"},{\"data\":[{\"coloraxis\":\"coloraxis\",\"geo\":\"geo\",\"hovertemplate\":\"<b>%{hovertext}</b><br><br>Date=2020-06-27<br>Country=%{location}<br>PercentOfBaseline=%{z}<extra></extra>\",\"hovertext\":[\"Australia\",\"Canada\",\"Chile\",\"United States of America (the)\"],\"locationmode\":\"country names\",\"locations\":[\"Australia\",\"Canada\",\"Chile\",\"United States of America (the)\"],\"name\":\"\",\"type\":\"choropleth\",\"z\":[51,549,19,1028]}],\"name\":\"2020-06-27\"},{\"data\":[{\"coloraxis\":\"coloraxis\",\"geo\":\"geo\",\"hovertemplate\":\"<b>%{hovertext}</b><br><br>Date=2020-06-28<br>Country=%{location}<br>PercentOfBaseline=%{z}<extra></extra>\",\"hovertext\":[\"Australia\",\"Canada\",\"United States of America (the)\"],\"locationmode\":\"country names\",\"locations\":[\"Australia\",\"Canada\",\"United States of America (the)\"],\"name\":\"\",\"type\":\"choropleth\",\"z\":[48,595,930]}],\"name\":\"2020-06-28\"},{\"data\":[{\"coloraxis\":\"coloraxis\",\"geo\":\"geo\",\"hovertemplate\":\"<b>%{hovertext}</b><br><br>Date=2020-06-29<br>Country=%{location}<br>PercentOfBaseline=%{z}<extra></extra>\",\"hovertext\":[\"Australia\",\"Canada\",\"Chile\",\"United States of America (the)\"],\"locationmode\":\"country names\",\"locations\":[\"Australia\",\"Canada\",\"Chile\",\"United States of America (the)\"],\"name\":\"\",\"type\":\"choropleth\",\"z\":[57,814,19,1115]}],\"name\":\"2020-06-29\"},{\"data\":[{\"coloraxis\":\"coloraxis\",\"geo\":\"geo\",\"hovertemplate\":\"<b>%{hovertext}</b><br><br>Date=2020-06-30<br>Country=%{location}<br>PercentOfBaseline=%{z}<extra></extra>\",\"hovertext\":[\"Australia\",\"Canada\",\"Chile\",\"United States of America (the)\"],\"locationmode\":\"country names\",\"locations\":[\"Australia\",\"Canada\",\"Chile\",\"United States of America (the)\"],\"name\":\"\",\"type\":\"choropleth\",\"z\":[62,769,27,1153]}],\"name\":\"2020-06-30\"},{\"data\":[{\"coloraxis\":\"coloraxis\",\"geo\":\"geo\",\"hovertemplate\":\"<b>%{hovertext}</b><br><br>Date=2020-07-01<br>Country=%{location}<br>PercentOfBaseline=%{z}<extra></extra>\",\"hovertext\":[\"Australia\",\"Canada\",\"Chile\",\"United States of America (the)\"],\"locationmode\":\"country names\",\"locations\":[\"Australia\",\"Canada\",\"Chile\",\"United States of America (the)\"],\"name\":\"\",\"type\":\"choropleth\",\"z\":[62,280,33,1166]}],\"name\":\"2020-07-01\"},{\"data\":[{\"coloraxis\":\"coloraxis\",\"geo\":\"geo\",\"hovertemplate\":\"<b>%{hovertext}</b><br><br>Date=2020-07-02<br>Country=%{location}<br>PercentOfBaseline=%{z}<extra></extra>\",\"hovertext\":[\"Australia\",\"Canada\",\"Chile\",\"United States of America (the)\"],\"locationmode\":\"country names\",\"locations\":[\"Australia\",\"Canada\",\"Chile\",\"United States of America (the)\"],\"name\":\"\",\"type\":\"choropleth\",\"z\":[56,673,25,1130]}],\"name\":\"2020-07-02\"},{\"data\":[{\"coloraxis\":\"coloraxis\",\"geo\":\"geo\",\"hovertemplate\":\"<b>%{hovertext}</b><br><br>Date=2020-07-03<br>Country=%{location}<br>PercentOfBaseline=%{z}<extra></extra>\",\"hovertext\":[\"Australia\",\"Canada\",\"Chile\",\"United States of America (the)\"],\"locationmode\":\"country names\",\"locations\":[\"Australia\",\"Canada\",\"Chile\",\"United States of America (the)\"],\"name\":\"\",\"type\":\"choropleth\",\"z\":[46,669,32,758]}],\"name\":\"2020-07-03\"},{\"data\":[{\"coloraxis\":\"coloraxis\",\"geo\":\"geo\",\"hovertemplate\":\"<b>%{hovertext}</b><br><br>Date=2020-07-04<br>Country=%{location}<br>PercentOfBaseline=%{z}<extra></extra>\",\"hovertext\":[\"Australia\",\"Canada\",\"Chile\",\"United States of America (the)\"],\"locationmode\":\"country names\",\"locations\":[\"Australia\",\"Canada\",\"Chile\",\"United States of America (the)\"],\"name\":\"\",\"type\":\"choropleth\",\"z\":[48,571,19,641]}],\"name\":\"2020-07-04\"},{\"data\":[{\"coloraxis\":\"coloraxis\",\"geo\":\"geo\",\"hovertemplate\":\"<b>%{hovertext}</b><br><br>Date=2020-07-05<br>Country=%{location}<br>PercentOfBaseline=%{z}<extra></extra>\",\"hovertext\":[\"Australia\",\"Canada\",\"United States of America (the)\"],\"locationmode\":\"country names\",\"locations\":[\"Australia\",\"Canada\",\"United States of America (the)\"],\"name\":\"\",\"type\":\"choropleth\",\"z\":[52,632,841]}],\"name\":\"2020-07-05\"},{\"data\":[{\"coloraxis\":\"coloraxis\",\"geo\":\"geo\",\"hovertemplate\":\"<b>%{hovertext}</b><br><br>Date=2020-07-06<br>Country=%{location}<br>PercentOfBaseline=%{z}<extra></extra>\",\"hovertext\":[\"Australia\",\"Canada\",\"Chile\",\"United States of America (the)\"],\"locationmode\":\"country names\",\"locations\":[\"Australia\",\"Canada\",\"Chile\",\"United States of America (the)\"],\"name\":\"\",\"type\":\"choropleth\",\"z\":[55,845,33,1076]}],\"name\":\"2020-07-06\"},{\"data\":[{\"coloraxis\":\"coloraxis\",\"geo\":\"geo\",\"hovertemplate\":\"<b>%{hovertext}</b><br><br>Date=2020-07-07<br>Country=%{location}<br>PercentOfBaseline=%{z}<extra></extra>\",\"hovertext\":[\"Australia\",\"Canada\",\"Chile\",\"United States of America (the)\"],\"locationmode\":\"country names\",\"locations\":[\"Australia\",\"Canada\",\"Chile\",\"United States of America (the)\"],\"name\":\"\",\"type\":\"choropleth\",\"z\":[59,776,30,1202]}],\"name\":\"2020-07-07\"},{\"data\":[{\"coloraxis\":\"coloraxis\",\"geo\":\"geo\",\"hovertemplate\":\"<b>%{hovertext}</b><br><br>Date=2020-07-08<br>Country=%{location}<br>PercentOfBaseline=%{z}<extra></extra>\",\"hovertext\":[\"Australia\",\"Canada\",\"Chile\",\"United States of America (the)\"],\"locationmode\":\"country names\",\"locations\":[\"Australia\",\"Canada\",\"Chile\",\"United States of America (the)\"],\"name\":\"\",\"type\":\"choropleth\",\"z\":[55,792,32,1200]}],\"name\":\"2020-07-08\"},{\"data\":[{\"coloraxis\":\"coloraxis\",\"geo\":\"geo\",\"hovertemplate\":\"<b>%{hovertext}</b><br><br>Date=2020-07-09<br>Country=%{location}<br>PercentOfBaseline=%{z}<extra></extra>\",\"hovertext\":[\"Australia\",\"Canada\",\"Chile\",\"United States of America (the)\"],\"locationmode\":\"country names\",\"locations\":[\"Australia\",\"Canada\",\"Chile\",\"United States of America (the)\"],\"name\":\"\",\"type\":\"choropleth\",\"z\":[55,756,33,1164]}],\"name\":\"2020-07-09\"},{\"data\":[{\"coloraxis\":\"coloraxis\",\"geo\":\"geo\",\"hovertemplate\":\"<b>%{hovertext}</b><br><br>Date=2020-07-10<br>Country=%{location}<br>PercentOfBaseline=%{z}<extra></extra>\",\"hovertext\":[\"Australia\",\"Canada\",\"Chile\",\"United States of America (the)\"],\"locationmode\":\"country names\",\"locations\":[\"Australia\",\"Canada\",\"Chile\",\"United States of America (the)\"],\"name\":\"\",\"type\":\"choropleth\",\"z\":[54,773,37,1159]}],\"name\":\"2020-07-10\"},{\"data\":[{\"coloraxis\":\"coloraxis\",\"geo\":\"geo\",\"hovertemplate\":\"<b>%{hovertext}</b><br><br>Date=2020-07-11<br>Country=%{location}<br>PercentOfBaseline=%{z}<extra></extra>\",\"hovertext\":[\"Australia\",\"Canada\",\"Chile\",\"United States of America (the)\"],\"locationmode\":\"country names\",\"locations\":[\"Australia\",\"Canada\",\"Chile\",\"United States of America (the)\"],\"name\":\"\",\"type\":\"choropleth\",\"z\":[52,610,26,1062]}],\"name\":\"2020-07-11\"},{\"data\":[{\"coloraxis\":\"coloraxis\",\"geo\":\"geo\",\"hovertemplate\":\"<b>%{hovertext}</b><br><br>Date=2020-07-12<br>Country=%{location}<br>PercentOfBaseline=%{z}<extra></extra>\",\"hovertext\":[\"Australia\",\"Canada\",\"United States of America (the)\"],\"locationmode\":\"country names\",\"locations\":[\"Australia\",\"Canada\",\"United States of America (the)\"],\"name\":\"\",\"type\":\"choropleth\",\"z\":[54,550,968]}],\"name\":\"2020-07-12\"},{\"data\":[{\"coloraxis\":\"coloraxis\",\"geo\":\"geo\",\"hovertemplate\":\"<b>%{hovertext}</b><br><br>Date=2020-07-13<br>Country=%{location}<br>PercentOfBaseline=%{z}<extra></extra>\",\"hovertext\":[\"Australia\",\"Canada\",\"Chile\",\"United States of America (the)\"],\"locationmode\":\"country names\",\"locations\":[\"Australia\",\"Canada\",\"Chile\",\"United States of America (the)\"],\"name\":\"\",\"type\":\"choropleth\",\"z\":[52,835,32,1150]}],\"name\":\"2020-07-13\"},{\"data\":[{\"coloraxis\":\"coloraxis\",\"geo\":\"geo\",\"hovertemplate\":\"<b>%{hovertext}</b><br><br>Date=2020-07-14<br>Country=%{location}<br>PercentOfBaseline=%{z}<extra></extra>\",\"hovertext\":[\"Australia\",\"Canada\",\"Chile\",\"United States of America (the)\"],\"locationmode\":\"country names\",\"locations\":[\"Australia\",\"Canada\",\"Chile\",\"United States of America (the)\"],\"name\":\"\",\"type\":\"choropleth\",\"z\":[58,780,36,1222]}],\"name\":\"2020-07-14\"},{\"data\":[{\"coloraxis\":\"coloraxis\",\"geo\":\"geo\",\"hovertemplate\":\"<b>%{hovertext}</b><br><br>Date=2020-07-15<br>Country=%{location}<br>PercentOfBaseline=%{z}<extra></extra>\",\"hovertext\":[\"Australia\",\"Canada\",\"Chile\",\"United States of America (the)\"],\"locationmode\":\"country names\",\"locations\":[\"Australia\",\"Canada\",\"Chile\",\"United States of America (the)\"],\"name\":\"\",\"type\":\"choropleth\",\"z\":[58,762,39,1171]}],\"name\":\"2020-07-15\"},{\"data\":[{\"coloraxis\":\"coloraxis\",\"geo\":\"geo\",\"hovertemplate\":\"<b>%{hovertext}</b><br><br>Date=2020-07-16<br>Country=%{location}<br>PercentOfBaseline=%{z}<extra></extra>\",\"hovertext\":[\"Australia\",\"Canada\",\"Chile\",\"United States of America (the)\"],\"locationmode\":\"country names\",\"locations\":[\"Australia\",\"Canada\",\"Chile\",\"United States of America (the)\"],\"name\":\"\",\"type\":\"choropleth\",\"z\":[56,762,27,1173]}],\"name\":\"2020-07-16\"},{\"data\":[{\"coloraxis\":\"coloraxis\",\"geo\":\"geo\",\"hovertemplate\":\"<b>%{hovertext}</b><br><br>Date=2020-07-17<br>Country=%{location}<br>PercentOfBaseline=%{z}<extra></extra>\",\"hovertext\":[\"Australia\",\"Canada\",\"Chile\",\"United States of America (the)\"],\"locationmode\":\"country names\",\"locations\":[\"Australia\",\"Canada\",\"Chile\",\"United States of America (the)\"],\"name\":\"\",\"type\":\"choropleth\",\"z\":[51,747,26,1179]}],\"name\":\"2020-07-17\"},{\"data\":[{\"coloraxis\":\"coloraxis\",\"geo\":\"geo\",\"hovertemplate\":\"<b>%{hovertext}</b><br><br>Date=2020-07-18<br>Country=%{location}<br>PercentOfBaseline=%{z}<extra></extra>\",\"hovertext\":[\"Australia\",\"Canada\",\"Chile\",\"United States of America (the)\"],\"locationmode\":\"country names\",\"locations\":[\"Australia\",\"Canada\",\"Chile\",\"United States of America (the)\"],\"name\":\"\",\"type\":\"choropleth\",\"z\":[36,553,29,1058]}],\"name\":\"2020-07-18\"},{\"data\":[{\"coloraxis\":\"coloraxis\",\"geo\":\"geo\",\"hovertemplate\":\"<b>%{hovertext}</b><br><br>Date=2020-07-19<br>Country=%{location}<br>PercentOfBaseline=%{z}<extra></extra>\",\"hovertext\":[\"Australia\",\"Canada\",\"Chile\",\"United States of America (the)\"],\"locationmode\":\"country names\",\"locations\":[\"Australia\",\"Canada\",\"Chile\",\"United States of America (the)\"],\"name\":\"\",\"type\":\"choropleth\",\"z\":[52,558,16,1004]}],\"name\":\"2020-07-19\"},{\"data\":[{\"coloraxis\":\"coloraxis\",\"geo\":\"geo\",\"hovertemplate\":\"<b>%{hovertext}</b><br><br>Date=2020-07-20<br>Country=%{location}<br>PercentOfBaseline=%{z}<extra></extra>\",\"hovertext\":[\"Australia\",\"Canada\",\"Chile\",\"United States of America (the)\"],\"locationmode\":\"country names\",\"locations\":[\"Australia\",\"Canada\",\"Chile\",\"United States of America (the)\"],\"name\":\"\",\"type\":\"choropleth\",\"z\":[51,827,34,1187]}],\"name\":\"2020-07-20\"},{\"data\":[{\"coloraxis\":\"coloraxis\",\"geo\":\"geo\",\"hovertemplate\":\"<b>%{hovertext}</b><br><br>Date=2020-07-21<br>Country=%{location}<br>PercentOfBaseline=%{z}<extra></extra>\",\"hovertext\":[\"Australia\",\"Canada\",\"Chile\",\"United States of America (the)\"],\"locationmode\":\"country names\",\"locations\":[\"Australia\",\"Canada\",\"Chile\",\"United States of America (the)\"],\"name\":\"\",\"type\":\"choropleth\",\"z\":[59,766,36,1293]}],\"name\":\"2020-07-21\"},{\"data\":[{\"coloraxis\":\"coloraxis\",\"geo\":\"geo\",\"hovertemplate\":\"<b>%{hovertext}</b><br><br>Date=2020-07-22<br>Country=%{location}<br>PercentOfBaseline=%{z}<extra></extra>\",\"hovertext\":[\"Australia\",\"Canada\",\"Chile\",\"United States of America (the)\"],\"locationmode\":\"country names\",\"locations\":[\"Australia\",\"Canada\",\"Chile\",\"United States of America (the)\"],\"name\":\"\",\"type\":\"choropleth\",\"z\":[65,774,36,1281]}],\"name\":\"2020-07-22\"},{\"data\":[{\"coloraxis\":\"coloraxis\",\"geo\":\"geo\",\"hovertemplate\":\"<b>%{hovertext}</b><br><br>Date=2020-07-23<br>Country=%{location}<br>PercentOfBaseline=%{z}<extra></extra>\",\"hovertext\":[\"Australia\",\"Canada\",\"Chile\",\"United States of America (the)\"],\"locationmode\":\"country names\",\"locations\":[\"Australia\",\"Canada\",\"Chile\",\"United States of America (the)\"],\"name\":\"\",\"type\":\"choropleth\",\"z\":[57,749,28,1159]}],\"name\":\"2020-07-23\"},{\"data\":[{\"coloraxis\":\"coloraxis\",\"geo\":\"geo\",\"hovertemplate\":\"<b>%{hovertext}</b><br><br>Date=2020-07-24<br>Country=%{location}<br>PercentOfBaseline=%{z}<extra></extra>\",\"hovertext\":[\"Australia\",\"Canada\",\"Chile\",\"United States of America (the)\"],\"locationmode\":\"country names\",\"locations\":[\"Australia\",\"Canada\",\"Chile\",\"United States of America (the)\"],\"name\":\"\",\"type\":\"choropleth\",\"z\":[35,730,34,1168]}],\"name\":\"2020-07-24\"},{\"data\":[{\"coloraxis\":\"coloraxis\",\"geo\":\"geo\",\"hovertemplate\":\"<b>%{hovertext}</b><br><br>Date=2020-07-25<br>Country=%{location}<br>PercentOfBaseline=%{z}<extra></extra>\",\"hovertext\":[\"Australia\",\"Canada\",\"Chile\",\"United States of America (the)\"],\"locationmode\":\"country names\",\"locations\":[\"Australia\",\"Canada\",\"Chile\",\"United States of America (the)\"],\"name\":\"\",\"type\":\"choropleth\",\"z\":[35,567,19,1091]}],\"name\":\"2020-07-25\"},{\"data\":[{\"coloraxis\":\"coloraxis\",\"geo\":\"geo\",\"hovertemplate\":\"<b>%{hovertext}</b><br><br>Date=2020-07-26<br>Country=%{location}<br>PercentOfBaseline=%{z}<extra></extra>\",\"hovertext\":[\"Australia\",\"Canada\",\"United States of America (the)\"],\"locationmode\":\"country names\",\"locations\":[\"Australia\",\"Canada\",\"United States of America (the)\"],\"name\":\"\",\"type\":\"choropleth\",\"z\":[17,558,1069]}],\"name\":\"2020-07-26\"},{\"data\":[{\"coloraxis\":\"coloraxis\",\"geo\":\"geo\",\"hovertemplate\":\"<b>%{hovertext}</b><br><br>Date=2020-07-27<br>Country=%{location}<br>PercentOfBaseline=%{z}<extra></extra>\",\"hovertext\":[\"Australia\",\"Canada\",\"Chile\",\"United States of America (the)\"],\"locationmode\":\"country names\",\"locations\":[\"Australia\",\"Canada\",\"Chile\",\"United States of America (the)\"],\"name\":\"\",\"type\":\"choropleth\",\"z\":[17,770,46,1159]}],\"name\":\"2020-07-27\"},{\"data\":[{\"coloraxis\":\"coloraxis\",\"geo\":\"geo\",\"hovertemplate\":\"<b>%{hovertext}</b><br><br>Date=2020-07-28<br>Country=%{location}<br>PercentOfBaseline=%{z}<extra></extra>\",\"hovertext\":[\"Australia\",\"Canada\",\"Chile\",\"United States of America (the)\"],\"locationmode\":\"country names\",\"locations\":[\"Australia\",\"Canada\",\"Chile\",\"United States of America (the)\"],\"name\":\"\",\"type\":\"choropleth\",\"z\":[22,766,29,1196]}],\"name\":\"2020-07-28\"},{\"data\":[{\"coloraxis\":\"coloraxis\",\"geo\":\"geo\",\"hovertemplate\":\"<b>%{hovertext}</b><br><br>Date=2020-07-29<br>Country=%{location}<br>PercentOfBaseline=%{z}<extra></extra>\",\"hovertext\":[\"Australia\",\"Canada\",\"Chile\",\"United States of America (the)\"],\"locationmode\":\"country names\",\"locations\":[\"Australia\",\"Canada\",\"Chile\",\"United States of America (the)\"],\"name\":\"\",\"type\":\"choropleth\",\"z\":[18,752,42,1185]}],\"name\":\"2020-07-29\"},{\"data\":[{\"coloraxis\":\"coloraxis\",\"geo\":\"geo\",\"hovertemplate\":\"<b>%{hovertext}</b><br><br>Date=2020-07-30<br>Country=%{location}<br>PercentOfBaseline=%{z}<extra></extra>\",\"hovertext\":[\"Australia\",\"Canada\",\"Chile\",\"United States of America (the)\"],\"locationmode\":\"country names\",\"locations\":[\"Australia\",\"Canada\",\"Chile\",\"United States of America (the)\"],\"name\":\"\",\"type\":\"choropleth\",\"z\":[22,737,27,1170]}],\"name\":\"2020-07-30\"},{\"data\":[{\"coloraxis\":\"coloraxis\",\"geo\":\"geo\",\"hovertemplate\":\"<b>%{hovertext}</b><br><br>Date=2020-07-31<br>Country=%{location}<br>PercentOfBaseline=%{z}<extra></extra>\",\"hovertext\":[\"Australia\",\"Canada\",\"Chile\",\"United States of America (the)\"],\"locationmode\":\"country names\",\"locations\":[\"Australia\",\"Canada\",\"Chile\",\"United States of America (the)\"],\"name\":\"\",\"type\":\"choropleth\",\"z\":[25,691,35,1124]}],\"name\":\"2020-07-31\"},{\"data\":[{\"coloraxis\":\"coloraxis\",\"geo\":\"geo\",\"hovertemplate\":\"<b>%{hovertext}</b><br><br>Date=2020-08-01<br>Country=%{location}<br>PercentOfBaseline=%{z}<extra></extra>\",\"hovertext\":[\"Australia\",\"Canada\",\"Chile\",\"United States of America (the)\"],\"locationmode\":\"country names\",\"locations\":[\"Australia\",\"Canada\",\"Chile\",\"United States of America (the)\"],\"name\":\"\",\"type\":\"choropleth\",\"z\":[25,574,19,1084]}],\"name\":\"2020-08-01\"},{\"data\":[{\"coloraxis\":\"coloraxis\",\"geo\":\"geo\",\"hovertemplate\":\"<b>%{hovertext}</b><br><br>Date=2020-08-02<br>Country=%{location}<br>PercentOfBaseline=%{z}<extra></extra>\",\"hovertext\":[\"Australia\",\"Canada\",\"United States of America (the)\"],\"locationmode\":\"country names\",\"locations\":[\"Australia\",\"Canada\",\"United States of America (the)\"],\"name\":\"\",\"type\":\"choropleth\",\"z\":[13,553,1027]}],\"name\":\"2020-08-02\"},{\"data\":[{\"coloraxis\":\"coloraxis\",\"geo\":\"geo\",\"hovertemplate\":\"<b>%{hovertext}</b><br><br>Date=2020-08-03<br>Country=%{location}<br>PercentOfBaseline=%{z}<extra></extra>\",\"hovertext\":[\"Australia\",\"Canada\",\"Chile\",\"United States of America (the)\"],\"locationmode\":\"country names\",\"locations\":[\"Australia\",\"Canada\",\"Chile\",\"United States of America (the)\"],\"name\":\"\",\"type\":\"choropleth\",\"z\":[15,285,48,1168]}],\"name\":\"2020-08-03\"},{\"data\":[{\"coloraxis\":\"coloraxis\",\"geo\":\"geo\",\"hovertemplate\":\"<b>%{hovertext}</b><br><br>Date=2020-08-04<br>Country=%{location}<br>PercentOfBaseline=%{z}<extra></extra>\",\"hovertext\":[\"Australia\",\"Canada\",\"Chile\",\"United States of America (the)\"],\"locationmode\":\"country names\",\"locations\":[\"Australia\",\"Canada\",\"Chile\",\"United States of America (the)\"],\"name\":\"\",\"type\":\"choropleth\",\"z\":[20,703,33,1202]}],\"name\":\"2020-08-04\"},{\"data\":[{\"coloraxis\":\"coloraxis\",\"geo\":\"geo\",\"hovertemplate\":\"<b>%{hovertext}</b><br><br>Date=2020-08-05<br>Country=%{location}<br>PercentOfBaseline=%{z}<extra></extra>\",\"hovertext\":[\"Australia\",\"Canada\",\"Chile\",\"United States of America (the)\"],\"locationmode\":\"country names\",\"locations\":[\"Australia\",\"Canada\",\"Chile\",\"United States of America (the)\"],\"name\":\"\",\"type\":\"choropleth\",\"z\":[20,757,25,1193]}],\"name\":\"2020-08-05\"},{\"data\":[{\"coloraxis\":\"coloraxis\",\"geo\":\"geo\",\"hovertemplate\":\"<b>%{hovertext}</b><br><br>Date=2020-08-06<br>Country=%{location}<br>PercentOfBaseline=%{z}<extra></extra>\",\"hovertext\":[\"Australia\",\"Canada\",\"Chile\",\"United States of America (the)\"],\"locationmode\":\"country names\",\"locations\":[\"Australia\",\"Canada\",\"Chile\",\"United States of America (the)\"],\"name\":\"\",\"type\":\"choropleth\",\"z\":[21,726,24,1222]}],\"name\":\"2020-08-06\"},{\"data\":[{\"coloraxis\":\"coloraxis\",\"geo\":\"geo\",\"hovertemplate\":\"<b>%{hovertext}</b><br><br>Date=2020-08-07<br>Country=%{location}<br>PercentOfBaseline=%{z}<extra></extra>\",\"hovertext\":[\"Australia\",\"Canada\",\"Chile\",\"United States of America (the)\"],\"locationmode\":\"country names\",\"locations\":[\"Australia\",\"Canada\",\"Chile\",\"United States of America (the)\"],\"name\":\"\",\"type\":\"choropleth\",\"z\":[22,747,32,1172]}],\"name\":\"2020-08-07\"},{\"data\":[{\"coloraxis\":\"coloraxis\",\"geo\":\"geo\",\"hovertemplate\":\"<b>%{hovertext}</b><br><br>Date=2020-08-08<br>Country=%{location}<br>PercentOfBaseline=%{z}<extra></extra>\",\"hovertext\":[\"Australia\",\"Canada\",\"Chile\",\"United States of America (the)\"],\"locationmode\":\"country names\",\"locations\":[\"Australia\",\"Canada\",\"Chile\",\"United States of America (the)\"],\"name\":\"\",\"type\":\"choropleth\",\"z\":[26,575,19,1084]}],\"name\":\"2020-08-08\"},{\"data\":[{\"coloraxis\":\"coloraxis\",\"geo\":\"geo\",\"hovertemplate\":\"<b>%{hovertext}</b><br><br>Date=2020-08-09<br>Country=%{location}<br>PercentOfBaseline=%{z}<extra></extra>\",\"hovertext\":[\"Australia\",\"Canada\",\"United States of America (the)\"],\"locationmode\":\"country names\",\"locations\":[\"Australia\",\"Canada\",\"United States of America (the)\"],\"name\":\"\",\"type\":\"choropleth\",\"z\":[19,479,1040]}],\"name\":\"2020-08-09\"},{\"data\":[{\"coloraxis\":\"coloraxis\",\"geo\":\"geo\",\"hovertemplate\":\"<b>%{hovertext}</b><br><br>Date=2020-08-10<br>Country=%{location}<br>PercentOfBaseline=%{z}<extra></extra>\",\"hovertext\":[\"Australia\",\"Canada\",\"Chile\",\"United States of America (the)\"],\"locationmode\":\"country names\",\"locations\":[\"Australia\",\"Canada\",\"Chile\",\"United States of America (the)\"],\"name\":\"\",\"type\":\"choropleth\",\"z\":[19,790,42,1149]}],\"name\":\"2020-08-10\"},{\"data\":[{\"coloraxis\":\"coloraxis\",\"geo\":\"geo\",\"hovertemplate\":\"<b>%{hovertext}</b><br><br>Date=2020-08-11<br>Country=%{location}<br>PercentOfBaseline=%{z}<extra></extra>\",\"hovertext\":[\"Australia\",\"Canada\",\"Chile\",\"United States of America (the)\"],\"locationmode\":\"country names\",\"locations\":[\"Australia\",\"Canada\",\"Chile\",\"United States of America (the)\"],\"name\":\"\",\"type\":\"choropleth\",\"z\":[20,774,36,1200]}],\"name\":\"2020-08-11\"},{\"data\":[{\"coloraxis\":\"coloraxis\",\"geo\":\"geo\",\"hovertemplate\":\"<b>%{hovertext}</b><br><br>Date=2020-08-12<br>Country=%{location}<br>PercentOfBaseline=%{z}<extra></extra>\",\"hovertext\":[\"Australia\",\"Canada\",\"Chile\",\"United States of America (the)\"],\"locationmode\":\"country names\",\"locations\":[\"Australia\",\"Canada\",\"Chile\",\"United States of America (the)\"],\"name\":\"\",\"type\":\"choropleth\",\"z\":[19,775,31,1189]}],\"name\":\"2020-08-12\"},{\"data\":[{\"coloraxis\":\"coloraxis\",\"geo\":\"geo\",\"hovertemplate\":\"<b>%{hovertext}</b><br><br>Date=2020-08-13<br>Country=%{location}<br>PercentOfBaseline=%{z}<extra></extra>\",\"hovertext\":[\"Australia\",\"Canada\",\"Chile\",\"United States of America (the)\"],\"locationmode\":\"country names\",\"locations\":[\"Australia\",\"Canada\",\"Chile\",\"United States of America (the)\"],\"name\":\"\",\"type\":\"choropleth\",\"z\":[14,738,31,1161]}],\"name\":\"2020-08-13\"},{\"data\":[{\"coloraxis\":\"coloraxis\",\"geo\":\"geo\",\"hovertemplate\":\"<b>%{hovertext}</b><br><br>Date=2020-08-14<br>Country=%{location}<br>PercentOfBaseline=%{z}<extra></extra>\",\"hovertext\":[\"Australia\",\"Canada\",\"Chile\",\"United States of America (the)\"],\"locationmode\":\"country names\",\"locations\":[\"Australia\",\"Canada\",\"Chile\",\"United States of America (the)\"],\"name\":\"\",\"type\":\"choropleth\",\"z\":[26,745,38,1163]}],\"name\":\"2020-08-14\"},{\"data\":[{\"coloraxis\":\"coloraxis\",\"geo\":\"geo\",\"hovertemplate\":\"<b>%{hovertext}</b><br><br>Date=2020-08-15<br>Country=%{location}<br>PercentOfBaseline=%{z}<extra></extra>\",\"hovertext\":[\"Australia\",\"Canada\",\"Chile\",\"United States of America (the)\"],\"locationmode\":\"country names\",\"locations\":[\"Australia\",\"Canada\",\"Chile\",\"United States of America (the)\"],\"name\":\"\",\"type\":\"choropleth\",\"z\":[16,609,18,1066]}],\"name\":\"2020-08-15\"},{\"data\":[{\"coloraxis\":\"coloraxis\",\"geo\":\"geo\",\"hovertemplate\":\"<b>%{hovertext}</b><br><br>Date=2020-08-16<br>Country=%{location}<br>PercentOfBaseline=%{z}<extra></extra>\",\"hovertext\":[\"Australia\",\"Canada\",\"United States of America (the)\"],\"locationmode\":\"country names\",\"locations\":[\"Australia\",\"Canada\",\"United States of America (the)\"],\"name\":\"\",\"type\":\"choropleth\",\"z\":[13,587,1066]}],\"name\":\"2020-08-16\"},{\"data\":[{\"coloraxis\":\"coloraxis\",\"geo\":\"geo\",\"hovertemplate\":\"<b>%{hovertext}</b><br><br>Date=2020-08-17<br>Country=%{location}<br>PercentOfBaseline=%{z}<extra></extra>\",\"hovertext\":[\"United States of America (the)\"],\"locationmode\":\"country names\",\"locations\":[\"United States of America (the)\"],\"name\":\"\",\"type\":\"choropleth\",\"z\":[1]}],\"name\":\"2020-08-17\"},{\"data\":[{\"coloraxis\":\"coloraxis\",\"geo\":\"geo\",\"hovertemplate\":\"<b>%{hovertext}</b><br><br>Date=2020-08-18<br>Country=%{location}<br>PercentOfBaseline=%{z}<extra></extra>\",\"hovertext\":[\"Australia\",\"Canada\",\"Chile\",\"United States of America (the)\"],\"locationmode\":\"country names\",\"locations\":[\"Australia\",\"Canada\",\"Chile\",\"United States of America (the)\"],\"name\":\"\",\"type\":\"choropleth\",\"z\":[21,777,40,1218]}],\"name\":\"2020-08-18\"},{\"data\":[{\"coloraxis\":\"coloraxis\",\"geo\":\"geo\",\"hovertemplate\":\"<b>%{hovertext}</b><br><br>Date=2020-08-19<br>Country=%{location}<br>PercentOfBaseline=%{z}<extra></extra>\",\"hovertext\":[\"Australia\",\"Canada\",\"Chile\",\"United States of America (the)\"],\"locationmode\":\"country names\",\"locations\":[\"Australia\",\"Canada\",\"Chile\",\"United States of America (the)\"],\"name\":\"\",\"type\":\"choropleth\",\"z\":[20,786,48,1230]}],\"name\":\"2020-08-19\"},{\"data\":[{\"coloraxis\":\"coloraxis\",\"geo\":\"geo\",\"hovertemplate\":\"<b>%{hovertext}</b><br><br>Date=2020-08-20<br>Country=%{location}<br>PercentOfBaseline=%{z}<extra></extra>\",\"hovertext\":[\"Australia\",\"Canada\",\"Chile\",\"United States of America (the)\"],\"locationmode\":\"country names\",\"locations\":[\"Australia\",\"Canada\",\"Chile\",\"United States of America (the)\"],\"name\":\"\",\"type\":\"choropleth\",\"z\":[13,774,32,1213]}],\"name\":\"2020-08-20\"},{\"data\":[{\"coloraxis\":\"coloraxis\",\"geo\":\"geo\",\"hovertemplate\":\"<b>%{hovertext}</b><br><br>Date=2020-08-21<br>Country=%{location}<br>PercentOfBaseline=%{z}<extra></extra>\",\"hovertext\":[\"Australia\",\"Canada\",\"Chile\",\"United States of America (the)\"],\"locationmode\":\"country names\",\"locations\":[\"Australia\",\"Canada\",\"Chile\",\"United States of America (the)\"],\"name\":\"\",\"type\":\"choropleth\",\"z\":[17,733,35,1177]}],\"name\":\"2020-08-21\"},{\"data\":[{\"coloraxis\":\"coloraxis\",\"geo\":\"geo\",\"hovertemplate\":\"<b>%{hovertext}</b><br><br>Date=2020-08-22<br>Country=%{location}<br>PercentOfBaseline=%{z}<extra></extra>\",\"hovertext\":[\"Australia\",\"Canada\",\"Chile\",\"United States of America (the)\"],\"locationmode\":\"country names\",\"locations\":[\"Australia\",\"Canada\",\"Chile\",\"United States of America (the)\"],\"name\":\"\",\"type\":\"choropleth\",\"z\":[27,565,33,1071]}],\"name\":\"2020-08-22\"},{\"data\":[{\"coloraxis\":\"coloraxis\",\"geo\":\"geo\",\"hovertemplate\":\"<b>%{hovertext}</b><br><br>Date=2020-08-23<br>Country=%{location}<br>PercentOfBaseline=%{z}<extra></extra>\",\"hovertext\":[\"Australia\",\"Canada\",\"Chile\",\"United States of America (the)\"],\"locationmode\":\"country names\",\"locations\":[\"Australia\",\"Canada\",\"Chile\",\"United States of America (the)\"],\"name\":\"\",\"type\":\"choropleth\",\"z\":[9,585,22,1158]}],\"name\":\"2020-08-23\"},{\"data\":[{\"coloraxis\":\"coloraxis\",\"geo\":\"geo\",\"hovertemplate\":\"<b>%{hovertext}</b><br><br>Date=2020-08-24<br>Country=%{location}<br>PercentOfBaseline=%{z}<extra></extra>\",\"hovertext\":[\"Australia\",\"Canada\",\"Chile\",\"United States of America (the)\"],\"locationmode\":\"country names\",\"locations\":[\"Australia\",\"Canada\",\"Chile\",\"United States of America (the)\"],\"name\":\"\",\"type\":\"choropleth\",\"z\":[11,771,46,1209]}],\"name\":\"2020-08-24\"},{\"data\":[{\"coloraxis\":\"coloraxis\",\"geo\":\"geo\",\"hovertemplate\":\"<b>%{hovertext}</b><br><br>Date=2020-08-25<br>Country=%{location}<br>PercentOfBaseline=%{z}<extra></extra>\",\"hovertext\":[\"Australia\",\"Canada\",\"Chile\",\"United States of America (the)\"],\"locationmode\":\"country names\",\"locations\":[\"Australia\",\"Canada\",\"Chile\",\"United States of America (the)\"],\"name\":\"\",\"type\":\"choropleth\",\"z\":[12,780,37,1240]}],\"name\":\"2020-08-25\"},{\"data\":[{\"coloraxis\":\"coloraxis\",\"geo\":\"geo\",\"hovertemplate\":\"<b>%{hovertext}</b><br><br>Date=2020-08-26<br>Country=%{location}<br>PercentOfBaseline=%{z}<extra></extra>\",\"hovertext\":[\"Australia\",\"Canada\",\"Chile\",\"United States of America (the)\"],\"locationmode\":\"country names\",\"locations\":[\"Australia\",\"Canada\",\"Chile\",\"United States of America (the)\"],\"name\":\"\",\"type\":\"choropleth\",\"z\":[11,755,36,1278]}],\"name\":\"2020-08-26\"},{\"data\":[{\"coloraxis\":\"coloraxis\",\"geo\":\"geo\",\"hovertemplate\":\"<b>%{hovertext}</b><br><br>Date=2020-08-27<br>Country=%{location}<br>PercentOfBaseline=%{z}<extra></extra>\",\"hovertext\":[\"Australia\",\"Canada\",\"Chile\",\"United States of America (the)\"],\"locationmode\":\"country names\",\"locations\":[\"Australia\",\"Canada\",\"Chile\",\"United States of America (the)\"],\"name\":\"\",\"type\":\"choropleth\",\"z\":[17,732,42,1247]}],\"name\":\"2020-08-27\"},{\"data\":[{\"coloraxis\":\"coloraxis\",\"geo\":\"geo\",\"hovertemplate\":\"<b>%{hovertext}</b><br><br>Date=2020-08-28<br>Country=%{location}<br>PercentOfBaseline=%{z}<extra></extra>\",\"hovertext\":[\"Australia\",\"Canada\",\"Chile\",\"United States of America (the)\"],\"locationmode\":\"country names\",\"locations\":[\"Australia\",\"Canada\",\"Chile\",\"United States of America (the)\"],\"name\":\"\",\"type\":\"choropleth\",\"z\":[22,771,33,1208]}],\"name\":\"2020-08-28\"},{\"data\":[{\"coloraxis\":\"coloraxis\",\"geo\":\"geo\",\"hovertemplate\":\"<b>%{hovertext}</b><br><br>Date=2020-08-29<br>Country=%{location}<br>PercentOfBaseline=%{z}<extra></extra>\",\"hovertext\":[\"Canada\",\"Chile\",\"United States of America (the)\"],\"locationmode\":\"country names\",\"locations\":[\"Canada\",\"Chile\",\"United States of America (the)\"],\"name\":\"\",\"type\":\"choropleth\",\"z\":[588,20,1121]}],\"name\":\"2020-08-29\"},{\"data\":[{\"coloraxis\":\"coloraxis\",\"geo\":\"geo\",\"hovertemplate\":\"<b>%{hovertext}</b><br><br>Date=2020-08-30<br>Country=%{location}<br>PercentOfBaseline=%{z}<extra></extra>\",\"hovertext\":[\"Australia\",\"Canada\",\"United States of America (the)\"],\"locationmode\":\"country names\",\"locations\":[\"Australia\",\"Canada\",\"United States of America (the)\"],\"name\":\"\",\"type\":\"choropleth\",\"z\":[10,584,1095]}],\"name\":\"2020-08-30\"},{\"data\":[{\"coloraxis\":\"coloraxis\",\"geo\":\"geo\",\"hovertemplate\":\"<b>%{hovertext}</b><br><br>Date=2020-08-31<br>Country=%{location}<br>PercentOfBaseline=%{z}<extra></extra>\",\"hovertext\":[\"Australia\",\"Canada\",\"Chile\",\"United States of America (the)\"],\"locationmode\":\"country names\",\"locations\":[\"Australia\",\"Canada\",\"Chile\",\"United States of America (the)\"],\"name\":\"\",\"type\":\"choropleth\",\"z\":[18,801,45,1155]}],\"name\":\"2020-08-31\"},{\"data\":[{\"coloraxis\":\"coloraxis\",\"geo\":\"geo\",\"hovertemplate\":\"<b>%{hovertext}</b><br><br>Date=2020-09-01<br>Country=%{location}<br>PercentOfBaseline=%{z}<extra></extra>\",\"hovertext\":[\"Australia\",\"Canada\",\"Chile\",\"United States of America (the)\"],\"locationmode\":\"country names\",\"locations\":[\"Australia\",\"Canada\",\"Chile\",\"United States of America (the)\"],\"name\":\"\",\"type\":\"choropleth\",\"z\":[15,726,47,1242]}],\"name\":\"2020-09-01\"},{\"data\":[{\"coloraxis\":\"coloraxis\",\"geo\":\"geo\",\"hovertemplate\":\"<b>%{hovertext}</b><br><br>Date=2020-09-02<br>Country=%{location}<br>PercentOfBaseline=%{z}<extra></extra>\",\"hovertext\":[\"Australia\",\"Canada\",\"Chile\",\"United States of America (the)\"],\"locationmode\":\"country names\",\"locations\":[\"Australia\",\"Canada\",\"Chile\",\"United States of America (the)\"],\"name\":\"\",\"type\":\"choropleth\",\"z\":[18,787,40,1217]}],\"name\":\"2020-09-02\"},{\"data\":[{\"coloraxis\":\"coloraxis\",\"geo\":\"geo\",\"hovertemplate\":\"<b>%{hovertext}</b><br><br>Date=2020-09-03<br>Country=%{location}<br>PercentOfBaseline=%{z}<extra></extra>\",\"hovertext\":[\"Australia\",\"Canada\",\"Chile\",\"United States of America (the)\"],\"locationmode\":\"country names\",\"locations\":[\"Australia\",\"Canada\",\"Chile\",\"United States of America (the)\"],\"name\":\"\",\"type\":\"choropleth\",\"z\":[12,781,33,1242]}],\"name\":\"2020-09-03\"},{\"data\":[{\"coloraxis\":\"coloraxis\",\"geo\":\"geo\",\"hovertemplate\":\"<b>%{hovertext}</b><br><br>Date=2020-09-04<br>Country=%{location}<br>PercentOfBaseline=%{z}<extra></extra>\",\"hovertext\":[\"Australia\",\"Canada\",\"Chile\",\"United States of America (the)\"],\"locationmode\":\"country names\",\"locations\":[\"Australia\",\"Canada\",\"Chile\",\"United States of America (the)\"],\"name\":\"\",\"type\":\"choropleth\",\"z\":[15,766,32,1185]}],\"name\":\"2020-09-04\"},{\"data\":[{\"coloraxis\":\"coloraxis\",\"geo\":\"geo\",\"hovertemplate\":\"<b>%{hovertext}</b><br><br>Date=2020-09-05<br>Country=%{location}<br>PercentOfBaseline=%{z}<extra></extra>\",\"hovertext\":[\"Australia\",\"Canada\",\"Chile\",\"United States of America (the)\"],\"locationmode\":\"country names\",\"locations\":[\"Australia\",\"Canada\",\"Chile\",\"United States of America (the)\"],\"name\":\"\",\"type\":\"choropleth\",\"z\":[27,563,25,1080]}],\"name\":\"2020-09-05\"},{\"data\":[{\"coloraxis\":\"coloraxis\",\"geo\":\"geo\",\"hovertemplate\":\"<b>%{hovertext}</b><br><br>Date=2020-09-06<br>Country=%{location}<br>PercentOfBaseline=%{z}<extra></extra>\",\"hovertext\":[\"Australia\",\"Canada\",\"Chile\",\"United States of America (the)\"],\"locationmode\":\"country names\",\"locations\":[\"Australia\",\"Canada\",\"Chile\",\"United States of America (the)\"],\"name\":\"\",\"type\":\"choropleth\",\"z\":[9,511,20,1052]}],\"name\":\"2020-09-06\"},{\"data\":[{\"coloraxis\":\"coloraxis\",\"geo\":\"geo\",\"hovertemplate\":\"<b>%{hovertext}</b><br><br>Date=2020-09-07<br>Country=%{location}<br>PercentOfBaseline=%{z}<extra></extra>\",\"hovertext\":[\"Australia\",\"Canada\",\"Chile\",\"United States of America (the)\"],\"locationmode\":\"country names\",\"locations\":[\"Australia\",\"Canada\",\"Chile\",\"United States of America (the)\"],\"name\":\"\",\"type\":\"choropleth\",\"z\":[11,126,42,552]}],\"name\":\"2020-09-07\"},{\"data\":[{\"coloraxis\":\"coloraxis\",\"geo\":\"geo\",\"hovertemplate\":\"<b>%{hovertext}</b><br><br>Date=2020-09-08<br>Country=%{location}<br>PercentOfBaseline=%{z}<extra></extra>\",\"hovertext\":[\"Australia\",\"Canada\",\"Chile\",\"United States of America (the)\"],\"locationmode\":\"country names\",\"locations\":[\"Australia\",\"Canada\",\"Chile\",\"United States of America (the)\"],\"name\":\"\",\"type\":\"choropleth\",\"z\":[12,694,47,1128]}],\"name\":\"2020-09-08\"},{\"data\":[{\"coloraxis\":\"coloraxis\",\"geo\":\"geo\",\"hovertemplate\":\"<b>%{hovertext}</b><br><br>Date=2020-09-09<br>Country=%{location}<br>PercentOfBaseline=%{z}<extra></extra>\",\"hovertext\":[\"Australia\",\"Canada\",\"Chile\",\"United States of America (the)\"],\"locationmode\":\"country names\",\"locations\":[\"Australia\",\"Canada\",\"Chile\",\"United States of America (the)\"],\"name\":\"\",\"type\":\"choropleth\",\"z\":[16,799,35,1238]}],\"name\":\"2020-09-09\"},{\"data\":[{\"coloraxis\":\"coloraxis\",\"geo\":\"geo\",\"hovertemplate\":\"<b>%{hovertext}</b><br><br>Date=2020-09-10<br>Country=%{location}<br>PercentOfBaseline=%{z}<extra></extra>\",\"hovertext\":[\"Australia\",\"Canada\",\"Chile\",\"United States of America (the)\"],\"locationmode\":\"country names\",\"locations\":[\"Australia\",\"Canada\",\"Chile\",\"United States of America (the)\"],\"name\":\"\",\"type\":\"choropleth\",\"z\":[16,776,40,1227]}],\"name\":\"2020-09-10\"},{\"data\":[{\"coloraxis\":\"coloraxis\",\"geo\":\"geo\",\"hovertemplate\":\"<b>%{hovertext}</b><br><br>Date=2020-09-11<br>Country=%{location}<br>PercentOfBaseline=%{z}<extra></extra>\",\"hovertext\":[\"Australia\",\"Canada\",\"Chile\",\"United States of America (the)\"],\"locationmode\":\"country names\",\"locations\":[\"Australia\",\"Canada\",\"Chile\",\"United States of America (the)\"],\"name\":\"\",\"type\":\"choropleth\",\"z\":[17,795,49,1218]}],\"name\":\"2020-09-11\"},{\"data\":[{\"coloraxis\":\"coloraxis\",\"geo\":\"geo\",\"hovertemplate\":\"<b>%{hovertext}</b><br><br>Date=2020-09-12<br>Country=%{location}<br>PercentOfBaseline=%{z}<extra></extra>\",\"hovertext\":[\"Australia\",\"Canada\",\"Chile\",\"United States of America (the)\"],\"locationmode\":\"country names\",\"locations\":[\"Australia\",\"Canada\",\"Chile\",\"United States of America (the)\"],\"name\":\"\",\"type\":\"choropleth\",\"z\":[29,589,31,1140]}],\"name\":\"2020-09-12\"},{\"data\":[{\"coloraxis\":\"coloraxis\",\"geo\":\"geo\",\"hovertemplate\":\"<b>%{hovertext}</b><br><br>Date=2020-09-13<br>Country=%{location}<br>PercentOfBaseline=%{z}<extra></extra>\",\"hovertext\":[\"Australia\",\"Canada\",\"Chile\",\"United States of America (the)\"],\"locationmode\":\"country names\",\"locations\":[\"Australia\",\"Canada\",\"Chile\",\"United States of America (the)\"],\"name\":\"\",\"type\":\"choropleth\",\"z\":[10,595,25,1081]}],\"name\":\"2020-09-13\"},{\"data\":[{\"coloraxis\":\"coloraxis\",\"geo\":\"geo\",\"hovertemplate\":\"<b>%{hovertext}</b><br><br>Date=2020-09-14<br>Country=%{location}<br>PercentOfBaseline=%{z}<extra></extra>\",\"hovertext\":[\"Australia\",\"Canada\",\"Chile\",\"United States of America (the)\"],\"locationmode\":\"country names\",\"locations\":[\"Australia\",\"Canada\",\"Chile\",\"United States of America (the)\"],\"name\":\"\",\"type\":\"choropleth\",\"z\":[18,811,47,1233]}],\"name\":\"2020-09-14\"},{\"data\":[{\"coloraxis\":\"coloraxis\",\"geo\":\"geo\",\"hovertemplate\":\"<b>%{hovertext}</b><br><br>Date=2020-09-15<br>Country=%{location}<br>PercentOfBaseline=%{z}<extra></extra>\",\"hovertext\":[\"Australia\",\"Canada\",\"Chile\",\"United States of America (the)\"],\"locationmode\":\"country names\",\"locations\":[\"Australia\",\"Canada\",\"Chile\",\"United States of America (the)\"],\"name\":\"\",\"type\":\"choropleth\",\"z\":[19,794,54,1263]}],\"name\":\"2020-09-15\"},{\"data\":[{\"coloraxis\":\"coloraxis\",\"geo\":\"geo\",\"hovertemplate\":\"<b>%{hovertext}</b><br><br>Date=2020-09-16<br>Country=%{location}<br>PercentOfBaseline=%{z}<extra></extra>\",\"hovertext\":[\"Australia\",\"Canada\",\"Chile\",\"United States of America (the)\"],\"locationmode\":\"country names\",\"locations\":[\"Australia\",\"Canada\",\"Chile\",\"United States of America (the)\"],\"name\":\"\",\"type\":\"choropleth\",\"z\":[18,772,53,1256]}],\"name\":\"2020-09-16\"},{\"data\":[{\"coloraxis\":\"coloraxis\",\"geo\":\"geo\",\"hovertemplate\":\"<b>%{hovertext}</b><br><br>Date=2020-09-17<br>Country=%{location}<br>PercentOfBaseline=%{z}<extra></extra>\",\"hovertext\":[\"Australia\",\"Canada\",\"Chile\",\"United States of America (the)\"],\"locationmode\":\"country names\",\"locations\":[\"Australia\",\"Canada\",\"Chile\",\"United States of America (the)\"],\"name\":\"\",\"type\":\"choropleth\",\"z\":[17,776,31,1202]}],\"name\":\"2020-09-17\"},{\"data\":[{\"coloraxis\":\"coloraxis\",\"geo\":\"geo\",\"hovertemplate\":\"<b>%{hovertext}</b><br><br>Date=2020-09-18<br>Country=%{location}<br>PercentOfBaseline=%{z}<extra></extra>\",\"hovertext\":[\"Australia\",\"Canada\",\"Chile\",\"United States of America (the)\"],\"locationmode\":\"country names\",\"locations\":[\"Australia\",\"Canada\",\"Chile\",\"United States of America (the)\"],\"name\":\"\",\"type\":\"choropleth\",\"z\":[16,767,12,1251]}],\"name\":\"2020-09-18\"},{\"data\":[{\"coloraxis\":\"coloraxis\",\"geo\":\"geo\",\"hovertemplate\":\"<b>%{hovertext}</b><br><br>Date=2020-09-19<br>Country=%{location}<br>PercentOfBaseline=%{z}<extra></extra>\",\"hovertext\":[\"Australia\",\"Canada\",\"United States of America (the)\"],\"locationmode\":\"country names\",\"locations\":[\"Australia\",\"Canada\",\"United States of America (the)\"],\"name\":\"\",\"type\":\"choropleth\",\"z\":[26,603,1122]}],\"name\":\"2020-09-19\"},{\"data\":[{\"coloraxis\":\"coloraxis\",\"geo\":\"geo\",\"hovertemplate\":\"<b>%{hovertext}</b><br><br>Date=2020-09-20<br>Country=%{location}<br>PercentOfBaseline=%{z}<extra></extra>\",\"hovertext\":[\"Australia\",\"Canada\",\"Chile\",\"United States of America (the)\"],\"locationmode\":\"country names\",\"locations\":[\"Australia\",\"Canada\",\"Chile\",\"United States of America (the)\"],\"name\":\"\",\"type\":\"choropleth\",\"z\":[16,555,23,1072]}],\"name\":\"2020-09-20\"},{\"data\":[{\"coloraxis\":\"coloraxis\",\"geo\":\"geo\",\"hovertemplate\":\"<b>%{hovertext}</b><br><br>Date=2020-09-21<br>Country=%{location}<br>PercentOfBaseline=%{z}<extra></extra>\",\"hovertext\":[\"Australia\",\"Canada\",\"Chile\",\"United States of America (the)\"],\"locationmode\":\"country names\",\"locations\":[\"Australia\",\"Canada\",\"Chile\",\"United States of America (the)\"],\"name\":\"\",\"type\":\"choropleth\",\"z\":[15,803,36,1251]}],\"name\":\"2020-09-21\"},{\"data\":[{\"coloraxis\":\"coloraxis\",\"geo\":\"geo\",\"hovertemplate\":\"<b>%{hovertext}</b><br><br>Date=2020-09-22<br>Country=%{location}<br>PercentOfBaseline=%{z}<extra></extra>\",\"hovertext\":[\"Australia\",\"Canada\",\"Chile\",\"United States of America (the)\"],\"locationmode\":\"country names\",\"locations\":[\"Australia\",\"Canada\",\"Chile\",\"United States of America (the)\"],\"name\":\"\",\"type\":\"choropleth\",\"z\":[16,812,47,1269]}],\"name\":\"2020-09-22\"},{\"data\":[{\"coloraxis\":\"coloraxis\",\"geo\":\"geo\",\"hovertemplate\":\"<b>%{hovertext}</b><br><br>Date=2020-09-23<br>Country=%{location}<br>PercentOfBaseline=%{z}<extra></extra>\",\"hovertext\":[\"Australia\",\"Canada\",\"Chile\",\"United States of America (the)\"],\"locationmode\":\"country names\",\"locations\":[\"Australia\",\"Canada\",\"Chile\",\"United States of America (the)\"],\"name\":\"\",\"type\":\"choropleth\",\"z\":[17,752,44,1268]}],\"name\":\"2020-09-23\"},{\"data\":[{\"coloraxis\":\"coloraxis\",\"geo\":\"geo\",\"hovertemplate\":\"<b>%{hovertext}</b><br><br>Date=2020-09-24<br>Country=%{location}<br>PercentOfBaseline=%{z}<extra></extra>\",\"hovertext\":[\"Australia\",\"Canada\",\"Chile\",\"United States of America (the)\"],\"locationmode\":\"country names\",\"locations\":[\"Australia\",\"Canada\",\"Chile\",\"United States of America (the)\"],\"name\":\"\",\"type\":\"choropleth\",\"z\":[15,787,36,1247]}],\"name\":\"2020-09-24\"},{\"data\":[{\"coloraxis\":\"coloraxis\",\"geo\":\"geo\",\"hovertemplate\":\"<b>%{hovertext}</b><br><br>Date=2020-09-25<br>Country=%{location}<br>PercentOfBaseline=%{z}<extra></extra>\",\"hovertext\":[\"Australia\",\"Canada\",\"Chile\",\"United States of America (the)\"],\"locationmode\":\"country names\",\"locations\":[\"Australia\",\"Canada\",\"Chile\",\"United States of America (the)\"],\"name\":\"\",\"type\":\"choropleth\",\"z\":[13,782,42,1241]}],\"name\":\"2020-09-25\"},{\"data\":[{\"coloraxis\":\"coloraxis\",\"geo\":\"geo\",\"hovertemplate\":\"<b>%{hovertext}</b><br><br>Date=2020-09-26<br>Country=%{location}<br>PercentOfBaseline=%{z}<extra></extra>\",\"hovertext\":[\"Australia\",\"Canada\",\"Chile\",\"United States of America (the)\"],\"locationmode\":\"country names\",\"locations\":[\"Australia\",\"Canada\",\"Chile\",\"United States of America (the)\"],\"name\":\"\",\"type\":\"choropleth\",\"z\":[18,586,28,1109]}],\"name\":\"2020-09-26\"},{\"data\":[{\"coloraxis\":\"coloraxis\",\"geo\":\"geo\",\"hovertemplate\":\"<b>%{hovertext}</b><br><br>Date=2020-09-27<br>Country=%{location}<br>PercentOfBaseline=%{z}<extra></extra>\",\"hovertext\":[\"Australia\",\"Canada\",\"Chile\",\"United States of America (the)\"],\"locationmode\":\"country names\",\"locations\":[\"Australia\",\"Canada\",\"Chile\",\"United States of America (the)\"],\"name\":\"\",\"type\":\"choropleth\",\"z\":[12,616,26,1033]}],\"name\":\"2020-09-27\"},{\"data\":[{\"coloraxis\":\"coloraxis\",\"geo\":\"geo\",\"hovertemplate\":\"<b>%{hovertext}</b><br><br>Date=2020-09-28<br>Country=%{location}<br>PercentOfBaseline=%{z}<extra></extra>\",\"hovertext\":[\"Australia\",\"Canada\",\"Chile\",\"United States of America (the)\"],\"locationmode\":\"country names\",\"locations\":[\"Australia\",\"Canada\",\"Chile\",\"United States of America (the)\"],\"name\":\"\",\"type\":\"choropleth\",\"z\":[12,869,39,1241]}],\"name\":\"2020-09-28\"},{\"data\":[{\"coloraxis\":\"coloraxis\",\"geo\":\"geo\",\"hovertemplate\":\"<b>%{hovertext}</b><br><br>Date=2020-09-29<br>Country=%{location}<br>PercentOfBaseline=%{z}<extra></extra>\",\"hovertext\":[\"Australia\",\"Canada\",\"Chile\",\"United States of America (the)\"],\"locationmode\":\"country names\",\"locations\":[\"Australia\",\"Canada\",\"Chile\",\"United States of America (the)\"],\"name\":\"\",\"type\":\"choropleth\",\"z\":[21,832,46,1295]}],\"name\":\"2020-09-29\"},{\"data\":[{\"coloraxis\":\"coloraxis\",\"geo\":\"geo\",\"hovertemplate\":\"<b>%{hovertext}</b><br><br>Date=2020-09-30<br>Country=%{location}<br>PercentOfBaseline=%{z}<extra></extra>\",\"hovertext\":[\"Australia\",\"Canada\",\"Chile\",\"United States of America (the)\"],\"locationmode\":\"country names\",\"locations\":[\"Australia\",\"Canada\",\"Chile\",\"United States of America (the)\"],\"name\":\"\",\"type\":\"choropleth\",\"z\":[16,820,49,1284]}],\"name\":\"2020-09-30\"},{\"data\":[{\"coloraxis\":\"coloraxis\",\"geo\":\"geo\",\"hovertemplate\":\"<b>%{hovertext}</b><br><br>Date=2020-10-01<br>Country=%{location}<br>PercentOfBaseline=%{z}<extra></extra>\",\"hovertext\":[\"Australia\",\"Canada\",\"Chile\",\"United States of America (the)\"],\"locationmode\":\"country names\",\"locations\":[\"Australia\",\"Canada\",\"Chile\",\"United States of America (the)\"],\"name\":\"\",\"type\":\"choropleth\",\"z\":[19,813,39,1278]}],\"name\":\"2020-10-01\"},{\"data\":[{\"coloraxis\":\"coloraxis\",\"geo\":\"geo\",\"hovertemplate\":\"<b>%{hovertext}</b><br><br>Date=2020-10-02<br>Country=%{location}<br>PercentOfBaseline=%{z}<extra></extra>\",\"hovertext\":[\"Australia\",\"Canada\",\"Chile\",\"United States of America (the)\"],\"locationmode\":\"country names\",\"locations\":[\"Australia\",\"Canada\",\"Chile\",\"United States of America (the)\"],\"name\":\"\",\"type\":\"choropleth\",\"z\":[16,813,53,1253]}],\"name\":\"2020-10-02\"},{\"data\":[{\"coloraxis\":\"coloraxis\",\"geo\":\"geo\",\"hovertemplate\":\"<b>%{hovertext}</b><br><br>Date=2020-10-03<br>Country=%{location}<br>PercentOfBaseline=%{z}<extra></extra>\",\"hovertext\":[\"Australia\",\"Canada\",\"Chile\",\"United States of America (the)\"],\"locationmode\":\"country names\",\"locations\":[\"Australia\",\"Canada\",\"Chile\",\"United States of America (the)\"],\"name\":\"\",\"type\":\"choropleth\",\"z\":[20,649,29,1095]}],\"name\":\"2020-10-03\"},{\"data\":[{\"coloraxis\":\"coloraxis\",\"geo\":\"geo\",\"hovertemplate\":\"<b>%{hovertext}</b><br><br>Date=2020-10-04<br>Country=%{location}<br>PercentOfBaseline=%{z}<extra></extra>\",\"hovertext\":[\"Australia\",\"Canada\",\"Chile\",\"United States of America (the)\"],\"locationmode\":\"country names\",\"locations\":[\"Australia\",\"Canada\",\"Chile\",\"United States of America (the)\"],\"name\":\"\",\"type\":\"choropleth\",\"z\":[6,477,36,1061]}],\"name\":\"2020-10-04\"},{\"data\":[{\"coloraxis\":\"coloraxis\",\"geo\":\"geo\",\"hovertemplate\":\"<b>%{hovertext}</b><br><br>Date=2020-10-05<br>Country=%{location}<br>PercentOfBaseline=%{z}<extra></extra>\",\"hovertext\":[\"Australia\",\"Canada\",\"Chile\",\"United States of America (the)\"],\"locationmode\":\"country names\",\"locations\":[\"Australia\",\"Canada\",\"Chile\",\"United States of America (the)\"],\"name\":\"\",\"type\":\"choropleth\",\"z\":[10,860,56,1270]}],\"name\":\"2020-10-05\"},{\"data\":[{\"coloraxis\":\"coloraxis\",\"geo\":\"geo\",\"hovertemplate\":\"<b>%{hovertext}</b><br><br>Date=2020-10-06<br>Country=%{location}<br>PercentOfBaseline=%{z}<extra></extra>\",\"hovertext\":[\"Australia\",\"Canada\",\"Chile\",\"United States of America (the)\"],\"locationmode\":\"country names\",\"locations\":[\"Australia\",\"Canada\",\"Chile\",\"United States of America (the)\"],\"name\":\"\",\"type\":\"choropleth\",\"z\":[22,857,53,1264]}],\"name\":\"2020-10-06\"},{\"data\":[{\"coloraxis\":\"coloraxis\",\"geo\":\"geo\",\"hovertemplate\":\"<b>%{hovertext}</b><br><br>Date=2020-10-07<br>Country=%{location}<br>PercentOfBaseline=%{z}<extra></extra>\",\"hovertext\":[\"Australia\",\"Canada\",\"Chile\",\"United States of America (the)\"],\"locationmode\":\"country names\",\"locations\":[\"Australia\",\"Canada\",\"Chile\",\"United States of America (the)\"],\"name\":\"\",\"type\":\"choropleth\",\"z\":[16,807,55,1308]}],\"name\":\"2020-10-07\"},{\"data\":[{\"coloraxis\":\"coloraxis\",\"geo\":\"geo\",\"hovertemplate\":\"<b>%{hovertext}</b><br><br>Date=2020-10-08<br>Country=%{location}<br>PercentOfBaseline=%{z}<extra></extra>\",\"hovertext\":[\"Australia\",\"Canada\",\"Chile\",\"United States of America (the)\"],\"locationmode\":\"country names\",\"locations\":[\"Australia\",\"Canada\",\"Chile\",\"United States of America (the)\"],\"name\":\"\",\"type\":\"choropleth\",\"z\":[24,843,50,1264]}],\"name\":\"2020-10-08\"},{\"data\":[{\"coloraxis\":\"coloraxis\",\"geo\":\"geo\",\"hovertemplate\":\"<b>%{hovertext}</b><br><br>Date=2020-10-09<br>Country=%{location}<br>PercentOfBaseline=%{z}<extra></extra>\",\"hovertext\":[\"Australia\",\"Canada\",\"Chile\",\"United States of America (the)\"],\"locationmode\":\"country names\",\"locations\":[\"Australia\",\"Canada\",\"Chile\",\"United States of America (the)\"],\"name\":\"\",\"type\":\"choropleth\",\"z\":[24,817,56,1254]}],\"name\":\"2020-10-09\"},{\"data\":[{\"coloraxis\":\"coloraxis\",\"geo\":\"geo\",\"hovertemplate\":\"<b>%{hovertext}</b><br><br>Date=2020-10-10<br>Country=%{location}<br>PercentOfBaseline=%{z}<extra></extra>\",\"hovertext\":[\"Australia\",\"Canada\",\"Chile\",\"United States of America (the)\"],\"locationmode\":\"country names\",\"locations\":[\"Australia\",\"Canada\",\"Chile\",\"United States of America (the)\"],\"name\":\"\",\"type\":\"choropleth\",\"z\":[18,718,34,1057]}],\"name\":\"2020-10-10\"},{\"data\":[{\"coloraxis\":\"coloraxis\",\"geo\":\"geo\",\"hovertemplate\":\"<b>%{hovertext}</b><br><br>Date=2020-10-11<br>Country=%{location}<br>PercentOfBaseline=%{z}<extra></extra>\",\"hovertext\":[\"Australia\",\"Canada\",\"Chile\",\"United States of America (the)\"],\"locationmode\":\"country names\",\"locations\":[\"Australia\",\"Canada\",\"Chile\",\"United States of America (the)\"],\"name\":\"\",\"type\":\"choropleth\",\"z\":[25,588,15,1055]}],\"name\":\"2020-10-11\"},{\"data\":[{\"coloraxis\":\"coloraxis\",\"geo\":\"geo\",\"hovertemplate\":\"<b>%{hovertext}</b><br><br>Date=2020-10-12<br>Country=%{location}<br>PercentOfBaseline=%{z}<extra></extra>\",\"hovertext\":[\"Australia\",\"Canada\",\"Chile\",\"United States of America (the)\"],\"locationmode\":\"country names\",\"locations\":[\"Australia\",\"Canada\",\"Chile\",\"United States of America (the)\"],\"name\":\"\",\"type\":\"choropleth\",\"z\":[22,163,38,1104]}],\"name\":\"2020-10-12\"},{\"data\":[{\"coloraxis\":\"coloraxis\",\"geo\":\"geo\",\"hovertemplate\":\"<b>%{hovertext}</b><br><br>Date=2020-10-13<br>Country=%{location}<br>PercentOfBaseline=%{z}<extra></extra>\",\"hovertext\":[\"Australia\",\"Canada\",\"Chile\",\"United States of America (the)\"],\"locationmode\":\"country names\",\"locations\":[\"Australia\",\"Canada\",\"Chile\",\"United States of America (the)\"],\"name\":\"\",\"type\":\"choropleth\",\"z\":[21,749,56,1252]}],\"name\":\"2020-10-13\"},{\"data\":[{\"coloraxis\":\"coloraxis\",\"geo\":\"geo\",\"hovertemplate\":\"<b>%{hovertext}</b><br><br>Date=2020-10-14<br>Country=%{location}<br>PercentOfBaseline=%{z}<extra></extra>\",\"hovertext\":[\"Australia\",\"Canada\",\"Chile\",\"United States of America (the)\"],\"locationmode\":\"country names\",\"locations\":[\"Australia\",\"Canada\",\"Chile\",\"United States of America (the)\"],\"name\":\"\",\"type\":\"choropleth\",\"z\":[23,796,48,1277]}],\"name\":\"2020-10-14\"},{\"data\":[{\"coloraxis\":\"coloraxis\",\"geo\":\"geo\",\"hovertemplate\":\"<b>%{hovertext}</b><br><br>Date=2020-10-15<br>Country=%{location}<br>PercentOfBaseline=%{z}<extra></extra>\",\"hovertext\":[\"Australia\",\"Canada\",\"Chile\",\"United States of America (the)\"],\"locationmode\":\"country names\",\"locations\":[\"Australia\",\"Canada\",\"Chile\",\"United States of America (the)\"],\"name\":\"\",\"type\":\"choropleth\",\"z\":[18,804,49,1231]}],\"name\":\"2020-10-15\"},{\"data\":[{\"coloraxis\":\"coloraxis\",\"geo\":\"geo\",\"hovertemplate\":\"<b>%{hovertext}</b><br><br>Date=2020-10-16<br>Country=%{location}<br>PercentOfBaseline=%{z}<extra></extra>\",\"hovertext\":[\"Australia\",\"Canada\",\"Chile\",\"United States of America (the)\"],\"locationmode\":\"country names\",\"locations\":[\"Australia\",\"Canada\",\"Chile\",\"United States of America (the)\"],\"name\":\"\",\"type\":\"choropleth\",\"z\":[18,802,61,1215]}],\"name\":\"2020-10-16\"},{\"data\":[{\"coloraxis\":\"coloraxis\",\"geo\":\"geo\",\"hovertemplate\":\"<b>%{hovertext}</b><br><br>Date=2020-10-17<br>Country=%{location}<br>PercentOfBaseline=%{z}<extra></extra>\",\"hovertext\":[\"Australia\",\"Canada\",\"Chile\",\"United States of America (the)\"],\"locationmode\":\"country names\",\"locations\":[\"Australia\",\"Canada\",\"Chile\",\"United States of America (the)\"],\"name\":\"\",\"type\":\"choropleth\",\"z\":[11,663,38,1082]}],\"name\":\"2020-10-17\"},{\"data\":[{\"coloraxis\":\"coloraxis\",\"geo\":\"geo\",\"hovertemplate\":\"<b>%{hovertext}</b><br><br>Date=2020-10-18<br>Country=%{location}<br>PercentOfBaseline=%{z}<extra></extra>\",\"hovertext\":[\"Australia\",\"Canada\",\"Chile\",\"United States of America (the)\"],\"locationmode\":\"country names\",\"locations\":[\"Australia\",\"Canada\",\"Chile\",\"United States of America (the)\"],\"name\":\"\",\"type\":\"choropleth\",\"z\":[16,612,28,1049]}],\"name\":\"2020-10-18\"},{\"data\":[{\"coloraxis\":\"coloraxis\",\"geo\":\"geo\",\"hovertemplate\":\"<b>%{hovertext}</b><br><br>Date=2020-10-19<br>Country=%{location}<br>PercentOfBaseline=%{z}<extra></extra>\",\"hovertext\":[\"Australia\",\"Canada\",\"Chile\",\"United States of America (the)\"],\"locationmode\":\"country names\",\"locations\":[\"Australia\",\"Canada\",\"Chile\",\"United States of America (the)\"],\"name\":\"\",\"type\":\"choropleth\",\"z\":[22,833,55,1281]}],\"name\":\"2020-10-19\"},{\"data\":[{\"coloraxis\":\"coloraxis\",\"geo\":\"geo\",\"hovertemplate\":\"<b>%{hovertext}</b><br><br>Date=2020-10-20<br>Country=%{location}<br>PercentOfBaseline=%{z}<extra></extra>\",\"hovertext\":[\"Australia\",\"Canada\",\"Chile\",\"United States of America (the)\"],\"locationmode\":\"country names\",\"locations\":[\"Australia\",\"Canada\",\"Chile\",\"United States of America (the)\"],\"name\":\"\",\"type\":\"choropleth\",\"z\":[21,819,51,1331]}],\"name\":\"2020-10-20\"},{\"data\":[{\"coloraxis\":\"coloraxis\",\"geo\":\"geo\",\"hovertemplate\":\"<b>%{hovertext}</b><br><br>Date=2020-10-21<br>Country=%{location}<br>PercentOfBaseline=%{z}<extra></extra>\",\"hovertext\":[\"Australia\",\"Canada\",\"Chile\",\"United States of America (the)\"],\"locationmode\":\"country names\",\"locations\":[\"Australia\",\"Canada\",\"Chile\",\"United States of America (the)\"],\"name\":\"\",\"type\":\"choropleth\",\"z\":[20,815,65,1295]}],\"name\":\"2020-10-21\"},{\"data\":[{\"coloraxis\":\"coloraxis\",\"geo\":\"geo\",\"hovertemplate\":\"<b>%{hovertext}</b><br><br>Date=2020-10-22<br>Country=%{location}<br>PercentOfBaseline=%{z}<extra></extra>\",\"hovertext\":[\"Australia\",\"Canada\",\"Chile\",\"United States of America (the)\"],\"locationmode\":\"country names\",\"locations\":[\"Australia\",\"Canada\",\"Chile\",\"United States of America (the)\"],\"name\":\"\",\"type\":\"choropleth\",\"z\":[21,806,53,1299]}],\"name\":\"2020-10-22\"},{\"data\":[{\"coloraxis\":\"coloraxis\",\"geo\":\"geo\",\"hovertemplate\":\"<b>%{hovertext}</b><br><br>Date=2020-10-23<br>Country=%{location}<br>PercentOfBaseline=%{z}<extra></extra>\",\"hovertext\":[\"Australia\",\"Canada\",\"Chile\",\"United States of America (the)\"],\"locationmode\":\"country names\",\"locations\":[\"Australia\",\"Canada\",\"Chile\",\"United States of America (the)\"],\"name\":\"\",\"type\":\"choropleth\",\"z\":[15,841,50,1246]}],\"name\":\"2020-10-23\"},{\"data\":[{\"coloraxis\":\"coloraxis\",\"geo\":\"geo\",\"hovertemplate\":\"<b>%{hovertext}</b><br><br>Date=2020-10-24<br>Country=%{location}<br>PercentOfBaseline=%{z}<extra></extra>\",\"hovertext\":[\"Australia\",\"Canada\",\"Chile\",\"United States of America (the)\"],\"locationmode\":\"country names\",\"locations\":[\"Australia\",\"Canada\",\"Chile\",\"United States of America (the)\"],\"name\":\"\",\"type\":\"choropleth\",\"z\":[29,755,60,1098]}],\"name\":\"2020-10-24\"},{\"data\":[{\"coloraxis\":\"coloraxis\",\"geo\":\"geo\",\"hovertemplate\":\"<b>%{hovertext}</b><br><br>Date=2020-10-25<br>Country=%{location}<br>PercentOfBaseline=%{z}<extra></extra>\",\"hovertext\":[\"Australia\",\"Canada\",\"Chile\",\"United States of America (the)\"],\"locationmode\":\"country names\",\"locations\":[\"Australia\",\"Canada\",\"Chile\",\"United States of America (the)\"],\"name\":\"\",\"type\":\"choropleth\",\"z\":[16,704,36,1073]}],\"name\":\"2020-10-25\"},{\"data\":[{\"coloraxis\":\"coloraxis\",\"geo\":\"geo\",\"hovertemplate\":\"<b>%{hovertext}</b><br><br>Date=2020-10-26<br>Country=%{location}<br>PercentOfBaseline=%{z}<extra></extra>\",\"hovertext\":[\"Australia\",\"Canada\",\"Chile\",\"United States of America (the)\"],\"locationmode\":\"country names\",\"locations\":[\"Australia\",\"Canada\",\"Chile\",\"United States of America (the)\"],\"name\":\"\",\"type\":\"choropleth\",\"z\":[19,852,59,1234]}],\"name\":\"2020-10-26\"},{\"data\":[{\"coloraxis\":\"coloraxis\",\"geo\":\"geo\",\"hovertemplate\":\"<b>%{hovertext}</b><br><br>Date=2020-10-27<br>Country=%{location}<br>PercentOfBaseline=%{z}<extra></extra>\",\"hovertext\":[\"Australia\",\"Canada\",\"Chile\",\"United States of America (the)\"],\"locationmode\":\"country names\",\"locations\":[\"Australia\",\"Canada\",\"Chile\",\"United States of America (the)\"],\"name\":\"\",\"type\":\"choropleth\",\"z\":[23,826,58,1241]}],\"name\":\"2020-10-27\"},{\"data\":[{\"coloraxis\":\"coloraxis\",\"geo\":\"geo\",\"hovertemplate\":\"<b>%{hovertext}</b><br><br>Date=2020-10-28<br>Country=%{location}<br>PercentOfBaseline=%{z}<extra></extra>\",\"hovertext\":[\"Australia\",\"Canada\",\"Chile\",\"United States of America (the)\"],\"locationmode\":\"country names\",\"locations\":[\"Australia\",\"Canada\",\"Chile\",\"United States of America (the)\"],\"name\":\"\",\"type\":\"choropleth\",\"z\":[22,837,70,1294]}],\"name\":\"2020-10-28\"},{\"data\":[{\"coloraxis\":\"coloraxis\",\"geo\":\"geo\",\"hovertemplate\":\"<b>%{hovertext}</b><br><br>Date=2020-10-29<br>Country=%{location}<br>PercentOfBaseline=%{z}<extra></extra>\",\"hovertext\":[\"Australia\",\"Canada\",\"Chile\",\"United States of America (the)\"],\"locationmode\":\"country names\",\"locations\":[\"Australia\",\"Canada\",\"Chile\",\"United States of America (the)\"],\"name\":\"\",\"type\":\"choropleth\",\"z\":[24,792,53,1199]}],\"name\":\"2020-10-29\"},{\"data\":[{\"coloraxis\":\"coloraxis\",\"geo\":\"geo\",\"hovertemplate\":\"<b>%{hovertext}</b><br><br>Date=2020-10-30<br>Country=%{location}<br>PercentOfBaseline=%{z}<extra></extra>\",\"hovertext\":[\"Australia\",\"Canada\",\"Chile\",\"United States of America (the)\"],\"locationmode\":\"country names\",\"locations\":[\"Australia\",\"Canada\",\"Chile\",\"United States of America (the)\"],\"name\":\"\",\"type\":\"choropleth\",\"z\":[18,781,45,1191]}],\"name\":\"2020-10-30\"},{\"data\":[{\"coloraxis\":\"coloraxis\",\"geo\":\"geo\",\"hovertemplate\":\"<b>%{hovertext}</b><br><br>Date=2020-10-31<br>Country=%{location}<br>PercentOfBaseline=%{z}<extra></extra>\",\"hovertext\":[\"Australia\",\"Canada\",\"Chile\",\"United States of America (the)\"],\"locationmode\":\"country names\",\"locations\":[\"Australia\",\"Canada\",\"Chile\",\"United States of America (the)\"],\"name\":\"\",\"type\":\"choropleth\",\"z\":[22,683,33,1063]}],\"name\":\"2020-10-31\"},{\"data\":[{\"coloraxis\":\"coloraxis\",\"geo\":\"geo\",\"hovertemplate\":\"<b>%{hovertext}</b><br><br>Date=2020-11-01<br>Country=%{location}<br>PercentOfBaseline=%{z}<extra></extra>\",\"hovertext\":[\"Australia\",\"Canada\",\"United States of America (the)\"],\"locationmode\":\"country names\",\"locations\":[\"Australia\",\"Canada\",\"United States of America (the)\"],\"name\":\"\",\"type\":\"choropleth\",\"z\":[19,557,1026]}],\"name\":\"2020-11-01\"},{\"data\":[{\"coloraxis\":\"coloraxis\",\"geo\":\"geo\",\"hovertemplate\":\"<b>%{hovertext}</b><br><br>Date=2020-11-02<br>Country=%{location}<br>PercentOfBaseline=%{z}<extra></extra>\",\"hovertext\":[\"Australia\",\"Canada\",\"Chile\",\"United States of America (the)\"],\"locationmode\":\"country names\",\"locations\":[\"Australia\",\"Canada\",\"Chile\",\"United States of America (the)\"],\"name\":\"\",\"type\":\"choropleth\",\"z\":[17,840,60,1235]}],\"name\":\"2020-11-02\"},{\"data\":[{\"coloraxis\":\"coloraxis\",\"geo\":\"geo\",\"hovertemplate\":\"<b>%{hovertext}</b><br><br>Date=2020-11-03<br>Country=%{location}<br>PercentOfBaseline=%{z}<extra></extra>\",\"hovertext\":[\"Australia\",\"Canada\",\"Chile\",\"United States of America (the)\"],\"locationmode\":\"country names\",\"locations\":[\"Australia\",\"Canada\",\"Chile\",\"United States of America (the)\"],\"name\":\"\",\"type\":\"choropleth\",\"z\":[20,817,63,1203]}],\"name\":\"2020-11-03\"},{\"data\":[{\"coloraxis\":\"coloraxis\",\"geo\":\"geo\",\"hovertemplate\":\"<b>%{hovertext}</b><br><br>Date=2020-11-04<br>Country=%{location}<br>PercentOfBaseline=%{z}<extra></extra>\",\"hovertext\":[\"Australia\",\"Canada\",\"Chile\",\"United States of America (the)\"],\"locationmode\":\"country names\",\"locations\":[\"Australia\",\"Canada\",\"Chile\",\"United States of America (the)\"],\"name\":\"\",\"type\":\"choropleth\",\"z\":[21,814,45,1213]}],\"name\":\"2020-11-04\"},{\"data\":[{\"coloraxis\":\"coloraxis\",\"geo\":\"geo\",\"hovertemplate\":\"<b>%{hovertext}</b><br><br>Date=2020-11-05<br>Country=%{location}<br>PercentOfBaseline=%{z}<extra></extra>\",\"hovertext\":[\"Australia\",\"Canada\",\"Chile\",\"United States of America (the)\"],\"locationmode\":\"country names\",\"locations\":[\"Australia\",\"Canada\",\"Chile\",\"United States of America (the)\"],\"name\":\"\",\"type\":\"choropleth\",\"z\":[16,810,45,1241]}],\"name\":\"2020-11-05\"},{\"data\":[{\"coloraxis\":\"coloraxis\",\"geo\":\"geo\",\"hovertemplate\":\"<b>%{hovertext}</b><br><br>Date=2020-11-06<br>Country=%{location}<br>PercentOfBaseline=%{z}<extra></extra>\",\"hovertext\":[\"Australia\",\"Canada\",\"Chile\",\"United States of America (the)\"],\"locationmode\":\"country names\",\"locations\":[\"Australia\",\"Canada\",\"Chile\",\"United States of America (the)\"],\"name\":\"\",\"type\":\"choropleth\",\"z\":[20,822,57,1210]}],\"name\":\"2020-11-06\"},{\"data\":[{\"coloraxis\":\"coloraxis\",\"geo\":\"geo\",\"hovertemplate\":\"<b>%{hovertext}</b><br><br>Date=2020-11-07<br>Country=%{location}<br>PercentOfBaseline=%{z}<extra></extra>\",\"hovertext\":[\"Canada\",\"Chile\",\"United States of America (the)\"],\"locationmode\":\"country names\",\"locations\":[\"Canada\",\"Chile\",\"United States of America (the)\"],\"name\":\"\",\"type\":\"choropleth\",\"z\":[745,48,1123]}],\"name\":\"2020-11-07\"},{\"data\":[{\"coloraxis\":\"coloraxis\",\"geo\":\"geo\",\"hovertemplate\":\"<b>%{hovertext}</b><br><br>Date=2020-11-08<br>Country=%{location}<br>PercentOfBaseline=%{z}<extra></extra>\",\"hovertext\":[\"Australia\",\"Canada\",\"United States of America (the)\"],\"locationmode\":\"country names\",\"locations\":[\"Australia\",\"Canada\",\"United States of America (the)\"],\"name\":\"\",\"type\":\"choropleth\",\"z\":[24,632,1059]}],\"name\":\"2020-11-08\"},{\"data\":[{\"coloraxis\":\"coloraxis\",\"geo\":\"geo\",\"hovertemplate\":\"<b>%{hovertext}</b><br><br>Date=2020-11-09<br>Country=%{location}<br>PercentOfBaseline=%{z}<extra></extra>\",\"hovertext\":[\"Australia\",\"Canada\",\"Chile\",\"United States of America (the)\"],\"locationmode\":\"country names\",\"locations\":[\"Australia\",\"Canada\",\"Chile\",\"United States of America (the)\"],\"name\":\"\",\"type\":\"choropleth\",\"z\":[21,797,52,1203]}],\"name\":\"2020-11-09\"},{\"data\":[{\"coloraxis\":\"coloraxis\",\"geo\":\"geo\",\"hovertemplate\":\"<b>%{hovertext}</b><br><br>Date=2020-11-10<br>Country=%{location}<br>PercentOfBaseline=%{z}<extra></extra>\",\"hovertext\":[\"Australia\",\"Canada\",\"Chile\",\"United States of America (the)\"],\"locationmode\":\"country names\",\"locations\":[\"Australia\",\"Canada\",\"Chile\",\"United States of America (the)\"],\"name\":\"\",\"type\":\"choropleth\",\"z\":[27,815,52,1257]}],\"name\":\"2020-11-10\"},{\"data\":[{\"coloraxis\":\"coloraxis\",\"geo\":\"geo\",\"hovertemplate\":\"<b>%{hovertext}</b><br><br>Date=2020-11-11<br>Country=%{location}<br>PercentOfBaseline=%{z}<extra></extra>\",\"hovertext\":[\"Australia\",\"Canada\",\"Chile\",\"United States of America (the)\"],\"locationmode\":\"country names\",\"locations\":[\"Australia\",\"Canada\",\"Chile\",\"United States of America (the)\"],\"name\":\"\",\"type\":\"choropleth\",\"z\":[28,654,59,1072]}],\"name\":\"2020-11-11\"},{\"data\":[{\"coloraxis\":\"coloraxis\",\"geo\":\"geo\",\"hovertemplate\":\"<b>%{hovertext}</b><br><br>Date=2020-11-12<br>Country=%{location}<br>PercentOfBaseline=%{z}<extra></extra>\",\"hovertext\":[\"Australia\",\"Canada\",\"Chile\",\"United States of America (the)\"],\"locationmode\":\"country names\",\"locations\":[\"Australia\",\"Canada\",\"Chile\",\"United States of America (the)\"],\"name\":\"\",\"type\":\"choropleth\",\"z\":[20,732,60,1173]}],\"name\":\"2020-11-12\"},{\"data\":[{\"coloraxis\":\"coloraxis\",\"geo\":\"geo\",\"hovertemplate\":\"<b>%{hovertext}</b><br><br>Date=2020-11-13<br>Country=%{location}<br>PercentOfBaseline=%{z}<extra></extra>\",\"hovertext\":[\"Australia\",\"Canada\",\"Chile\",\"United States of America (the)\"],\"locationmode\":\"country names\",\"locations\":[\"Australia\",\"Canada\",\"Chile\",\"United States of America (the)\"],\"name\":\"\",\"type\":\"choropleth\",\"z\":[23,794,63,1251]}],\"name\":\"2020-11-13\"},{\"data\":[{\"coloraxis\":\"coloraxis\",\"geo\":\"geo\",\"hovertemplate\":\"<b>%{hovertext}</b><br><br>Date=2020-11-14<br>Country=%{location}<br>PercentOfBaseline=%{z}<extra></extra>\",\"hovertext\":[\"Australia\",\"Canada\",\"Chile\",\"United States of America (the)\"],\"locationmode\":\"country names\",\"locations\":[\"Australia\",\"Canada\",\"Chile\",\"United States of America (the)\"],\"name\":\"\",\"type\":\"choropleth\",\"z\":[18,725,41,1082]}],\"name\":\"2020-11-14\"},{\"data\":[{\"coloraxis\":\"coloraxis\",\"geo\":\"geo\",\"hovertemplate\":\"<b>%{hovertext}</b><br><br>Date=2020-11-15<br>Country=%{location}<br>PercentOfBaseline=%{z}<extra></extra>\",\"hovertext\":[\"Australia\",\"Canada\",\"United States of America (the)\"],\"locationmode\":\"country names\",\"locations\":[\"Australia\",\"Canada\",\"United States of America (the)\"],\"name\":\"\",\"type\":\"choropleth\",\"z\":[26,555,1045]}],\"name\":\"2020-11-15\"},{\"data\":[{\"coloraxis\":\"coloraxis\",\"geo\":\"geo\",\"hovertemplate\":\"<b>%{hovertext}</b><br><br>Date=2020-11-16<br>Country=%{location}<br>PercentOfBaseline=%{z}<extra></extra>\",\"hovertext\":[\"Australia\",\"Canada\",\"Chile\",\"United States of America (the)\"],\"locationmode\":\"country names\",\"locations\":[\"Australia\",\"Canada\",\"Chile\",\"United States of America (the)\"],\"name\":\"\",\"type\":\"choropleth\",\"z\":[23,803,65,1231]}],\"name\":\"2020-11-16\"},{\"data\":[{\"coloraxis\":\"coloraxis\",\"geo\":\"geo\",\"hovertemplate\":\"<b>%{hovertext}</b><br><br>Date=2020-11-17<br>Country=%{location}<br>PercentOfBaseline=%{z}<extra></extra>\",\"hovertext\":[\"Australia\",\"Canada\",\"Chile\",\"United States of America (the)\"],\"locationmode\":\"country names\",\"locations\":[\"Australia\",\"Canada\",\"Chile\",\"United States of America (the)\"],\"name\":\"\",\"type\":\"choropleth\",\"z\":[22,812,62,1289]}],\"name\":\"2020-11-17\"},{\"data\":[{\"coloraxis\":\"coloraxis\",\"geo\":\"geo\",\"hovertemplate\":\"<b>%{hovertext}</b><br><br>Date=2020-11-18<br>Country=%{location}<br>PercentOfBaseline=%{z}<extra></extra>\",\"hovertext\":[\"Australia\",\"Canada\",\"Chile\",\"United States of America (the)\"],\"locationmode\":\"country names\",\"locations\":[\"Australia\",\"Canada\",\"Chile\",\"United States of America (the)\"],\"name\":\"\",\"type\":\"choropleth\",\"z\":[25,807,62,1253]}],\"name\":\"2020-11-18\"},{\"data\":[{\"coloraxis\":\"coloraxis\",\"geo\":\"geo\",\"hovertemplate\":\"<b>%{hovertext}</b><br><br>Date=2020-11-19<br>Country=%{location}<br>PercentOfBaseline=%{z}<extra></extra>\",\"hovertext\":[\"Australia\",\"Canada\",\"Chile\",\"United States of America (the)\"],\"locationmode\":\"country names\",\"locations\":[\"Australia\",\"Canada\",\"Chile\",\"United States of America (the)\"],\"name\":\"\",\"type\":\"choropleth\",\"z\":[22,811,60,1217]}],\"name\":\"2020-11-19\"},{\"data\":[{\"coloraxis\":\"coloraxis\",\"geo\":\"geo\",\"hovertemplate\":\"<b>%{hovertext}</b><br><br>Date=2020-11-20<br>Country=%{location}<br>PercentOfBaseline=%{z}<extra></extra>\",\"hovertext\":[\"Australia\",\"Canada\",\"Chile\",\"United States of America (the)\"],\"locationmode\":\"country names\",\"locations\":[\"Australia\",\"Canada\",\"Chile\",\"United States of America (the)\"],\"name\":\"\",\"type\":\"choropleth\",\"z\":[27,779,64,1241]}],\"name\":\"2020-11-20\"},{\"data\":[{\"coloraxis\":\"coloraxis\",\"geo\":\"geo\",\"hovertemplate\":\"<b>%{hovertext}</b><br><br>Date=2020-11-21<br>Country=%{location}<br>PercentOfBaseline=%{z}<extra></extra>\",\"hovertext\":[\"Australia\",\"Canada\",\"Chile\",\"United States of America (the)\"],\"locationmode\":\"country names\",\"locations\":[\"Australia\",\"Canada\",\"Chile\",\"United States of America (the)\"],\"name\":\"\",\"type\":\"choropleth\",\"z\":[33,725,31,1153]}],\"name\":\"2020-11-21\"},{\"data\":[{\"coloraxis\":\"coloraxis\",\"geo\":\"geo\",\"hovertemplate\":\"<b>%{hovertext}</b><br><br>Date=2020-11-22<br>Country=%{location}<br>PercentOfBaseline=%{z}<extra></extra>\",\"hovertext\":[\"Australia\",\"Canada\",\"Chile\",\"United States of America (the)\"],\"locationmode\":\"country names\",\"locations\":[\"Australia\",\"Canada\",\"Chile\",\"United States of America (the)\"],\"name\":\"\",\"type\":\"choropleth\",\"z\":[18,596,26,1109]}],\"name\":\"2020-11-22\"},{\"data\":[{\"coloraxis\":\"coloraxis\",\"geo\":\"geo\",\"hovertemplate\":\"<b>%{hovertext}</b><br><br>Date=2020-11-23<br>Country=%{location}<br>PercentOfBaseline=%{z}<extra></extra>\",\"hovertext\":[\"Australia\",\"Canada\",\"Chile\",\"United States of America (the)\"],\"locationmode\":\"country names\",\"locations\":[\"Australia\",\"Canada\",\"Chile\",\"United States of America (the)\"],\"name\":\"\",\"type\":\"choropleth\",\"z\":[22,839,58,1273]}],\"name\":\"2020-11-23\"},{\"data\":[{\"coloraxis\":\"coloraxis\",\"geo\":\"geo\",\"hovertemplate\":\"<b>%{hovertext}</b><br><br>Date=2020-11-24<br>Country=%{location}<br>PercentOfBaseline=%{z}<extra></extra>\",\"hovertext\":[\"Australia\",\"Canada\",\"Chile\",\"United States of America (the)\"],\"locationmode\":\"country names\",\"locations\":[\"Australia\",\"Canada\",\"Chile\",\"United States of America (the)\"],\"name\":\"\",\"type\":\"choropleth\",\"z\":[25,804,44,1242]}],\"name\":\"2020-11-24\"},{\"data\":[{\"coloraxis\":\"coloraxis\",\"geo\":\"geo\",\"hovertemplate\":\"<b>%{hovertext}</b><br><br>Date=2020-11-25<br>Country=%{location}<br>PercentOfBaseline=%{z}<extra></extra>\",\"hovertext\":[\"Australia\",\"Canada\",\"Chile\",\"United States of America (the)\"],\"locationmode\":\"country names\",\"locations\":[\"Australia\",\"Canada\",\"Chile\",\"United States of America (the)\"],\"name\":\"\",\"type\":\"choropleth\",\"z\":[28,801,47,1181]}],\"name\":\"2020-11-25\"},{\"data\":[{\"coloraxis\":\"coloraxis\",\"geo\":\"geo\",\"hovertemplate\":\"<b>%{hovertext}</b><br><br>Date=2020-11-26<br>Country=%{location}<br>PercentOfBaseline=%{z}<extra></extra>\",\"hovertext\":[\"Australia\",\"Canada\",\"Chile\",\"United States of America (the)\"],\"locationmode\":\"country names\",\"locations\":[\"Australia\",\"Canada\",\"Chile\",\"United States of America (the)\"],\"name\":\"\",\"type\":\"choropleth\",\"z\":[25,786,50,501]}],\"name\":\"2020-11-26\"},{\"data\":[{\"coloraxis\":\"coloraxis\",\"geo\":\"geo\",\"hovertemplate\":\"<b>%{hovertext}</b><br><br>Date=2020-11-27<br>Country=%{location}<br>PercentOfBaseline=%{z}<extra></extra>\",\"hovertext\":[\"Australia\",\"Canada\",\"Chile\",\"United States of America (the)\"],\"locationmode\":\"country names\",\"locations\":[\"Australia\",\"Canada\",\"Chile\",\"United States of America (the)\"],\"name\":\"\",\"type\":\"choropleth\",\"z\":[18,777,48,622]}],\"name\":\"2020-11-27\"},{\"data\":[{\"coloraxis\":\"coloraxis\",\"geo\":\"geo\",\"hovertemplate\":\"<b>%{hovertext}</b><br><br>Date=2020-11-28<br>Country=%{location}<br>PercentOfBaseline=%{z}<extra></extra>\",\"hovertext\":[\"Australia\",\"Canada\",\"Chile\",\"United States of America (the)\"],\"locationmode\":\"country names\",\"locations\":[\"Australia\",\"Canada\",\"Chile\",\"United States of America (the)\"],\"name\":\"\",\"type\":\"choropleth\",\"z\":[46,751,39,990]}],\"name\":\"2020-11-28\"},{\"data\":[{\"coloraxis\":\"coloraxis\",\"geo\":\"geo\",\"hovertemplate\":\"<b>%{hovertext}</b><br><br>Date=2020-11-29<br>Country=%{location}<br>PercentOfBaseline=%{z}<extra></extra>\",\"hovertext\":[\"Australia\",\"Canada\",\"United States of America (the)\"],\"locationmode\":\"country names\",\"locations\":[\"Australia\",\"Canada\",\"United States of America (the)\"],\"name\":\"\",\"type\":\"choropleth\",\"z\":[28,727,1088]}],\"name\":\"2020-11-29\"},{\"data\":[{\"coloraxis\":\"coloraxis\",\"geo\":\"geo\",\"hovertemplate\":\"<b>%{hovertext}</b><br><br>Date=2020-11-30<br>Country=%{location}<br>PercentOfBaseline=%{z}<extra></extra>\",\"hovertext\":[\"Australia\",\"Canada\",\"Chile\",\"United States of America (the)\"],\"locationmode\":\"country names\",\"locations\":[\"Australia\",\"Canada\",\"Chile\",\"United States of America (the)\"],\"name\":\"\",\"type\":\"choropleth\",\"z\":[29,820,65,1178]}],\"name\":\"2020-11-30\"},{\"data\":[{\"coloraxis\":\"coloraxis\",\"geo\":\"geo\",\"hovertemplate\":\"<b>%{hovertext}</b><br><br>Date=2020-12-01<br>Country=%{location}<br>PercentOfBaseline=%{z}<extra></extra>\",\"hovertext\":[\"Australia\",\"Canada\",\"Chile\",\"United States of America (the)\"],\"locationmode\":\"country names\",\"locations\":[\"Australia\",\"Canada\",\"Chile\",\"United States of America (the)\"],\"name\":\"\",\"type\":\"choropleth\",\"z\":[21,827,45,1275]}],\"name\":\"2020-12-01\"},{\"data\":[{\"coloraxis\":\"coloraxis\",\"geo\":\"geo\",\"hovertemplate\":\"<b>%{hovertext}</b><br><br>Date=2020-12-02<br>Country=%{location}<br>PercentOfBaseline=%{z}<extra></extra>\",\"hovertext\":[\"Australia\",\"Canada\",\"Chile\",\"United States of America (the)\"],\"locationmode\":\"country names\",\"locations\":[\"Australia\",\"Canada\",\"Chile\",\"United States of America (the)\"],\"name\":\"\",\"type\":\"choropleth\",\"z\":[27,798,48,1276]}],\"name\":\"2020-12-02\"}]);\n",
       "                        }).then(function(){\n",
       "                            \n",
       "var gd = document.getElementById('a6e762f1-21f7-40c5-980d-1fc22ff1420b');\n",
       "var x = new MutationObserver(function (mutations, observer) {{\n",
       "        var display = window.getComputedStyle(gd).display;\n",
       "        if (!display || display === 'none') {{\n",
       "            console.log([gd, 'removed!']);\n",
       "            Plotly.purge(gd);\n",
       "            observer.disconnect();\n",
       "        }}\n",
       "}});\n",
       "\n",
       "// Listen for the removal of the full notebook cells\n",
       "var notebookContainer = gd.closest('#notebook-container');\n",
       "if (notebookContainer) {{\n",
       "    x.observe(notebookContainer, {childList: true});\n",
       "}}\n",
       "\n",
       "// Listen for the clearing of the current output cell\n",
       "var outputEl = gd.closest('.output');\n",
       "if (outputEl) {{\n",
       "    x.observe(outputEl, {childList: true});\n",
       "}}\n",
       "\n",
       "                        })                };                });            </script>        </div>"
      ]
     },
     "metadata": {},
     "output_type": "display_data"
    }
   ],
   "source": [
    "# Manipulating the original dataframe\n",
    "df_countrydate = df[df['PercentOfBaseline']>0]\n",
    "df_countrydate = df_countrydate.groupby(['Date','Country']).sum().reset_index()\n",
    "df_countrydate\n",
    "# Creating the visualization\n",
    "fig = px.choropleth(df_countrydate, \n",
    "                    locations=\"Country\", \n",
    "                    locationmode = \"country names\",\n",
    "                    color=\"PercentOfBaseline\", \n",
    "                    hover_name=\"Country\", \n",
    "                    animation_frame=\"Date\"\n",
    "                   )\n",
    "fig.update_layout(\n",
    "    title_text = 'Global Spread of Coronavirus',\n",
    "    title_x = 0.5,\n",
    "    geo=dict(\n",
    "        showframe = False,\n",
    "        showcoastlines = False,\n",
    "    ))\n",
    "    \n",
    "fig.show()"
   ]
  },
  {
   "cell_type": "code",
   "execution_count": null,
   "id": "4e982c40",
   "metadata": {},
   "outputs": [],
   "source": []
  }
 ],
 "metadata": {
  "kernelspec": {
   "display_name": "Python 3",
   "language": "python",
   "name": "python3"
  },
  "language_info": {
   "codemirror_mode": {
    "name": "ipython",
    "version": 3
   },
   "file_extension": ".py",
   "mimetype": "text/x-python",
   "name": "python",
   "nbconvert_exporter": "python",
   "pygments_lexer": "ipython3",
   "version": "3.8.8"
  }
 },
 "nbformat": 4,
 "nbformat_minor": 5
}
